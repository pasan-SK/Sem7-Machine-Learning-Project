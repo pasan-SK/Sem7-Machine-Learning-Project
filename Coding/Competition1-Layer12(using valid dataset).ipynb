{
 "cells": [
  {
   "cell_type": "code",
   "execution_count": 1,
   "metadata": {},
   "outputs": [],
   "source": [
    "import pandas as pd\n",
    "import numpy as np          # For mathematical calculations\n",
    "import matplotlib.pyplot as plt  # For plotting graphs\n",
    "# import seaborn as sns\n",
    "%matplotlib inline\n",
    "\n",
    "train_csv_file_path = \"D:\\\\ACA semester 7\\\\CS4622 - Machine Learning\\\\ML-Project\\\\Data\\\\layer12\\\\train.csv\"\n",
    "valid_csv_file_path = \"D:\\\\ACA semester 7\\\\CS4622 - Machine Learning\\\\ML-Project\\\\Data\\\\layer12\\\\valid.csv\"\n",
    "test_csv_file_path = \"D:\\\\ACA semester 7\\\\CS4622 - Machine Learning\\\\ML-Project\\\\Data\\\\layer12\\\\test.csv\""
   ]
  },
  {
   "cell_type": "markdown",
   "metadata": {},
   "source": [
    "# Train dataset"
   ]
  },
  {
   "cell_type": "code",
   "execution_count": 2,
   "metadata": {},
   "outputs": [
    {
     "data": {
      "text/html": [
       "<div>\n",
       "<style scoped>\n",
       "    .dataframe tbody tr th:only-of-type {\n",
       "        vertical-align: middle;\n",
       "    }\n",
       "\n",
       "    .dataframe tbody tr th {\n",
       "        vertical-align: top;\n",
       "    }\n",
       "\n",
       "    .dataframe thead th {\n",
       "        text-align: right;\n",
       "    }\n",
       "</style>\n",
       "<table border=\"1\" class=\"dataframe\">\n",
       "  <thead>\n",
       "    <tr style=\"text-align: right;\">\n",
       "      <th></th>\n",
       "      <th>feature_1</th>\n",
       "      <th>feature_2</th>\n",
       "      <th>feature_3</th>\n",
       "      <th>feature_4</th>\n",
       "      <th>feature_5</th>\n",
       "      <th>feature_6</th>\n",
       "      <th>feature_7</th>\n",
       "      <th>feature_8</th>\n",
       "      <th>feature_9</th>\n",
       "      <th>feature_10</th>\n",
       "      <th>...</th>\n",
       "      <th>feature_763</th>\n",
       "      <th>feature_764</th>\n",
       "      <th>feature_765</th>\n",
       "      <th>feature_766</th>\n",
       "      <th>feature_767</th>\n",
       "      <th>feature_768</th>\n",
       "      <th>label_1</th>\n",
       "      <th>label_2</th>\n",
       "      <th>label_3</th>\n",
       "      <th>label_4</th>\n",
       "    </tr>\n",
       "  </thead>\n",
       "  <tbody>\n",
       "    <tr>\n",
       "      <th>0</th>\n",
       "      <td>0.031138</td>\n",
       "      <td>0.079892</td>\n",
       "      <td>0.157382</td>\n",
       "      <td>-0.014636</td>\n",
       "      <td>-0.051778</td>\n",
       "      <td>-0.021332</td>\n",
       "      <td>-0.073593</td>\n",
       "      <td>-0.005386</td>\n",
       "      <td>-0.212557</td>\n",
       "      <td>0.099683</td>\n",
       "      <td>...</td>\n",
       "      <td>-0.085248</td>\n",
       "      <td>-0.096007</td>\n",
       "      <td>-0.000766</td>\n",
       "      <td>0.021399</td>\n",
       "      <td>-0.041432</td>\n",
       "      <td>0.094806</td>\n",
       "      <td>45</td>\n",
       "      <td>NaN</td>\n",
       "      <td>1</td>\n",
       "      <td>6</td>\n",
       "    </tr>\n",
       "    <tr>\n",
       "      <th>1</th>\n",
       "      <td>0.113040</td>\n",
       "      <td>0.175731</td>\n",
       "      <td>0.217741</td>\n",
       "      <td>-0.196254</td>\n",
       "      <td>-0.010129</td>\n",
       "      <td>-0.030586</td>\n",
       "      <td>0.067114</td>\n",
       "      <td>-0.072412</td>\n",
       "      <td>-0.239192</td>\n",
       "      <td>0.104741</td>\n",
       "      <td>...</td>\n",
       "      <td>-0.090283</td>\n",
       "      <td>-0.053885</td>\n",
       "      <td>-0.010967</td>\n",
       "      <td>0.062209</td>\n",
       "      <td>-0.122958</td>\n",
       "      <td>0.192949</td>\n",
       "      <td>45</td>\n",
       "      <td>NaN</td>\n",
       "      <td>1</td>\n",
       "      <td>6</td>\n",
       "    </tr>\n",
       "    <tr>\n",
       "      <th>2</th>\n",
       "      <td>0.048570</td>\n",
       "      <td>0.091281</td>\n",
       "      <td>0.160776</td>\n",
       "      <td>-0.150937</td>\n",
       "      <td>0.020115</td>\n",
       "      <td>0.044117</td>\n",
       "      <td>-0.050092</td>\n",
       "      <td>-0.045661</td>\n",
       "      <td>-0.155332</td>\n",
       "      <td>0.117206</td>\n",
       "      <td>...</td>\n",
       "      <td>-0.021524</td>\n",
       "      <td>-0.008411</td>\n",
       "      <td>-0.006248</td>\n",
       "      <td>0.031468</td>\n",
       "      <td>-0.056915</td>\n",
       "      <td>0.154731</td>\n",
       "      <td>45</td>\n",
       "      <td>NaN</td>\n",
       "      <td>1</td>\n",
       "      <td>6</td>\n",
       "    </tr>\n",
       "    <tr>\n",
       "      <th>3</th>\n",
       "      <td>0.039212</td>\n",
       "      <td>0.118388</td>\n",
       "      <td>0.173831</td>\n",
       "      <td>-0.096659</td>\n",
       "      <td>-0.008702</td>\n",
       "      <td>0.061298</td>\n",
       "      <td>0.008974</td>\n",
       "      <td>-0.003277</td>\n",
       "      <td>-0.065046</td>\n",
       "      <td>0.095480</td>\n",
       "      <td>...</td>\n",
       "      <td>-0.071936</td>\n",
       "      <td>-0.023120</td>\n",
       "      <td>-0.007812</td>\n",
       "      <td>0.057600</td>\n",
       "      <td>-0.121892</td>\n",
       "      <td>0.072796</td>\n",
       "      <td>45</td>\n",
       "      <td>NaN</td>\n",
       "      <td>1</td>\n",
       "      <td>6</td>\n",
       "    </tr>\n",
       "    <tr>\n",
       "      <th>4</th>\n",
       "      <td>0.056019</td>\n",
       "      <td>0.170639</td>\n",
       "      <td>0.157917</td>\n",
       "      <td>-0.228605</td>\n",
       "      <td>-0.065965</td>\n",
       "      <td>-0.088732</td>\n",
       "      <td>-0.082243</td>\n",
       "      <td>-0.080568</td>\n",
       "      <td>-0.341500</td>\n",
       "      <td>0.142430</td>\n",
       "      <td>...</td>\n",
       "      <td>-0.155621</td>\n",
       "      <td>-0.079447</td>\n",
       "      <td>0.015316</td>\n",
       "      <td>0.127726</td>\n",
       "      <td>-0.151966</td>\n",
       "      <td>0.169634</td>\n",
       "      <td>45</td>\n",
       "      <td>NaN</td>\n",
       "      <td>1</td>\n",
       "      <td>6</td>\n",
       "    </tr>\n",
       "  </tbody>\n",
       "</table>\n",
       "<p>5 rows × 772 columns</p>\n",
       "</div>"
      ],
      "text/plain": [
       "   feature_1  feature_2  feature_3  feature_4  feature_5  feature_6  \\\n",
       "0   0.031138   0.079892   0.157382  -0.014636  -0.051778  -0.021332   \n",
       "1   0.113040   0.175731   0.217741  -0.196254  -0.010129  -0.030586   \n",
       "2   0.048570   0.091281   0.160776  -0.150937   0.020115   0.044117   \n",
       "3   0.039212   0.118388   0.173831  -0.096659  -0.008702   0.061298   \n",
       "4   0.056019   0.170639   0.157917  -0.228605  -0.065965  -0.088732   \n",
       "\n",
       "   feature_7  feature_8  feature_9  feature_10  ...  feature_763  feature_764  \\\n",
       "0  -0.073593  -0.005386  -0.212557    0.099683  ...    -0.085248    -0.096007   \n",
       "1   0.067114  -0.072412  -0.239192    0.104741  ...    -0.090283    -0.053885   \n",
       "2  -0.050092  -0.045661  -0.155332    0.117206  ...    -0.021524    -0.008411   \n",
       "3   0.008974  -0.003277  -0.065046    0.095480  ...    -0.071936    -0.023120   \n",
       "4  -0.082243  -0.080568  -0.341500    0.142430  ...    -0.155621    -0.079447   \n",
       "\n",
       "   feature_765  feature_766  feature_767  feature_768  label_1  label_2  \\\n",
       "0    -0.000766     0.021399    -0.041432     0.094806       45      NaN   \n",
       "1    -0.010967     0.062209    -0.122958     0.192949       45      NaN   \n",
       "2    -0.006248     0.031468    -0.056915     0.154731       45      NaN   \n",
       "3    -0.007812     0.057600    -0.121892     0.072796       45      NaN   \n",
       "4     0.015316     0.127726    -0.151966     0.169634       45      NaN   \n",
       "\n",
       "   label_3  label_4  \n",
       "0        1        6  \n",
       "1        1        6  \n",
       "2        1        6  \n",
       "3        1        6  \n",
       "4        1        6  \n",
       "\n",
       "[5 rows x 772 columns]"
      ]
     },
     "execution_count": 2,
     "metadata": {},
     "output_type": "execute_result"
    }
   ],
   "source": [
    "train_df = pd.read_csv(train_csv_file_path)\n",
    "train_df.head()"
   ]
  },
  {
   "cell_type": "code",
   "execution_count": 3,
   "metadata": {},
   "outputs": [
    {
     "data": {
      "text/plain": [
       "feature_1      float64\n",
       "feature_2      float64\n",
       "feature_3      float64\n",
       "feature_4      float64\n",
       "feature_5      float64\n",
       "                ...   \n",
       "feature_768    float64\n",
       "label_1          int64\n",
       "label_2        float64\n",
       "label_3          int64\n",
       "label_4          int64\n",
       "Length: 772, dtype: object"
      ]
     },
     "execution_count": 3,
     "metadata": {},
     "output_type": "execute_result"
    }
   ],
   "source": [
    "# get type of each column\n",
    "train_df.dtypes"
   ]
  },
  {
   "cell_type": "markdown",
   "metadata": {},
   "source": [
    "## Renaming Labels\n",
    "\n",
    "*   Since the labels are in 'label_1', 'label_2' ... format, I will be renaming them to 'speaker_ID', 'speaker_age', ... format\n"
   ]
  },
  {
   "cell_type": "code",
   "execution_count": 4,
   "metadata": {},
   "outputs": [],
   "source": [
    "train_df.rename(columns={'label_1': 'speaker_ID', 'label_2': 'speaker_age', 'label_3': 'speaker_gender', 'label_4': 'speaker_accent'}, inplace=True)"
   ]
  },
  {
   "cell_type": "code",
   "execution_count": 5,
   "metadata": {},
   "outputs": [
    {
     "data": {
      "text/html": [
       "<div>\n",
       "<style scoped>\n",
       "    .dataframe tbody tr th:only-of-type {\n",
       "        vertical-align: middle;\n",
       "    }\n",
       "\n",
       "    .dataframe tbody tr th {\n",
       "        vertical-align: top;\n",
       "    }\n",
       "\n",
       "    .dataframe thead th {\n",
       "        text-align: right;\n",
       "    }\n",
       "</style>\n",
       "<table border=\"1\" class=\"dataframe\">\n",
       "  <thead>\n",
       "    <tr style=\"text-align: right;\">\n",
       "      <th></th>\n",
       "      <th>feature_1</th>\n",
       "      <th>feature_2</th>\n",
       "      <th>feature_3</th>\n",
       "      <th>feature_4</th>\n",
       "      <th>feature_5</th>\n",
       "      <th>feature_6</th>\n",
       "      <th>feature_7</th>\n",
       "      <th>feature_8</th>\n",
       "      <th>feature_9</th>\n",
       "      <th>feature_10</th>\n",
       "      <th>...</th>\n",
       "      <th>feature_763</th>\n",
       "      <th>feature_764</th>\n",
       "      <th>feature_765</th>\n",
       "      <th>feature_766</th>\n",
       "      <th>feature_767</th>\n",
       "      <th>feature_768</th>\n",
       "      <th>speaker_ID</th>\n",
       "      <th>speaker_age</th>\n",
       "      <th>speaker_gender</th>\n",
       "      <th>speaker_accent</th>\n",
       "    </tr>\n",
       "  </thead>\n",
       "  <tbody>\n",
       "    <tr>\n",
       "      <th>count</th>\n",
       "      <td>28520.000000</td>\n",
       "      <td>28520.000000</td>\n",
       "      <td>28520.000000</td>\n",
       "      <td>28520.000000</td>\n",
       "      <td>28520.000000</td>\n",
       "      <td>28520.000000</td>\n",
       "      <td>28520.000000</td>\n",
       "      <td>28520.000000</td>\n",
       "      <td>28520.000000</td>\n",
       "      <td>28520.000000</td>\n",
       "      <td>...</td>\n",
       "      <td>28520.000000</td>\n",
       "      <td>28520.000000</td>\n",
       "      <td>28520.000000</td>\n",
       "      <td>28520.000000</td>\n",
       "      <td>28520.000000</td>\n",
       "      <td>28520.000000</td>\n",
       "      <td>28520.000000</td>\n",
       "      <td>28040.000000</td>\n",
       "      <td>28520.000000</td>\n",
       "      <td>28520.000000</td>\n",
       "    </tr>\n",
       "    <tr>\n",
       "      <th>mean</th>\n",
       "      <td>0.042487</td>\n",
       "      <td>0.068749</td>\n",
       "      <td>0.145547</td>\n",
       "      <td>-0.070646</td>\n",
       "      <td>-0.013539</td>\n",
       "      <td>0.003395</td>\n",
       "      <td>-0.041282</td>\n",
       "      <td>-0.028283</td>\n",
       "      <td>-0.106602</td>\n",
       "      <td>0.053686</td>\n",
       "      <td>...</td>\n",
       "      <td>-0.022102</td>\n",
       "      <td>-0.044743</td>\n",
       "      <td>-0.004380</td>\n",
       "      <td>0.049072</td>\n",
       "      <td>-0.028722</td>\n",
       "      <td>0.075717</td>\n",
       "      <td>30.498843</td>\n",
       "      <td>27.975107</td>\n",
       "      <td>0.799299</td>\n",
       "      <td>5.997125</td>\n",
       "    </tr>\n",
       "    <tr>\n",
       "      <th>std</th>\n",
       "      <td>0.048918</td>\n",
       "      <td>0.046354</td>\n",
       "      <td>0.065332</td>\n",
       "      <td>0.046671</td>\n",
       "      <td>0.027635</td>\n",
       "      <td>0.031248</td>\n",
       "      <td>0.026479</td>\n",
       "      <td>0.029632</td>\n",
       "      <td>0.070775</td>\n",
       "      <td>0.030945</td>\n",
       "      <td>...</td>\n",
       "      <td>0.053250</td>\n",
       "      <td>0.031361</td>\n",
       "      <td>0.025829</td>\n",
       "      <td>0.050536</td>\n",
       "      <td>0.032622</td>\n",
       "      <td>0.044879</td>\n",
       "      <td>17.328389</td>\n",
       "      <td>5.735913</td>\n",
       "      <td>0.400532</td>\n",
       "      <td>2.375567</td>\n",
       "    </tr>\n",
       "    <tr>\n",
       "      <th>min</th>\n",
       "      <td>-0.079594</td>\n",
       "      <td>-0.062608</td>\n",
       "      <td>-0.048545</td>\n",
       "      <td>-0.307243</td>\n",
       "      <td>-0.178347</td>\n",
       "      <td>-0.194771</td>\n",
       "      <td>-0.197551</td>\n",
       "      <td>-0.304828</td>\n",
       "      <td>-0.421257</td>\n",
       "      <td>-0.049723</td>\n",
       "      <td>...</td>\n",
       "      <td>-0.253255</td>\n",
       "      <td>-0.264549</td>\n",
       "      <td>-0.137827</td>\n",
       "      <td>-0.117697</td>\n",
       "      <td>-0.302399</td>\n",
       "      <td>-0.090777</td>\n",
       "      <td>1.000000</td>\n",
       "      <td>22.000000</td>\n",
       "      <td>0.000000</td>\n",
       "      <td>0.000000</td>\n",
       "    </tr>\n",
       "    <tr>\n",
       "      <th>25%</th>\n",
       "      <td>0.009979</td>\n",
       "      <td>0.037225</td>\n",
       "      <td>0.100677</td>\n",
       "      <td>-0.088834</td>\n",
       "      <td>-0.027810</td>\n",
       "      <td>-0.010617</td>\n",
       "      <td>-0.056682</td>\n",
       "      <td>-0.044344</td>\n",
       "      <td>-0.135110</td>\n",
       "      <td>0.033236</td>\n",
       "      <td>...</td>\n",
       "      <td>-0.042332</td>\n",
       "      <td>-0.056918</td>\n",
       "      <td>-0.018848</td>\n",
       "      <td>0.012599</td>\n",
       "      <td>-0.045226</td>\n",
       "      <td>0.045309</td>\n",
       "      <td>15.000000</td>\n",
       "      <td>25.000000</td>\n",
       "      <td>1.000000</td>\n",
       "      <td>6.000000</td>\n",
       "    </tr>\n",
       "    <tr>\n",
       "      <th>50%</th>\n",
       "      <td>0.024445</td>\n",
       "      <td>0.056119</td>\n",
       "      <td>0.123554</td>\n",
       "      <td>-0.057386</td>\n",
       "      <td>-0.011423</td>\n",
       "      <td>0.006173</td>\n",
       "      <td>-0.041501</td>\n",
       "      <td>-0.025805</td>\n",
       "      <td>-0.080715</td>\n",
       "      <td>0.045567</td>\n",
       "      <td>...</td>\n",
       "      <td>-0.007960</td>\n",
       "      <td>-0.037407</td>\n",
       "      <td>-0.004701</td>\n",
       "      <td>0.033121</td>\n",
       "      <td>-0.022919</td>\n",
       "      <td>0.064875</td>\n",
       "      <td>30.000000</td>\n",
       "      <td>27.000000</td>\n",
       "      <td>1.000000</td>\n",
       "      <td>6.000000</td>\n",
       "    </tr>\n",
       "    <tr>\n",
       "      <th>75%</th>\n",
       "      <td>0.058410</td>\n",
       "      <td>0.086358</td>\n",
       "      <td>0.173234</td>\n",
       "      <td>-0.039661</td>\n",
       "      <td>0.001544</td>\n",
       "      <td>0.021250</td>\n",
       "      <td>-0.026559</td>\n",
       "      <td>-0.009324</td>\n",
       "      <td>-0.057873</td>\n",
       "      <td>0.065670</td>\n",
       "      <td>...</td>\n",
       "      <td>0.012116</td>\n",
       "      <td>-0.024179</td>\n",
       "      <td>0.010218</td>\n",
       "      <td>0.072599</td>\n",
       "      <td>-0.006335</td>\n",
       "      <td>0.097642</td>\n",
       "      <td>46.000000</td>\n",
       "      <td>30.000000</td>\n",
       "      <td>1.000000</td>\n",
       "      <td>6.000000</td>\n",
       "    </tr>\n",
       "    <tr>\n",
       "      <th>max</th>\n",
       "      <td>0.274146</td>\n",
       "      <td>0.332288</td>\n",
       "      <td>0.454182</td>\n",
       "      <td>0.059362</td>\n",
       "      <td>0.196950</td>\n",
       "      <td>0.213127</td>\n",
       "      <td>0.124194</td>\n",
       "      <td>0.105714</td>\n",
       "      <td>0.192121</td>\n",
       "      <td>0.252320</td>\n",
       "      <td>...</td>\n",
       "      <td>0.209455</td>\n",
       "      <td>0.054555</td>\n",
       "      <td>0.215375</td>\n",
       "      <td>0.376414</td>\n",
       "      <td>0.125857</td>\n",
       "      <td>0.416291</td>\n",
       "      <td>60.000000</td>\n",
       "      <td>61.000000</td>\n",
       "      <td>1.000000</td>\n",
       "      <td>13.000000</td>\n",
       "    </tr>\n",
       "  </tbody>\n",
       "</table>\n",
       "<p>8 rows × 772 columns</p>\n",
       "</div>"
      ],
      "text/plain": [
       "          feature_1     feature_2     feature_3     feature_4     feature_5  \\\n",
       "count  28520.000000  28520.000000  28520.000000  28520.000000  28520.000000   \n",
       "mean       0.042487      0.068749      0.145547     -0.070646     -0.013539   \n",
       "std        0.048918      0.046354      0.065332      0.046671      0.027635   \n",
       "min       -0.079594     -0.062608     -0.048545     -0.307243     -0.178347   \n",
       "25%        0.009979      0.037225      0.100677     -0.088834     -0.027810   \n",
       "50%        0.024445      0.056119      0.123554     -0.057386     -0.011423   \n",
       "75%        0.058410      0.086358      0.173234     -0.039661      0.001544   \n",
       "max        0.274146      0.332288      0.454182      0.059362      0.196950   \n",
       "\n",
       "          feature_6     feature_7     feature_8     feature_9    feature_10  \\\n",
       "count  28520.000000  28520.000000  28520.000000  28520.000000  28520.000000   \n",
       "mean       0.003395     -0.041282     -0.028283     -0.106602      0.053686   \n",
       "std        0.031248      0.026479      0.029632      0.070775      0.030945   \n",
       "min       -0.194771     -0.197551     -0.304828     -0.421257     -0.049723   \n",
       "25%       -0.010617     -0.056682     -0.044344     -0.135110      0.033236   \n",
       "50%        0.006173     -0.041501     -0.025805     -0.080715      0.045567   \n",
       "75%        0.021250     -0.026559     -0.009324     -0.057873      0.065670   \n",
       "max        0.213127      0.124194      0.105714      0.192121      0.252320   \n",
       "\n",
       "       ...   feature_763   feature_764   feature_765   feature_766  \\\n",
       "count  ...  28520.000000  28520.000000  28520.000000  28520.000000   \n",
       "mean   ...     -0.022102     -0.044743     -0.004380      0.049072   \n",
       "std    ...      0.053250      0.031361      0.025829      0.050536   \n",
       "min    ...     -0.253255     -0.264549     -0.137827     -0.117697   \n",
       "25%    ...     -0.042332     -0.056918     -0.018848      0.012599   \n",
       "50%    ...     -0.007960     -0.037407     -0.004701      0.033121   \n",
       "75%    ...      0.012116     -0.024179      0.010218      0.072599   \n",
       "max    ...      0.209455      0.054555      0.215375      0.376414   \n",
       "\n",
       "        feature_767   feature_768    speaker_ID   speaker_age  speaker_gender  \\\n",
       "count  28520.000000  28520.000000  28520.000000  28040.000000    28520.000000   \n",
       "mean      -0.028722      0.075717     30.498843     27.975107        0.799299   \n",
       "std        0.032622      0.044879     17.328389      5.735913        0.400532   \n",
       "min       -0.302399     -0.090777      1.000000     22.000000        0.000000   \n",
       "25%       -0.045226      0.045309     15.000000     25.000000        1.000000   \n",
       "50%       -0.022919      0.064875     30.000000     27.000000        1.000000   \n",
       "75%       -0.006335      0.097642     46.000000     30.000000        1.000000   \n",
       "max        0.125857      0.416291     60.000000     61.000000        1.000000   \n",
       "\n",
       "       speaker_accent  \n",
       "count    28520.000000  \n",
       "mean         5.997125  \n",
       "std          2.375567  \n",
       "min          0.000000  \n",
       "25%          6.000000  \n",
       "50%          6.000000  \n",
       "75%          6.000000  \n",
       "max         13.000000  \n",
       "\n",
       "[8 rows x 772 columns]"
      ]
     },
     "execution_count": 5,
     "metadata": {},
     "output_type": "execute_result"
    }
   ],
   "source": [
    "train_df.describe()"
   ]
  },
  {
   "cell_type": "markdown",
   "metadata": {},
   "source": [
    "## Check for null/NaN values in all columns\n",
    "\n"
   ]
  },
  {
   "cell_type": "code",
   "execution_count": 6,
   "metadata": {},
   "outputs": [
    {
     "data": {
      "text/plain": [
       "feature_1         False\n",
       "feature_2         False\n",
       "feature_3         False\n",
       "feature_4         False\n",
       "feature_5         False\n",
       "                  ...  \n",
       "feature_768       False\n",
       "speaker_ID        False\n",
       "speaker_age        True\n",
       "speaker_gender    False\n",
       "speaker_accent    False\n",
       "Length: 772, dtype: bool"
      ]
     },
     "execution_count": 6,
     "metadata": {},
     "output_type": "execute_result"
    }
   ],
   "source": [
    "train_df.isna().any()\n",
    "\n",
    "# Based on below output we can see that there are missing values in the speaker_age column of the dataset.\n",
    "# Let's now check whether that is the only column with missing values."
   ]
  },
  {
   "cell_type": "code",
   "execution_count": 7,
   "metadata": {},
   "outputs": [
    {
     "data": {
      "text/plain": [
       "feature_1           0\n",
       "feature_2           0\n",
       "feature_3           0\n",
       "feature_4           0\n",
       "feature_5           0\n",
       "                 ... \n",
       "feature_768         0\n",
       "speaker_ID          0\n",
       "speaker_age       480\n",
       "speaker_gender      0\n",
       "speaker_accent      0\n",
       "Length: 772, dtype: int64"
      ]
     },
     "execution_count": 7,
     "metadata": {},
     "output_type": "execute_result"
    }
   ],
   "source": [
    "train_df.isnull().sum()"
   ]
  },
  {
   "cell_type": "code",
   "execution_count": 8,
   "metadata": {},
   "outputs": [
    {
     "data": {
      "text/plain": [
       "480"
      ]
     },
     "execution_count": 8,
     "metadata": {},
     "output_type": "execute_result"
    }
   ],
   "source": [
    "train_df.isnull().sum().sum()\n",
    "\n",
    "# Based on the above and below outputs, we can see that there are 480 missing values 'only' in the speaker_age column. No missing values in other columns."
   ]
  },
  {
   "cell_type": "code",
   "execution_count": 9,
   "metadata": {},
   "outputs": [
    {
     "name": "stdout",
     "output_type": "stream",
     "text": [
      "train dataset shape: (28520, 772)\n",
      "null values row count:  480\n",
      "null values row count percentage:  1.6830294530154277\n"
     ]
    }
   ],
   "source": [
    "print(\"train dataset shape:\", train_df.shape)\n",
    "print(\"null values row count: \", train_df.isnull().sum().sum())\n",
    "print(\"null values row count percentage: \", (train_df.isnull().sum().sum() / train_df.shape[0]) * 100)"
   ]
  },
  {
   "cell_type": "code",
   "execution_count": 10,
   "metadata": {},
   "outputs": [
    {
     "data": {
      "text/plain": [
       "26.0    4762\n",
       "25.0    2849\n",
       "27.0    2846\n",
       "23.0    2842\n",
       "31.0    2385\n",
       "24.0    1906\n",
       "28.0    1899\n",
       "30.0    1894\n",
       "22.0    1432\n",
       "29.0    1424\n",
       "33.0     945\n",
       "36.0     481\n",
       "35.0     480\n",
       "34.0     478\n",
       "32.0     476\n",
       "41.0     474\n",
       "61.0     467\n",
       "Name: speaker_age, dtype: int64"
      ]
     },
     "execution_count": 10,
     "metadata": {},
     "output_type": "execute_result"
    }
   ],
   "source": [
    "# Let's now check the distribution of the speaker_age column.\n",
    "train_df.speaker_age.value_counts()"
   ]
  },
  {
   "cell_type": "markdown",
   "metadata": {},
   "source": [
    "## Handling Null values (Replace with Mean)"
   ]
  },
  {
   "cell_type": "code",
   "execution_count": 11,
   "metadata": {},
   "outputs": [
    {
     "name": "stdout",
     "output_type": "stream",
     "text": [
      "mean:  27.975106990014265\n",
      "mean (rounded): 28\n"
     ]
    }
   ],
   "source": [
    "# Let's get the mean of the speaker_age column.\n",
    "speaker_age_mean = train_df.speaker_age.mean()\n",
    "print(\"mean: \", speaker_age_mean)\n",
    "\n",
    "# round it to nearest int\n",
    "speaker_age_mean = round(speaker_age_mean)\n",
    "print(\"mean (rounded):\", speaker_age_mean)"
   ]
  },
  {
   "cell_type": "code",
   "execution_count": 12,
   "metadata": {},
   "outputs": [],
   "source": [
    "# Let's now fill the missing values with the mean value.\n",
    "train_df.speaker_age.fillna(speaker_age_mean, inplace=True)"
   ]
  },
  {
   "cell_type": "code",
   "execution_count": 13,
   "metadata": {},
   "outputs": [
    {
     "data": {
      "text/plain": [
       "0"
      ]
     },
     "execution_count": 13,
     "metadata": {},
     "output_type": "execute_result"
    }
   ],
   "source": [
    "train_df.speaker_age.isna().sum().sum()"
   ]
  },
  {
   "cell_type": "markdown",
   "metadata": {},
   "source": [
    "## Checking each Label distribution"
   ]
  },
  {
   "cell_type": "markdown",
   "metadata": {},
   "source": [
    "### Speaker age"
   ]
  },
  {
   "cell_type": "code",
   "execution_count": 14,
   "metadata": {},
   "outputs": [
    {
     "data": {
      "text/plain": [
       "26.0    4762\n",
       "25.0    2849\n",
       "27.0    2846\n",
       "23.0    2842\n",
       "31.0    2385\n",
       "28.0    2379\n",
       "24.0    1906\n",
       "30.0    1894\n",
       "22.0    1432\n",
       "29.0    1424\n",
       "33.0     945\n",
       "36.0     481\n",
       "35.0     480\n",
       "34.0     478\n",
       "32.0     476\n",
       "41.0     474\n",
       "61.0     467\n",
       "Name: speaker_age, dtype: int64"
      ]
     },
     "execution_count": 14,
     "metadata": {},
     "output_type": "execute_result"
    }
   ],
   "source": [
    "# Let's now check the distribution of the speaker_age column.\n",
    "train_df.speaker_age.value_counts()"
   ]
  },
  {
   "cell_type": "code",
   "execution_count": 15,
   "metadata": {},
   "outputs": [
    {
     "data": {
      "text/plain": [
       "17"
      ]
     },
     "execution_count": 15,
     "metadata": {},
     "output_type": "execute_result"
    }
   ],
   "source": [
    "# Number os unique values in speaker age column\n",
    "train_df.speaker_age.nunique()"
   ]
  },
  {
   "cell_type": "code",
   "execution_count": 16,
   "metadata": {},
   "outputs": [
    {
     "data": {
      "text/plain": [
       "<Axes: >"
      ]
     },
     "execution_count": 16,
     "metadata": {},
     "output_type": "execute_result"
    },
    {
     "data": {
      "image/png": "[encoded data removed]",
      "text/plain": [
       "<Figure size 640x480 with 1 Axes>"
      ]
     },
     "metadata": {},
     "output_type": "display_data"
    }
   ],
   "source": [
    "train_df.speaker_age.value_counts().plot.bar()"
   ]
  },
  {
   "cell_type": "code",
   "execution_count": 17,
   "metadata": {},
   "outputs": [],
   "source": [
    "# There is a slight class imbalance issue based on above outputs. As a solution we can use RandomForrestClassifier with class_weight='balanced' parameter.\n",
    "\n",
    "# Note; hpt: forest_params = [{'max_depth': list(range(10, 15)), 'max_features': list(range(0,14))}]\n",
    "\n",
    "# use averaged F1 score "
   ]
  },
  {
   "cell_type": "markdown",
   "metadata": {},
   "source": [
    "### Speaker ID"
   ]
  },
  {
   "cell_type": "code",
   "execution_count": 18,
   "metadata": {},
   "outputs": [
    {
     "data": {
      "text/plain": [
       "12    485\n",
       "35    484\n",
       "26    483\n",
       "60    482\n",
       "24    482\n",
       "25    481\n",
       "59    481\n",
       "10    481\n",
       "54    481\n",
       "45    480\n",
       "41    480\n",
       "9     480\n",
       "2     479\n",
       "42    479\n",
       "47    479\n",
       "6     479\n",
       "56    479\n",
       "34    478\n",
       "52    478\n",
       "3     478\n",
       "14    478\n",
       "33    478\n",
       "43    477\n",
       "1     477\n",
       "13    477\n",
       "20    477\n",
       "23    477\n",
       "30    476\n",
       "51    476\n",
       "32    476\n",
       "53    476\n",
       "22    476\n",
       "38    476\n",
       "49    476\n",
       "55    475\n",
       "28    474\n",
       "8     474\n",
       "40    474\n",
       "48    474\n",
       "21    474\n",
       "4     474\n",
       "39    473\n",
       "17    473\n",
       "7     473\n",
       "15    472\n",
       "58    472\n",
       "5     471\n",
       "27    471\n",
       "31    470\n",
       "19    469\n",
       "11    469\n",
       "46    469\n",
       "29    469\n",
       "36    468\n",
       "16    468\n",
       "50    467\n",
       "37    467\n",
       "44    467\n",
       "57    466\n",
       "18    465\n",
       "Name: speaker_ID, dtype: int64"
      ]
     },
     "execution_count": 18,
     "metadata": {},
     "output_type": "execute_result"
    }
   ],
   "source": [
    "# Let's now check the distribution of the speaker_ID column.\n",
    "train_df.speaker_ID.value_counts()"
   ]
  },
  {
   "cell_type": "code",
   "execution_count": 19,
   "metadata": {},
   "outputs": [
    {
     "data": {
      "text/plain": [
       "60"
      ]
     },
     "execution_count": 19,
     "metadata": {},
     "output_type": "execute_result"
    }
   ],
   "source": [
    "# Let's get num of unique values in speaker_ID column.\n",
    "train_df.speaker_ID.nunique()"
   ]
  },
  {
   "cell_type": "code",
   "execution_count": 20,
   "metadata": {},
   "outputs": [
    {
     "data": {
      "text/plain": [
       "<Axes: >"
      ]
     },
     "execution_count": 20,
     "metadata": {},
     "output_type": "execute_result"
    },
    {
     "data": {
      "image/png": "[encoded data removed]",
      "text/plain": [
       "<Figure size 640x480 with 1 Axes>"
      ]
     },
     "metadata": {},
     "output_type": "display_data"
    }
   ],
   "source": [
    "train_df.speaker_ID.value_counts().plot.bar()\n",
    "\n",
    "# There is no significant class imbalance issue based on above outputs for the Speaker_ID column"
   ]
  },
  {
   "cell_type": "markdown",
   "metadata": {},
   "source": [
    "### Speaker gender"
   ]
  },
  {
   "cell_type": "code",
   "execution_count": 21,
   "metadata": {},
   "outputs": [
    {
     "data": {
      "text/plain": [
       "1    22796\n",
       "0     5724\n",
       "Name: speaker_gender, dtype: int64"
      ]
     },
     "execution_count": 21,
     "metadata": {},
     "output_type": "execute_result"
    }
   ],
   "source": [
    "# Let's now check the distribution of the speaker_age column.\n",
    "train_df.speaker_gender.value_counts()"
   ]
  },
  {
   "cell_type": "code",
   "execution_count": 22,
   "metadata": {},
   "outputs": [
    {
     "data": {
      "text/plain": [
       "2"
      ]
     },
     "execution_count": 22,
     "metadata": {},
     "output_type": "execute_result"
    }
   ],
   "source": [
    "train_df.speaker_gender.nunique()"
   ]
  },
  {
   "cell_type": "code",
   "execution_count": 23,
   "metadata": {},
   "outputs": [
    {
     "data": {
      "text/plain": [
       "<Axes: >"
      ]
     },
     "execution_count": 23,
     "metadata": {},
     "output_type": "execute_result"
    },
    {
     "data": {
      "image/png": "[encoded data removed]",
      "text/plain": [
       "<Figure size 640x480 with 1 Axes>"
      ]
     },
     "metadata": {},
     "output_type": "display_data"
    }
   ],
   "source": [
    "train_df.speaker_gender.value_counts().plot.bar()\n",
    "\n",
    "# There is a significant class imbalance issue in speaker_gender column. As a solution we can use RandomForrestClassifier with class_weight='balanced' parameter.\n",
    "# Also when splitting the dataset, I will use the stratisfied sampling technique.\n",
    "\n",
    "# Note; hpt: forest_params = [{'max_depth': list(range(10, 15)), 'max_features': list(range(0,14))}]\n",
    "\n",
    "# NOte; print classification report | use averaged/macro F1\n",
    "\n",
    "# # Define the steps in your pipeline\n",
    "# steps = [\n",
    "#     ('scaler', StandardScaler()),  # Standardize the features\n",
    "#     ('oversampler', SMOTE(random_state=42)),  # Apply SMOTE for oversampling\n",
    "#     ('pca', PCA(n_components=0.95)),  # Apply PCA for dimensionality reduction\n",
    "#     ('xgb', XGBClassifier(scale_pos_weight=np.sqrt(np.sum(y == 0) / np.sum(y == 1))))  # XGBoost Classifier\n",
    "# ]\n",
    "\n",
    "# The parameter scale_pos_weight is used in XGBoost to address class imbalance. It's an important hyperparameter to consider when working with imbalanced datasets. The specific value provided (np.sqrt(np.sum(y == 0) / np.sum(y == 1))) is a common heuristic used for setting scale_pos_weight, but it should be chosen based on the characteristics of your dataset."
   ]
  },
  {
   "cell_type": "markdown",
   "metadata": {},
   "source": [
    "### Speaker accent"
   ]
  },
  {
   "cell_type": "code",
   "execution_count": 24,
   "metadata": {},
   "outputs": [
    {
     "data": {
      "text/plain": [
       "6     19938\n",
       "2      1449\n",
       "0       955\n",
       "12      954\n",
       "7       938\n",
       "13      482\n",
       "1       481\n",
       "11      480\n",
       "10      480\n",
       "3       479\n",
       "5       478\n",
       "9       472\n",
       "4       469\n",
       "8       465\n",
       "Name: speaker_accent, dtype: int64"
      ]
     },
     "execution_count": 24,
     "metadata": {},
     "output_type": "execute_result"
    }
   ],
   "source": [
    "# Let's now check the distribution of the speaker_age column.\n",
    "train_df.speaker_accent.value_counts()"
   ]
  },
  {
   "cell_type": "code",
   "execution_count": 25,
   "metadata": {},
   "outputs": [
    {
     "data": {
      "text/plain": [
       "14"
      ]
     },
     "execution_count": 25,
     "metadata": {},
     "output_type": "execute_result"
    }
   ],
   "source": [
    "train_df.speaker_accent.nunique()"
   ]
  },
  {
   "cell_type": "code",
   "execution_count": 26,
   "metadata": {},
   "outputs": [
    {
     "data": {
      "text/plain": [
       "<Axes: >"
      ]
     },
     "execution_count": 26,
     "metadata": {},
     "output_type": "execute_result"
    },
    {
     "data": {
      "image/png": "[encoded data removed]",
      "text/plain": [
       "<Figure size 640x480 with 1 Axes>"
      ]
     },
     "metadata": {},
     "output_type": "display_data"
    }
   ],
   "source": [
    "train_df.speaker_accent.value_counts().plot.bar()   \n",
    "\n",
    "# There is a significant class imbalance issue in speaker_accents column. As a solution we can use RandomForrestClassifier with class_weight='balanced' parameter.\n",
    "# Also when splitting the dataset, I will use the stratisfied sampling technique.\n",
    "\n",
    "# Note; hpt: forest_params = [{'max_depth': list(range(10, 15)), 'max_features': list(range(0,14))}]\n",
    "\n",
    "# use avraged F1/macro F1\n",
    "\n",
    "# <!-- # Make predictions on the test set -->\n",
    "# y_pred = classifier_pipeline.predict(X_test)\n",
    "\n",
    "# <!-- # Generate a classification report -->\n",
    "# report = classification_report(y_test, y_pred)\n",
    "\n",
    "# <!-- # Print the classification report -->\n",
    "# print(\"Classification Report:\\n\", report)"
   ]
  },
  {
   "cell_type": "markdown",
   "metadata": {},
   "source": [
    "# Validation dataset"
   ]
  },
  {
   "cell_type": "code",
   "execution_count": 27,
   "metadata": {},
   "outputs": [
    {
     "data": {
      "text/html": [
       "<div>\n",
       "<style scoped>\n",
       "    .dataframe tbody tr th:only-of-type {\n",
       "        vertical-align: middle;\n",
       "    }\n",
       "\n",
       "    .dataframe tbody tr th {\n",
       "        vertical-align: top;\n",
       "    }\n",
       "\n",
       "    .dataframe thead th {\n",
       "        text-align: right;\n",
       "    }\n",
       "</style>\n",
       "<table border=\"1\" class=\"dataframe\">\n",
       "  <thead>\n",
       "    <tr style=\"text-align: right;\">\n",
       "      <th></th>\n",
       "      <th>feature_1</th>\n",
       "      <th>feature_2</th>\n",
       "      <th>feature_3</th>\n",
       "      <th>feature_4</th>\n",
       "      <th>feature_5</th>\n",
       "      <th>feature_6</th>\n",
       "      <th>feature_7</th>\n",
       "      <th>feature_8</th>\n",
       "      <th>feature_9</th>\n",
       "      <th>feature_10</th>\n",
       "      <th>...</th>\n",
       "      <th>feature_763</th>\n",
       "      <th>feature_764</th>\n",
       "      <th>feature_765</th>\n",
       "      <th>feature_766</th>\n",
       "      <th>feature_767</th>\n",
       "      <th>feature_768</th>\n",
       "      <th>label_1</th>\n",
       "      <th>label_2</th>\n",
       "      <th>label_3</th>\n",
       "      <th>label_4</th>\n",
       "    </tr>\n",
       "  </thead>\n",
       "  <tbody>\n",
       "    <tr>\n",
       "      <th>0</th>\n",
       "      <td>0.153978</td>\n",
       "      <td>0.503276</td>\n",
       "      <td>0.022196</td>\n",
       "      <td>0.226684</td>\n",
       "      <td>0.466179</td>\n",
       "      <td>0.154995</td>\n",
       "      <td>0.195452</td>\n",
       "      <td>-0.288972</td>\n",
       "      <td>-0.297589</td>\n",
       "      <td>-0.008409</td>\n",
       "      <td>...</td>\n",
       "      <td>-0.503624</td>\n",
       "      <td>-0.056849</td>\n",
       "      <td>-0.117077</td>\n",
       "      <td>0.168611</td>\n",
       "      <td>0.373346</td>\n",
       "      <td>0.037188</td>\n",
       "      <td>45</td>\n",
       "      <td>NaN</td>\n",
       "      <td>1</td>\n",
       "      <td>6</td>\n",
       "    </tr>\n",
       "    <tr>\n",
       "      <th>1</th>\n",
       "      <td>0.056877</td>\n",
       "      <td>0.261613</td>\n",
       "      <td>0.050610</td>\n",
       "      <td>0.097744</td>\n",
       "      <td>0.322375</td>\n",
       "      <td>-0.011609</td>\n",
       "      <td>0.201331</td>\n",
       "      <td>-0.194763</td>\n",
       "      <td>-0.194228</td>\n",
       "      <td>-0.094267</td>\n",
       "      <td>...</td>\n",
       "      <td>-0.442110</td>\n",
       "      <td>0.008424</td>\n",
       "      <td>-0.067920</td>\n",
       "      <td>0.165600</td>\n",
       "      <td>0.333104</td>\n",
       "      <td>-0.270913</td>\n",
       "      <td>45</td>\n",
       "      <td>NaN</td>\n",
       "      <td>1</td>\n",
       "      <td>6</td>\n",
       "    </tr>\n",
       "    <tr>\n",
       "      <th>2</th>\n",
       "      <td>0.225439</td>\n",
       "      <td>0.350977</td>\n",
       "      <td>-0.295782</td>\n",
       "      <td>0.280168</td>\n",
       "      <td>0.705114</td>\n",
       "      <td>0.020545</td>\n",
       "      <td>0.390878</td>\n",
       "      <td>-0.322853</td>\n",
       "      <td>0.071575</td>\n",
       "      <td>0.013803</td>\n",
       "      <td>...</td>\n",
       "      <td>-0.380124</td>\n",
       "      <td>-0.089572</td>\n",
       "      <td>-0.023344</td>\n",
       "      <td>0.194312</td>\n",
       "      <td>0.269537</td>\n",
       "      <td>-0.292029</td>\n",
       "      <td>45</td>\n",
       "      <td>NaN</td>\n",
       "      <td>1</td>\n",
       "      <td>6</td>\n",
       "    </tr>\n",
       "    <tr>\n",
       "      <th>3</th>\n",
       "      <td>0.288556</td>\n",
       "      <td>0.513905</td>\n",
       "      <td>-0.205246</td>\n",
       "      <td>0.279660</td>\n",
       "      <td>0.469121</td>\n",
       "      <td>0.068339</td>\n",
       "      <td>0.131205</td>\n",
       "      <td>-0.338951</td>\n",
       "      <td>-0.270848</td>\n",
       "      <td>0.007799</td>\n",
       "      <td>...</td>\n",
       "      <td>-0.529678</td>\n",
       "      <td>-0.093194</td>\n",
       "      <td>-0.148418</td>\n",
       "      <td>0.405543</td>\n",
       "      <td>0.438906</td>\n",
       "      <td>-0.055119</td>\n",
       "      <td>45</td>\n",
       "      <td>NaN</td>\n",
       "      <td>1</td>\n",
       "      <td>6</td>\n",
       "    </tr>\n",
       "    <tr>\n",
       "      <th>4</th>\n",
       "      <td>0.165176</td>\n",
       "      <td>0.312492</td>\n",
       "      <td>-0.217504</td>\n",
       "      <td>0.259960</td>\n",
       "      <td>0.568979</td>\n",
       "      <td>-0.093011</td>\n",
       "      <td>0.257977</td>\n",
       "      <td>-0.277132</td>\n",
       "      <td>-0.172113</td>\n",
       "      <td>-0.025929</td>\n",
       "      <td>...</td>\n",
       "      <td>-0.504997</td>\n",
       "      <td>-0.108256</td>\n",
       "      <td>0.036867</td>\n",
       "      <td>0.267815</td>\n",
       "      <td>0.245041</td>\n",
       "      <td>0.117444</td>\n",
       "      <td>45</td>\n",
       "      <td>NaN</td>\n",
       "      <td>1</td>\n",
       "      <td>6</td>\n",
       "    </tr>\n",
       "  </tbody>\n",
       "</table>\n",
       "<p>5 rows × 772 columns</p>\n",
       "</div>"
      ],
      "text/plain": [
       "   feature_1  feature_2  feature_3  feature_4  feature_5  feature_6  \\\n",
       "0   0.153978   0.503276   0.022196   0.226684   0.466179   0.154995   \n",
       "1   0.056877   0.261613   0.050610   0.097744   0.322375  -0.011609   \n",
       "2   0.225439   0.350977  -0.295782   0.280168   0.705114   0.020545   \n",
       "3   0.288556   0.513905  -0.205246   0.279660   0.469121   0.068339   \n",
       "4   0.165176   0.312492  -0.217504   0.259960   0.568979  -0.093011   \n",
       "\n",
       "   feature_7  feature_8  feature_9  feature_10  ...  feature_763  feature_764  \\\n",
       "0   0.195452  -0.288972  -0.297589   -0.008409  ...    -0.503624    -0.056849   \n",
       "1   0.201331  -0.194763  -0.194228   -0.094267  ...    -0.442110     0.008424   \n",
       "2   0.390878  -0.322853   0.071575    0.013803  ...    -0.380124    -0.089572   \n",
       "3   0.131205  -0.338951  -0.270848    0.007799  ...    -0.529678    -0.093194   \n",
       "4   0.257977  -0.277132  -0.172113   -0.025929  ...    -0.504997    -0.108256   \n",
       "\n",
       "   feature_765  feature_766  feature_767  feature_768  label_1  label_2  \\\n",
       "0    -0.117077     0.168611     0.373346     0.037188       45      NaN   \n",
       "1    -0.067920     0.165600     0.333104    -0.270913       45      NaN   \n",
       "2    -0.023344     0.194312     0.269537    -0.292029       45      NaN   \n",
       "3    -0.148418     0.405543     0.438906    -0.055119       45      NaN   \n",
       "4     0.036867     0.267815     0.245041     0.117444       45      NaN   \n",
       "\n",
       "   label_3  label_4  \n",
       "0        1        6  \n",
       "1        1        6  \n",
       "2        1        6  \n",
       "3        1        6  \n",
       "4        1        6  \n",
       "\n",
       "[5 rows x 772 columns]"
      ]
     },
     "execution_count": 27,
     "metadata": {},
     "output_type": "execute_result"
    }
   ],
   "source": [
    "valid_df = pd.read_csv(valid_csv_file_path)\n",
    "valid_df.head()"
   ]
  },
  {
   "cell_type": "code",
   "execution_count": 28,
   "metadata": {},
   "outputs": [
    {
     "data": {
      "text/plain": [
       "feature_1      float64\n",
       "feature_2      float64\n",
       "feature_3      float64\n",
       "feature_4      float64\n",
       "feature_5      float64\n",
       "                ...   \n",
       "feature_768    float64\n",
       "label_1          int64\n",
       "label_2        float64\n",
       "label_3          int64\n",
       "label_4          int64\n",
       "Length: 772, dtype: object"
      ]
     },
     "execution_count": 28,
     "metadata": {},
     "output_type": "execute_result"
    }
   ],
   "source": [
    "# get type of each column\n",
    "valid_df.dtypes"
   ]
  },
  {
   "cell_type": "markdown",
   "metadata": {},
   "source": [
    "## Renaming Labels\n",
    "\n",
    "*   Since the labels are in 'label_1', 'label_2' ... format, I will be renaming them to 'speaker_ID', 'speaker_age', ... format\n"
   ]
  },
  {
   "cell_type": "code",
   "execution_count": 29,
   "metadata": {},
   "outputs": [],
   "source": [
    "valid_df.rename(columns={'label_1': 'speaker_ID', 'label_2': 'speaker_age', 'label_3': 'speaker_gender', 'label_4': 'speaker_accent'}, inplace=True)"
   ]
  },
  {
   "cell_type": "code",
   "execution_count": 30,
   "metadata": {},
   "outputs": [
    {
     "data": {
      "text/html": [
       "<div>\n",
       "<style scoped>\n",
       "    .dataframe tbody tr th:only-of-type {\n",
       "        vertical-align: middle;\n",
       "    }\n",
       "\n",
       "    .dataframe tbody tr th {\n",
       "        vertical-align: top;\n",
       "    }\n",
       "\n",
       "    .dataframe thead th {\n",
       "        text-align: right;\n",
       "    }\n",
       "</style>\n",
       "<table border=\"1\" class=\"dataframe\">\n",
       "  <thead>\n",
       "    <tr style=\"text-align: right;\">\n",
       "      <th></th>\n",
       "      <th>feature_1</th>\n",
       "      <th>feature_2</th>\n",
       "      <th>feature_3</th>\n",
       "      <th>feature_4</th>\n",
       "      <th>feature_5</th>\n",
       "      <th>feature_6</th>\n",
       "      <th>feature_7</th>\n",
       "      <th>feature_8</th>\n",
       "      <th>feature_9</th>\n",
       "      <th>feature_10</th>\n",
       "      <th>...</th>\n",
       "      <th>feature_763</th>\n",
       "      <th>feature_764</th>\n",
       "      <th>feature_765</th>\n",
       "      <th>feature_766</th>\n",
       "      <th>feature_767</th>\n",
       "      <th>feature_768</th>\n",
       "      <th>speaker_ID</th>\n",
       "      <th>speaker_age</th>\n",
       "      <th>speaker_gender</th>\n",
       "      <th>speaker_accent</th>\n",
       "    </tr>\n",
       "  </thead>\n",
       "  <tbody>\n",
       "    <tr>\n",
       "      <th>count</th>\n",
       "      <td>750.000000</td>\n",
       "      <td>750.000000</td>\n",
       "      <td>750.000000</td>\n",
       "      <td>750.000000</td>\n",
       "      <td>750.000000</td>\n",
       "      <td>750.000000</td>\n",
       "      <td>750.000000</td>\n",
       "      <td>750.000000</td>\n",
       "      <td>750.000000</td>\n",
       "      <td>750.000000</td>\n",
       "      <td>...</td>\n",
       "      <td>750.000000</td>\n",
       "      <td>750.000000</td>\n",
       "      <td>750.000000</td>\n",
       "      <td>750.000000</td>\n",
       "      <td>750.000000</td>\n",
       "      <td>750.000000</td>\n",
       "      <td>750.000000</td>\n",
       "      <td>736.000000</td>\n",
       "      <td>750.000000</td>\n",
       "      <td>750.000000</td>\n",
       "    </tr>\n",
       "    <tr>\n",
       "      <th>mean</th>\n",
       "      <td>0.138566</td>\n",
       "      <td>0.326396</td>\n",
       "      <td>-0.105575</td>\n",
       "      <td>0.247640</td>\n",
       "      <td>0.473704</td>\n",
       "      <td>-0.058701</td>\n",
       "      <td>0.224979</td>\n",
       "      <td>-0.228412</td>\n",
       "      <td>-0.072824</td>\n",
       "      <td>-0.028374</td>\n",
       "      <td>...</td>\n",
       "      <td>-0.333159</td>\n",
       "      <td>-0.044704</td>\n",
       "      <td>-0.079132</td>\n",
       "      <td>0.184085</td>\n",
       "      <td>0.323799</td>\n",
       "      <td>-0.183099</td>\n",
       "      <td>30.085333</td>\n",
       "      <td>28.330163</td>\n",
       "      <td>0.810667</td>\n",
       "      <td>6.117333</td>\n",
       "    </tr>\n",
       "    <tr>\n",
       "      <th>std</th>\n",
       "      <td>0.086762</td>\n",
       "      <td>0.094890</td>\n",
       "      <td>0.152134</td>\n",
       "      <td>0.103347</td>\n",
       "      <td>0.135680</td>\n",
       "      <td>0.101014</td>\n",
       "      <td>0.117435</td>\n",
       "      <td>0.082237</td>\n",
       "      <td>0.139228</td>\n",
       "      <td>0.081750</td>\n",
       "      <td>...</td>\n",
       "      <td>0.144875</td>\n",
       "      <td>0.072396</td>\n",
       "      <td>0.064973</td>\n",
       "      <td>0.135451</td>\n",
       "      <td>0.158224</td>\n",
       "      <td>0.135559</td>\n",
       "      <td>17.489060</td>\n",
       "      <td>6.518500</td>\n",
       "      <td>0.392035</td>\n",
       "      <td>2.227895</td>\n",
       "    </tr>\n",
       "    <tr>\n",
       "      <th>min</th>\n",
       "      <td>-0.117159</td>\n",
       "      <td>-0.209349</td>\n",
       "      <td>-0.550758</td>\n",
       "      <td>-0.104930</td>\n",
       "      <td>-0.124913</td>\n",
       "      <td>-0.366478</td>\n",
       "      <td>-0.062692</td>\n",
       "      <td>-0.496261</td>\n",
       "      <td>-0.471700</td>\n",
       "      <td>-0.324631</td>\n",
       "      <td>...</td>\n",
       "      <td>-0.799173</td>\n",
       "      <td>-0.304076</td>\n",
       "      <td>-0.343493</td>\n",
       "      <td>-0.154304</td>\n",
       "      <td>-0.153001</td>\n",
       "      <td>-0.589591</td>\n",
       "      <td>1.000000</td>\n",
       "      <td>22.000000</td>\n",
       "      <td>0.000000</td>\n",
       "      <td>0.000000</td>\n",
       "    </tr>\n",
       "    <tr>\n",
       "      <th>25%</th>\n",
       "      <td>0.077579</td>\n",
       "      <td>0.270306</td>\n",
       "      <td>-0.207213</td>\n",
       "      <td>0.174754</td>\n",
       "      <td>0.396440</td>\n",
       "      <td>-0.123927</td>\n",
       "      <td>0.145534</td>\n",
       "      <td>-0.283383</td>\n",
       "      <td>-0.174644</td>\n",
       "      <td>-0.078954</td>\n",
       "      <td>...</td>\n",
       "      <td>-0.432297</td>\n",
       "      <td>-0.092119</td>\n",
       "      <td>-0.118917</td>\n",
       "      <td>0.095191</td>\n",
       "      <td>0.213669</td>\n",
       "      <td>-0.271198</td>\n",
       "      <td>15.000000</td>\n",
       "      <td>25.000000</td>\n",
       "      <td>1.000000</td>\n",
       "      <td>6.000000</td>\n",
       "    </tr>\n",
       "    <tr>\n",
       "      <th>50%</th>\n",
       "      <td>0.133337</td>\n",
       "      <td>0.328736</td>\n",
       "      <td>-0.096796</td>\n",
       "      <td>0.256077</td>\n",
       "      <td>0.488115</td>\n",
       "      <td>-0.057681</td>\n",
       "      <td>0.214558</td>\n",
       "      <td>-0.227015</td>\n",
       "      <td>-0.061655</td>\n",
       "      <td>-0.029001</td>\n",
       "      <td>...</td>\n",
       "      <td>-0.338127</td>\n",
       "      <td>-0.041534</td>\n",
       "      <td>-0.079149</td>\n",
       "      <td>0.172080</td>\n",
       "      <td>0.333834</td>\n",
       "      <td>-0.186795</td>\n",
       "      <td>29.000000</td>\n",
       "      <td>27.000000</td>\n",
       "      <td>1.000000</td>\n",
       "      <td>6.000000</td>\n",
       "    </tr>\n",
       "    <tr>\n",
       "      <th>75%</th>\n",
       "      <td>0.188513</td>\n",
       "      <td>0.390611</td>\n",
       "      <td>0.009080</td>\n",
       "      <td>0.322712</td>\n",
       "      <td>0.566803</td>\n",
       "      <td>0.004064</td>\n",
       "      <td>0.304288</td>\n",
       "      <td>-0.171806</td>\n",
       "      <td>0.031568</td>\n",
       "      <td>0.027306</td>\n",
       "      <td>...</td>\n",
       "      <td>-0.252013</td>\n",
       "      <td>-0.000177</td>\n",
       "      <td>-0.035977</td>\n",
       "      <td>0.273870</td>\n",
       "      <td>0.448331</td>\n",
       "      <td>-0.085947</td>\n",
       "      <td>45.000000</td>\n",
       "      <td>30.000000</td>\n",
       "      <td>1.000000</td>\n",
       "      <td>6.000000</td>\n",
       "    </tr>\n",
       "    <tr>\n",
       "      <th>max</th>\n",
       "      <td>0.424073</td>\n",
       "      <td>0.573708</td>\n",
       "      <td>0.301080</td>\n",
       "      <td>0.657954</td>\n",
       "      <td>0.819958</td>\n",
       "      <td>0.279770</td>\n",
       "      <td>0.543212</td>\n",
       "      <td>0.034650</td>\n",
       "      <td>0.337088</td>\n",
       "      <td>0.193899</td>\n",
       "      <td>...</td>\n",
       "      <td>0.351320</td>\n",
       "      <td>0.220994</td>\n",
       "      <td>0.244460</td>\n",
       "      <td>0.591306</td>\n",
       "      <td>0.649717</td>\n",
       "      <td>0.209976</td>\n",
       "      <td>60.000000</td>\n",
       "      <td>61.000000</td>\n",
       "      <td>1.000000</td>\n",
       "      <td>13.000000</td>\n",
       "    </tr>\n",
       "  </tbody>\n",
       "</table>\n",
       "<p>8 rows × 772 columns</p>\n",
       "</div>"
      ],
      "text/plain": [
       "        feature_1   feature_2   feature_3   feature_4   feature_5   feature_6  \\\n",
       "count  750.000000  750.000000  750.000000  750.000000  750.000000  750.000000   \n",
       "mean     0.138566    0.326396   -0.105575    0.247640    0.473704   -0.058701   \n",
       "std      0.086762    0.094890    0.152134    0.103347    0.135680    0.101014   \n",
       "min     -0.117159   -0.209349   -0.550758   -0.104930   -0.124913   -0.366478   \n",
       "25%      0.077579    0.270306   -0.207213    0.174754    0.396440   -0.123927   \n",
       "50%      0.133337    0.328736   -0.096796    0.256077    0.488115   -0.057681   \n",
       "75%      0.188513    0.390611    0.009080    0.322712    0.566803    0.004064   \n",
       "max      0.424073    0.573708    0.301080    0.657954    0.819958    0.279770   \n",
       "\n",
       "        feature_7   feature_8   feature_9  feature_10  ...  feature_763  \\\n",
       "count  750.000000  750.000000  750.000000  750.000000  ...   750.000000   \n",
       "mean     0.224979   -0.228412   -0.072824   -0.028374  ...    -0.333159   \n",
       "std      0.117435    0.082237    0.139228    0.081750  ...     0.144875   \n",
       "min     -0.062692   -0.496261   -0.471700   -0.324631  ...    -0.799173   \n",
       "25%      0.145534   -0.283383   -0.174644   -0.078954  ...    -0.432297   \n",
       "50%      0.214558   -0.227015   -0.061655   -0.029001  ...    -0.338127   \n",
       "75%      0.304288   -0.171806    0.031568    0.027306  ...    -0.252013   \n",
       "max      0.543212    0.034650    0.337088    0.193899  ...     0.351320   \n",
       "\n",
       "       feature_764  feature_765  feature_766  feature_767  feature_768  \\\n",
       "count   750.000000   750.000000   750.000000   750.000000   750.000000   \n",
       "mean     -0.044704    -0.079132     0.184085     0.323799    -0.183099   \n",
       "std       0.072396     0.064973     0.135451     0.158224     0.135559   \n",
       "min      -0.304076    -0.343493    -0.154304    -0.153001    -0.589591   \n",
       "25%      -0.092119    -0.118917     0.095191     0.213669    -0.271198   \n",
       "50%      -0.041534    -0.079149     0.172080     0.333834    -0.186795   \n",
       "75%      -0.000177    -0.035977     0.273870     0.448331    -0.085947   \n",
       "max       0.220994     0.244460     0.591306     0.649717     0.209976   \n",
       "\n",
       "       speaker_ID  speaker_age  speaker_gender  speaker_accent  \n",
       "count  750.000000   736.000000      750.000000      750.000000  \n",
       "mean    30.085333    28.330163        0.810667        6.117333  \n",
       "std     17.489060     6.518500        0.392035        2.227895  \n",
       "min      1.000000    22.000000        0.000000        0.000000  \n",
       "25%     15.000000    25.000000        1.000000        6.000000  \n",
       "50%     29.000000    27.000000        1.000000        6.000000  \n",
       "75%     45.000000    30.000000        1.000000        6.000000  \n",
       "max     60.000000    61.000000        1.000000       13.000000  \n",
       "\n",
       "[8 rows x 772 columns]"
      ]
     },
     "execution_count": 30,
     "metadata": {},
     "output_type": "execute_result"
    }
   ],
   "source": [
    "valid_df.describe()"
   ]
  },
  {
   "cell_type": "markdown",
   "metadata": {},
   "source": [
    "## Check for null/NaN values in all columns\n",
    "\n"
   ]
  },
  {
   "cell_type": "code",
   "execution_count": 31,
   "metadata": {},
   "outputs": [
    {
     "data": {
      "text/plain": [
       "feature_1         False\n",
       "feature_2         False\n",
       "feature_3         False\n",
       "feature_4         False\n",
       "feature_5         False\n",
       "                  ...  \n",
       "feature_768       False\n",
       "speaker_ID        False\n",
       "speaker_age        True\n",
       "speaker_gender    False\n",
       "speaker_accent    False\n",
       "Length: 772, dtype: bool"
      ]
     },
     "execution_count": 31,
     "metadata": {},
     "output_type": "execute_result"
    }
   ],
   "source": [
    "valid_df.isna().any()\n",
    "\n",
    "# Based on below output we can see that there are missing values in the speaker_age column of the dataset.\n",
    "# Let's now check whether that is the only column with missing values."
   ]
  },
  {
   "cell_type": "code",
   "execution_count": 32,
   "metadata": {},
   "outputs": [
    {
     "data": {
      "text/plain": [
       "feature_1          0\n",
       "feature_2          0\n",
       "feature_3          0\n",
       "feature_4          0\n",
       "feature_5          0\n",
       "                  ..\n",
       "feature_768        0\n",
       "speaker_ID         0\n",
       "speaker_age       14\n",
       "speaker_gender     0\n",
       "speaker_accent     0\n",
       "Length: 772, dtype: int64"
      ]
     },
     "execution_count": 32,
     "metadata": {},
     "output_type": "execute_result"
    }
   ],
   "source": [
    "valid_df.isnull().sum()"
   ]
  },
  {
   "cell_type": "code",
   "execution_count": 33,
   "metadata": {},
   "outputs": [
    {
     "data": {
      "text/plain": [
       "14"
      ]
     },
     "execution_count": 33,
     "metadata": {},
     "output_type": "execute_result"
    }
   ],
   "source": [
    "valid_df.isnull().sum().sum()\n",
    "\n",
    "# Based on the above and below outputs, we can see that there are 480 missing values 'only' in the speaker_age column. No missing values in other columns."
   ]
  },
  {
   "cell_type": "code",
   "execution_count": 34,
   "metadata": {},
   "outputs": [
    {
     "name": "stdout",
     "output_type": "stream",
     "text": [
      "validation dataset shape: (750, 772)\n",
      "null values row count:  14\n",
      "null values row count percentage:  1.866666666666667\n"
     ]
    }
   ],
   "source": [
    "print(\"validation dataset shape:\", valid_df.shape)\n",
    "print(\"null values row count: \", valid_df.isnull().sum().sum())\n",
    "print(\"null values row count percentage: \", (valid_df.isnull().sum().sum() / valid_df.shape[0]) * 100)"
   ]
  },
  {
   "cell_type": "code",
   "execution_count": 35,
   "metadata": {},
   "outputs": [
    {
     "data": {
      "text/plain": [
       "26.0    115\n",
       "27.0     81\n",
       "25.0     79\n",
       "23.0     71\n",
       "31.0     65\n",
       "30.0     48\n",
       "28.0     46\n",
       "24.0     46\n",
       "29.0     45\n",
       "22.0     36\n",
       "33.0     30\n",
       "61.0     19\n",
       "41.0     14\n",
       "34.0     11\n",
       "32.0     11\n",
       "35.0     11\n",
       "36.0      8\n",
       "Name: speaker_age, dtype: int64"
      ]
     },
     "execution_count": 35,
     "metadata": {},
     "output_type": "execute_result"
    }
   ],
   "source": [
    "# Let's now check the distribution of the speaker_age column.\n",
    "valid_df.speaker_age.value_counts()"
   ]
  },
  {
   "cell_type": "markdown",
   "metadata": {},
   "source": [
    "## Handling Null values (Replace with Mean)"
   ]
  },
  {
   "cell_type": "code",
   "execution_count": 36,
   "metadata": {},
   "outputs": [
    {
     "name": "stdout",
     "output_type": "stream",
     "text": [
      "mean:  28.33016304347826\n",
      "mean (rounded):  28\n"
     ]
    }
   ],
   "source": [
    "# Let's get the mean of the speaker_age column.\n",
    "speaker_age_mean = valid_df.speaker_age.mean()\n",
    "print(\"mean: \", speaker_age_mean)\n",
    "# round it to nearest int\n",
    "speaker_age_mean = round(speaker_age_mean)\n",
    "print(\"mean (rounded): \", speaker_age_mean)"
   ]
  },
  {
   "cell_type": "code",
   "execution_count": 37,
   "metadata": {},
   "outputs": [],
   "source": [
    "# Let's now fill the missing values with the mean value.\n",
    "valid_df.speaker_age.fillna(speaker_age_mean, inplace=True)"
   ]
  },
  {
   "cell_type": "code",
   "execution_count": 38,
   "metadata": {},
   "outputs": [
    {
     "data": {
      "text/plain": [
       "26.0    115\n",
       "27.0     81\n",
       "25.0     79\n",
       "23.0     71\n",
       "31.0     65\n",
       "28.0     60\n",
       "30.0     48\n",
       "24.0     46\n",
       "29.0     45\n",
       "22.0     36\n",
       "33.0     30\n",
       "61.0     19\n",
       "41.0     14\n",
       "34.0     11\n",
       "32.0     11\n",
       "35.0     11\n",
       "36.0      8\n",
       "Name: speaker_age, dtype: int64"
      ]
     },
     "execution_count": 38,
     "metadata": {},
     "output_type": "execute_result"
    }
   ],
   "source": [
    "valid_df.speaker_age.value_counts()"
   ]
  },
  {
   "cell_type": "code",
   "execution_count": 39,
   "metadata": {},
   "outputs": [
    {
     "data": {
      "text/plain": [
       "0"
      ]
     },
     "execution_count": 39,
     "metadata": {},
     "output_type": "execute_result"
    }
   ],
   "source": [
    "valid_df.speaker_age.isna().sum().sum()"
   ]
  },
  {
   "cell_type": "code",
   "execution_count": 40,
   "metadata": {},
   "outputs": [],
   "source": [
    "# Preparing training and validation datasets\n",
    "from sklearn.model_selection import train_test_split\n",
    "\n",
    "train_X = train_df.drop(['speaker_ID', 'speaker_age', 'speaker_gender', 'speaker_accent'], axis=1)\n",
    "train_speaker_IDs = train_df['speaker_ID']\n",
    "train_speaker_ages = train_df['speaker_age']\n",
    "train_speaker_genders = train_df['speaker_gender']\n",
    "train_speaker_accents = train_df['speaker_accent']\n",
    "\n",
    "valid_X = valid_df.drop(['speaker_ID', 'speaker_age', 'speaker_gender', 'speaker_accent'], axis=1)\n",
    "valid_speaker_IDs = valid_df['speaker_ID']\n",
    "valid_speaker_ages = valid_df['speaker_age']\n",
    "valid_speaker_genders = valid_df['speaker_gender']\n",
    "valid_speaker_accents = valid_df['speaker_accent']\n"
   ]
  },
  {
   "cell_type": "code",
   "execution_count": 41,
   "metadata": {},
   "outputs": [],
   "source": [
    "X = train_df.drop(['speaker_ID', 'speaker_age', 'speaker_gender', 'speaker_accent'], axis=1) \n",
    "y = train_df[['speaker_ID', 'speaker_age', 'speaker_gender', 'speaker_accent']] "
   ]
  },
  {
   "cell_type": "code",
   "execution_count": 42,
   "metadata": {},
   "outputs": [],
   "source": [
    "splitted_train_X, splitted_test_X, splitted_train_Y, splitted_test_Y = train_test_split(X, y, test_size=0.2, random_state=42)\n"
   ]
  },
  {
   "cell_type": "code",
   "execution_count": 43,
   "metadata": {},
   "outputs": [],
   "source": [
    "splitted_train_speaker_IDs = splitted_train_Y['speaker_ID']\n",
    "splitted_train_speaker_ages = splitted_train_Y['speaker_age']\n",
    "splitted_train_speaker_genders = splitted_train_Y['speaker_gender']\n",
    "splitted_train_speaker_accents = splitted_train_Y['speaker_accent']\n",
    "\n",
    "splitted_test_speaker_IDs = splitted_test_Y['speaker_ID']\n",
    "splitted_test_speaker_ages = splitted_test_Y['speaker_age']\n",
    "splitted_test_speaker_genders = splitted_test_Y['speaker_gender']\n",
    "splitted_test_speaker_accents = splitted_test_Y['speaker_accent']"
   ]
  },
  {
   "cell_type": "markdown",
   "metadata": {},
   "source": [
    "# Test dataset"
   ]
  },
  {
   "cell_type": "code",
   "execution_count": 44,
   "metadata": {},
   "outputs": [
    {
     "data": {
      "text/html": [
       "<div>\n",
       "<style scoped>\n",
       "    .dataframe tbody tr th:only-of-type {\n",
       "        vertical-align: middle;\n",
       "    }\n",
       "\n",
       "    .dataframe tbody tr th {\n",
       "        vertical-align: top;\n",
       "    }\n",
       "\n",
       "    .dataframe thead th {\n",
       "        text-align: right;\n",
       "    }\n",
       "</style>\n",
       "<table border=\"1\" class=\"dataframe\">\n",
       "  <thead>\n",
       "    <tr style=\"text-align: right;\">\n",
       "      <th></th>\n",
       "      <th>ID</th>\n",
       "      <th>feature_1</th>\n",
       "      <th>feature_2</th>\n",
       "      <th>feature_3</th>\n",
       "      <th>feature_4</th>\n",
       "      <th>feature_5</th>\n",
       "      <th>feature_6</th>\n",
       "      <th>feature_7</th>\n",
       "      <th>feature_8</th>\n",
       "      <th>feature_9</th>\n",
       "      <th>...</th>\n",
       "      <th>feature_759</th>\n",
       "      <th>feature_760</th>\n",
       "      <th>feature_761</th>\n",
       "      <th>feature_762</th>\n",
       "      <th>feature_763</th>\n",
       "      <th>feature_764</th>\n",
       "      <th>feature_765</th>\n",
       "      <th>feature_766</th>\n",
       "      <th>feature_767</th>\n",
       "      <th>feature_768</th>\n",
       "    </tr>\n",
       "  </thead>\n",
       "  <tbody>\n",
       "    <tr>\n",
       "      <th>0</th>\n",
       "      <td>1</td>\n",
       "      <td>0.124623</td>\n",
       "      <td>0.196628</td>\n",
       "      <td>0.257004</td>\n",
       "      <td>-0.156045</td>\n",
       "      <td>-0.054916</td>\n",
       "      <td>0.006071</td>\n",
       "      <td>-0.035149</td>\n",
       "      <td>-0.092019</td>\n",
       "      <td>-0.196302</td>\n",
       "      <td>...</td>\n",
       "      <td>-0.221466</td>\n",
       "      <td>0.140292</td>\n",
       "      <td>0.123622</td>\n",
       "      <td>-0.175572</td>\n",
       "      <td>-0.107030</td>\n",
       "      <td>-0.087621</td>\n",
       "      <td>-0.026501</td>\n",
       "      <td>0.139337</td>\n",
       "      <td>-0.083030</td>\n",
       "      <td>0.059507</td>\n",
       "    </tr>\n",
       "    <tr>\n",
       "      <th>1</th>\n",
       "      <td>2</td>\n",
       "      <td>0.109655</td>\n",
       "      <td>0.170158</td>\n",
       "      <td>0.227644</td>\n",
       "      <td>-0.127088</td>\n",
       "      <td>-0.044476</td>\n",
       "      <td>-0.046852</td>\n",
       "      <td>-0.090026</td>\n",
       "      <td>-0.061321</td>\n",
       "      <td>-0.227288</td>\n",
       "      <td>...</td>\n",
       "      <td>-0.204930</td>\n",
       "      <td>0.110203</td>\n",
       "      <td>0.085665</td>\n",
       "      <td>-0.286787</td>\n",
       "      <td>-0.113195</td>\n",
       "      <td>-0.057312</td>\n",
       "      <td>-0.055680</td>\n",
       "      <td>0.143939</td>\n",
       "      <td>-0.045760</td>\n",
       "      <td>0.106113</td>\n",
       "    </tr>\n",
       "    <tr>\n",
       "      <th>2</th>\n",
       "      <td>3</td>\n",
       "      <td>0.014854</td>\n",
       "      <td>0.030051</td>\n",
       "      <td>0.115092</td>\n",
       "      <td>-0.017179</td>\n",
       "      <td>0.002720</td>\n",
       "      <td>-0.011692</td>\n",
       "      <td>-0.078855</td>\n",
       "      <td>-0.042991</td>\n",
       "      <td>-0.096283</td>\n",
       "      <td>...</td>\n",
       "      <td>-0.032937</td>\n",
       "      <td>0.075821</td>\n",
       "      <td>0.030987</td>\n",
       "      <td>-0.149850</td>\n",
       "      <td>-0.003155</td>\n",
       "      <td>-0.010207</td>\n",
       "      <td>-0.001427</td>\n",
       "      <td>0.000934</td>\n",
       "      <td>-0.017069</td>\n",
       "      <td>0.048123</td>\n",
       "    </tr>\n",
       "    <tr>\n",
       "      <th>3</th>\n",
       "      <td>4</td>\n",
       "      <td>0.196893</td>\n",
       "      <td>0.113314</td>\n",
       "      <td>0.352175</td>\n",
       "      <td>-0.108499</td>\n",
       "      <td>-0.064472</td>\n",
       "      <td>-0.073239</td>\n",
       "      <td>-0.086402</td>\n",
       "      <td>0.008671</td>\n",
       "      <td>-0.342217</td>\n",
       "      <td>...</td>\n",
       "      <td>-0.255167</td>\n",
       "      <td>0.096579</td>\n",
       "      <td>0.069413</td>\n",
       "      <td>-0.215386</td>\n",
       "      <td>-0.075168</td>\n",
       "      <td>-0.035071</td>\n",
       "      <td>-0.023375</td>\n",
       "      <td>0.067768</td>\n",
       "      <td>-0.181530</td>\n",
       "      <td>0.174444</td>\n",
       "    </tr>\n",
       "    <tr>\n",
       "      <th>4</th>\n",
       "      <td>5</td>\n",
       "      <td>0.033004</td>\n",
       "      <td>0.013373</td>\n",
       "      <td>0.124001</td>\n",
       "      <td>-0.016143</td>\n",
       "      <td>0.010120</td>\n",
       "      <td>0.010635</td>\n",
       "      <td>-0.055789</td>\n",
       "      <td>-0.036282</td>\n",
       "      <td>-0.059422</td>\n",
       "      <td>...</td>\n",
       "      <td>-0.035814</td>\n",
       "      <td>0.093764</td>\n",
       "      <td>0.027321</td>\n",
       "      <td>-0.116009</td>\n",
       "      <td>0.010096</td>\n",
       "      <td>-0.042293</td>\n",
       "      <td>0.005347</td>\n",
       "      <td>0.007722</td>\n",
       "      <td>-0.007731</td>\n",
       "      <td>0.058799</td>\n",
       "    </tr>\n",
       "  </tbody>\n",
       "</table>\n",
       "<p>5 rows × 769 columns</p>\n",
       "</div>"
      ],
      "text/plain": [
       "   ID  feature_1  feature_2  feature_3  feature_4  feature_5  feature_6  \\\n",
       "0   1   0.124623   0.196628   0.257004  -0.156045  -0.054916   0.006071   \n",
       "1   2   0.109655   0.170158   0.227644  -0.127088  -0.044476  -0.046852   \n",
       "2   3   0.014854   0.030051   0.115092  -0.017179   0.002720  -0.011692   \n",
       "3   4   0.196893   0.113314   0.352175  -0.108499  -0.064472  -0.073239   \n",
       "4   5   0.033004   0.013373   0.124001  -0.016143   0.010120   0.010635   \n",
       "\n",
       "   feature_7  feature_8  feature_9  ...  feature_759  feature_760  \\\n",
       "0  -0.035149  -0.092019  -0.196302  ...    -0.221466     0.140292   \n",
       "1  -0.090026  -0.061321  -0.227288  ...    -0.204930     0.110203   \n",
       "2  -0.078855  -0.042991  -0.096283  ...    -0.032937     0.075821   \n",
       "3  -0.086402   0.008671  -0.342217  ...    -0.255167     0.096579   \n",
       "4  -0.055789  -0.036282  -0.059422  ...    -0.035814     0.093764   \n",
       "\n",
       "   feature_761  feature_762  feature_763  feature_764  feature_765  \\\n",
       "0     0.123622    -0.175572    -0.107030    -0.087621    -0.026501   \n",
       "1     0.085665    -0.286787    -0.113195    -0.057312    -0.055680   \n",
       "2     0.030987    -0.149850    -0.003155    -0.010207    -0.001427   \n",
       "3     0.069413    -0.215386    -0.075168    -0.035071    -0.023375   \n",
       "4     0.027321    -0.116009     0.010096    -0.042293     0.005347   \n",
       "\n",
       "   feature_766  feature_767  feature_768  \n",
       "0     0.139337    -0.083030     0.059507  \n",
       "1     0.143939    -0.045760     0.106113  \n",
       "2     0.000934    -0.017069     0.048123  \n",
       "3     0.067768    -0.181530     0.174444  \n",
       "4     0.007722    -0.007731     0.058799  \n",
       "\n",
       "[5 rows x 769 columns]"
      ]
     },
     "execution_count": 44,
     "metadata": {},
     "output_type": "execute_result"
    }
   ],
   "source": [
    "test_df = pd.read_csv(test_csv_file_path)\n",
    "test_df.head()"
   ]
  },
  {
   "cell_type": "code",
   "execution_count": 45,
   "metadata": {},
   "outputs": [
    {
     "data": {
      "text/plain": [
       "ID               int64\n",
       "feature_1      float64\n",
       "feature_2      float64\n",
       "feature_3      float64\n",
       "feature_4      float64\n",
       "                ...   \n",
       "feature_764    float64\n",
       "feature_765    float64\n",
       "feature_766    float64\n",
       "feature_767    float64\n",
       "feature_768    float64\n",
       "Length: 769, dtype: object"
      ]
     },
     "execution_count": 45,
     "metadata": {},
     "output_type": "execute_result"
    }
   ],
   "source": [
    "# get type of each column\n",
    "test_df.dtypes"
   ]
  },
  {
   "cell_type": "code",
   "execution_count": 46,
   "metadata": {},
   "outputs": [
    {
     "data": {
      "text/plain": [
       "ID             False\n",
       "feature_1      False\n",
       "feature_2      False\n",
       "feature_3      False\n",
       "feature_4      False\n",
       "               ...  \n",
       "feature_764    False\n",
       "feature_765    False\n",
       "feature_766    False\n",
       "feature_767    False\n",
       "feature_768    False\n",
       "Length: 769, dtype: bool"
      ]
     },
     "execution_count": 46,
     "metadata": {},
     "output_type": "execute_result"
    }
   ],
   "source": [
    "test_df.isna().any()"
   ]
  },
  {
   "cell_type": "code",
   "execution_count": 47,
   "metadata": {},
   "outputs": [
    {
     "data": {
      "text/plain": [
       "0"
      ]
     },
     "execution_count": 47,
     "metadata": {},
     "output_type": "execute_result"
    }
   ],
   "source": [
    "test_df.isnull().sum().sum()\n",
    "\n",
    "# based on above output we can see that there are no missing values in the test dataset"
   ]
  },
  {
   "cell_type": "code",
   "execution_count": 48,
   "metadata": {},
   "outputs": [
    {
     "name": "stdout",
     "output_type": "stream",
     "text": [
      "test dataset shape: (744, 768)\n"
     ]
    },
    {
     "data": {
      "text/html": [
       "<div>\n",
       "<style scoped>\n",
       "    .dataframe tbody tr th:only-of-type {\n",
       "        vertical-align: middle;\n",
       "    }\n",
       "\n",
       "    .dataframe tbody tr th {\n",
       "        vertical-align: top;\n",
       "    }\n",
       "\n",
       "    .dataframe thead th {\n",
       "        text-align: right;\n",
       "    }\n",
       "</style>\n",
       "<table border=\"1\" class=\"dataframe\">\n",
       "  <thead>\n",
       "    <tr style=\"text-align: right;\">\n",
       "      <th></th>\n",
       "      <th>feature_1</th>\n",
       "      <th>feature_2</th>\n",
       "      <th>feature_3</th>\n",
       "      <th>feature_4</th>\n",
       "      <th>feature_5</th>\n",
       "      <th>feature_6</th>\n",
       "      <th>feature_7</th>\n",
       "      <th>feature_8</th>\n",
       "      <th>feature_9</th>\n",
       "      <th>feature_10</th>\n",
       "      <th>...</th>\n",
       "      <th>feature_759</th>\n",
       "      <th>feature_760</th>\n",
       "      <th>feature_761</th>\n",
       "      <th>feature_762</th>\n",
       "      <th>feature_763</th>\n",
       "      <th>feature_764</th>\n",
       "      <th>feature_765</th>\n",
       "      <th>feature_766</th>\n",
       "      <th>feature_767</th>\n",
       "      <th>feature_768</th>\n",
       "    </tr>\n",
       "  </thead>\n",
       "  <tbody>\n",
       "    <tr>\n",
       "      <th>0</th>\n",
       "      <td>0.124623</td>\n",
       "      <td>0.196628</td>\n",
       "      <td>0.257004</td>\n",
       "      <td>-0.156045</td>\n",
       "      <td>-0.054916</td>\n",
       "      <td>0.006071</td>\n",
       "      <td>-0.035149</td>\n",
       "      <td>-0.092019</td>\n",
       "      <td>-0.196302</td>\n",
       "      <td>0.077971</td>\n",
       "      <td>...</td>\n",
       "      <td>-0.221466</td>\n",
       "      <td>0.140292</td>\n",
       "      <td>0.123622</td>\n",
       "      <td>-0.175572</td>\n",
       "      <td>-0.107030</td>\n",
       "      <td>-0.087621</td>\n",
       "      <td>-0.026501</td>\n",
       "      <td>0.139337</td>\n",
       "      <td>-0.083030</td>\n",
       "      <td>0.059507</td>\n",
       "    </tr>\n",
       "    <tr>\n",
       "      <th>1</th>\n",
       "      <td>0.109655</td>\n",
       "      <td>0.170158</td>\n",
       "      <td>0.227644</td>\n",
       "      <td>-0.127088</td>\n",
       "      <td>-0.044476</td>\n",
       "      <td>-0.046852</td>\n",
       "      <td>-0.090026</td>\n",
       "      <td>-0.061321</td>\n",
       "      <td>-0.227288</td>\n",
       "      <td>0.066863</td>\n",
       "      <td>...</td>\n",
       "      <td>-0.204930</td>\n",
       "      <td>0.110203</td>\n",
       "      <td>0.085665</td>\n",
       "      <td>-0.286787</td>\n",
       "      <td>-0.113195</td>\n",
       "      <td>-0.057312</td>\n",
       "      <td>-0.055680</td>\n",
       "      <td>0.143939</td>\n",
       "      <td>-0.045760</td>\n",
       "      <td>0.106113</td>\n",
       "    </tr>\n",
       "    <tr>\n",
       "      <th>2</th>\n",
       "      <td>0.014854</td>\n",
       "      <td>0.030051</td>\n",
       "      <td>0.115092</td>\n",
       "      <td>-0.017179</td>\n",
       "      <td>0.002720</td>\n",
       "      <td>-0.011692</td>\n",
       "      <td>-0.078855</td>\n",
       "      <td>-0.042991</td>\n",
       "      <td>-0.096283</td>\n",
       "      <td>0.042701</td>\n",
       "      <td>...</td>\n",
       "      <td>-0.032937</td>\n",
       "      <td>0.075821</td>\n",
       "      <td>0.030987</td>\n",
       "      <td>-0.149850</td>\n",
       "      <td>-0.003155</td>\n",
       "      <td>-0.010207</td>\n",
       "      <td>-0.001427</td>\n",
       "      <td>0.000934</td>\n",
       "      <td>-0.017069</td>\n",
       "      <td>0.048123</td>\n",
       "    </tr>\n",
       "    <tr>\n",
       "      <th>3</th>\n",
       "      <td>0.196893</td>\n",
       "      <td>0.113314</td>\n",
       "      <td>0.352175</td>\n",
       "      <td>-0.108499</td>\n",
       "      <td>-0.064472</td>\n",
       "      <td>-0.073239</td>\n",
       "      <td>-0.086402</td>\n",
       "      <td>0.008671</td>\n",
       "      <td>-0.342217</td>\n",
       "      <td>0.104941</td>\n",
       "      <td>...</td>\n",
       "      <td>-0.255167</td>\n",
       "      <td>0.096579</td>\n",
       "      <td>0.069413</td>\n",
       "      <td>-0.215386</td>\n",
       "      <td>-0.075168</td>\n",
       "      <td>-0.035071</td>\n",
       "      <td>-0.023375</td>\n",
       "      <td>0.067768</td>\n",
       "      <td>-0.181530</td>\n",
       "      <td>0.174444</td>\n",
       "    </tr>\n",
       "    <tr>\n",
       "      <th>4</th>\n",
       "      <td>0.033004</td>\n",
       "      <td>0.013373</td>\n",
       "      <td>0.124001</td>\n",
       "      <td>-0.016143</td>\n",
       "      <td>0.010120</td>\n",
       "      <td>0.010635</td>\n",
       "      <td>-0.055789</td>\n",
       "      <td>-0.036282</td>\n",
       "      <td>-0.059422</td>\n",
       "      <td>0.060278</td>\n",
       "      <td>...</td>\n",
       "      <td>-0.035814</td>\n",
       "      <td>0.093764</td>\n",
       "      <td>0.027321</td>\n",
       "      <td>-0.116009</td>\n",
       "      <td>0.010096</td>\n",
       "      <td>-0.042293</td>\n",
       "      <td>0.005347</td>\n",
       "      <td>0.007722</td>\n",
       "      <td>-0.007731</td>\n",
       "      <td>0.058799</td>\n",
       "    </tr>\n",
       "  </tbody>\n",
       "</table>\n",
       "<p>5 rows × 768 columns</p>\n",
       "</div>"
      ],
      "text/plain": [
       "   feature_1  feature_2  feature_3  feature_4  feature_5  feature_6  \\\n",
       "0   0.124623   0.196628   0.257004  -0.156045  -0.054916   0.006071   \n",
       "1   0.109655   0.170158   0.227644  -0.127088  -0.044476  -0.046852   \n",
       "2   0.014854   0.030051   0.115092  -0.017179   0.002720  -0.011692   \n",
       "3   0.196893   0.113314   0.352175  -0.108499  -0.064472  -0.073239   \n",
       "4   0.033004   0.013373   0.124001  -0.016143   0.010120   0.010635   \n",
       "\n",
       "   feature_7  feature_8  feature_9  feature_10  ...  feature_759  feature_760  \\\n",
       "0  -0.035149  -0.092019  -0.196302    0.077971  ...    -0.221466     0.140292   \n",
       "1  -0.090026  -0.061321  -0.227288    0.066863  ...    -0.204930     0.110203   \n",
       "2  -0.078855  -0.042991  -0.096283    0.042701  ...    -0.032937     0.075821   \n",
       "3  -0.086402   0.008671  -0.342217    0.104941  ...    -0.255167     0.096579   \n",
       "4  -0.055789  -0.036282  -0.059422    0.060278  ...    -0.035814     0.093764   \n",
       "\n",
       "   feature_761  feature_762  feature_763  feature_764  feature_765  \\\n",
       "0     0.123622    -0.175572    -0.107030    -0.087621    -0.026501   \n",
       "1     0.085665    -0.286787    -0.113195    -0.057312    -0.055680   \n",
       "2     0.030987    -0.149850    -0.003155    -0.010207    -0.001427   \n",
       "3     0.069413    -0.215386    -0.075168    -0.035071    -0.023375   \n",
       "4     0.027321    -0.116009     0.010096    -0.042293     0.005347   \n",
       "\n",
       "   feature_766  feature_767  feature_768  \n",
       "0     0.139337    -0.083030     0.059507  \n",
       "1     0.143939    -0.045760     0.106113  \n",
       "2     0.000934    -0.017069     0.048123  \n",
       "3     0.067768    -0.181530     0.174444  \n",
       "4     0.007722    -0.007731     0.058799  \n",
       "\n",
       "[5 rows x 768 columns]"
      ]
     },
     "execution_count": 48,
     "metadata": {},
     "output_type": "execute_result"
    }
   ],
   "source": [
    "test_X = test_df.drop([\"ID\"], axis=1)\n",
    "print(\"test dataset shape:\", test_X.shape)\n",
    "test_X.head()"
   ]
  },
  {
   "cell_type": "markdown",
   "metadata": {},
   "source": [
    "# Developing the Pipelines"
   ]
  },
  {
   "cell_type": "code",
   "execution_count": 49,
   "metadata": {},
   "outputs": [],
   "source": [
    "# Let's now develop pipelines to predict the speaker ID, speaker age, speaker gender, and speaker accent. \n",
    "from sklearn.pipeline import Pipeline\n",
    "from sklearn.preprocessing import StandardScaler\n",
    "from sklearn.linear_model import LogisticRegression\n",
    "from sklearn.model_selection import train_test_split, RandomizedSearchCV\n",
    "from sklearn.metrics import accuracy_score\n",
    "from sklearn.decomposition import PCA\n",
    "from sklearn.svm import SVC\n",
    "from sklearn.feature_selection import SelectFromModel\n",
    "from sklearn.linear_model import LogisticRegression\n",
    "from sklearn.feature_selection import RFECV\n",
    "from sklearn.svm import LinearSVC\n",
    "from sklearn.feature_selection import VarianceThreshold\n",
    "from sklearn.model_selection import GridSearchCV\n",
    "from sklearn.metrics import classification_report\n",
    "from sklearn.neighbors import KNeighborsClassifier\n",
    "from sklearn.ensemble import GradientBoostingClassifier\n",
    "from sklearn.ensemble import RandomForestClassifier"
   ]
  },
  {
   "cell_type": "markdown",
   "metadata": {},
   "source": [
    "## For Speaker_IDs"
   ]
  },
  {
   "cell_type": "code",
   "execution_count": 50,
   "metadata": {},
   "outputs": [],
   "source": [
    "# #  StandardScaler => For ensuring that all features have the same scale, which is often crucial for the proper functioning of many machine learning algorithms.\n",
    "# #  PCA => For dimensionality reduction\n",
    "# #  SVC => Support Vector Classifier\n",
    "\n",
    "# # Pipeline for speaker ID prediction without feature engineering (to check raw accuracy)\n",
    "# speaker_ID_pipe_svc = Pipeline([ \n",
    "#     ('clf', SVC())\n",
    "#     ])\n",
    "\n",
    "\n",
    "# # Pipleline for speaker ID prediction with PCA for feature reduction\n",
    "# speaker_ID_pipe_scaler_pca_svc = Pipeline([\n",
    "#     ('scaler', StandardScaler()),\n",
    "#     ('pca', PCA(n_components=0.95)),\n",
    "#     ('clf', SVC())\n",
    "#     ])\n",
    "\n",
    "# # Pipleline for speaker ID prediction with Model-based feature reduction\n",
    "# speaker_ID_pipe_scaler_sfmlr_svc = Pipeline([\n",
    "#     ('scaler', StandardScaler()),\n",
    "#     ('SFM_LR', SelectFromModel(LogisticRegression(C=0.01, penalty='l1', solver='liblinear', class_weight='balanced'))),\n",
    "#     ('clf', SVC())  \n",
    "# ])"
   ]
  },
  {
   "cell_type": "code",
   "execution_count": 52,
   "metadata": {},
   "outputs": [],
   "source": [
    "p1 = Pipeline([\n",
    "    ('scaler', StandardScaler()),\n",
    "    ('classifier', LogisticRegression())\n",
    "])\n",
    "\n",
    "p2 = Pipeline([\n",
    "    ('scaler', StandardScaler()),\n",
    "    ('classifier', SVC())\n",
    "])\n",
    "\n",
    "p3 = Pipeline([\n",
    "    ('classifier', RandomForestClassifier())\n",
    "])\n",
    "\n",
    "p5 = Pipeline([\n",
    "    ('scaler', StandardScaler()),\n",
    "    ('classifier', KNeighborsClassifier())\n",
    "])"
   ]
  },
  {
   "cell_type": "code",
   "execution_count": 53,
   "metadata": {},
   "outputs": [],
   "source": [
    "##visualize Pipeline\n",
    "from sklearn import set_config\n",
    "set_config(display='diagram')"
   ]
  },
  {
   "cell_type": "code",
   "execution_count": 54,
   "metadata": {},
   "outputs": [
    {
     "data": {
      "text/plain": [
       "((28520, 768), (28520,), (28520,), (28520,))"
      ]
     },
     "execution_count": 54,
     "metadata": {},
     "output_type": "execute_result"
    }
   ],
   "source": [
    "train_X.shape, train_speaker_IDs.shape, train_speaker_genders.shape, train_speaker_accents.shape"
   ]
  },
  {
   "cell_type": "markdown",
   "metadata": {},
   "source": [
    "### Training"
   ]
  },
  {
   "cell_type": "code",
   "execution_count": 55,
   "metadata": {},
   "outputs": [
    {
     "name": "stdout",
     "output_type": "stream",
     "text": [
      "Logistic Regression:\n"
     ]
    },
    {
     "name": "stderr",
     "output_type": "stream",
     "text": [
      "C:\\Users\\Owner\\AppData\\Roaming\\Python\\Python39\\site-packages\\sklearn\\linear_model\\_logistic.py:458: ConvergenceWarning: lbfgs failed to converge (status=1):\n",
      "STOP: TOTAL NO. of ITERATIONS REACHED LIMIT.\n",
      "\n",
      "Increase the number of iterations (max_iter) or scale the data as shown in:\n",
      "    https://scikit-learn.org/stable/modules/preprocessing.html\n",
      "Please also refer to the documentation for alternative solver options:\n",
      "    https://scikit-learn.org/stable/modules/linear_model.html#logistic-regression\n",
      "  n_iter_i = _check_optimize_result(\n"
     ]
    },
    {
     "name": "stdout",
     "output_type": "stream",
     "text": [
      "0.06533333333333333\n",
      "SVC:\n",
      "0.018666666666666668\n",
      "RandomForestClassifier:\n",
      "0.05333333333333334\n",
      "KNeighborsClassifier:\n",
      "0.19066666666666668\n"
     ]
    }
   ],
   "source": [
    "print(\"Logistic Regression:\")\n",
    "p1.fit(train_X, train_speaker_IDs)\n",
    "print(p1.score(valid_X, valid_speaker_IDs))\n",
    "\n",
    "print(\"SVC:\")\n",
    "p2.fit(train_X, train_speaker_IDs)\n",
    "print(p2.score(valid_X, valid_speaker_IDs))\n",
    "\n",
    "print(\"RandomForestClassifier:\")\n",
    "p3.fit(train_X, train_speaker_IDs)\n",
    "print(p3.score(valid_X, valid_speaker_IDs))\n",
    "\n",
    "print(\"KNeighborsClassifier:\")\n",
    "p5.fit(train_X, train_speaker_IDs)\n",
    "print(p5.score(valid_X, valid_speaker_IDs))"
   ]
  },
  {
   "cell_type": "code",
   "execution_count": null,
   "metadata": {},
   "outputs": [],
   "source": [
    "## FROM ABOVE EXPERIMENTES p1 (KNeighborsClassifier is better)"
   ]
  },
  {
   "cell_type": "code",
   "execution_count": 56,
   "metadata": {},
   "outputs": [
    {
     "name": "stdout",
     "output_type": "stream",
     "text": [
      "0.248\n"
     ]
    }
   ],
   "source": [
    "## let's check without feature scaling\n",
    "speaker_ID_pipe_knn = Pipeline([\n",
    "    # ('scaler', StandardScaler()),\n",
    "    ('classifier', KNeighborsClassifier())\n",
    "])\n",
    "\n",
    "speaker_ID_pipe_knn.fit(train_X, train_speaker_IDs)\n",
    "print(speaker_ID_pipe_knn.score(valid_X, valid_speaker_IDs))"
   ]
  },
  {
   "cell_type": "code",
   "execution_count": null,
   "metadata": {},
   "outputs": [],
   "source": [
    "# Accuracy improved ==> Therefore scaling will not be kept \n",
    "# ==> Best acc right now: 0.248 (speaker_ID_pipe_knn)\n",
    "# let's now try some feature eng techniques "
   ]
  },
  {
   "cell_type": "code",
   "execution_count": 57,
   "metadata": {},
   "outputs": [
    {
     "name": "stdout",
     "output_type": "stream",
     "text": [
      "0.22133333333333333\n"
     ]
    }
   ],
   "source": [
    "speaker_ID_pipe_pca_knn = Pipeline([\n",
    "    # ('scaler', StandardScaler()),\n",
    "    (\"pca\", PCA(n_components=0.95)),\n",
    "    ('classifier', KNeighborsClassifier())\n",
    "])\n",
    "\n",
    "speaker_ID_pipe_pca_knn.fit(train_X, train_speaker_IDs)\n",
    "print(speaker_ID_pipe_pca_knn.score(valid_X, valid_speaker_IDs))\n",
    "\n",
    "# Conclusion after running \n",
    "# => acc dropped \n",
    "# ==> Best acc right now: 0.248 (speaker_ID_pipe_knn)"
   ]
  },
  {
   "cell_type": "code",
   "execution_count": 58,
   "metadata": {},
   "outputs": [
    {
     "name": "stdout",
     "output_type": "stream",
     "text": [
      "0.17333333333333334\n"
     ]
    }
   ],
   "source": [
    "speaker_ID_pipe_scaler_pca_knn = Pipeline([\n",
    "    ('scaler', StandardScaler()),\n",
    "    (\"pca\", PCA(n_components=0.95)),\n",
    "    ('classifier', KNeighborsClassifier())\n",
    "])\n",
    "\n",
    "speaker_ID_pipe_scaler_pca_knn.fit(train_X, train_speaker_IDs)\n",
    "print(speaker_ID_pipe_scaler_pca_knn.score(valid_X, valid_speaker_IDs))\n",
    "\n",
    "# Conclusion after running \n",
    "# => acc dropped \n",
    "# ==> Best acc right now: 0.248 (speaker_ID_pipe_knn)"
   ]
  },
  {
   "cell_type": "code",
   "execution_count": 59,
   "metadata": {},
   "outputs": [
    {
     "name": "stdout",
     "output_type": "stream",
     "text": [
      "0.17866666666666667\n"
     ]
    }
   ],
   "source": [
    "speaker_ID_pipe_scaler_sfm_lr = Pipeline([\n",
    "    ('scaler', StandardScaler()),\n",
    "    ('SFM_LR', SelectFromModel(LogisticRegression(C=0.01, penalty='l1', solver='liblinear', class_weight='balanced'))),\n",
    "    ('classifier', KNeighborsClassifier())\n",
    "])\n",
    "\n",
    "speaker_ID_pipe_scaler_sfm_lr.fit(train_X, train_speaker_IDs)\n",
    "print(speaker_ID_pipe_scaler_sfm_lr.score(valid_X, valid_speaker_IDs))\n",
    "\n",
    "# Conclusion after running \n",
    "# => acc dropped\n",
    "# ==> Best acc right now: 0.248 (speaker_ID_pipe_knn)"
   ]
  },
  {
   "cell_type": "code",
   "execution_count": 60,
   "metadata": {},
   "outputs": [
    {
     "name": "stdout",
     "output_type": "stream",
     "text": [
      "0.017333333333333333\n"
     ]
    }
   ],
   "source": [
    "speaker_ID_sfmlr_knn = Pipeline([\n",
    "    # ('scaler', StandardScaler()),\n",
    "    ('SFM_LR', SelectFromModel(LogisticRegression(C=0.01, penalty='l1', solver='liblinear', class_weight='balanced'))),\n",
    "    ('classifier', KNeighborsClassifier())\n",
    "])\n",
    "\n",
    "speaker_ID_sfmlr_knn.fit(train_X, train_speaker_IDs)\n",
    "print(speaker_ID_sfmlr_knn.score(valid_X, valid_speaker_IDs))\n",
    "\n",
    "# Conclusion after running \n",
    "# => acc dropped\n",
    "# ==> Best acc right now: 0.248 (speaker_ID_pipe_knn)"
   ]
  },
  {
   "cell_type": "markdown",
   "metadata": {},
   "source": [
    "### Hyperparameter tuning"
   ]
  },
  {
   "cell_type": "code",
   "execution_count": 65,
   "metadata": {},
   "outputs": [],
   "source": [
    "param_grid = {\n",
    "    'classifier__n_neighbors': np.arange(1, 21),  # Number of neighbors to consider\n",
    "    'classifier__weights': ['uniform', 'distance'],  # Weighting method\n",
    "    'classifier__p': [1, 2]  # Minkowski distance parameter (1 for Manhattan, 2 for Euclidean)\n",
    "}\n",
    "\n",
    "random_search = RandomizedSearchCV(estimator=p5, param_distributions=param_grid, n_iter=20, scoring='accuracy', cv=3, n_jobs=-1, verbose=3)"
   ]
  },
  {
   "cell_type": "code",
   "execution_count": 66,
   "metadata": {},
   "outputs": [
    {
     "name": "stdout",
     "output_type": "stream",
     "text": [
      "Fitting 3 folds for each of 20 candidates, totalling 60 fits\n"
     ]
    },
    {
     "data": {
      "text/html": [
       "<style>#sk-container-id-1 {color: black;background-color: white;}#sk-container-id-1 pre{padding: 0;}#sk-container-id-1 div.sk-toggleable {background-color: white;}#sk-container-id-1 label.sk-toggleable__label {cursor: pointer;display: block;width: 100%;margin-bottom: 0;padding: 0.3em;box-sizing: border-box;text-align: center;}#sk-container-id-1 label.sk-toggleable__label-arrow:before {content: \"▸\";float: left;margin-right: 0.25em;color: #696969;}#sk-container-id-1 label.sk-toggleable__label-arrow:hover:before {color: black;}#sk-container-id-1 div.sk-estimator:hover label.sk-toggleable__label-arrow:before {color: black;}#sk-container-id-1 div.sk-toggleable__content {max-height: 0;max-width: 0;overflow: hidden;text-align: left;background-color: #f0f8ff;}#sk-container-id-1 div.sk-toggleable__content pre {margin: 0.2em;color: black;border-radius: 0.25em;background-color: #f0f8ff;}#sk-container-id-1 input.sk-toggleable__control:checked~div.sk-toggleable__content {max-height: 200px;max-width: 100%;overflow: auto;}#sk-container-id-1 input.sk-toggleable__control:checked~label.sk-toggleable__label-arrow:before {content: \"▾\";}#sk-container-id-1 div.sk-estimator input.sk-toggleable__control:checked~label.sk-toggleable__label {background-color: #d4ebff;}#sk-container-id-1 div.sk-label input.sk-toggleable__control:checked~label.sk-toggleable__label {background-color: #d4ebff;}#sk-container-id-1 input.sk-hidden--visually {border: 0;clip: rect(1px 1px 1px 1px);clip: rect(1px, 1px, 1px, 1px);height: 1px;margin: -1px;overflow: hidden;padding: 0;position: absolute;width: 1px;}#sk-container-id-1 div.sk-estimator {font-family: monospace;background-color: #f0f8ff;border: 1px dotted black;border-radius: 0.25em;box-sizing: border-box;margin-bottom: 0.5em;}#sk-container-id-1 div.sk-estimator:hover {background-color: #d4ebff;}#sk-container-id-1 div.sk-parallel-item::after {content: \"\";width: 100%;border-bottom: 1px solid gray;flex-grow: 1;}#sk-container-id-1 div.sk-label:hover label.sk-toggleable__label {background-color: #d4ebff;}#sk-container-id-1 div.sk-serial::before {content: \"\";position: absolute;border-left: 1px solid gray;box-sizing: border-box;top: 0;bottom: 0;left: 50%;z-index: 0;}#sk-container-id-1 div.sk-serial {display: flex;flex-direction: column;align-items: center;background-color: white;padding-right: 0.2em;padding-left: 0.2em;position: relative;}#sk-container-id-1 div.sk-item {position: relative;z-index: 1;}#sk-container-id-1 div.sk-parallel {display: flex;align-items: stretch;justify-content: center;background-color: white;position: relative;}#sk-container-id-1 div.sk-item::before, #sk-container-id-1 div.sk-parallel-item::before {content: \"\";position: absolute;border-left: 1px solid gray;box-sizing: border-box;top: 0;bottom: 0;left: 50%;z-index: -1;}#sk-container-id-1 div.sk-parallel-item {display: flex;flex-direction: column;z-index: 1;position: relative;background-color: white;}#sk-container-id-1 div.sk-parallel-item:first-child::after {align-self: flex-end;width: 50%;}#sk-container-id-1 div.sk-parallel-item:last-child::after {align-self: flex-start;width: 50%;}#sk-container-id-1 div.sk-parallel-item:only-child::after {width: 0;}#sk-container-id-1 div.sk-dashed-wrapped {border: 1px dashed gray;margin: 0 0.4em 0.5em 0.4em;box-sizing: border-box;padding-bottom: 0.4em;background-color: white;}#sk-container-id-1 div.sk-label label {font-family: monospace;font-weight: bold;display: inline-block;line-height: 1.2em;}#sk-container-id-1 div.sk-label-container {text-align: center;}#sk-container-id-1 div.sk-container {/* jupyter's `normalize.less` sets `[hidden] { display: none; }` but bootstrap.min.css set `[hidden] { display: none !important; }` so we also need the `!important` here to be able to override the default hidden behavior on the sphinx rendered scikit-learn.org. See: https://github.com/scikit-learn/scikit-learn/issues/21755 */display: inline-block !important;position: relative;}#sk-container-id-1 div.sk-text-repr-fallback {display: none;}</style><div id=\"sk-container-id-1\" class=\"sk-top-container\"><div class=\"sk-text-repr-fallback\"><pre>RandomizedSearchCV(cv=3,\n",
       "                   estimator=Pipeline(steps=[(&#x27;scaler&#x27;, StandardScaler()),\n",
       "                                             (&#x27;classifier&#x27;,\n",
       "                                              KNeighborsClassifier())]),\n",
       "                   n_iter=20, n_jobs=-1,\n",
       "                   param_distributions={&#x27;classifier__n_neighbors&#x27;: array([ 1,  2,  3,  4,  5,  6,  7,  8,  9, 10, 11, 12, 13, 14, 15, 16, 17,\n",
       "       18, 19, 20]),\n",
       "                                        &#x27;classifier__p&#x27;: [1, 2],\n",
       "                                        &#x27;classifier__weights&#x27;: [&#x27;uniform&#x27;,\n",
       "                                                                &#x27;distance&#x27;]},\n",
       "                   scoring=&#x27;accuracy&#x27;, verbose=3)</pre><b>In a Jupyter environment, please rerun this cell to show the HTML representation or trust the notebook. <br />On GitHub, the HTML representation is unable to render, please try loading this page with nbviewer.org.</b></div><div class=\"sk-container\" hidden><div class=\"sk-item sk-dashed-wrapped\"><div class=\"sk-label-container\"><div class=\"sk-label sk-toggleable\"><input class=\"sk-toggleable__control sk-hidden--visually\" id=\"sk-estimator-id-1\" type=\"checkbox\" ><label for=\"sk-estimator-id-1\" class=\"sk-toggleable__label sk-toggleable__label-arrow\">RandomizedSearchCV</label><div class=\"sk-toggleable__content\"><pre>RandomizedSearchCV(cv=3,\n",
       "                   estimator=Pipeline(steps=[(&#x27;scaler&#x27;, StandardScaler()),\n",
       "                                             (&#x27;classifier&#x27;,\n",
       "                                              KNeighborsClassifier())]),\n",
       "                   n_iter=20, n_jobs=-1,\n",
       "                   param_distributions={&#x27;classifier__n_neighbors&#x27;: array([ 1,  2,  3,  4,  5,  6,  7,  8,  9, 10, 11, 12, 13, 14, 15, 16, 17,\n",
       "       18, 19, 20]),\n",
       "                                        &#x27;classifier__p&#x27;: [1, 2],\n",
       "                                        &#x27;classifier__weights&#x27;: [&#x27;uniform&#x27;,\n",
       "                                                                &#x27;distance&#x27;]},\n",
       "                   scoring=&#x27;accuracy&#x27;, verbose=3)</pre></div></div></div><div class=\"sk-parallel\"><div class=\"sk-parallel-item\"><div class=\"sk-item\"><div class=\"sk-label-container\"><div class=\"sk-label sk-toggleable\"><input class=\"sk-toggleable__control sk-hidden--visually\" id=\"sk-estimator-id-2\" type=\"checkbox\" ><label for=\"sk-estimator-id-2\" class=\"sk-toggleable__label sk-toggleable__label-arrow\">estimator: Pipeline</label><div class=\"sk-toggleable__content\"><pre>Pipeline(steps=[(&#x27;scaler&#x27;, StandardScaler()),\n",
       "                (&#x27;classifier&#x27;, KNeighborsClassifier())])</pre></div></div></div><div class=\"sk-serial\"><div class=\"sk-item\"><div class=\"sk-serial\"><div class=\"sk-item\"><div class=\"sk-estimator sk-toggleable\"><input class=\"sk-toggleable__control sk-hidden--visually\" id=\"sk-estimator-id-3\" type=\"checkbox\" ><label for=\"sk-estimator-id-3\" class=\"sk-toggleable__label sk-toggleable__label-arrow\">StandardScaler</label><div class=\"sk-toggleable__content\"><pre>StandardScaler()</pre></div></div></div><div class=\"sk-item\"><div class=\"sk-estimator sk-toggleable\"><input class=\"sk-toggleable__control sk-hidden--visually\" id=\"sk-estimator-id-4\" type=\"checkbox\" ><label for=\"sk-estimator-id-4\" class=\"sk-toggleable__label sk-toggleable__label-arrow\">KNeighborsClassifier</label><div class=\"sk-toggleable__content\"><pre>KNeighborsClassifier()</pre></div></div></div></div></div></div></div></div></div></div></div></div>"
      ],
      "text/plain": [
       "RandomizedSearchCV(cv=3,\n",
       "                   estimator=Pipeline(steps=[('scaler', StandardScaler()),\n",
       "                                             ('classifier',\n",
       "                                              KNeighborsClassifier())]),\n",
       "                   n_iter=20, n_jobs=-1,\n",
       "                   param_distributions={'classifier__n_neighbors': array([ 1,  2,  3,  4,  5,  6,  7,  8,  9, 10, 11, 12, 13, 14, 15, 16, 17,\n",
       "       18, 19, 20]),\n",
       "                                        'classifier__p': [1, 2],\n",
       "                                        'classifier__weights': ['uniform',\n",
       "                                                                'distance']},\n",
       "                   scoring='accuracy', verbose=3)"
      ]
     },
     "execution_count": 66,
     "metadata": {},
     "output_type": "execute_result"
    }
   ],
   "source": [
    "random_search.fit(train_X, train_speaker_IDs)"
   ]
  },
  {
   "cell_type": "code",
   "execution_count": 67,
   "metadata": {},
   "outputs": [
    {
     "name": "stdout",
     "output_type": "stream",
     "text": [
      "Best Hyperparameters:  {'classifier__weights': 'distance', 'classifier__p': 2, 'classifier__n_neighbors': 9}\n"
     ]
    }
   ],
   "source": [
    "print(\"Best Hyperparameters: \", random_search.best_params_)"
   ]
  },
  {
   "cell_type": "code",
   "execution_count": 68,
   "metadata": {},
   "outputs": [
    {
     "name": "stdout",
     "output_type": "stream",
     "text": [
      "0.24933333333333332\n"
     ]
    }
   ],
   "source": [
    "best_classifier__weights = 'distance' \n",
    "best_classifier__p = 2 \n",
    "best_classifier__n_neighbors = 9\n",
    "\n",
    "best_speaker_ID_knn = Pipeline([\n",
    "    ('classifier', KNeighborsClassifier(weights=best_classifier__weights, p=best_classifier__p, n_neighbors=best_classifier__n_neighbors))\n",
    "])\n",
    "\n",
    "best_speaker_ID_knn.fit(train_X, train_speaker_IDs)\n",
    "print(best_speaker_ID_knn.score(valid_X, valid_speaker_IDs))\n",
    "\n",
    "# Acc increased\n",
    "# ==> Best acc right now: 0.249333 (best_speaker_ID_knn)"
   ]
  },
  {
   "cell_type": "markdown",
   "metadata": {},
   "source": [
    "### Prediction on test data "
   ]
  },
  {
   "cell_type": "code",
   "execution_count": 69,
   "metadata": {},
   "outputs": [
    {
     "name": "stdout",
     "output_type": "stream",
     "text": [
      "(744,)\n"
     ]
    }
   ],
   "source": [
    "# Let's use best performing pipeline to make predictions for the test data\n",
    "pred_test = best_speaker_ID_knn.predict(test_X)\n",
    "print(pred_test.shape)"
   ]
  },
  {
   "cell_type": "code",
   "execution_count": 70,
   "metadata": {},
   "outputs": [
    {
     "data": {
      "text/html": [
       "<div>\n",
       "<style scoped>\n",
       "    .dataframe tbody tr th:only-of-type {\n",
       "        vertical-align: middle;\n",
       "    }\n",
       "\n",
       "    .dataframe tbody tr th {\n",
       "        vertical-align: top;\n",
       "    }\n",
       "\n",
       "    .dataframe thead th {\n",
       "        text-align: right;\n",
       "    }\n",
       "</style>\n",
       "<table border=\"1\" class=\"dataframe\">\n",
       "  <thead>\n",
       "    <tr style=\"text-align: right;\">\n",
       "      <th></th>\n",
       "      <th>label_1</th>\n",
       "    </tr>\n",
       "  </thead>\n",
       "  <tbody>\n",
       "    <tr>\n",
       "      <th>0</th>\n",
       "      <td>26</td>\n",
       "    </tr>\n",
       "    <tr>\n",
       "      <th>1</th>\n",
       "      <td>18</td>\n",
       "    </tr>\n",
       "    <tr>\n",
       "      <th>2</th>\n",
       "      <td>16</td>\n",
       "    </tr>\n",
       "    <tr>\n",
       "      <th>3</th>\n",
       "      <td>7</td>\n",
       "    </tr>\n",
       "    <tr>\n",
       "      <th>4</th>\n",
       "      <td>58</td>\n",
       "    </tr>\n",
       "  </tbody>\n",
       "</table>\n",
       "</div>"
      ],
      "text/plain": [
       "   label_1\n",
       "0       26\n",
       "1       18\n",
       "2       16\n",
       "3        7\n",
       "4       58"
      ]
     },
     "execution_count": 70,
     "metadata": {},
     "output_type": "execute_result"
    }
   ],
   "source": [
    "pred_test = pd.DataFrame(pred_test, columns=['label_1'])\n",
    "pred_test.head()"
   ]
  },
  {
   "cell_type": "code",
   "execution_count": 71,
   "metadata": {},
   "outputs": [],
   "source": [
    "if \"ID\" not in pred_test.columns:\n",
    "    pred_test.insert(0, \"ID\", test_df['ID'])\n",
    "else:\n",
    "    print(f\"Column : ID already exists\")"
   ]
  },
  {
   "cell_type": "code",
   "execution_count": 74,
   "metadata": {},
   "outputs": [
    {
     "data": {
      "text/html": [
       "<div>\n",
       "<style scoped>\n",
       "    .dataframe tbody tr th:only-of-type {\n",
       "        vertical-align: middle;\n",
       "    }\n",
       "\n",
       "    .dataframe tbody tr th {\n",
       "        vertical-align: top;\n",
       "    }\n",
       "\n",
       "    .dataframe thead th {\n",
       "        text-align: right;\n",
       "    }\n",
       "</style>\n",
       "<table border=\"1\" class=\"dataframe\">\n",
       "  <thead>\n",
       "    <tr style=\"text-align: right;\">\n",
       "      <th></th>\n",
       "      <th>ID</th>\n",
       "      <th>label_1</th>\n",
       "    </tr>\n",
       "  </thead>\n",
       "  <tbody>\n",
       "    <tr>\n",
       "      <th>0</th>\n",
       "      <td>1</td>\n",
       "      <td>26</td>\n",
       "    </tr>\n",
       "    <tr>\n",
       "      <th>1</th>\n",
       "      <td>2</td>\n",
       "      <td>18</td>\n",
       "    </tr>\n",
       "    <tr>\n",
       "      <th>2</th>\n",
       "      <td>3</td>\n",
       "      <td>16</td>\n",
       "    </tr>\n",
       "    <tr>\n",
       "      <th>3</th>\n",
       "      <td>4</td>\n",
       "      <td>7</td>\n",
       "    </tr>\n",
       "    <tr>\n",
       "      <th>4</th>\n",
       "      <td>5</td>\n",
       "      <td>58</td>\n",
       "    </tr>\n",
       "  </tbody>\n",
       "</table>\n",
       "</div>"
      ],
      "text/plain": [
       "   ID  label_1\n",
       "0   1       26\n",
       "1   2       18\n",
       "2   3       16\n",
       "3   4        7\n",
       "4   5       58"
      ]
     },
     "execution_count": 74,
     "metadata": {},
     "output_type": "execute_result"
    }
   ],
   "source": [
    "pred_test.head()"
   ]
  },
  {
   "cell_type": "markdown",
   "metadata": {},
   "source": [
    "## For Speaker_age"
   ]
  },
  {
   "cell_type": "code",
   "execution_count": 75,
   "metadata": {},
   "outputs": [],
   "source": [
    "# from xgboost import XGBClassifier\n",
    "from sklearn.ensemble import RandomForestClassifier\n",
    "from sklearn.tree import DecisionTreeClassifier\n",
    "from sklearn.pipeline import Pipeline\n",
    "from sklearn.utils import class_weight\n",
    "from sklearn.metrics import classification_report, accuracy_score\n",
    "from sklearn.preprocessing import StandardScaler\n",
    "from sklearn.decomposition import PCA\n",
    "from imblearn.over_sampling import SMOTE  "
   ]
  },
  {
   "cell_type": "code",
   "execution_count": 76,
   "metadata": {},
   "outputs": [],
   "source": [
    "#  Note: \n",
    "# There is a slight class imbalance issue in speaker_age values. As a solution we can use class_weight='balanced' parameter.\n",
    "\n",
    "# Note; hpt: forest_params = [{'max_depth': list(range(10, 15)), 'max_features': list(range(0,14))}]\n",
    "\n",
    "# use averaged F1 score \n",
    "\n",
    "# Pipeline for speaker ID prediction without feature engineering (to check raw accuracy)\n",
    "\n",
    "#Let's choose a good classifer\n",
    "\n",
    "p1 = Pipeline([\n",
    "    ('scaler', StandardScaler()),\n",
    "    ('classifier', LogisticRegression(class_weight=\"balanced\"))\n",
    "])\n",
    "\n",
    "p2 = Pipeline([\n",
    "    ('scaler', StandardScaler()),\n",
    "    ('classifier', SVC(class_weight=\"balanced\", kernel='linear'))\n",
    "])\n",
    "\n",
    "p3 = Pipeline([\n",
    "    ('scaler', StandardScaler()),\n",
    "    ('classifier', SVC(class_weight=\"balanced\", kernel='rbf'))\n",
    "])\n",
    "\n",
    "p4 = Pipeline([\n",
    "    ('classifier', RandomForestClassifier(class_weight=\"balanced\"))\n",
    "])\n",
    "\n",
    "p5 = Pipeline([\n",
    "    ('scaler', StandardScaler()),\n",
    "    ('classifier', KNeighborsClassifier())\n",
    "])"
   ]
  },
  {
   "cell_type": "code",
   "execution_count": 79,
   "metadata": {},
   "outputs": [],
   "source": [
    "##visualize Pipeline\n",
    "from sklearn import set_config\n",
    "set_config(display='diagram')"
   ]
  },
  {
   "cell_type": "markdown",
   "metadata": {},
   "source": [
    "### Training"
   ]
  },
  {
   "cell_type": "code",
   "execution_count": 80,
   "metadata": {},
   "outputs": [
    {
     "data": {
      "text/plain": [
       "<Axes: >"
      ]
     },
     "execution_count": 80,
     "metadata": {},
     "output_type": "execute_result"
    },
    {
     "data": {
      "image/png": "[encoded data removed]",
      "text/plain": [
       "<Figure size 640x480 with 1 Axes>"
      ]
     },
     "metadata": {},
     "output_type": "display_data"
    }
   ],
   "source": [
    "train_speaker_ages.value_counts().plot.bar()\n",
    "\n",
    "# Let's use class_weight=\"balanced\" to tackle the class imbalance issue \n",
    "# Also let's use weighted_avg metric (and F1) since it is a reliable metric when \n",
    "# class imbalance issue is there"
   ]
  },
  {
   "cell_type": "code",
   "execution_count": 81,
   "metadata": {},
   "outputs": [
    {
     "name": "stdout",
     "output_type": "stream",
     "text": [
      "Classifier = LogisticRegression\n"
     ]
    },
    {
     "name": "stderr",
     "output_type": "stream",
     "text": [
      "C:\\Users\\Owner\\AppData\\Roaming\\Python\\Python39\\site-packages\\sklearn\\linear_model\\_logistic.py:458: ConvergenceWarning: lbfgs failed to converge (status=1):\n",
      "STOP: TOTAL NO. of ITERATIONS REACHED LIMIT.\n",
      "\n",
      "Increase the number of iterations (max_iter) or scale the data as shown in:\n",
      "    https://scikit-learn.org/stable/modules/preprocessing.html\n",
      "Please also refer to the documentation for alternative solver options:\n",
      "    https://scikit-learn.org/stable/modules/linear_model.html#logistic-regression\n",
      "  n_iter_i = _check_optimize_result(\n",
      "C:\\Users\\Owner\\AppData\\Roaming\\Python\\Python39\\site-packages\\sklearn\\metrics\\_classification.py:1344: UndefinedMetricWarning: Precision and F-score are ill-defined and being set to 0.0 in labels with no predicted samples. Use `zero_division` parameter to control this behavior.\n",
      "  _warn_prf(average, modifier, msg_start, len(result))\n",
      "C:\\Users\\Owner\\AppData\\Roaming\\Python\\Python39\\site-packages\\sklearn\\metrics\\_classification.py:1344: UndefinedMetricWarning: Precision and F-score are ill-defined and being set to 0.0 in labels with no predicted samples. Use `zero_division` parameter to control this behavior.\n",
      "  _warn_prf(average, modifier, msg_start, len(result))\n",
      "C:\\Users\\Owner\\AppData\\Roaming\\Python\\Python39\\site-packages\\sklearn\\metrics\\_classification.py:1344: UndefinedMetricWarning: Precision and F-score are ill-defined and being set to 0.0 in labels with no predicted samples. Use `zero_division` parameter to control this behavior.\n",
      "  _warn_prf(average, modifier, msg_start, len(result))\n"
     ]
    },
    {
     "name": "stdout",
     "output_type": "stream",
     "text": [
      "              precision    recall  f1-score   support\n",
      "\n",
      "        22.0       0.19      0.22      0.21        36\n",
      "        23.0       0.31      0.06      0.10        71\n",
      "        24.0       0.12      0.04      0.06        46\n",
      "        25.0       0.00      0.00      0.00        79\n",
      "        26.0       0.18      0.24      0.20       115\n",
      "        27.0       0.23      0.23      0.23        81\n",
      "        28.0       0.08      0.03      0.05        60\n",
      "        29.0       0.00      0.00      0.00        45\n",
      "        30.0       0.00      0.00      0.00        48\n",
      "        31.0       0.11      0.23      0.15        65\n",
      "        32.0       0.17      0.36      0.24        11\n",
      "        33.0       0.05      0.10      0.07        30\n",
      "        34.0       0.08      0.18      0.11        11\n",
      "        35.0       1.00      0.27      0.43        11\n",
      "        36.0       0.04      0.75      0.07         8\n",
      "        41.0       0.12      0.07      0.09        14\n",
      "        61.0       0.00      0.00      0.00        19\n",
      "\n",
      "    accuracy                           0.13       750\n",
      "   macro avg       0.16      0.16      0.12       750\n",
      "weighted avg       0.14      0.13      0.11       750\n",
      "\n",
      "Classifier = SVC (linear)\n"
     ]
    },
    {
     "name": "stderr",
     "output_type": "stream",
     "text": [
      "C:\\Users\\Owner\\AppData\\Roaming\\Python\\Python39\\site-packages\\sklearn\\metrics\\_classification.py:1344: UndefinedMetricWarning: Precision and F-score are ill-defined and being set to 0.0 in labels with no predicted samples. Use `zero_division` parameter to control this behavior.\n",
      "  _warn_prf(average, modifier, msg_start, len(result))\n",
      "C:\\Users\\Owner\\AppData\\Roaming\\Python\\Python39\\site-packages\\sklearn\\metrics\\_classification.py:1344: UndefinedMetricWarning: Precision and F-score are ill-defined and being set to 0.0 in labels with no predicted samples. Use `zero_division` parameter to control this behavior.\n",
      "  _warn_prf(average, modifier, msg_start, len(result))\n",
      "C:\\Users\\Owner\\AppData\\Roaming\\Python\\Python39\\site-packages\\sklearn\\metrics\\_classification.py:1344: UndefinedMetricWarning: Precision and F-score are ill-defined and being set to 0.0 in labels with no predicted samples. Use `zero_division` parameter to control this behavior.\n",
      "  _warn_prf(average, modifier, msg_start, len(result))\n"
     ]
    },
    {
     "name": "stdout",
     "output_type": "stream",
     "text": [
      "              precision    recall  f1-score   support\n",
      "\n",
      "        22.0       0.07      0.36      0.12        36\n",
      "        23.0       0.17      0.06      0.09        71\n",
      "        24.0       0.13      0.07      0.09        46\n",
      "        25.0       0.00      0.00      0.00        79\n",
      "        26.0       0.50      0.02      0.03       115\n",
      "        27.0       0.20      0.28      0.23        81\n",
      "        28.0       0.29      0.03      0.06        60\n",
      "        29.0       0.00      0.00      0.00        45\n",
      "        30.0       0.00      0.00      0.00        48\n",
      "        31.0       0.00      0.00      0.00        65\n",
      "        32.0       0.07      0.55      0.13        11\n",
      "        33.0       0.11      0.23      0.15        30\n",
      "        34.0       0.10      0.18      0.13        11\n",
      "        35.0       0.50      0.18      0.27        11\n",
      "        36.0       0.02      0.62      0.05         8\n",
      "        41.0       0.12      0.07      0.09        14\n",
      "        61.0       1.00      0.11      0.19        19\n",
      "\n",
      "    accuracy                           0.10       750\n",
      "   macro avg       0.19      0.16      0.10       750\n",
      "weighted avg       0.19      0.10      0.07       750\n",
      "\n",
      "Classifier = SVC (rbf)\n"
     ]
    },
    {
     "name": "stderr",
     "output_type": "stream",
     "text": [
      "C:\\Users\\Owner\\AppData\\Roaming\\Python\\Python39\\site-packages\\sklearn\\metrics\\_classification.py:1344: UndefinedMetricWarning: Precision and F-score are ill-defined and being set to 0.0 in labels with no predicted samples. Use `zero_division` parameter to control this behavior.\n",
      "  _warn_prf(average, modifier, msg_start, len(result))\n",
      "C:\\Users\\Owner\\AppData\\Roaming\\Python\\Python39\\site-packages\\sklearn\\metrics\\_classification.py:1344: UndefinedMetricWarning: Precision and F-score are ill-defined and being set to 0.0 in labels with no predicted samples. Use `zero_division` parameter to control this behavior.\n",
      "  _warn_prf(average, modifier, msg_start, len(result))\n",
      "C:\\Users\\Owner\\AppData\\Roaming\\Python\\Python39\\site-packages\\sklearn\\metrics\\_classification.py:1344: UndefinedMetricWarning: Precision and F-score are ill-defined and being set to 0.0 in labels with no predicted samples. Use `zero_division` parameter to control this behavior.\n",
      "  _warn_prf(average, modifier, msg_start, len(result))\n"
     ]
    },
    {
     "name": "stdout",
     "output_type": "stream",
     "text": [
      "              precision    recall  f1-score   support\n",
      "\n",
      "        22.0       0.00      0.00      0.00        36\n",
      "        23.0       0.00      0.00      0.00        71\n",
      "        24.0       0.00      0.00      0.00        46\n",
      "        25.0       0.00      0.00      0.00        79\n",
      "        26.0       0.00      0.00      0.00       115\n",
      "        27.0       0.11      1.00      0.19        81\n",
      "        28.0       0.00      0.00      0.00        60\n",
      "        29.0       0.00      0.00      0.00        45\n",
      "        30.0       0.00      0.00      0.00        48\n",
      "        31.0       0.00      0.00      0.00        65\n",
      "        32.0       0.00      0.00      0.00        11\n",
      "        33.0       0.00      0.00      0.00        30\n",
      "        34.0       0.00      0.00      0.00        11\n",
      "        35.0       0.00      0.00      0.00        11\n",
      "        36.0       0.00      0.00      0.00         8\n",
      "        41.0       0.00      0.00      0.00        14\n",
      "        61.0       0.00      0.00      0.00        19\n",
      "\n",
      "    accuracy                           0.11       750\n",
      "   macro avg       0.01      0.06      0.01       750\n",
      "weighted avg       0.01      0.11      0.02       750\n",
      "\n",
      "Classifier = RandomForestClassifier\n"
     ]
    },
    {
     "name": "stderr",
     "output_type": "stream",
     "text": [
      "C:\\Users\\Owner\\AppData\\Roaming\\Python\\Python39\\site-packages\\sklearn\\metrics\\_classification.py:1344: UndefinedMetricWarning: Precision and F-score are ill-defined and being set to 0.0 in labels with no predicted samples. Use `zero_division` parameter to control this behavior.\n",
      "  _warn_prf(average, modifier, msg_start, len(result))\n",
      "C:\\Users\\Owner\\AppData\\Roaming\\Python\\Python39\\site-packages\\sklearn\\metrics\\_classification.py:1344: UndefinedMetricWarning: Precision and F-score are ill-defined and being set to 0.0 in labels with no predicted samples. Use `zero_division` parameter to control this behavior.\n",
      "  _warn_prf(average, modifier, msg_start, len(result))\n",
      "C:\\Users\\Owner\\AppData\\Roaming\\Python\\Python39\\site-packages\\sklearn\\metrics\\_classification.py:1344: UndefinedMetricWarning: Precision and F-score are ill-defined and being set to 0.0 in labels with no predicted samples. Use `zero_division` parameter to control this behavior.\n",
      "  _warn_prf(average, modifier, msg_start, len(result))\n"
     ]
    },
    {
     "name": "stdout",
     "output_type": "stream",
     "text": [
      "              precision    recall  f1-score   support\n",
      "\n",
      "        22.0       0.00      0.00      0.00        36\n",
      "        23.0       0.13      0.07      0.09        71\n",
      "        24.0       0.08      0.07      0.07        46\n",
      "        25.0       0.05      0.03      0.03        79\n",
      "        26.0       0.16      0.25      0.20       115\n",
      "        27.0       0.10      0.22      0.14        81\n",
      "        28.0       0.11      0.15      0.13        60\n",
      "        29.0       0.05      0.02      0.03        45\n",
      "        30.0       0.05      0.02      0.03        48\n",
      "        31.0       0.08      0.08      0.08        65\n",
      "        32.0       0.03      0.09      0.05        11\n",
      "        33.0       0.25      0.07      0.11        30\n",
      "        34.0       0.00      0.00      0.00        11\n",
      "        35.0       0.25      0.09      0.13        11\n",
      "        36.0       0.00      0.00      0.00         8\n",
      "        41.0       0.00      0.00      0.00        14\n",
      "        61.0       0.09      0.11      0.10        19\n",
      "\n",
      "    accuracy                           0.11       750\n",
      "   macro avg       0.08      0.07      0.07       750\n",
      "weighted avg       0.10      0.11      0.09       750\n",
      "\n",
      "Classifier = KNeighborsClassifier\n",
      "              precision    recall  f1-score   support\n",
      "\n",
      "        22.0       0.22      0.22      0.22        36\n",
      "        23.0       0.18      0.20      0.19        71\n",
      "        24.0       0.14      0.50      0.22        46\n",
      "        25.0       0.28      0.09      0.13        79\n",
      "        26.0       0.37      0.32      0.35       115\n",
      "        27.0       0.40      0.27      0.32        81\n",
      "        28.0       0.21      0.45      0.29        60\n",
      "        29.0       0.39      0.27      0.32        45\n",
      "        30.0       0.26      0.10      0.15        48\n",
      "        31.0       0.15      0.05      0.07        65\n",
      "        32.0       0.11      0.27      0.15        11\n",
      "        33.0       0.59      0.33      0.43        30\n",
      "        34.0       0.07      0.27      0.11        11\n",
      "        35.0       0.75      0.55      0.63        11\n",
      "        36.0       1.00      0.25      0.40         8\n",
      "        41.0       0.00      0.00      0.00        14\n",
      "        61.0       1.00      0.11      0.19        19\n",
      "\n",
      "    accuracy                           0.25       750\n",
      "   macro avg       0.36      0.25      0.25       750\n",
      "weighted avg       0.31      0.25      0.24       750\n",
      "\n"
     ]
    },
    {
     "name": "stderr",
     "output_type": "stream",
     "text": [
      "C:\\Users\\Owner\\AppData\\Roaming\\Python\\Python39\\site-packages\\sklearn\\metrics\\_classification.py:1344: UndefinedMetricWarning: Precision and F-score are ill-defined and being set to 0.0 in labels with no predicted samples. Use `zero_division` parameter to control this behavior.\n",
      "  _warn_prf(average, modifier, msg_start, len(result))\n",
      "C:\\Users\\Owner\\AppData\\Roaming\\Python\\Python39\\site-packages\\sklearn\\metrics\\_classification.py:1344: UndefinedMetricWarning: Precision and F-score are ill-defined and being set to 0.0 in labels with no predicted samples. Use `zero_division` parameter to control this behavior.\n",
      "  _warn_prf(average, modifier, msg_start, len(result))\n",
      "C:\\Users\\Owner\\AppData\\Roaming\\Python\\Python39\\site-packages\\sklearn\\metrics\\_classification.py:1344: UndefinedMetricWarning: Precision and F-score are ill-defined and being set to 0.0 in labels with no predicted samples. Use `zero_division` parameter to control this behavior.\n",
      "  _warn_prf(average, modifier, msg_start, len(result))\n"
     ]
    }
   ],
   "source": [
    "print(\"Classifier = LogisticRegression\")\n",
    "p1.fit(train_X, train_speaker_ages)\n",
    "print(classification_report(valid_speaker_ages, p1.predict(valid_X)))\n",
    "\n",
    "print(\"Classifier = SVC (linear)\")\n",
    "p2.fit(train_X, train_speaker_ages)\n",
    "print(classification_report(valid_speaker_ages, p2.predict(valid_X)))\n",
    "\n",
    "print(\"Classifier = SVC (rbf)\")\n",
    "p3.fit(train_X, train_speaker_ages)\n",
    "print(classification_report(valid_speaker_ages, p3.predict(valid_X)))\n",
    "\n",
    "print(\"Classifier = RandomForestClassifier\")\n",
    "p4.fit(train_X, train_speaker_ages)\n",
    "print(classification_report(valid_speaker_ages, p4.predict(valid_X)))\n",
    "\n",
    "print(\"Classifier = KNeighborsClassifier\")\n",
    "p5.fit(train_X, train_speaker_ages)\n",
    "print(classification_report(valid_speaker_ages, p5.predict(valid_X)))\n",
    "\n",
    "# Conslusion after running:\n",
    "# best algo gives weighted avg = 0.24 (knn)"
   ]
  },
  {
   "cell_type": "code",
   "execution_count": 82,
   "metadata": {},
   "outputs": [
    {
     "name": "stdout",
     "output_type": "stream",
     "text": [
      "              precision    recall  f1-score   support\n",
      "\n",
      "        22.0       0.33      0.31      0.32        36\n",
      "        23.0       0.19      0.25      0.21        71\n",
      "        24.0       0.20      0.46      0.28        46\n",
      "        25.0       0.31      0.14      0.19        79\n",
      "        26.0       0.29      0.30      0.30       115\n",
      "        27.0       0.51      0.37      0.43        81\n",
      "        28.0       0.26      0.43      0.33        60\n",
      "        29.0       0.39      0.40      0.40        45\n",
      "        30.0       0.25      0.15      0.18        48\n",
      "        31.0       0.37      0.17      0.23        65\n",
      "        32.0       0.18      0.55      0.27        11\n",
      "        33.0       0.45      0.43      0.44        30\n",
      "        34.0       0.23      0.45      0.30        11\n",
      "        35.0       0.86      0.55      0.67        11\n",
      "        36.0       1.00      0.25      0.40         8\n",
      "        41.0       0.50      0.07      0.12        14\n",
      "        61.0       0.80      0.21      0.33        19\n",
      "\n",
      "    accuracy                           0.30       750\n",
      "   macro avg       0.42      0.32      0.32       750\n",
      "weighted avg       0.35      0.30      0.30       750\n",
      "\n"
     ]
    }
   ],
   "source": [
    "# now let's check if we do not do feature scaling would\n",
    "# it improve the performance\n",
    "\n",
    "speaker_age_pipe_knn = Pipeline([\n",
    "    # ('scaler', StandardScaler()),\n",
    "    ('classifier', KNeighborsClassifier())\n",
    "])\n",
    "speaker_age_pipe_knn.fit(train_X, train_speaker_ages)\n",
    "print(classification_report(valid_speaker_ages, speaker_age_pipe_knn.predict(valid_X)))\n",
    "\n",
    "# Conslusion after running \n",
    "# Weighted avg IMPROVED ==> Therefore let's use without scaling\n",
    "# Current best weighte avg = 0.30 (speaker_age_pipe_knn)"
   ]
  },
  {
   "cell_type": "markdown",
   "metadata": {},
   "source": [
    "#### Hyperparameter tuning"
   ]
  },
  {
   "cell_type": "code",
   "execution_count": 83,
   "metadata": {},
   "outputs": [],
   "source": [
    "# Based on the above outputs KNeighborsClassifier() performs better\n",
    "# Now let's check what hyperparameters performs better\n",
    "\n",
    "param_dist = {\n",
    "    'classifier__n_neighbors': np.arange(1, 21),  \n",
    "    'classifier__weights': ['uniform', 'distance'],  \n",
    "    'classifier__p': [1, 2]  # Options for the Minkowski distance metric (1 for Manhattan, 2 for Euclidean)\n",
    "}\n",
    "\n",
    "# Perform randomized search with cross-validation\n",
    "random_search = RandomizedSearchCV(speaker_age_pipe_knn, param_distributions=param_dist, n_iter=50, cv=3, scoring='balanced_accuracy', random_state=42, verbose=3)"
   ]
  },
  {
   "cell_type": "code",
   "execution_count": 84,
   "metadata": {},
   "outputs": [
    {
     "name": "stdout",
     "output_type": "stream",
     "text": [
      "Fitting 3 folds for each of 50 candidates, totalling 150 fits\n",
      "[CV 1/3] END classifier__n_neighbors=8, classifier__p=2, classifier__weights=uniform;, score=0.377 total time=   3.1s\n",
      "[CV 2/3] END classifier__n_neighbors=8, classifier__p=2, classifier__weights=uniform;, score=0.436 total time=   2.7s\n",
      "[CV 3/3] END classifier__n_neighbors=8, classifier__p=2, classifier__weights=uniform;, score=0.389 total time=   2.8s\n",
      "[CV 1/3] END classifier__n_neighbors=1, classifier__p=1, classifier__weights=uniform;, score=0.417 total time=  25.4s\n",
      "[CV 2/3] END classifier__n_neighbors=1, classifier__p=1, classifier__weights=uniform;, score=0.491 total time=  27.6s\n",
      "[CV 3/3] END classifier__n_neighbors=1, classifier__p=1, classifier__weights=uniform;, score=0.442 total time=  24.5s\n",
      "[CV 1/3] END classifier__n_neighbors=6, classifier__p=2, classifier__weights=uniform;, score=0.379 total time=   2.9s\n",
      "[CV 2/3] END classifier__n_neighbors=6, classifier__p=2, classifier__weights=uniform;, score=0.441 total time=   3.0s\n",
      "[CV 3/3] END classifier__n_neighbors=6, classifier__p=2, classifier__weights=uniform;, score=0.400 total time=   2.9s\n",
      "[CV 1/3] END classifier__n_neighbors=8, classifier__p=2, classifier__weights=distance;, score=0.401 total time=   2.5s\n",
      "[CV 2/3] END classifier__n_neighbors=8, classifier__p=2, classifier__weights=distance;, score=0.456 total time=   2.5s\n",
      "[CV 3/3] END classifier__n_neighbors=8, classifier__p=2, classifier__weights=distance;, score=0.411 total time=   2.6s\n",
      "[CV 1/3] END classifier__n_neighbors=5, classifier__p=2, classifier__weights=uniform;, score=0.388 total time=   3.4s\n",
      "[CV 2/3] END classifier__n_neighbors=5, classifier__p=2, classifier__weights=uniform;, score=0.448 total time=   3.6s\n",
      "[CV 3/3] END classifier__n_neighbors=5, classifier__p=2, classifier__weights=uniform;, score=0.409 total time=   3.5s\n",
      "[CV 1/3] END classifier__n_neighbors=8, classifier__p=1, classifier__weights=uniform;, score=0.381 total time=  36.2s\n",
      "[CV 2/3] END classifier__n_neighbors=8, classifier__p=1, classifier__weights=uniform;, score=0.439 total time=  29.4s\n",
      "[CV 3/3] END classifier__n_neighbors=8, classifier__p=1, classifier__weights=uniform;, score=0.394 total time=  24.8s\n",
      "[CV 1/3] END classifier__n_neighbors=3, classifier__p=2, classifier__weights=uniform;, score=0.395 total time=   3.5s\n",
      "[CV 2/3] END classifier__n_neighbors=3, classifier__p=2, classifier__weights=uniform;, score=0.451 total time=   3.5s\n",
      "[CV 3/3] END classifier__n_neighbors=3, classifier__p=2, classifier__weights=uniform;, score=0.410 total time=   3.5s\n",
      "[CV 1/3] END classifier__n_neighbors=18, classifier__p=2, classifier__weights=uniform;, score=0.343 total time=   3.6s\n",
      "[CV 2/3] END classifier__n_neighbors=18, classifier__p=2, classifier__weights=uniform;, score=0.389 total time=   3.6s\n",
      "[CV 3/3] END classifier__n_neighbors=18, classifier__p=2, classifier__weights=uniform;, score=0.353 total time=   3.6s\n",
      "[CV 1/3] END classifier__n_neighbors=2, classifier__p=1, classifier__weights=uniform;, score=0.362 total time=  34.4s\n",
      "[CV 2/3] END classifier__n_neighbors=2, classifier__p=1, classifier__weights=uniform;, score=0.434 total time=  34.5s\n",
      "[CV 3/3] END classifier__n_neighbors=2, classifier__p=1, classifier__weights=uniform;, score=0.389 total time=  35.2s\n",
      "[CV 1/3] END classifier__n_neighbors=4, classifier__p=1, classifier__weights=uniform;, score=0.394 total time=  36.3s\n",
      "[CV 2/3] END classifier__n_neighbors=4, classifier__p=1, classifier__weights=uniform;, score=0.458 total time=  24.0s\n",
      "[CV 3/3] END classifier__n_neighbors=4, classifier__p=1, classifier__weights=uniform;, score=0.411 total time=  23.6s\n",
      "[CV 1/3] END classifier__n_neighbors=13, classifier__p=1, classifier__weights=distance;, score=0.387 total time=  23.2s\n",
      "[CV 2/3] END classifier__n_neighbors=13, classifier__p=1, classifier__weights=distance;, score=0.442 total time=  24.5s\n",
      "[CV 3/3] END classifier__n_neighbors=13, classifier__p=1, classifier__weights=distance;, score=0.397 total time=  24.1s\n",
      "[CV 1/3] END classifier__n_neighbors=9, classifier__p=1, classifier__weights=distance;, score=0.399 total time=  22.8s\n",
      "[CV 2/3] END classifier__n_neighbors=9, classifier__p=1, classifier__weights=distance;, score=0.457 total time=  22.9s\n",
      "[CV 3/3] END classifier__n_neighbors=9, classifier__p=1, classifier__weights=distance;, score=0.415 total time=  23.0s\n",
      "[CV 1/3] END classifier__n_neighbors=17, classifier__p=2, classifier__weights=distance;, score=0.371 total time=   2.5s\n",
      "[CV 2/3] END classifier__n_neighbors=17, classifier__p=2, classifier__weights=distance;, score=0.419 total time=   2.4s\n",
      "[CV 3/3] END classifier__n_neighbors=17, classifier__p=2, classifier__weights=distance;, score=0.376 total time=   2.4s\n",
      "[CV 1/3] END classifier__n_neighbors=9, classifier__p=2, classifier__weights=distance;, score=0.399 total time=   2.4s\n",
      "[CV 2/3] END classifier__n_neighbors=9, classifier__p=2, classifier__weights=distance;, score=0.453 total time=   2.4s\n",
      "[CV 3/3] END classifier__n_neighbors=9, classifier__p=2, classifier__weights=distance;, score=0.407 total time=   2.3s\n",
      "[CV 1/3] END classifier__n_neighbors=18, classifier__p=1, classifier__weights=uniform;, score=0.353 total time=  24.2s\n",
      "[CV 2/3] END classifier__n_neighbors=18, classifier__p=1, classifier__weights=uniform;, score=0.402 total time=  23.7s\n",
      "[CV 3/3] END classifier__n_neighbors=18, classifier__p=1, classifier__weights=uniform;, score=0.362 total time=  23.2s\n",
      "[CV 1/3] END classifier__n_neighbors=12, classifier__p=1, classifier__weights=distance;, score=0.392 total time=  23.7s\n",
      "[CV 2/3] END classifier__n_neighbors=12, classifier__p=1, classifier__weights=distance;, score=0.446 total time=  23.0s\n",
      "[CV 3/3] END classifier__n_neighbors=12, classifier__p=1, classifier__weights=distance;, score=0.404 total time=  22.6s\n",
      "[CV 1/3] END classifier__n_neighbors=19, classifier__p=1, classifier__weights=distance;, score=0.369 total time=  23.0s\n",
      "[CV 2/3] END classifier__n_neighbors=19, classifier__p=1, classifier__weights=distance;, score=0.420 total time=  23.6s\n",
      "[CV 3/3] END classifier__n_neighbors=19, classifier__p=1, classifier__weights=distance;, score=0.378 total time=  23.7s\n",
      "[CV 1/3] END classifier__n_neighbors=16, classifier__p=1, classifier__weights=distance;, score=0.378 total time=  22.9s\n",
      "[CV 2/3] END classifier__n_neighbors=16, classifier__p=1, classifier__weights=distance;, score=0.431 total time=  23.2s\n",
      "[CV 3/3] END classifier__n_neighbors=16, classifier__p=1, classifier__weights=distance;, score=0.383 total time=  22.7s\n",
      "[CV 1/3] END classifier__n_neighbors=14, classifier__p=2, classifier__weights=distance;, score=0.380 total time=   2.5s\n",
      "[CV 2/3] END classifier__n_neighbors=14, classifier__p=2, classifier__weights=distance;, score=0.433 total time=   2.5s\n",
      "[CV 3/3] END classifier__n_neighbors=14, classifier__p=2, classifier__weights=distance;, score=0.386 total time=   2.4s\n",
      "[CV 1/3] END classifier__n_neighbors=11, classifier__p=1, classifier__weights=uniform;, score=0.376 total time=  23.0s\n",
      "[CV 2/3] END classifier__n_neighbors=11, classifier__p=1, classifier__weights=uniform;, score=0.425 total time=  23.4s\n",
      "[CV 3/3] END classifier__n_neighbors=11, classifier__p=1, classifier__weights=uniform;, score=0.384 total time=  24.0s\n",
      "[CV 1/3] END classifier__n_neighbors=3, classifier__p=1, classifier__weights=distance;, score=0.420 total time=  22.6s\n",
      "[CV 2/3] END classifier__n_neighbors=3, classifier__p=1, classifier__weights=distance;, score=0.488 total time=  22.9s\n",
      "[CV 3/3] END classifier__n_neighbors=3, classifier__p=1, classifier__weights=distance;, score=0.436 total time=  22.6s\n",
      "[CV 1/3] END classifier__n_neighbors=17, classifier__p=1, classifier__weights=uniform;, score=0.355 total time=  24.0s\n",
      "[CV 2/3] END classifier__n_neighbors=17, classifier__p=1, classifier__weights=uniform;, score=0.405 total time=  23.0s\n",
      "[CV 3/3] END classifier__n_neighbors=17, classifier__p=1, classifier__weights=uniform;, score=0.365 total time=  23.4s\n",
      "[CV 1/3] END classifier__n_neighbors=2, classifier__p=1, classifier__weights=distance;, score=0.417 total time=  35.1s\n",
      "[CV 2/3] END classifier__n_neighbors=2, classifier__p=1, classifier__weights=distance;, score=0.491 total time=  33.8s\n",
      "[CV 3/3] END classifier__n_neighbors=2, classifier__p=1, classifier__weights=distance;, score=0.442 total time=  32.6s\n",
      "[CV 1/3] END classifier__n_neighbors=12, classifier__p=2, classifier__weights=distance;, score=0.388 total time=   2.5s\n",
      "[CV 2/3] END classifier__n_neighbors=12, classifier__p=2, classifier__weights=distance;, score=0.442 total time=   2.5s\n",
      "[CV 3/3] END classifier__n_neighbors=12, classifier__p=2, classifier__weights=distance;, score=0.396 total time=   2.4s\n",
      "[CV 1/3] END classifier__n_neighbors=9, classifier__p=2, classifier__weights=uniform;, score=0.379 total time=   3.0s\n",
      "[CV 2/3] END classifier__n_neighbors=9, classifier__p=2, classifier__weights=uniform;, score=0.431 total time=   2.9s\n",
      "[CV 3/3] END classifier__n_neighbors=9, classifier__p=2, classifier__weights=uniform;, score=0.388 total time=   2.9s\n",
      "[CV 1/3] END classifier__n_neighbors=16, classifier__p=2, classifier__weights=uniform;, score=0.353 total time=   2.9s\n",
      "[CV 2/3] END classifier__n_neighbors=16, classifier__p=2, classifier__weights=uniform;, score=0.401 total time=   2.9s\n",
      "[CV 3/3] END classifier__n_neighbors=16, classifier__p=2, classifier__weights=uniform;, score=0.360 total time=   3.0s\n",
      "[CV 1/3] END classifier__n_neighbors=11, classifier__p=2, classifier__weights=uniform;, score=0.369 total time=   2.9s\n",
      "[CV 2/3] END classifier__n_neighbors=11, classifier__p=2, classifier__weights=uniform;, score=0.422 total time=   2.9s\n",
      "[CV 3/3] END classifier__n_neighbors=11, classifier__p=2, classifier__weights=uniform;, score=0.376 total time=   2.9s\n",
      "[CV 1/3] END classifier__n_neighbors=14, classifier__p=2, classifier__weights=uniform;, score=0.357 total time=   2.8s\n",
      "[CV 2/3] END classifier__n_neighbors=14, classifier__p=2, classifier__weights=uniform;, score=0.412 total time=   2.9s\n",
      "[CV 3/3] END classifier__n_neighbors=14, classifier__p=2, classifier__weights=uniform;, score=0.363 total time=   2.9s\n",
      "[CV 1/3] END classifier__n_neighbors=5, classifier__p=1, classifier__weights=uniform;, score=0.389 total time=  24.5s\n",
      "[CV 2/3] END classifier__n_neighbors=5, classifier__p=1, classifier__weights=uniform;, score=0.452 total time=  24.0s\n",
      "[CV 3/3] END classifier__n_neighbors=5, classifier__p=1, classifier__weights=uniform;, score=0.409 total time=  24.0s\n",
      "[CV 1/3] END classifier__n_neighbors=10, classifier__p=2, classifier__weights=distance;, score=0.395 total time=   2.4s\n",
      "[CV 2/3] END classifier__n_neighbors=10, classifier__p=2, classifier__weights=distance;, score=0.448 total time=   2.6s\n",
      "[CV 3/3] END classifier__n_neighbors=10, classifier__p=2, classifier__weights=distance;, score=0.403 total time=   2.4s\n",
      "[CV 1/3] END classifier__n_neighbors=15, classifier__p=1, classifier__weights=uniform;, score=0.362 total time=  24.4s\n",
      "[CV 2/3] END classifier__n_neighbors=15, classifier__p=1, classifier__weights=uniform;, score=0.414 total time=  32.2s\n",
      "[CV 3/3] END classifier__n_neighbors=15, classifier__p=1, classifier__weights=uniform;, score=0.369 total time=  35.0s\n",
      "[CV 1/3] END classifier__n_neighbors=20, classifier__p=2, classifier__weights=distance;, score=0.361 total time=   3.6s\n",
      "[CV 2/3] END classifier__n_neighbors=20, classifier__p=2, classifier__weights=distance;, score=0.408 total time=   2.6s\n",
      "[CV 3/3] END classifier__n_neighbors=20, classifier__p=2, classifier__weights=distance;, score=0.368 total time=   2.5s\n",
      "[CV 1/3] END classifier__n_neighbors=2, classifier__p=2, classifier__weights=distance;, score=0.413 total time=   2.5s\n",
      "[CV 2/3] END classifier__n_neighbors=2, classifier__p=2, classifier__weights=distance;, score=0.486 total time=   3.3s\n",
      "[CV 3/3] END classifier__n_neighbors=2, classifier__p=2, classifier__weights=distance;, score=0.436 total time=   3.2s\n",
      "[CV 1/3] END classifier__n_neighbors=13, classifier__p=2, classifier__weights=uniform;, score=0.358 total time=   3.3s\n",
      "[CV 2/3] END classifier__n_neighbors=13, classifier__p=2, classifier__weights=uniform;, score=0.411 total time=   3.5s\n",
      "[CV 3/3] END classifier__n_neighbors=13, classifier__p=2, classifier__weights=uniform;, score=0.370 total time=   3.0s\n",
      "[CV 1/3] END classifier__n_neighbors=14, classifier__p=1, classifier__weights=distance;, score=0.385 total time=  30.3s\n",
      "[CV 2/3] END classifier__n_neighbors=14, classifier__p=1, classifier__weights=distance;, score=0.438 total time=  35.9s\n",
      "[CV 3/3] END classifier__n_neighbors=14, classifier__p=1, classifier__weights=distance;, score=0.394 total time=  32.7s\n",
      "[CV 1/3] END classifier__n_neighbors=5, classifier__p=2, classifier__weights=distance;, score=0.413 total time=   3.4s\n",
      "[CV 2/3] END classifier__n_neighbors=5, classifier__p=2, classifier__weights=distance;, score=0.473 total time=   3.1s\n",
      "[CV 3/3] END classifier__n_neighbors=5, classifier__p=2, classifier__weights=distance;, score=0.425 total time=   3.0s\n",
      "[CV 1/3] END classifier__n_neighbors=17, classifier__p=2, classifier__weights=uniform;, score=0.349 total time=   3.3s\n",
      "[CV 2/3] END classifier__n_neighbors=17, classifier__p=2, classifier__weights=uniform;, score=0.395 total time=   3.2s\n",
      "[CV 3/3] END classifier__n_neighbors=17, classifier__p=2, classifier__weights=uniform;, score=0.355 total time=   3.2s\n",
      "[CV 1/3] END classifier__n_neighbors=7, classifier__p=1, classifier__weights=distance;, score=0.407 total time=  29.3s\n",
      "[CV 2/3] END classifier__n_neighbors=7, classifier__p=1, classifier__weights=distance;, score=0.467 total time=  34.0s\n",
      "[CV 3/3] END classifier__n_neighbors=7, classifier__p=1, classifier__weights=distance;, score=0.421 total time=  30.0s\n",
      "[CV 1/3] END classifier__n_neighbors=12, classifier__p=1, classifier__weights=uniform;, score=0.370 total time=  31.7s\n",
      "[CV 2/3] END classifier__n_neighbors=12, classifier__p=1, classifier__weights=uniform;, score=0.423 total time=  33.9s\n",
      "[CV 3/3] END classifier__n_neighbors=12, classifier__p=1, classifier__weights=uniform;, score=0.382 total time=  29.4s\n",
      "[CV 1/3] END classifier__n_neighbors=4, classifier__p=1, classifier__weights=distance;, score=0.418 total time=  28.3s\n",
      "[CV 2/3] END classifier__n_neighbors=4, classifier__p=1, classifier__weights=distance;, score=0.485 total time=  34.5s\n",
      "[CV 3/3] END classifier__n_neighbors=4, classifier__p=1, classifier__weights=distance;, score=0.434 total time=  33.4s\n",
      "[CV 1/3] END classifier__n_neighbors=20, classifier__p=1, classifier__weights=uniform;, score=0.350 total time=  26.1s\n",
      "[CV 2/3] END classifier__n_neighbors=20, classifier__p=1, classifier__weights=uniform;, score=0.394 total time=  34.1s\n",
      "[CV 3/3] END classifier__n_neighbors=20, classifier__p=1, classifier__weights=uniform;, score=0.350 total time=  32.4s\n",
      "[CV 1/3] END classifier__n_neighbors=1, classifier__p=2, classifier__weights=distance;, score=0.413 total time=   3.0s\n",
      "[CV 2/3] END classifier__n_neighbors=1, classifier__p=2, classifier__weights=distance;, score=0.486 total time=   3.0s\n",
      "[CV 3/3] END classifier__n_neighbors=1, classifier__p=2, classifier__weights=distance;, score=0.436 total time=   3.0s\n",
      "[CV 1/3] END classifier__n_neighbors=5, classifier__p=1, classifier__weights=distance;, score=0.411 total time=  33.5s\n",
      "[CV 2/3] END classifier__n_neighbors=5, classifier__p=1, classifier__weights=distance;, score=0.479 total time=  29.5s\n",
      "[CV 3/3] END classifier__n_neighbors=5, classifier__p=1, classifier__weights=distance;, score=0.430 total time=  26.5s\n",
      "[CV 1/3] END classifier__n_neighbors=10, classifier__p=2, classifier__weights=uniform;, score=0.372 total time=   3.1s\n",
      "[CV 2/3] END classifier__n_neighbors=10, classifier__p=2, classifier__weights=uniform;, score=0.428 total time=   3.8s\n",
      "[CV 3/3] END classifier__n_neighbors=10, classifier__p=2, classifier__weights=uniform;, score=0.381 total time=   3.4s\n",
      "[CV 1/3] END classifier__n_neighbors=3, classifier__p=1, classifier__weights=uniform;, score=0.398 total time=  33.3s\n",
      "[CV 2/3] END classifier__n_neighbors=3, classifier__p=1, classifier__weights=uniform;, score=0.458 total time=  25.7s\n",
      "[CV 3/3] END classifier__n_neighbors=3, classifier__p=1, classifier__weights=uniform;, score=0.415 total time=  24.6s\n",
      "[CV 1/3] END classifier__n_neighbors=17, classifier__p=1, classifier__weights=distance;, score=0.375 total time=  24.6s\n",
      "[CV 2/3] END classifier__n_neighbors=17, classifier__p=1, classifier__weights=distance;, score=0.422 total time=  24.6s\n",
      "[CV 3/3] END classifier__n_neighbors=17, classifier__p=1, classifier__weights=distance;, score=0.383 total time=  24.8s\n",
      "[CV 1/3] END classifier__n_neighbors=2, classifier__p=2, classifier__weights=uniform;, score=0.355 total time=   2.9s\n",
      "[CV 2/3] END classifier__n_neighbors=2, classifier__p=2, classifier__weights=uniform;, score=0.425 total time=   2.9s\n",
      "[CV 3/3] END classifier__n_neighbors=2, classifier__p=2, classifier__weights=uniform;, score=0.383 total time=   2.9s\n",
      "[CV 1/3] END classifier__n_neighbors=10, classifier__p=1, classifier__weights=uniform;, score=0.378 total time=  25.3s\n",
      "[CV 2/3] END classifier__n_neighbors=10, classifier__p=1, classifier__weights=uniform;, score=0.428 total time=  28.0s\n",
      "[CV 3/3] END classifier__n_neighbors=10, classifier__p=1, classifier__weights=uniform;, score=0.386 total time=  29.6s\n",
      "[CV 1/3] END classifier__n_neighbors=19, classifier__p=1, classifier__weights=uniform;, score=0.353 total time=  30.5s\n",
      "[CV 2/3] END classifier__n_neighbors=19, classifier__p=1, classifier__weights=uniform;, score=0.398 total time=  26.2s\n",
      "[CV 3/3] END classifier__n_neighbors=19, classifier__p=1, classifier__weights=uniform;, score=0.356 total time=  27.1s\n",
      "[CV 1/3] END classifier__n_neighbors=15, classifier__p=2, classifier__weights=uniform;, score=0.357 total time=   3.1s\n",
      "[CV 2/3] END classifier__n_neighbors=15, classifier__p=2, classifier__weights=uniform;, score=0.407 total time=   3.1s\n",
      "[CV 3/3] END classifier__n_neighbors=15, classifier__p=2, classifier__weights=uniform;, score=0.362 total time=   3.0s\n"
     ]
    },
    {
     "data": {
      "text/html": [
       "<style>#sk-container-id-2 {color: black;background-color: white;}#sk-container-id-2 pre{padding: 0;}#sk-container-id-2 div.sk-toggleable {background-color: white;}#sk-container-id-2 label.sk-toggleable__label {cursor: pointer;display: block;width: 100%;margin-bottom: 0;padding: 0.3em;box-sizing: border-box;text-align: center;}#sk-container-id-2 label.sk-toggleable__label-arrow:before {content: \"▸\";float: left;margin-right: 0.25em;color: #696969;}#sk-container-id-2 label.sk-toggleable__label-arrow:hover:before {color: black;}#sk-container-id-2 div.sk-estimator:hover label.sk-toggleable__label-arrow:before {color: black;}#sk-container-id-2 div.sk-toggleable__content {max-height: 0;max-width: 0;overflow: hidden;text-align: left;background-color: #f0f8ff;}#sk-container-id-2 div.sk-toggleable__content pre {margin: 0.2em;color: black;border-radius: 0.25em;background-color: #f0f8ff;}#sk-container-id-2 input.sk-toggleable__control:checked~div.sk-toggleable__content {max-height: 200px;max-width: 100%;overflow: auto;}#sk-container-id-2 input.sk-toggleable__control:checked~label.sk-toggleable__label-arrow:before {content: \"▾\";}#sk-container-id-2 div.sk-estimator input.sk-toggleable__control:checked~label.sk-toggleable__label {background-color: #d4ebff;}#sk-container-id-2 div.sk-label input.sk-toggleable__control:checked~label.sk-toggleable__label {background-color: #d4ebff;}#sk-container-id-2 input.sk-hidden--visually {border: 0;clip: rect(1px 1px 1px 1px);clip: rect(1px, 1px, 1px, 1px);height: 1px;margin: -1px;overflow: hidden;padding: 0;position: absolute;width: 1px;}#sk-container-id-2 div.sk-estimator {font-family: monospace;background-color: #f0f8ff;border: 1px dotted black;border-radius: 0.25em;box-sizing: border-box;margin-bottom: 0.5em;}#sk-container-id-2 div.sk-estimator:hover {background-color: #d4ebff;}#sk-container-id-2 div.sk-parallel-item::after {content: \"\";width: 100%;border-bottom: 1px solid gray;flex-grow: 1;}#sk-container-id-2 div.sk-label:hover label.sk-toggleable__label {background-color: #d4ebff;}#sk-container-id-2 div.sk-serial::before {content: \"\";position: absolute;border-left: 1px solid gray;box-sizing: border-box;top: 0;bottom: 0;left: 50%;z-index: 0;}#sk-container-id-2 div.sk-serial {display: flex;flex-direction: column;align-items: center;background-color: white;padding-right: 0.2em;padding-left: 0.2em;position: relative;}#sk-container-id-2 div.sk-item {position: relative;z-index: 1;}#sk-container-id-2 div.sk-parallel {display: flex;align-items: stretch;justify-content: center;background-color: white;position: relative;}#sk-container-id-2 div.sk-item::before, #sk-container-id-2 div.sk-parallel-item::before {content: \"\";position: absolute;border-left: 1px solid gray;box-sizing: border-box;top: 0;bottom: 0;left: 50%;z-index: -1;}#sk-container-id-2 div.sk-parallel-item {display: flex;flex-direction: column;z-index: 1;position: relative;background-color: white;}#sk-container-id-2 div.sk-parallel-item:first-child::after {align-self: flex-end;width: 50%;}#sk-container-id-2 div.sk-parallel-item:last-child::after {align-self: flex-start;width: 50%;}#sk-container-id-2 div.sk-parallel-item:only-child::after {width: 0;}#sk-container-id-2 div.sk-dashed-wrapped {border: 1px dashed gray;margin: 0 0.4em 0.5em 0.4em;box-sizing: border-box;padding-bottom: 0.4em;background-color: white;}#sk-container-id-2 div.sk-label label {font-family: monospace;font-weight: bold;display: inline-block;line-height: 1.2em;}#sk-container-id-2 div.sk-label-container {text-align: center;}#sk-container-id-2 div.sk-container {/* jupyter's `normalize.less` sets `[hidden] { display: none; }` but bootstrap.min.css set `[hidden] { display: none !important; }` so we also need the `!important` here to be able to override the default hidden behavior on the sphinx rendered scikit-learn.org. See: https://github.com/scikit-learn/scikit-learn/issues/21755 */display: inline-block !important;position: relative;}#sk-container-id-2 div.sk-text-repr-fallback {display: none;}</style><div id=\"sk-container-id-2\" class=\"sk-top-container\"><div class=\"sk-text-repr-fallback\"><pre>RandomizedSearchCV(cv=3,\n",
       "                   estimator=Pipeline(steps=[(&#x27;classifier&#x27;,\n",
       "                                              KNeighborsClassifier())]),\n",
       "                   n_iter=50,\n",
       "                   param_distributions={&#x27;classifier__n_neighbors&#x27;: array([ 1,  2,  3,  4,  5,  6,  7,  8,  9, 10, 11, 12, 13, 14, 15, 16, 17,\n",
       "       18, 19, 20]),\n",
       "                                        &#x27;classifier__p&#x27;: [1, 2],\n",
       "                                        &#x27;classifier__weights&#x27;: [&#x27;uniform&#x27;,\n",
       "                                                                &#x27;distance&#x27;]},\n",
       "                   random_state=42, scoring=&#x27;balanced_accuracy&#x27;, verbose=3)</pre><b>In a Jupyter environment, please rerun this cell to show the HTML representation or trust the notebook. <br />On GitHub, the HTML representation is unable to render, please try loading this page with nbviewer.org.</b></div><div class=\"sk-container\" hidden><div class=\"sk-item sk-dashed-wrapped\"><div class=\"sk-label-container\"><div class=\"sk-label sk-toggleable\"><input class=\"sk-toggleable__control sk-hidden--visually\" id=\"sk-estimator-id-5\" type=\"checkbox\" ><label for=\"sk-estimator-id-5\" class=\"sk-toggleable__label sk-toggleable__label-arrow\">RandomizedSearchCV</label><div class=\"sk-toggleable__content\"><pre>RandomizedSearchCV(cv=3,\n",
       "                   estimator=Pipeline(steps=[(&#x27;classifier&#x27;,\n",
       "                                              KNeighborsClassifier())]),\n",
       "                   n_iter=50,\n",
       "                   param_distributions={&#x27;classifier__n_neighbors&#x27;: array([ 1,  2,  3,  4,  5,  6,  7,  8,  9, 10, 11, 12, 13, 14, 15, 16, 17,\n",
       "       18, 19, 20]),\n",
       "                                        &#x27;classifier__p&#x27;: [1, 2],\n",
       "                                        &#x27;classifier__weights&#x27;: [&#x27;uniform&#x27;,\n",
       "                                                                &#x27;distance&#x27;]},\n",
       "                   random_state=42, scoring=&#x27;balanced_accuracy&#x27;, verbose=3)</pre></div></div></div><div class=\"sk-parallel\"><div class=\"sk-parallel-item\"><div class=\"sk-item\"><div class=\"sk-label-container\"><div class=\"sk-label sk-toggleable\"><input class=\"sk-toggleable__control sk-hidden--visually\" id=\"sk-estimator-id-6\" type=\"checkbox\" ><label for=\"sk-estimator-id-6\" class=\"sk-toggleable__label sk-toggleable__label-arrow\">estimator: Pipeline</label><div class=\"sk-toggleable__content\"><pre>Pipeline(steps=[(&#x27;classifier&#x27;, KNeighborsClassifier())])</pre></div></div></div><div class=\"sk-serial\"><div class=\"sk-item\"><div class=\"sk-serial\"><div class=\"sk-item\"><div class=\"sk-estimator sk-toggleable\"><input class=\"sk-toggleable__control sk-hidden--visually\" id=\"sk-estimator-id-7\" type=\"checkbox\" ><label for=\"sk-estimator-id-7\" class=\"sk-toggleable__label sk-toggleable__label-arrow\">KNeighborsClassifier</label><div class=\"sk-toggleable__content\"><pre>KNeighborsClassifier()</pre></div></div></div></div></div></div></div></div></div></div></div></div>"
      ],
      "text/plain": [
       "RandomizedSearchCV(cv=3,\n",
       "                   estimator=Pipeline(steps=[('classifier',\n",
       "                                              KNeighborsClassifier())]),\n",
       "                   n_iter=50,\n",
       "                   param_distributions={'classifier__n_neighbors': array([ 1,  2,  3,  4,  5,  6,  7,  8,  9, 10, 11, 12, 13, 14, 15, 16, 17,\n",
       "       18, 19, 20]),\n",
       "                                        'classifier__p': [1, 2],\n",
       "                                        'classifier__weights': ['uniform',\n",
       "                                                                'distance']},\n",
       "                   random_state=42, scoring='balanced_accuracy', verbose=3)"
      ]
     },
     "execution_count": 84,
     "metadata": {},
     "output_type": "execute_result"
    }
   ],
   "source": [
    "random_search.fit(train_X, train_speaker_ages)"
   ]
  },
  {
   "cell_type": "code",
   "execution_count": 85,
   "metadata": {},
   "outputs": [
    {
     "name": "stdout",
     "output_type": "stream",
     "text": [
      "Best Hyperparameters:\n",
      "classifier__weights: uniform\n",
      "classifier__p: 1\n",
      "classifier__n_neighbors: 1\n"
     ]
    }
   ],
   "source": [
    "best_params = random_search.best_params_\n",
    "print(\"Best Hyperparameters:\")\n",
    "for param, value in best_params.items():\n",
    "    print(f\"{param}: {value}\")\n",
    "\n",
    "# Output\n",
    "# Best Hyperparameters:\n",
    "# classifier__weights: uniform\n",
    "# classifier__p: 1\n",
    "# classifier__n_neighbors: 1"
   ]
  },
  {
   "cell_type": "code",
   "execution_count": 87,
   "metadata": {},
   "outputs": [
    {
     "name": "stdout",
     "output_type": "stream",
     "text": [
      "              precision    recall  f1-score   support\n",
      "\n",
      "        22.0       0.32      0.19      0.24        36\n",
      "        23.0       0.16      0.11      0.13        71\n",
      "        24.0       0.14      0.33      0.19        46\n",
      "        25.0       0.18      0.13      0.15        79\n",
      "        26.0       0.24      0.17      0.19       115\n",
      "        27.0       0.40      0.28      0.33        81\n",
      "        28.0       0.19      0.43      0.27        60\n",
      "        29.0       0.30      0.24      0.27        45\n",
      "        30.0       0.23      0.15      0.18        48\n",
      "        31.0       0.29      0.17      0.21        65\n",
      "        32.0       0.13      0.45      0.20        11\n",
      "        33.0       0.22      0.33      0.27        30\n",
      "        34.0       0.14      0.36      0.20        11\n",
      "        35.0       0.36      0.36      0.36        11\n",
      "        36.0       0.00      0.00      0.00         8\n",
      "        41.0       0.50      0.07      0.12        14\n",
      "        61.0       0.67      0.11      0.18        19\n",
      "\n",
      "    accuracy                           0.22       750\n",
      "   macro avg       0.26      0.23      0.21       750\n",
      "weighted avg       0.25      0.22      0.21       750\n",
      "\n"
     ]
    }
   ],
   "source": [
    "# Let's run a pipeline with the best hyperparas as well.\n",
    "best_classifier__weights = \"uniform\"\n",
    "best_classifier__p = 1\n",
    "best_classifier__n_neighbors = 1\n",
    "\n",
    "best_speaker_age_knn = Pipeline([\n",
    "    ('classifier', KNeighborsClassifier(p=best_classifier__p, n_neighbors=best_classifier__n_neighbors, weights=best_classifier__weights))\n",
    "])\n",
    "\n",
    "best_speaker_age_knn.fit(train_X, train_speaker_ages)\n",
    "print(classification_report(valid_speaker_ages, best_speaker_age_knn.predict(valid_X)))\n",
    "\n",
    "# Conclusion after runing:\n",
    "# weighted avg DROPPED\n",
    "# Current best weighte avg = 0.30 (speaker_age_knn)"
   ]
  },
  {
   "cell_type": "code",
   "execution_count": 88,
   "metadata": {},
   "outputs": [
    {
     "name": "stdout",
     "output_type": "stream",
     "text": [
      "scaling + pca:\n",
      "              precision    recall  f1-score   support\n",
      "\n",
      "        22.0       0.17      0.11      0.13        36\n",
      "        23.0       0.15      0.15      0.15        71\n",
      "        24.0       0.22      0.39      0.28        46\n",
      "        25.0       0.28      0.09      0.13        79\n",
      "        26.0       0.32      0.19      0.24       115\n",
      "        27.0       0.32      0.23      0.27        81\n",
      "        28.0       0.17      0.32      0.22        60\n",
      "        29.0       0.17      0.22      0.19        45\n",
      "        30.0       0.26      0.31      0.28        48\n",
      "        31.0       0.21      0.18      0.20        65\n",
      "        32.0       0.20      0.45      0.28        11\n",
      "        33.0       0.21      0.33      0.26        30\n",
      "        34.0       0.16      0.45      0.23        11\n",
      "        35.0       0.30      0.27      0.29        11\n",
      "        36.0       0.00      0.00      0.00         8\n",
      "        41.0       0.33      0.07      0.12        14\n",
      "        61.0       1.00      0.21      0.35        19\n",
      "\n",
      "    accuracy                           0.22       750\n",
      "   macro avg       0.26      0.24      0.21       750\n",
      "weighted avg       0.26      0.22      0.22       750\n",
      "\n",
      "just pca:\n",
      "              precision    recall  f1-score   support\n",
      "\n",
      "        22.0       0.08      0.08      0.08        36\n",
      "        23.0       0.25      0.20      0.22        71\n",
      "        24.0       0.25      0.39      0.30        46\n",
      "        25.0       0.38      0.06      0.11        79\n",
      "        26.0       0.40      0.18      0.25       115\n",
      "        27.0       0.33      0.27      0.30        81\n",
      "        28.0       0.09      0.27      0.14        60\n",
      "        29.0       0.19      0.24      0.22        45\n",
      "        30.0       0.10      0.10      0.10        48\n",
      "        31.0       0.20      0.17      0.18        65\n",
      "        32.0       0.20      0.27      0.23        11\n",
      "        33.0       0.48      0.33      0.39        30\n",
      "        34.0       0.08      0.36      0.13        11\n",
      "        35.0       0.36      0.36      0.36        11\n",
      "        36.0       0.09      0.12      0.11         8\n",
      "        41.0       0.33      0.07      0.12        14\n",
      "        61.0       1.00      0.11      0.19        19\n",
      "\n",
      "    accuracy                           0.20       750\n",
      "   macro avg       0.28      0.21      0.20       750\n",
      "weighted avg       0.28      0.20      0.21       750\n",
      "\n"
     ]
    }
   ],
   "source": [
    "# Now let's check what feature engineering technique would be better\n",
    "\n",
    "speaker_age_pipe_pca_knn = Pipeline([\n",
    "    ('pca', PCA(n_components=0.95)),\n",
    "    ('classifier', KNeighborsClassifier(weights=\"uniform\", p=1, n_neighbors=1))\n",
    "    ])\n",
    "\n",
    "print(\"just pca:\")\n",
    "speaker_age_pipe_pca_knn.fit(train_X, train_speaker_ages)\n",
    "print(classification_report(valid_speaker_ages, speaker_age_pipe_pca_knn.predict(valid_X)))\n",
    "\n",
    "print(\"scaling + pca:\")\n",
    "speaker_age_pipe_scaler_pca_knn = Pipeline([\n",
    "    ('scaler', StandardScaler()),\n",
    "    ('pca', PCA(n_components=0.95)),\n",
    "    ('classifier', KNeighborsClassifier(weights=\"uniform\", p=1, n_neighbors=1))\n",
    "    ])\n",
    "\n",
    "speaker_age_pipe_scaler_pca_knn.fit(train_X, train_speaker_ages)\n",
    "print(classification_report(valid_speaker_ages, speaker_age_pipe_scaler_pca_knn.predict(valid_X)))\n",
    "\n",
    "# Conclusion: Both DROPPED the weighted avg score"
   ]
  },
  {
   "cell_type": "code",
   "execution_count": 89,
   "metadata": {},
   "outputs": [
    {
     "name": "stdout",
     "output_type": "stream",
     "text": [
      "just model-based feature reduction:\n",
      "              precision    recall  f1-score   support\n",
      "\n",
      "        22.0       0.00      0.00      0.00        36\n",
      "        23.0       0.06      0.03      0.04        71\n",
      "        24.0       0.08      0.07      0.07        46\n",
      "        25.0       0.13      0.05      0.07        79\n",
      "        26.0       0.26      0.12      0.17       115\n",
      "        27.0       0.32      0.12      0.18        81\n",
      "        28.0       0.09      0.17      0.12        60\n",
      "        29.0       0.08      0.04      0.06        45\n",
      "        30.0       0.07      0.17      0.10        48\n",
      "        31.0       0.12      0.17      0.14        65\n",
      "        32.0       0.14      0.09      0.11        11\n",
      "        33.0       0.06      0.07      0.06        30\n",
      "        34.0       0.15      0.18      0.17        11\n",
      "        35.0       0.04      0.18      0.06        11\n",
      "        36.0       0.00      0.00      0.00         8\n",
      "        41.0       0.00      0.00      0.00        14\n",
      "        61.0       0.27      0.21      0.24        19\n",
      "\n",
      "    accuracy                           0.10       750\n",
      "   macro avg       0.11      0.10      0.09       750\n",
      "weighted avg       0.14      0.10      0.11       750\n",
      "\n",
      "scaling + model-based feature reduction:\n",
      "              precision    recall  f1-score   support\n",
      "\n",
      "        22.0       0.10      0.08      0.09        36\n",
      "        23.0       0.20      0.07      0.10        71\n",
      "        24.0       0.12      0.37      0.19        46\n",
      "        25.0       0.44      0.10      0.16        79\n",
      "        26.0       0.38      0.13      0.19       115\n",
      "        27.0       0.29      0.20      0.23        81\n",
      "        28.0       0.12      0.43      0.19        60\n",
      "        29.0       0.43      0.20      0.27        45\n",
      "        30.0       0.13      0.08      0.10        48\n",
      "        31.0       0.31      0.06      0.10        65\n",
      "        32.0       0.07      0.45      0.12        11\n",
      "        33.0       0.22      0.30      0.25        30\n",
      "        34.0       0.07      0.27      0.11        11\n",
      "        35.0       0.62      0.45      0.53        11\n",
      "        36.0       0.00      0.00      0.00         8\n",
      "        41.0       0.25      0.07      0.11        14\n",
      "        61.0       0.50      0.11      0.17        19\n",
      "\n",
      "    accuracy                           0.18       750\n",
      "   macro avg       0.25      0.20      0.17       750\n",
      "weighted avg       0.27      0.18      0.17       750\n",
      "\n"
     ]
    }
   ],
   "source": [
    "# Pipleline for speaker age prediction with Model-based feature reduction\n",
    "speaker_age_pipe_sfmlr_knn = Pipeline([\n",
    "    ('SFM_LR', SelectFromModel(LogisticRegression(C=0.01, penalty='l1', solver='liblinear', class_weight='balanced'))),\n",
    "    ('classifier', KNeighborsClassifier(weights=\"uniform\", p=1, n_neighbors=1))\n",
    "])\n",
    "\n",
    "print(\"just model-based feature reduction:\")\n",
    "speaker_age_pipe_sfmlr_knn.fit(train_X, train_speaker_ages)\n",
    "print(classification_report(valid_speaker_ages, speaker_age_pipe_sfmlr_knn.predict(valid_X)))\n",
    "\n",
    "speaker_age_pipe_scaler_sfmlr_knn = Pipeline([\n",
    "    ('scaler', StandardScaler()),\n",
    "    ('SFM_LR', SelectFromModel(LogisticRegression(C=0.01, penalty='l1', solver='liblinear', class_weight='balanced'))),\n",
    "    ('classifier', KNeighborsClassifier(weights=\"uniform\", p=1, n_neighbors=1))\n",
    "])\n",
    "\n",
    "print(\"scaling + model-based feature reduction:\")\n",
    "speaker_age_pipe_scaler_sfmlr_knn.fit(train_X, train_speaker_ages)\n",
    "print(classification_report(valid_speaker_ages, speaker_age_pipe_scaler_sfmlr_knn.predict(valid_X)))\n",
    "\n",
    "# Conslusion\n",
    "# Both did not improve the weighted avg score "
   ]
  },
  {
   "cell_type": "code",
   "execution_count": 90,
   "metadata": {},
   "outputs": [
    {
     "name": "stdout",
     "output_type": "stream",
     "text": [
      "scaling + PCA + SVC\n"
     ]
    },
    {
     "name": "stderr",
     "output_type": "stream",
     "text": [
      "C:\\Users\\Owner\\AppData\\Roaming\\Python\\Python39\\site-packages\\sklearn\\metrics\\_classification.py:1344: UndefinedMetricWarning: Precision and F-score are ill-defined and being set to 0.0 in labels with no predicted samples. Use `zero_division` parameter to control this behavior.\n",
      "  _warn_prf(average, modifier, msg_start, len(result))\n",
      "C:\\Users\\Owner\\AppData\\Roaming\\Python\\Python39\\site-packages\\sklearn\\metrics\\_classification.py:1344: UndefinedMetricWarning: Precision and F-score are ill-defined and being set to 0.0 in labels with no predicted samples. Use `zero_division` parameter to control this behavior.\n",
      "  _warn_prf(average, modifier, msg_start, len(result))\n",
      "C:\\Users\\Owner\\AppData\\Roaming\\Python\\Python39\\site-packages\\sklearn\\metrics\\_classification.py:1344: UndefinedMetricWarning: Precision and F-score are ill-defined and being set to 0.0 in labels with no predicted samples. Use `zero_division` parameter to control this behavior.\n",
      "  _warn_prf(average, modifier, msg_start, len(result))\n"
     ]
    },
    {
     "name": "stdout",
     "output_type": "stream",
     "text": [
      "              precision    recall  f1-score   support\n",
      "\n",
      "        22.0       0.00      0.00      0.00        36\n",
      "        23.0       0.00      0.00      0.00        71\n",
      "        24.0       0.00      0.00      0.00        46\n",
      "        25.0       0.00      0.00      0.00        79\n",
      "        26.0       0.00      0.00      0.00       115\n",
      "        27.0       0.11      1.00      0.19        81\n",
      "        28.0       0.00      0.00      0.00        60\n",
      "        29.0       0.00      0.00      0.00        45\n",
      "        30.0       0.00      0.00      0.00        48\n",
      "        31.0       0.00      0.00      0.00        65\n",
      "        32.0       0.00      0.00      0.00        11\n",
      "        33.0       0.00      0.00      0.00        30\n",
      "        34.0       0.00      0.00      0.00        11\n",
      "        35.0       0.00      0.00      0.00        11\n",
      "        36.0       0.00      0.00      0.00         8\n",
      "        41.0       0.00      0.00      0.00        14\n",
      "        61.0       0.00      0.00      0.00        19\n",
      "\n",
      "    accuracy                           0.11       750\n",
      "   macro avg       0.01      0.06      0.01       750\n",
      "weighted avg       0.01      0.11      0.02       750\n",
      "\n",
      "scaling + model-based feature reduction + SVC\n",
      "              precision    recall  f1-score   support\n",
      "\n",
      "        22.0       0.00      0.00      0.00        36\n",
      "        23.0       0.00      0.00      0.00        71\n",
      "        24.0       0.00      0.00      0.00        46\n",
      "        25.0       0.00      0.00      0.00        79\n",
      "        26.0       0.00      0.00      0.00       115\n",
      "        27.0       0.11      1.00      0.19        81\n",
      "        28.0       0.00      0.00      0.00        60\n",
      "        29.0       0.00      0.00      0.00        45\n",
      "        30.0       0.00      0.00      0.00        48\n",
      "        31.0       0.00      0.00      0.00        65\n",
      "        32.0       0.00      0.00      0.00        11\n",
      "        33.0       0.00      0.00      0.00        30\n",
      "        34.0       0.00      0.00      0.00        11\n",
      "        35.0       0.00      0.00      0.00        11\n",
      "        36.0       0.00      0.00      0.00         8\n",
      "        41.0       0.00      0.00      0.00        14\n",
      "        61.0       0.00      0.00      0.00        19\n",
      "\n",
      "    accuracy                           0.11       750\n",
      "   macro avg       0.01      0.06      0.01       750\n",
      "weighted avg       0.01      0.11      0.02       750\n",
      "\n"
     ]
    },
    {
     "name": "stderr",
     "output_type": "stream",
     "text": [
      "C:\\Users\\Owner\\AppData\\Roaming\\Python\\Python39\\site-packages\\sklearn\\metrics\\_classification.py:1344: UndefinedMetricWarning: Precision and F-score are ill-defined and being set to 0.0 in labels with no predicted samples. Use `zero_division` parameter to control this behavior.\n",
      "  _warn_prf(average, modifier, msg_start, len(result))\n",
      "C:\\Users\\Owner\\AppData\\Roaming\\Python\\Python39\\site-packages\\sklearn\\metrics\\_classification.py:1344: UndefinedMetricWarning: Precision and F-score are ill-defined and being set to 0.0 in labels with no predicted samples. Use `zero_division` parameter to control this behavior.\n",
      "  _warn_prf(average, modifier, msg_start, len(result))\n",
      "C:\\Users\\Owner\\AppData\\Roaming\\Python\\Python39\\site-packages\\sklearn\\metrics\\_classification.py:1344: UndefinedMetricWarning: Precision and F-score are ill-defined and being set to 0.0 in labels with no predicted samples. Use `zero_division` parameter to control this behavior.\n",
      "  _warn_prf(average, modifier, msg_start, len(result))\n"
     ]
    }
   ],
   "source": [
    "# Just for the checking purpose let's check the same pipelines but with SVC classifier as well (It should give lower weighted_avg than KNN classifier counterparts)\n",
    "\n",
    "speaker_age_pipe_scaler_pca_svc = Pipeline([\n",
    "    ('scaler', StandardScaler()),\n",
    "    ('pca', PCA(n_components=0.95)),\n",
    "    ('classifier', SVC(class_weight='balanced'))\n",
    "    ])\n",
    "\n",
    "print(\"scaling + PCA + SVC\")\n",
    "speaker_age_pipe_scaler_pca_svc.fit(train_X, train_speaker_ages)\n",
    "print(classification_report(valid_speaker_ages, speaker_age_pipe_scaler_pca_svc.predict(valid_X)))\n",
    "\n",
    "speaker_age_pipe_scaler_sfmlr_svc = Pipeline([\n",
    "    ('scaler', StandardScaler()),\n",
    "    ('SFM_LR', SelectFromModel(LogisticRegression(C=0.01, penalty='l1', solver='liblinear', class_weight='balanced'))),\n",
    "    ('classifier', SVC(class_weight='balanced'))\n",
    "])\n",
    "\n",
    "print(\"scaling + model-based feature reduction + SVC\")\n",
    "speaker_age_pipe_scaler_sfmlr_svc.fit(train_X, train_speaker_ages)\n",
    "print(classification_report(valid_speaker_ages, speaker_age_pipe_scaler_sfmlr_svc.predict(valid_X)))\n",
    "\n",
    "# Conclusion\n",
    "# Both did not imrpve weighted avg as expected"
   ]
  },
  {
   "cell_type": "markdown",
   "metadata": {},
   "source": [
    "### Prediction on test data"
   ]
  },
  {
   "cell_type": "code",
   "execution_count": 91,
   "metadata": {},
   "outputs": [
    {
     "data": {
      "text/html": [
       "<div>\n",
       "<style scoped>\n",
       "    .dataframe tbody tr th:only-of-type {\n",
       "        vertical-align: middle;\n",
       "    }\n",
       "\n",
       "    .dataframe tbody tr th {\n",
       "        vertical-align: top;\n",
       "    }\n",
       "\n",
       "    .dataframe thead th {\n",
       "        text-align: right;\n",
       "    }\n",
       "</style>\n",
       "<table border=\"1\" class=\"dataframe\">\n",
       "  <thead>\n",
       "    <tr style=\"text-align: right;\">\n",
       "      <th></th>\n",
       "      <th>feature_1</th>\n",
       "      <th>feature_2</th>\n",
       "      <th>feature_3</th>\n",
       "      <th>feature_4</th>\n",
       "      <th>feature_5</th>\n",
       "      <th>feature_6</th>\n",
       "      <th>feature_7</th>\n",
       "      <th>feature_8</th>\n",
       "      <th>feature_9</th>\n",
       "      <th>feature_10</th>\n",
       "      <th>...</th>\n",
       "      <th>feature_759</th>\n",
       "      <th>feature_760</th>\n",
       "      <th>feature_761</th>\n",
       "      <th>feature_762</th>\n",
       "      <th>feature_763</th>\n",
       "      <th>feature_764</th>\n",
       "      <th>feature_765</th>\n",
       "      <th>feature_766</th>\n",
       "      <th>feature_767</th>\n",
       "      <th>feature_768</th>\n",
       "    </tr>\n",
       "  </thead>\n",
       "  <tbody>\n",
       "    <tr>\n",
       "      <th>0</th>\n",
       "      <td>0.124623</td>\n",
       "      <td>0.196628</td>\n",
       "      <td>0.257004</td>\n",
       "      <td>-0.156045</td>\n",
       "      <td>-0.054916</td>\n",
       "      <td>0.006071</td>\n",
       "      <td>-0.035149</td>\n",
       "      <td>-0.092019</td>\n",
       "      <td>-0.196302</td>\n",
       "      <td>0.077971</td>\n",
       "      <td>...</td>\n",
       "      <td>-0.221466</td>\n",
       "      <td>0.140292</td>\n",
       "      <td>0.123622</td>\n",
       "      <td>-0.175572</td>\n",
       "      <td>-0.107030</td>\n",
       "      <td>-0.087621</td>\n",
       "      <td>-0.026501</td>\n",
       "      <td>0.139337</td>\n",
       "      <td>-0.083030</td>\n",
       "      <td>0.059507</td>\n",
       "    </tr>\n",
       "    <tr>\n",
       "      <th>1</th>\n",
       "      <td>0.109655</td>\n",
       "      <td>0.170158</td>\n",
       "      <td>0.227644</td>\n",
       "      <td>-0.127088</td>\n",
       "      <td>-0.044476</td>\n",
       "      <td>-0.046852</td>\n",
       "      <td>-0.090026</td>\n",
       "      <td>-0.061321</td>\n",
       "      <td>-0.227288</td>\n",
       "      <td>0.066863</td>\n",
       "      <td>...</td>\n",
       "      <td>-0.204930</td>\n",
       "      <td>0.110203</td>\n",
       "      <td>0.085665</td>\n",
       "      <td>-0.286787</td>\n",
       "      <td>-0.113195</td>\n",
       "      <td>-0.057312</td>\n",
       "      <td>-0.055680</td>\n",
       "      <td>0.143939</td>\n",
       "      <td>-0.045760</td>\n",
       "      <td>0.106113</td>\n",
       "    </tr>\n",
       "    <tr>\n",
       "      <th>2</th>\n",
       "      <td>0.014854</td>\n",
       "      <td>0.030051</td>\n",
       "      <td>0.115092</td>\n",
       "      <td>-0.017179</td>\n",
       "      <td>0.002720</td>\n",
       "      <td>-0.011692</td>\n",
       "      <td>-0.078855</td>\n",
       "      <td>-0.042991</td>\n",
       "      <td>-0.096283</td>\n",
       "      <td>0.042701</td>\n",
       "      <td>...</td>\n",
       "      <td>-0.032937</td>\n",
       "      <td>0.075821</td>\n",
       "      <td>0.030987</td>\n",
       "      <td>-0.149850</td>\n",
       "      <td>-0.003155</td>\n",
       "      <td>-0.010207</td>\n",
       "      <td>-0.001427</td>\n",
       "      <td>0.000934</td>\n",
       "      <td>-0.017069</td>\n",
       "      <td>0.048123</td>\n",
       "    </tr>\n",
       "    <tr>\n",
       "      <th>3</th>\n",
       "      <td>0.196893</td>\n",
       "      <td>0.113314</td>\n",
       "      <td>0.352175</td>\n",
       "      <td>-0.108499</td>\n",
       "      <td>-0.064472</td>\n",
       "      <td>-0.073239</td>\n",
       "      <td>-0.086402</td>\n",
       "      <td>0.008671</td>\n",
       "      <td>-0.342217</td>\n",
       "      <td>0.104941</td>\n",
       "      <td>...</td>\n",
       "      <td>-0.255167</td>\n",
       "      <td>0.096579</td>\n",
       "      <td>0.069413</td>\n",
       "      <td>-0.215386</td>\n",
       "      <td>-0.075168</td>\n",
       "      <td>-0.035071</td>\n",
       "      <td>-0.023375</td>\n",
       "      <td>0.067768</td>\n",
       "      <td>-0.181530</td>\n",
       "      <td>0.174444</td>\n",
       "    </tr>\n",
       "    <tr>\n",
       "      <th>4</th>\n",
       "      <td>0.033004</td>\n",
       "      <td>0.013373</td>\n",
       "      <td>0.124001</td>\n",
       "      <td>-0.016143</td>\n",
       "      <td>0.010120</td>\n",
       "      <td>0.010635</td>\n",
       "      <td>-0.055789</td>\n",
       "      <td>-0.036282</td>\n",
       "      <td>-0.059422</td>\n",
       "      <td>0.060278</td>\n",
       "      <td>...</td>\n",
       "      <td>-0.035814</td>\n",
       "      <td>0.093764</td>\n",
       "      <td>0.027321</td>\n",
       "      <td>-0.116009</td>\n",
       "      <td>0.010096</td>\n",
       "      <td>-0.042293</td>\n",
       "      <td>0.005347</td>\n",
       "      <td>0.007722</td>\n",
       "      <td>-0.007731</td>\n",
       "      <td>0.058799</td>\n",
       "    </tr>\n",
       "  </tbody>\n",
       "</table>\n",
       "<p>5 rows × 768 columns</p>\n",
       "</div>"
      ],
      "text/plain": [
       "   feature_1  feature_2  feature_3  feature_4  feature_5  feature_6  \\\n",
       "0   0.124623   0.196628   0.257004  -0.156045  -0.054916   0.006071   \n",
       "1   0.109655   0.170158   0.227644  -0.127088  -0.044476  -0.046852   \n",
       "2   0.014854   0.030051   0.115092  -0.017179   0.002720  -0.011692   \n",
       "3   0.196893   0.113314   0.352175  -0.108499  -0.064472  -0.073239   \n",
       "4   0.033004   0.013373   0.124001  -0.016143   0.010120   0.010635   \n",
       "\n",
       "   feature_7  feature_8  feature_9  feature_10  ...  feature_759  feature_760  \\\n",
       "0  -0.035149  -0.092019  -0.196302    0.077971  ...    -0.221466     0.140292   \n",
       "1  -0.090026  -0.061321  -0.227288    0.066863  ...    -0.204930     0.110203   \n",
       "2  -0.078855  -0.042991  -0.096283    0.042701  ...    -0.032937     0.075821   \n",
       "3  -0.086402   0.008671  -0.342217    0.104941  ...    -0.255167     0.096579   \n",
       "4  -0.055789  -0.036282  -0.059422    0.060278  ...    -0.035814     0.093764   \n",
       "\n",
       "   feature_761  feature_762  feature_763  feature_764  feature_765  \\\n",
       "0     0.123622    -0.175572    -0.107030    -0.087621    -0.026501   \n",
       "1     0.085665    -0.286787    -0.113195    -0.057312    -0.055680   \n",
       "2     0.030987    -0.149850    -0.003155    -0.010207    -0.001427   \n",
       "3     0.069413    -0.215386    -0.075168    -0.035071    -0.023375   \n",
       "4     0.027321    -0.116009     0.010096    -0.042293     0.005347   \n",
       "\n",
       "   feature_766  feature_767  feature_768  \n",
       "0     0.139337    -0.083030     0.059507  \n",
       "1     0.143939    -0.045760     0.106113  \n",
       "2     0.000934    -0.017069     0.048123  \n",
       "3     0.067768    -0.181530     0.174444  \n",
       "4     0.007722    -0.007731     0.058799  \n",
       "\n",
       "[5 rows x 768 columns]"
      ]
     },
     "execution_count": 91,
     "metadata": {},
     "output_type": "execute_result"
    }
   ],
   "source": [
    "test_X.head()"
   ]
  },
  {
   "cell_type": "code",
   "execution_count": 93,
   "metadata": {},
   "outputs": [
    {
     "name": "stdout",
     "output_type": "stream",
     "text": [
      "(744,)\n"
     ]
    }
   ],
   "source": [
    "# Let's use best performing pipeline to make predictions for the test data\n",
    "pred_speaker_ages_test = speaker_age_pipe_knn.predict(test_X)\n",
    "print(pred_speaker_ages_test.shape)"
   ]
  },
  {
   "cell_type": "code",
   "execution_count": 94,
   "metadata": {},
   "outputs": [
    {
     "data": {
      "text/html": [
       "<div>\n",
       "<style scoped>\n",
       "    .dataframe tbody tr th:only-of-type {\n",
       "        vertical-align: middle;\n",
       "    }\n",
       "\n",
       "    .dataframe tbody tr th {\n",
       "        vertical-align: top;\n",
       "    }\n",
       "\n",
       "    .dataframe thead th {\n",
       "        text-align: right;\n",
       "    }\n",
       "</style>\n",
       "<table border=\"1\" class=\"dataframe\">\n",
       "  <thead>\n",
       "    <tr style=\"text-align: right;\">\n",
       "      <th></th>\n",
       "      <th>label_2</th>\n",
       "    </tr>\n",
       "  </thead>\n",
       "  <tbody>\n",
       "    <tr>\n",
       "      <th>0</th>\n",
       "      <td>22.0</td>\n",
       "    </tr>\n",
       "    <tr>\n",
       "      <th>1</th>\n",
       "      <td>25.0</td>\n",
       "    </tr>\n",
       "    <tr>\n",
       "      <th>2</th>\n",
       "      <td>30.0</td>\n",
       "    </tr>\n",
       "    <tr>\n",
       "      <th>3</th>\n",
       "      <td>27.0</td>\n",
       "    </tr>\n",
       "    <tr>\n",
       "      <th>4</th>\n",
       "      <td>29.0</td>\n",
       "    </tr>\n",
       "  </tbody>\n",
       "</table>\n",
       "</div>"
      ],
      "text/plain": [
       "   label_2\n",
       "0     22.0\n",
       "1     25.0\n",
       "2     30.0\n",
       "3     27.0\n",
       "4     29.0"
      ]
     },
     "execution_count": 94,
     "metadata": {},
     "output_type": "execute_result"
    }
   ],
   "source": [
    "pred_speaker_age_test = pd.DataFrame(pred_speaker_ages_test, columns=['label_2'])\n",
    "pred_speaker_age_test.head()"
   ]
  },
  {
   "cell_type": "code",
   "execution_count": 95,
   "metadata": {},
   "outputs": [
    {
     "data": {
      "text/html": [
       "<div>\n",
       "<style scoped>\n",
       "    .dataframe tbody tr th:only-of-type {\n",
       "        vertical-align: middle;\n",
       "    }\n",
       "\n",
       "    .dataframe tbody tr th {\n",
       "        vertical-align: top;\n",
       "    }\n",
       "\n",
       "    .dataframe thead th {\n",
       "        text-align: right;\n",
       "    }\n",
       "</style>\n",
       "<table border=\"1\" class=\"dataframe\">\n",
       "  <thead>\n",
       "    <tr style=\"text-align: right;\">\n",
       "      <th></th>\n",
       "      <th>ID</th>\n",
       "      <th>label_1</th>\n",
       "    </tr>\n",
       "  </thead>\n",
       "  <tbody>\n",
       "    <tr>\n",
       "      <th>0</th>\n",
       "      <td>1</td>\n",
       "      <td>26</td>\n",
       "    </tr>\n",
       "    <tr>\n",
       "      <th>1</th>\n",
       "      <td>2</td>\n",
       "      <td>18</td>\n",
       "    </tr>\n",
       "    <tr>\n",
       "      <th>2</th>\n",
       "      <td>3</td>\n",
       "      <td>16</td>\n",
       "    </tr>\n",
       "    <tr>\n",
       "      <th>3</th>\n",
       "      <td>4</td>\n",
       "      <td>7</td>\n",
       "    </tr>\n",
       "    <tr>\n",
       "      <th>4</th>\n",
       "      <td>5</td>\n",
       "      <td>58</td>\n",
       "    </tr>\n",
       "  </tbody>\n",
       "</table>\n",
       "</div>"
      ],
      "text/plain": [
       "   ID  label_1\n",
       "0   1       26\n",
       "1   2       18\n",
       "2   3       16\n",
       "3   4        7\n",
       "4   5       58"
      ]
     },
     "execution_count": 95,
     "metadata": {},
     "output_type": "execute_result"
    }
   ],
   "source": [
    "pred_test.head() # pred_test was already created (when doing prediction of speaker_ID)"
   ]
  },
  {
   "cell_type": "code",
   "execution_count": 96,
   "metadata": {},
   "outputs": [],
   "source": [
    "if \"label_2\" not in pred_test.columns:\n",
    "    pred_test.insert(2, \"label_2\", pred_speaker_age_test['label_2'])\n",
    "else:\n",
    "    print(f\"Column : label_2 already exists\")"
   ]
  },
  {
   "cell_type": "code",
   "execution_count": 97,
   "metadata": {},
   "outputs": [
    {
     "data": {
      "text/html": [
       "<div>\n",
       "<style scoped>\n",
       "    .dataframe tbody tr th:only-of-type {\n",
       "        vertical-align: middle;\n",
       "    }\n",
       "\n",
       "    .dataframe tbody tr th {\n",
       "        vertical-align: top;\n",
       "    }\n",
       "\n",
       "    .dataframe thead th {\n",
       "        text-align: right;\n",
       "    }\n",
       "</style>\n",
       "<table border=\"1\" class=\"dataframe\">\n",
       "  <thead>\n",
       "    <tr style=\"text-align: right;\">\n",
       "      <th></th>\n",
       "      <th>ID</th>\n",
       "      <th>label_1</th>\n",
       "      <th>label_2</th>\n",
       "    </tr>\n",
       "  </thead>\n",
       "  <tbody>\n",
       "    <tr>\n",
       "      <th>0</th>\n",
       "      <td>1</td>\n",
       "      <td>26</td>\n",
       "      <td>22.0</td>\n",
       "    </tr>\n",
       "    <tr>\n",
       "      <th>1</th>\n",
       "      <td>2</td>\n",
       "      <td>18</td>\n",
       "      <td>25.0</td>\n",
       "    </tr>\n",
       "    <tr>\n",
       "      <th>2</th>\n",
       "      <td>3</td>\n",
       "      <td>16</td>\n",
       "      <td>30.0</td>\n",
       "    </tr>\n",
       "    <tr>\n",
       "      <th>3</th>\n",
       "      <td>4</td>\n",
       "      <td>7</td>\n",
       "      <td>27.0</td>\n",
       "    </tr>\n",
       "    <tr>\n",
       "      <th>4</th>\n",
       "      <td>5</td>\n",
       "      <td>58</td>\n",
       "      <td>29.0</td>\n",
       "    </tr>\n",
       "  </tbody>\n",
       "</table>\n",
       "</div>"
      ],
      "text/plain": [
       "   ID  label_1  label_2\n",
       "0   1       26     22.0\n",
       "1   2       18     25.0\n",
       "2   3       16     30.0\n",
       "3   4        7     27.0\n",
       "4   5       58     29.0"
      ]
     },
     "execution_count": 97,
     "metadata": {},
     "output_type": "execute_result"
    }
   ],
   "source": [
    "pred_test.head()"
   ]
  },
  {
   "cell_type": "markdown",
   "metadata": {},
   "source": [
    "## For speaker_gender"
   ]
  },
  {
   "cell_type": "code",
   "execution_count": 99,
   "metadata": {},
   "outputs": [
    {
     "data": {
      "text/plain": [
       "<Axes: >"
      ]
     },
     "execution_count": 99,
     "metadata": {},
     "output_type": "execute_result"
    },
    {
     "data": {
      "image/png": "[encoded data removed]",
      "text/plain": [
       "<Figure size 640x480 with 1 Axes>"
      ]
     },
     "metadata": {},
     "output_type": "display_data"
    }
   ],
   "source": [
    "train_df.speaker_gender.value_counts().plot.bar()"
   ]
  },
  {
   "cell_type": "markdown",
   "metadata": {},
   "source": [
    "### Training"
   ]
  },
  {
   "cell_type": "code",
   "execution_count": 100,
   "metadata": {},
   "outputs": [],
   "source": [
    "#  Note: \n",
    "# There is a class imbalance issue in speaker_gender values. As a solution we can use class_weight='balanced' parameter.\n",
    "# And will  use weighted avg metric when taking desicions \n",
    "\n",
    "#Let's choose a good classifer\n",
    "\n",
    "speaker_gender_scaler_lr = Pipeline([\n",
    "    ('scaler', StandardScaler()),\n",
    "    ('classifier', LogisticRegression(class_weight=\"balanced\"))\n",
    "])\n",
    "\n",
    "speaker_gender_scaler_svc_linear = Pipeline([\n",
    "    ('scaler', StandardScaler()),\n",
    "    ('classifier', SVC(class_weight=\"balanced\", kernel='linear'))\n",
    "])\n",
    "\n",
    "speaker_gender_scaler_svc_rbf = Pipeline([\n",
    "    ('scaler', StandardScaler()),\n",
    "    ('classifier', SVC(class_weight=\"balanced\", kernel='rbf'))\n",
    "])\n",
    "\n",
    "speaker_gender_rfc = Pipeline([\n",
    "    ('classifier', RandomForestClassifier(class_weight=\"balanced\"))\n",
    "])\n",
    "\n",
    "speaker_gender_scaler_knn = Pipeline([\n",
    "    ('scaler', StandardScaler()),\n",
    "    ('classifier', KNeighborsClassifier())\n",
    "])"
   ]
  },
  {
   "cell_type": "code",
   "execution_count": 101,
   "metadata": {},
   "outputs": [
    {
     "name": "stdout",
     "output_type": "stream",
     "text": [
      "Classifier = LogisticRegression\n"
     ]
    },
    {
     "name": "stderr",
     "output_type": "stream",
     "text": [
      "C:\\Users\\Owner\\AppData\\Roaming\\Python\\Python39\\site-packages\\sklearn\\linear_model\\_logistic.py:458: ConvergenceWarning: lbfgs failed to converge (status=1):\n",
      "STOP: TOTAL NO. of ITERATIONS REACHED LIMIT.\n",
      "\n",
      "Increase the number of iterations (max_iter) or scale the data as shown in:\n",
      "    https://scikit-learn.org/stable/modules/preprocessing.html\n",
      "Please also refer to the documentation for alternative solver options:\n",
      "    https://scikit-learn.org/stable/modules/linear_model.html#logistic-regression\n",
      "  n_iter_i = _check_optimize_result(\n"
     ]
    },
    {
     "name": "stdout",
     "output_type": "stream",
     "text": [
      "              precision    recall  f1-score   support\n",
      "\n",
      "           0       0.70      0.34      0.45       142\n",
      "           1       0.86      0.97      0.91       608\n",
      "\n",
      "    accuracy                           0.85       750\n",
      "   macro avg       0.78      0.65      0.68       750\n",
      "weighted avg       0.83      0.85      0.82       750\n",
      "\n",
      "Classifier = SVC (linear)\n",
      "              precision    recall  f1-score   support\n",
      "\n",
      "           0       0.42      0.81      0.55       142\n",
      "           1       0.94      0.74      0.83       608\n",
      "\n",
      "    accuracy                           0.75       750\n",
      "   macro avg       0.68      0.77      0.69       750\n",
      "weighted avg       0.84      0.75      0.78       750\n",
      "\n",
      "Classifier = SVC (rbf)\n"
     ]
    },
    {
     "name": "stderr",
     "output_type": "stream",
     "text": [
      "C:\\Users\\Owner\\AppData\\Roaming\\Python\\Python39\\site-packages\\sklearn\\metrics\\_classification.py:1344: UndefinedMetricWarning: Precision and F-score are ill-defined and being set to 0.0 in labels with no predicted samples. Use `zero_division` parameter to control this behavior.\n",
      "  _warn_prf(average, modifier, msg_start, len(result))\n",
      "C:\\Users\\Owner\\AppData\\Roaming\\Python\\Python39\\site-packages\\sklearn\\metrics\\_classification.py:1344: UndefinedMetricWarning: Precision and F-score are ill-defined and being set to 0.0 in labels with no predicted samples. Use `zero_division` parameter to control this behavior.\n",
      "  _warn_prf(average, modifier, msg_start, len(result))\n",
      "C:\\Users\\Owner\\AppData\\Roaming\\Python\\Python39\\site-packages\\sklearn\\metrics\\_classification.py:1344: UndefinedMetricWarning: Precision and F-score are ill-defined and being set to 0.0 in labels with no predicted samples. Use `zero_division` parameter to control this behavior.\n",
      "  _warn_prf(average, modifier, msg_start, len(result))\n"
     ]
    },
    {
     "name": "stdout",
     "output_type": "stream",
     "text": [
      "              precision    recall  f1-score   support\n",
      "\n",
      "           0       0.00      0.00      0.00       142\n",
      "           1       0.81      1.00      0.90       608\n",
      "\n",
      "    accuracy                           0.81       750\n",
      "   macro avg       0.41      0.50      0.45       750\n",
      "weighted avg       0.66      0.81      0.73       750\n",
      "\n",
      "Classifier = RandomForestClassifier\n"
     ]
    },
    {
     "name": "stderr",
     "output_type": "stream",
     "text": [
      "C:\\Users\\Owner\\AppData\\Roaming\\Python\\Python39\\site-packages\\sklearn\\metrics\\_classification.py:1344: UndefinedMetricWarning: Precision and F-score are ill-defined and being set to 0.0 in labels with no predicted samples. Use `zero_division` parameter to control this behavior.\n",
      "  _warn_prf(average, modifier, msg_start, len(result))\n",
      "C:\\Users\\Owner\\AppData\\Roaming\\Python\\Python39\\site-packages\\sklearn\\metrics\\_classification.py:1344: UndefinedMetricWarning: Precision and F-score are ill-defined and being set to 0.0 in labels with no predicted samples. Use `zero_division` parameter to control this behavior.\n",
      "  _warn_prf(average, modifier, msg_start, len(result))\n",
      "C:\\Users\\Owner\\AppData\\Roaming\\Python\\Python39\\site-packages\\sklearn\\metrics\\_classification.py:1344: UndefinedMetricWarning: Precision and F-score are ill-defined and being set to 0.0 in labels with no predicted samples. Use `zero_division` parameter to control this behavior.\n",
      "  _warn_prf(average, modifier, msg_start, len(result))\n"
     ]
    },
    {
     "name": "stdout",
     "output_type": "stream",
     "text": [
      "              precision    recall  f1-score   support\n",
      "\n",
      "           0       0.00      0.00      0.00       142\n",
      "           1       0.81      1.00      0.90       608\n",
      "\n",
      "    accuracy                           0.81       750\n",
      "   macro avg       0.41      0.50      0.45       750\n",
      "weighted avg       0.66      0.81      0.73       750\n",
      "\n",
      "Classifier = KNeighborsClassifier\n",
      "              precision    recall  f1-score   support\n",
      "\n",
      "           0       0.41      0.68      0.51       142\n",
      "           1       0.91      0.77      0.84       608\n",
      "\n",
      "    accuracy                           0.75       750\n",
      "   macro avg       0.66      0.72      0.67       750\n",
      "weighted avg       0.82      0.75      0.77       750\n",
      "\n"
     ]
    }
   ],
   "source": [
    "print(\"Classifier = LogisticRegression\")\n",
    "speaker_gender_scaler_lr.fit(train_X, train_speaker_genders)\n",
    "print(classification_report(valid_speaker_genders, speaker_gender_scaler_lr.predict(valid_X)))\n",
    "\n",
    "print(\"Classifier = SVC (linear)\")\n",
    "speaker_gender_scaler_svc_linear.fit(train_X, train_speaker_genders)\n",
    "print(classification_report(valid_speaker_genders, speaker_gender_scaler_svc_linear.predict(valid_X)))\n",
    "\n",
    "print(\"Classifier = SVC (rbf)\")\n",
    "speaker_gender_scaler_svc_rbf.fit(train_X, train_speaker_genders)\n",
    "print(classification_report(valid_speaker_genders, speaker_gender_scaler_svc_rbf.predict(valid_X)))\n",
    "\n",
    "print(\"Classifier = RandomForestClassifier\")\n",
    "speaker_gender_rfc.fit(train_X, train_speaker_genders)\n",
    "print(classification_report(valid_speaker_genders, speaker_gender_rfc.predict(valid_X)))\n",
    "\n",
    "print(\"Classifier = KNeighborsClassifier\")\n",
    "speaker_gender_scaler_knn.fit(train_X, train_speaker_genders)\n",
    "print(classification_report(valid_speaker_genders, speaker_gender_scaler_knn.predict(valid_X)))\n",
    "\n",
    "# Conslusion after running:\n",
    "# weighted avg of Logistic Regression (pipename=speaker_gender_scaler_lr)  was the highest (0.82)"
   ]
  },
  {
   "cell_type": "code",
   "execution_count": 102,
   "metadata": {},
   "outputs": [
    {
     "name": "stdout",
     "output_type": "stream",
     "text": [
      "              precision    recall  f1-score   support\n",
      "\n",
      "           0       0.74      0.63      0.68       142\n",
      "           1       0.92      0.95      0.93       608\n",
      "\n",
      "    accuracy                           0.89       750\n",
      "   macro avg       0.83      0.79      0.81       750\n",
      "weighted avg       0.88      0.89      0.88       750\n",
      "\n"
     ]
    },
    {
     "name": "stderr",
     "output_type": "stream",
     "text": [
      "C:\\Users\\Owner\\AppData\\Roaming\\Python\\Python39\\site-packages\\sklearn\\linear_model\\_logistic.py:458: ConvergenceWarning: lbfgs failed to converge (status=1):\n",
      "STOP: TOTAL NO. of ITERATIONS REACHED LIMIT.\n",
      "\n",
      "Increase the number of iterations (max_iter) or scale the data as shown in:\n",
      "    https://scikit-learn.org/stable/modules/preprocessing.html\n",
      "Please also refer to the documentation for alternative solver options:\n",
      "    https://scikit-learn.org/stable/modules/linear_model.html#logistic-regression\n",
      "  n_iter_i = _check_optimize_result(\n"
     ]
    }
   ],
   "source": [
    "# now let's check if we do not do feature scaling would\n",
    "# it improve the performance\n",
    "\n",
    "speaker_gender_pipe_lr = Pipeline([\n",
    "    # ('scaler', StandardScaler()),\n",
    "    ('classifier', LogisticRegression(class_weight=\"balanced\"))\n",
    "])\n",
    "speaker_gender_pipe_lr.fit(train_X, train_speaker_genders)\n",
    "print(classification_report(valid_speaker_genders, speaker_gender_pipe_lr.predict(valid_X)))\n",
    "\n",
    "# Conslusion after running \n",
    "# Weighted avg IMPROVED to 0.88 ==> therefore let's not keep the feature scaling"
   ]
  },
  {
   "cell_type": "code",
   "execution_count": 113,
   "metadata": {},
   "outputs": [
    {
     "name": "stdout",
     "output_type": "stream",
     "text": [
      "just pca:\n",
      "              precision    recall  f1-score   support\n",
      "\n",
      "           0       0.61      0.87      0.72       142\n",
      "           1       0.97      0.87      0.92       608\n",
      "\n",
      "    accuracy                           0.87       750\n",
      "   macro avg       0.79      0.87      0.82       750\n",
      "weighted avg       0.90      0.87      0.88       750\n",
      "\n",
      "scaling + pca:\n",
      "              precision    recall  f1-score   support\n",
      "\n",
      "           0       0.56      0.68      0.62       142\n",
      "           1       0.92      0.88      0.90       608\n",
      "\n",
      "    accuracy                           0.84       750\n",
      "   macro avg       0.74      0.78      0.76       750\n",
      "weighted avg       0.85      0.84      0.85       750\n",
      "\n"
     ]
    },
    {
     "name": "stderr",
     "output_type": "stream",
     "text": [
      "C:\\Users\\Owner\\AppData\\Roaming\\Python\\Python39\\site-packages\\sklearn\\linear_model\\_logistic.py:458: ConvergenceWarning: lbfgs failed to converge (status=1):\n",
      "STOP: TOTAL NO. of ITERATIONS REACHED LIMIT.\n",
      "\n",
      "Increase the number of iterations (max_iter) or scale the data as shown in:\n",
      "    https://scikit-learn.org/stable/modules/preprocessing.html\n",
      "Please also refer to the documentation for alternative solver options:\n",
      "    https://scikit-learn.org/stable/modules/linear_model.html#logistic-regression\n",
      "  n_iter_i = _check_optimize_result(\n"
     ]
    }
   ],
   "source": [
    "# Now let's check what feature engineering technique would be better\n",
    "\n",
    "speaker_gender_pipe_pca_knn = Pipeline([\n",
    "    ('pca', PCA(n_components=0.95)),\n",
    "    ('classifier', LogisticRegression(class_weight=\"balanced\"))\n",
    "    ])\n",
    "\n",
    "print(\"just pca:\")\n",
    "speaker_gender_pipe_pca_knn.fit(train_X, train_speaker_genders)\n",
    "print(classification_report(valid_speaker_genders, speaker_gender_pipe_pca_knn.predict(valid_X)))\n",
    "\n",
    "print(\"scaling + pca:\")\n",
    "speaker_gender_pipe_scaler_pca_knn = Pipeline([\n",
    "    ('scaler', StandardScaler()),\n",
    "    ('pca', PCA(n_components=0.95)),\n",
    "    ('classifier', LogisticRegression(class_weight=\"balanced\"))\n",
    "    ])\n",
    "\n",
    "speaker_gender_pipe_scaler_pca_knn.fit(train_X, train_speaker_genders)\n",
    "print(classification_report(valid_speaker_genders, speaker_gender_pipe_scaler_pca_knn.predict(valid_X)))\n",
    "\n",
    "# Conclusion: jsut PCA gave the same weighted avg ==> Let's try to hyperparameter tune it"
   ]
  },
  {
   "cell_type": "code",
   "execution_count": 114,
   "metadata": {},
   "outputs": [
    {
     "name": "stdout",
     "output_type": "stream",
     "text": [
      "just model-based feature reduction:\n",
      "              precision    recall  f1-score   support\n",
      "\n",
      "           0       0.48      0.54      0.51       142\n",
      "           1       0.89      0.87      0.88       608\n",
      "\n",
      "    accuracy                           0.80       750\n",
      "   macro avg       0.68      0.70      0.69       750\n",
      "weighted avg       0.81      0.80      0.81       750\n",
      "\n",
      "scaling + model-based feature reduction:\n",
      "              precision    recall  f1-score   support\n",
      "\n",
      "           0       0.59      0.30      0.40       142\n",
      "           1       0.85      0.95      0.90       608\n",
      "\n",
      "    accuracy                           0.83       750\n",
      "   macro avg       0.72      0.63      0.65       750\n",
      "weighted avg       0.80      0.83      0.81       750\n",
      "\n"
     ]
    }
   ],
   "source": [
    "# Pipleline for speaker age prediction with Model-based feature reduction\n",
    "speaker_gender_pipe_sfmlr_knn = Pipeline([\n",
    "    ('SFM_LR', SelectFromModel(LogisticRegression(C=0.01, penalty='l1', solver='liblinear', class_weight='balanced'))),\n",
    "    ('classifier', KNeighborsClassifier(weights=\"uniform\", p=1, n_neighbors=1))\n",
    "])\n",
    "\n",
    "print(\"just model-based feature reduction:\")\n",
    "speaker_gender_pipe_sfmlr_knn.fit(train_X, train_speaker_genders)\n",
    "print(classification_report(valid_speaker_genders, speaker_gender_pipe_sfmlr_knn.predict(valid_X)))\n",
    "\n",
    "speaker_gender_pipe_scaler_sfmlr_knn = Pipeline([\n",
    "    ('scaler', StandardScaler()),\n",
    "    ('SFM_LR', SelectFromModel(LogisticRegression(C=0.01, penalty='l1', solver='liblinear', class_weight='balanced'))),\n",
    "    ('classifier', KNeighborsClassifier(weights=\"uniform\", p=1, n_neighbors=1))\n",
    "])\n",
    "\n",
    "print(\"scaling + model-based feature reduction:\")\n",
    "speaker_gender_pipe_scaler_sfmlr_knn.fit(train_X, train_speaker_genders)\n",
    "print(classification_report(valid_speaker_genders, speaker_gender_pipe_scaler_sfmlr_knn.predict(valid_X)))\n",
    "\n",
    "# Conslusion\n",
    "# Both did not improve the weighted avg score "
   ]
  },
  {
   "cell_type": "markdown",
   "metadata": {},
   "source": [
    "#### Hyperparameter tuning"
   ]
  },
  {
   "cell_type": "code",
   "execution_count": 122,
   "metadata": {},
   "outputs": [],
   "source": [
    "param_grid = {\n",
    "    'pca__n_components': [0.90, 0.95, 0.99],  # Variance retained by PCA\n",
    "}\n",
    "\n",
    "grid_search = GridSearchCV(estimator=speaker_gender_pipe_pca_knn, param_grid=param_grid, scoring='balanced_accuracy', cv=3, n_jobs=-1, verbose=3)\n"
   ]
  },
  {
   "cell_type": "code",
   "execution_count": 123,
   "metadata": {},
   "outputs": [
    {
     "name": "stdout",
     "output_type": "stream",
     "text": [
      "Fitting 3 folds for each of 3 candidates, totalling 9 fits\n"
     ]
    },
    {
     "name": "stderr",
     "output_type": "stream",
     "text": [
      "C:\\Users\\Owner\\AppData\\Roaming\\Python\\Python39\\site-packages\\sklearn\\linear_model\\_logistic.py:458: ConvergenceWarning: lbfgs failed to converge (status=1):\n",
      "STOP: TOTAL NO. of ITERATIONS REACHED LIMIT.\n",
      "\n",
      "Increase the number of iterations (max_iter) or scale the data as shown in:\n",
      "    https://scikit-learn.org/stable/modules/preprocessing.html\n",
      "Please also refer to the documentation for alternative solver options:\n",
      "    https://scikit-learn.org/stable/modules/linear_model.html#logistic-regression\n",
      "  n_iter_i = _check_optimize_result(\n"
     ]
    },
    {
     "data": {
      "text/html": [
       "<style>#sk-container-id-7 {color: black;background-color: white;}#sk-container-id-7 pre{padding: 0;}#sk-container-id-7 div.sk-toggleable {background-color: white;}#sk-container-id-7 label.sk-toggleable__label {cursor: pointer;display: block;width: 100%;margin-bottom: 0;padding: 0.3em;box-sizing: border-box;text-align: center;}#sk-container-id-7 label.sk-toggleable__label-arrow:before {content: \"▸\";float: left;margin-right: 0.25em;color: #696969;}#sk-container-id-7 label.sk-toggleable__label-arrow:hover:before {color: black;}#sk-container-id-7 div.sk-estimator:hover label.sk-toggleable__label-arrow:before {color: black;}#sk-container-id-7 div.sk-toggleable__content {max-height: 0;max-width: 0;overflow: hidden;text-align: left;background-color: #f0f8ff;}#sk-container-id-7 div.sk-toggleable__content pre {margin: 0.2em;color: black;border-radius: 0.25em;background-color: #f0f8ff;}#sk-container-id-7 input.sk-toggleable__control:checked~div.sk-toggleable__content {max-height: 200px;max-width: 100%;overflow: auto;}#sk-container-id-7 input.sk-toggleable__control:checked~label.sk-toggleable__label-arrow:before {content: \"▾\";}#sk-container-id-7 div.sk-estimator input.sk-toggleable__control:checked~label.sk-toggleable__label {background-color: #d4ebff;}#sk-container-id-7 div.sk-label input.sk-toggleable__control:checked~label.sk-toggleable__label {background-color: #d4ebff;}#sk-container-id-7 input.sk-hidden--visually {border: 0;clip: rect(1px 1px 1px 1px);clip: rect(1px, 1px, 1px, 1px);height: 1px;margin: -1px;overflow: hidden;padding: 0;position: absolute;width: 1px;}#sk-container-id-7 div.sk-estimator {font-family: monospace;background-color: #f0f8ff;border: 1px dotted black;border-radius: 0.25em;box-sizing: border-box;margin-bottom: 0.5em;}#sk-container-id-7 div.sk-estimator:hover {background-color: #d4ebff;}#sk-container-id-7 div.sk-parallel-item::after {content: \"\";width: 100%;border-bottom: 1px solid gray;flex-grow: 1;}#sk-container-id-7 div.sk-label:hover label.sk-toggleable__label {background-color: #d4ebff;}#sk-container-id-7 div.sk-serial::before {content: \"\";position: absolute;border-left: 1px solid gray;box-sizing: border-box;top: 0;bottom: 0;left: 50%;z-index: 0;}#sk-container-id-7 div.sk-serial {display: flex;flex-direction: column;align-items: center;background-color: white;padding-right: 0.2em;padding-left: 0.2em;position: relative;}#sk-container-id-7 div.sk-item {position: relative;z-index: 1;}#sk-container-id-7 div.sk-parallel {display: flex;align-items: stretch;justify-content: center;background-color: white;position: relative;}#sk-container-id-7 div.sk-item::before, #sk-container-id-7 div.sk-parallel-item::before {content: \"\";position: absolute;border-left: 1px solid gray;box-sizing: border-box;top: 0;bottom: 0;left: 50%;z-index: -1;}#sk-container-id-7 div.sk-parallel-item {display: flex;flex-direction: column;z-index: 1;position: relative;background-color: white;}#sk-container-id-7 div.sk-parallel-item:first-child::after {align-self: flex-end;width: 50%;}#sk-container-id-7 div.sk-parallel-item:last-child::after {align-self: flex-start;width: 50%;}#sk-container-id-7 div.sk-parallel-item:only-child::after {width: 0;}#sk-container-id-7 div.sk-dashed-wrapped {border: 1px dashed gray;margin: 0 0.4em 0.5em 0.4em;box-sizing: border-box;padding-bottom: 0.4em;background-color: white;}#sk-container-id-7 div.sk-label label {font-family: monospace;font-weight: bold;display: inline-block;line-height: 1.2em;}#sk-container-id-7 div.sk-label-container {text-align: center;}#sk-container-id-7 div.sk-container {/* jupyter's `normalize.less` sets `[hidden] { display: none; }` but bootstrap.min.css set `[hidden] { display: none !important; }` so we also need the `!important` here to be able to override the default hidden behavior on the sphinx rendered scikit-learn.org. See: https://github.com/scikit-learn/scikit-learn/issues/21755 */display: inline-block !important;position: relative;}#sk-container-id-7 div.sk-text-repr-fallback {display: none;}</style><div id=\"sk-container-id-7\" class=\"sk-top-container\"><div class=\"sk-text-repr-fallback\"><pre>GridSearchCV(cv=3,\n",
       "             estimator=Pipeline(steps=[(&#x27;pca&#x27;, PCA(n_components=0.95)),\n",
       "                                       (&#x27;classifier&#x27;,\n",
       "                                        LogisticRegression(class_weight=&#x27;balanced&#x27;))]),\n",
       "             n_jobs=-1, param_grid={&#x27;pca__n_components&#x27;: [0.9, 0.95, 0.99]},\n",
       "             scoring=&#x27;balanced_accuracy&#x27;, verbose=3)</pre><b>In a Jupyter environment, please rerun this cell to show the HTML representation or trust the notebook. <br />On GitHub, the HTML representation is unable to render, please try loading this page with nbviewer.org.</b></div><div class=\"sk-container\" hidden><div class=\"sk-item sk-dashed-wrapped\"><div class=\"sk-label-container\"><div class=\"sk-label sk-toggleable\"><input class=\"sk-toggleable__control sk-hidden--visually\" id=\"sk-estimator-id-23\" type=\"checkbox\" ><label for=\"sk-estimator-id-23\" class=\"sk-toggleable__label sk-toggleable__label-arrow\">GridSearchCV</label><div class=\"sk-toggleable__content\"><pre>GridSearchCV(cv=3,\n",
       "             estimator=Pipeline(steps=[(&#x27;pca&#x27;, PCA(n_components=0.95)),\n",
       "                                       (&#x27;classifier&#x27;,\n",
       "                                        LogisticRegression(class_weight=&#x27;balanced&#x27;))]),\n",
       "             n_jobs=-1, param_grid={&#x27;pca__n_components&#x27;: [0.9, 0.95, 0.99]},\n",
       "             scoring=&#x27;balanced_accuracy&#x27;, verbose=3)</pre></div></div></div><div class=\"sk-parallel\"><div class=\"sk-parallel-item\"><div class=\"sk-item\"><div class=\"sk-label-container\"><div class=\"sk-label sk-toggleable\"><input class=\"sk-toggleable__control sk-hidden--visually\" id=\"sk-estimator-id-24\" type=\"checkbox\" ><label for=\"sk-estimator-id-24\" class=\"sk-toggleable__label sk-toggleable__label-arrow\">estimator: Pipeline</label><div class=\"sk-toggleable__content\"><pre>Pipeline(steps=[(&#x27;pca&#x27;, PCA(n_components=0.95)),\n",
       "                (&#x27;classifier&#x27;, LogisticRegression(class_weight=&#x27;balanced&#x27;))])</pre></div></div></div><div class=\"sk-serial\"><div class=\"sk-item\"><div class=\"sk-serial\"><div class=\"sk-item\"><div class=\"sk-estimator sk-toggleable\"><input class=\"sk-toggleable__control sk-hidden--visually\" id=\"sk-estimator-id-25\" type=\"checkbox\" ><label for=\"sk-estimator-id-25\" class=\"sk-toggleable__label sk-toggleable__label-arrow\">PCA</label><div class=\"sk-toggleable__content\"><pre>PCA(n_components=0.95)</pre></div></div></div><div class=\"sk-item\"><div class=\"sk-estimator sk-toggleable\"><input class=\"sk-toggleable__control sk-hidden--visually\" id=\"sk-estimator-id-26\" type=\"checkbox\" ><label for=\"sk-estimator-id-26\" class=\"sk-toggleable__label sk-toggleable__label-arrow\">LogisticRegression</label><div class=\"sk-toggleable__content\"><pre>LogisticRegression(class_weight=&#x27;balanced&#x27;)</pre></div></div></div></div></div></div></div></div></div></div></div></div>"
      ],
      "text/plain": [
       "GridSearchCV(cv=3,\n",
       "             estimator=Pipeline(steps=[('pca', PCA(n_components=0.95)),\n",
       "                                       ('classifier',\n",
       "                                        LogisticRegression(class_weight='balanced'))]),\n",
       "             n_jobs=-1, param_grid={'pca__n_components': [0.9, 0.95, 0.99]},\n",
       "             scoring='balanced_accuracy', verbose=3)"
      ]
     },
     "execution_count": 123,
     "metadata": {},
     "output_type": "execute_result"
    }
   ],
   "source": [
    "grid_search.fit(train_X, train_speaker_genders)"
   ]
  },
  {
   "cell_type": "code",
   "execution_count": null,
   "metadata": {},
   "outputs": [],
   "source": [
    "print(\"Best Hyperparameters: \", grid_search.best_params_)"
   ]
  },
  {
   "cell_type": "markdown",
   "metadata": {},
   "source": [
    "### Prediction on test data"
   ]
  },
  {
   "cell_type": "code",
   "execution_count": 124,
   "metadata": {},
   "outputs": [
    {
     "name": "stdout",
     "output_type": "stream",
     "text": [
      "(744,)\n"
     ]
    }
   ],
   "source": [
    "best_speaker_gender_pipe = speaker_gender_pipe_lr\n",
    "pred_speaker_genders_test = best_speaker_gender_pipe.predict(test_X)\n",
    "print(pred_speaker_genders_test.shape)"
   ]
  },
  {
   "cell_type": "code",
   "execution_count": 125,
   "metadata": {},
   "outputs": [
    {
     "data": {
      "text/html": [
       "<div>\n",
       "<style scoped>\n",
       "    .dataframe tbody tr th:only-of-type {\n",
       "        vertical-align: middle;\n",
       "    }\n",
       "\n",
       "    .dataframe tbody tr th {\n",
       "        vertical-align: top;\n",
       "    }\n",
       "\n",
       "    .dataframe thead th {\n",
       "        text-align: right;\n",
       "    }\n",
       "</style>\n",
       "<table border=\"1\" class=\"dataframe\">\n",
       "  <thead>\n",
       "    <tr style=\"text-align: right;\">\n",
       "      <th></th>\n",
       "      <th>label_3</th>\n",
       "    </tr>\n",
       "  </thead>\n",
       "  <tbody>\n",
       "    <tr>\n",
       "      <th>0</th>\n",
       "      <td>0</td>\n",
       "    </tr>\n",
       "    <tr>\n",
       "      <th>1</th>\n",
       "      <td>1</td>\n",
       "    </tr>\n",
       "    <tr>\n",
       "      <th>2</th>\n",
       "      <td>1</td>\n",
       "    </tr>\n",
       "    <tr>\n",
       "      <th>3</th>\n",
       "      <td>1</td>\n",
       "    </tr>\n",
       "    <tr>\n",
       "      <th>4</th>\n",
       "      <td>0</td>\n",
       "    </tr>\n",
       "  </tbody>\n",
       "</table>\n",
       "</div>"
      ],
      "text/plain": [
       "   label_3\n",
       "0        0\n",
       "1        1\n",
       "2        1\n",
       "3        1\n",
       "4        0"
      ]
     },
     "execution_count": 125,
     "metadata": {},
     "output_type": "execute_result"
    }
   ],
   "source": [
    "pred_speaker_genders_test = pd.DataFrame(pred_speaker_genders_test, columns=['label_3'])\n",
    "pred_speaker_genders_test.head()"
   ]
  },
  {
   "cell_type": "code",
   "execution_count": 126,
   "metadata": {},
   "outputs": [
    {
     "data": {
      "text/html": [
       "<div>\n",
       "<style scoped>\n",
       "    .dataframe tbody tr th:only-of-type {\n",
       "        vertical-align: middle;\n",
       "    }\n",
       "\n",
       "    .dataframe tbody tr th {\n",
       "        vertical-align: top;\n",
       "    }\n",
       "\n",
       "    .dataframe thead th {\n",
       "        text-align: right;\n",
       "    }\n",
       "</style>\n",
       "<table border=\"1\" class=\"dataframe\">\n",
       "  <thead>\n",
       "    <tr style=\"text-align: right;\">\n",
       "      <th></th>\n",
       "      <th>ID</th>\n",
       "      <th>label_1</th>\n",
       "      <th>label_2</th>\n",
       "    </tr>\n",
       "  </thead>\n",
       "  <tbody>\n",
       "    <tr>\n",
       "      <th>0</th>\n",
       "      <td>1</td>\n",
       "      <td>26</td>\n",
       "      <td>22.0</td>\n",
       "    </tr>\n",
       "    <tr>\n",
       "      <th>1</th>\n",
       "      <td>2</td>\n",
       "      <td>18</td>\n",
       "      <td>25.0</td>\n",
       "    </tr>\n",
       "    <tr>\n",
       "      <th>2</th>\n",
       "      <td>3</td>\n",
       "      <td>16</td>\n",
       "      <td>30.0</td>\n",
       "    </tr>\n",
       "    <tr>\n",
       "      <th>3</th>\n",
       "      <td>4</td>\n",
       "      <td>7</td>\n",
       "      <td>27.0</td>\n",
       "    </tr>\n",
       "    <tr>\n",
       "      <th>4</th>\n",
       "      <td>5</td>\n",
       "      <td>58</td>\n",
       "      <td>29.0</td>\n",
       "    </tr>\n",
       "  </tbody>\n",
       "</table>\n",
       "</div>"
      ],
      "text/plain": [
       "   ID  label_1  label_2\n",
       "0   1       26     22.0\n",
       "1   2       18     25.0\n",
       "2   3       16     30.0\n",
       "3   4        7     27.0\n",
       "4   5       58     29.0"
      ]
     },
     "execution_count": 126,
     "metadata": {},
     "output_type": "execute_result"
    }
   ],
   "source": [
    "pred_test.head() # pred_test was already created (when doing prediction of speaker_ID)"
   ]
  },
  {
   "cell_type": "code",
   "execution_count": 127,
   "metadata": {},
   "outputs": [],
   "source": [
    "if \"label_3\" not in pred_test.columns:\n",
    "    pred_test.insert(3, \"label_3\", pred_speaker_genders_test['label_3'])\n",
    "else:\n",
    "    print(f\"Column : label_3 already exists\")"
   ]
  },
  {
   "cell_type": "code",
   "execution_count": 128,
   "metadata": {},
   "outputs": [
    {
     "data": {
      "text/html": [
       "<div>\n",
       "<style scoped>\n",
       "    .dataframe tbody tr th:only-of-type {\n",
       "        vertical-align: middle;\n",
       "    }\n",
       "\n",
       "    .dataframe tbody tr th {\n",
       "        vertical-align: top;\n",
       "    }\n",
       "\n",
       "    .dataframe thead th {\n",
       "        text-align: right;\n",
       "    }\n",
       "</style>\n",
       "<table border=\"1\" class=\"dataframe\">\n",
       "  <thead>\n",
       "    <tr style=\"text-align: right;\">\n",
       "      <th></th>\n",
       "      <th>ID</th>\n",
       "      <th>label_1</th>\n",
       "      <th>label_2</th>\n",
       "      <th>label_3</th>\n",
       "    </tr>\n",
       "  </thead>\n",
       "  <tbody>\n",
       "    <tr>\n",
       "      <th>0</th>\n",
       "      <td>1</td>\n",
       "      <td>26</td>\n",
       "      <td>22.0</td>\n",
       "      <td>0</td>\n",
       "    </tr>\n",
       "    <tr>\n",
       "      <th>1</th>\n",
       "      <td>2</td>\n",
       "      <td>18</td>\n",
       "      <td>25.0</td>\n",
       "      <td>1</td>\n",
       "    </tr>\n",
       "    <tr>\n",
       "      <th>2</th>\n",
       "      <td>3</td>\n",
       "      <td>16</td>\n",
       "      <td>30.0</td>\n",
       "      <td>1</td>\n",
       "    </tr>\n",
       "    <tr>\n",
       "      <th>3</th>\n",
       "      <td>4</td>\n",
       "      <td>7</td>\n",
       "      <td>27.0</td>\n",
       "      <td>1</td>\n",
       "    </tr>\n",
       "    <tr>\n",
       "      <th>4</th>\n",
       "      <td>5</td>\n",
       "      <td>58</td>\n",
       "      <td>29.0</td>\n",
       "      <td>0</td>\n",
       "    </tr>\n",
       "  </tbody>\n",
       "</table>\n",
       "</div>"
      ],
      "text/plain": [
       "   ID  label_1  label_2  label_3\n",
       "0   1       26     22.0        0\n",
       "1   2       18     25.0        1\n",
       "2   3       16     30.0        1\n",
       "3   4        7     27.0        1\n",
       "4   5       58     29.0        0"
      ]
     },
     "execution_count": 128,
     "metadata": {},
     "output_type": "execute_result"
    }
   ],
   "source": [
    "pred_test.head()"
   ]
  },
  {
   "cell_type": "markdown",
   "metadata": {},
   "source": [
    "## For speaker_accent"
   ]
  },
  {
   "cell_type": "code",
   "execution_count": 129,
   "metadata": {},
   "outputs": [
    {
     "data": {
      "text/plain": [
       "<Axes: >"
      ]
     },
     "execution_count": 129,
     "metadata": {},
     "output_type": "execute_result"
    },
    {
     "data": {
      "image/png": "[encoded data removed]",
      "text/plain": [
       "<Figure size 640x480 with 1 Axes>"
      ]
     },
     "metadata": {},
     "output_type": "display_data"
    }
   ],
   "source": [
    "train_df.speaker_accent.value_counts().plot.bar()"
   ]
  },
  {
   "cell_type": "markdown",
   "metadata": {},
   "source": [
    "### Training"
   ]
  },
  {
   "cell_type": "code",
   "execution_count": 130,
   "metadata": {},
   "outputs": [],
   "source": [
    "#  Note: \n",
    "# There is a class imbalance issue in speaker_accent values. As a solution we can use class_weight='balanced' parameter.\n",
    "# And will  use weighted avg metric when taking desicions \n",
    "\n",
    "#Let's choose a good classifer\n",
    "\n",
    "speaker_accent_scaler_lr = Pipeline([\n",
    "    ('scaler', StandardScaler()),\n",
    "    ('classifier', LogisticRegression(class_weight=\"balanced\"))\n",
    "])\n",
    "\n",
    "speaker_accent_scaler_svc_linear = Pipeline([\n",
    "    ('scaler', StandardScaler()),\n",
    "    ('classifier', SVC(class_weight=\"balanced\", kernel='linear'))\n",
    "])\n",
    "\n",
    "speaker_accent_scaler_svc_rbf = Pipeline([\n",
    "    ('scaler', StandardScaler()),\n",
    "    ('classifier', SVC(class_weight=\"balanced\", kernel='rbf'))\n",
    "])\n",
    "\n",
    "speaker_accent_rfc = Pipeline([\n",
    "    ('classifier', RandomForestClassifier(class_weight=\"balanced\"))\n",
    "])\n",
    "\n",
    "speaker_accent_scaler_knn = Pipeline([\n",
    "    ('scaler', StandardScaler()),\n",
    "    ('classifier', KNeighborsClassifier())\n",
    "])"
   ]
  },
  {
   "cell_type": "code",
   "execution_count": 131,
   "metadata": {},
   "outputs": [
    {
     "name": "stdout",
     "output_type": "stream",
     "text": [
      "Classifier = LogisticRegression\n"
     ]
    },
    {
     "name": "stderr",
     "output_type": "stream",
     "text": [
      "C:\\Users\\Owner\\AppData\\Roaming\\Python\\Python39\\site-packages\\sklearn\\linear_model\\_logistic.py:458: ConvergenceWarning: lbfgs failed to converge (status=1):\n",
      "STOP: TOTAL NO. of ITERATIONS REACHED LIMIT.\n",
      "\n",
      "Increase the number of iterations (max_iter) or scale the data as shown in:\n",
      "    https://scikit-learn.org/stable/modules/preprocessing.html\n",
      "Please also refer to the documentation for alternative solver options:\n",
      "    https://scikit-learn.org/stable/modules/linear_model.html#logistic-regression\n",
      "  n_iter_i = _check_optimize_result(\n",
      "C:\\Users\\Owner\\AppData\\Roaming\\Python\\Python39\\site-packages\\sklearn\\metrics\\_classification.py:1344: UndefinedMetricWarning: Precision and F-score are ill-defined and being set to 0.0 in labels with no predicted samples. Use `zero_division` parameter to control this behavior.\n",
      "  _warn_prf(average, modifier, msg_start, len(result))\n",
      "C:\\Users\\Owner\\AppData\\Roaming\\Python\\Python39\\site-packages\\sklearn\\metrics\\_classification.py:1344: UndefinedMetricWarning: Precision and F-score are ill-defined and being set to 0.0 in labels with no predicted samples. Use `zero_division` parameter to control this behavior.\n",
      "  _warn_prf(average, modifier, msg_start, len(result))\n",
      "C:\\Users\\Owner\\AppData\\Roaming\\Python\\Python39\\site-packages\\sklearn\\metrics\\_classification.py:1344: UndefinedMetricWarning: Precision and F-score are ill-defined and being set to 0.0 in labels with no predicted samples. Use `zero_division` parameter to control this behavior.\n",
      "  _warn_prf(average, modifier, msg_start, len(result))\n"
     ]
    },
    {
     "name": "stdout",
     "output_type": "stream",
     "text": [
      "              precision    recall  f1-score   support\n",
      "\n",
      "           0       0.00      0.00      0.00        21\n",
      "           1       0.02      0.91      0.03        11\n",
      "           2       0.00      0.00      0.00        27\n",
      "           3       0.00      0.00      0.00         8\n",
      "           4       0.00      0.00      0.00        15\n",
      "           5       0.03      0.18      0.06        11\n",
      "           6       0.90      0.02      0.03       532\n",
      "           7       0.07      0.09      0.08        32\n",
      "           8       0.00      0.00      0.00        19\n",
      "           9       0.42      0.29      0.34        17\n",
      "          10       0.00      0.00      0.00        10\n",
      "          11       1.00      0.45      0.62        11\n",
      "          12       0.08      0.08      0.08        26\n",
      "          13       0.03      0.10      0.05        10\n",
      "\n",
      "    accuracy                           0.05       750\n",
      "   macro avg       0.18      0.15      0.09       750\n",
      "weighted avg       0.67      0.05      0.05       750\n",
      "\n",
      "Classifier = SVC (linear)\n"
     ]
    },
    {
     "name": "stderr",
     "output_type": "stream",
     "text": [
      "C:\\Users\\Owner\\AppData\\Roaming\\Python\\Python39\\site-packages\\sklearn\\metrics\\_classification.py:1344: UndefinedMetricWarning: Precision and F-score are ill-defined and being set to 0.0 in labels with no predicted samples. Use `zero_division` parameter to control this behavior.\n",
      "  _warn_prf(average, modifier, msg_start, len(result))\n",
      "C:\\Users\\Owner\\AppData\\Roaming\\Python\\Python39\\site-packages\\sklearn\\metrics\\_classification.py:1344: UndefinedMetricWarning: Precision and F-score are ill-defined and being set to 0.0 in labels with no predicted samples. Use `zero_division` parameter to control this behavior.\n",
      "  _warn_prf(average, modifier, msg_start, len(result))\n",
      "C:\\Users\\Owner\\AppData\\Roaming\\Python\\Python39\\site-packages\\sklearn\\metrics\\_classification.py:1344: UndefinedMetricWarning: Precision and F-score are ill-defined and being set to 0.0 in labels with no predicted samples. Use `zero_division` parameter to control this behavior.\n",
      "  _warn_prf(average, modifier, msg_start, len(result))\n"
     ]
    },
    {
     "name": "stdout",
     "output_type": "stream",
     "text": [
      "              precision    recall  f1-score   support\n",
      "\n",
      "           0       0.06      0.10      0.08        21\n",
      "           1       0.03      0.91      0.06        11\n",
      "           2       0.00      0.00      0.00        27\n",
      "           3       0.00      0.00      0.00         8\n",
      "           4       0.00      0.00      0.00        15\n",
      "           5       0.10      0.36      0.16        11\n",
      "           6       0.00      0.00      0.00       532\n",
      "           7       0.05      0.12      0.07        32\n",
      "           8       1.00      0.05      0.10        19\n",
      "           9       0.07      0.41      0.13        17\n",
      "          10       0.00      0.00      0.00        10\n",
      "          11       0.67      0.18      0.29        11\n",
      "          12       0.17      0.04      0.06        26\n",
      "          13       0.03      0.50      0.05        10\n",
      "\n",
      "    accuracy                           0.05       750\n",
      "   macro avg       0.16      0.19      0.07       750\n",
      "weighted avg       0.05      0.05      0.02       750\n",
      "\n",
      "Classifier = SVC (rbf)\n"
     ]
    },
    {
     "name": "stderr",
     "output_type": "stream",
     "text": [
      "C:\\Users\\Owner\\AppData\\Roaming\\Python\\Python39\\site-packages\\sklearn\\metrics\\_classification.py:1344: UndefinedMetricWarning: Precision and F-score are ill-defined and being set to 0.0 in labels with no predicted samples. Use `zero_division` parameter to control this behavior.\n",
      "  _warn_prf(average, modifier, msg_start, len(result))\n",
      "C:\\Users\\Owner\\AppData\\Roaming\\Python\\Python39\\site-packages\\sklearn\\metrics\\_classification.py:1344: UndefinedMetricWarning: Precision and F-score are ill-defined and being set to 0.0 in labels with no predicted samples. Use `zero_division` parameter to control this behavior.\n",
      "  _warn_prf(average, modifier, msg_start, len(result))\n",
      "C:\\Users\\Owner\\AppData\\Roaming\\Python\\Python39\\site-packages\\sklearn\\metrics\\_classification.py:1344: UndefinedMetricWarning: Precision and F-score are ill-defined and being set to 0.0 in labels with no predicted samples. Use `zero_division` parameter to control this behavior.\n",
      "  _warn_prf(average, modifier, msg_start, len(result))\n"
     ]
    },
    {
     "name": "stdout",
     "output_type": "stream",
     "text": [
      "              precision    recall  f1-score   support\n",
      "\n",
      "           0       0.00      0.00      0.00        21\n",
      "           1       0.00      0.00      0.00        11\n",
      "           2       0.00      0.00      0.00        27\n",
      "           3       0.00      0.00      0.00         8\n",
      "           4       0.00      0.00      0.00        15\n",
      "           5       0.00      0.00      0.00        11\n",
      "           6       0.71      1.00      0.83       532\n",
      "           7       0.00      0.00      0.00        32\n",
      "           8       0.00      0.00      0.00        19\n",
      "           9       0.00      0.00      0.00        17\n",
      "          10       0.00      0.00      0.00        10\n",
      "          11       0.00      0.00      0.00        11\n",
      "          12       0.00      0.00      0.00        26\n",
      "          13       0.00      0.00      0.00        10\n",
      "\n",
      "    accuracy                           0.71       750\n",
      "   macro avg       0.05      0.07      0.06       750\n",
      "weighted avg       0.50      0.71      0.59       750\n",
      "\n",
      "Classifier = RandomForestClassifier\n"
     ]
    },
    {
     "name": "stderr",
     "output_type": "stream",
     "text": [
      "C:\\Users\\Owner\\AppData\\Roaming\\Python\\Python39\\site-packages\\sklearn\\metrics\\_classification.py:1344: UndefinedMetricWarning: Precision and F-score are ill-defined and being set to 0.0 in labels with no predicted samples. Use `zero_division` parameter to control this behavior.\n",
      "  _warn_prf(average, modifier, msg_start, len(result))\n",
      "C:\\Users\\Owner\\AppData\\Roaming\\Python\\Python39\\site-packages\\sklearn\\metrics\\_classification.py:1344: UndefinedMetricWarning: Precision and F-score are ill-defined and being set to 0.0 in labels with no predicted samples. Use `zero_division` parameter to control this behavior.\n",
      "  _warn_prf(average, modifier, msg_start, len(result))\n",
      "C:\\Users\\Owner\\AppData\\Roaming\\Python\\Python39\\site-packages\\sklearn\\metrics\\_classification.py:1344: UndefinedMetricWarning: Precision and F-score are ill-defined and being set to 0.0 in labels with no predicted samples. Use `zero_division` parameter to control this behavior.\n",
      "  _warn_prf(average, modifier, msg_start, len(result))\n"
     ]
    },
    {
     "name": "stdout",
     "output_type": "stream",
     "text": [
      "              precision    recall  f1-score   support\n",
      "\n",
      "           0       0.00      0.00      0.00        21\n",
      "           1       0.00      0.00      0.00        11\n",
      "           2       0.00      0.00      0.00        27\n",
      "           3       0.00      0.00      0.00         8\n",
      "           4       0.00      0.00      0.00        15\n",
      "           5       0.00      0.00      0.00        11\n",
      "           6       0.71      1.00      0.83       532\n",
      "           7       0.00      0.00      0.00        32\n",
      "           8       0.00      0.00      0.00        19\n",
      "           9       0.00      0.00      0.00        17\n",
      "          10       0.00      0.00      0.00        10\n",
      "          11       0.00      0.00      0.00        11\n",
      "          12       0.00      0.00      0.00        26\n",
      "          13       0.00      0.00      0.00        10\n",
      "\n",
      "    accuracy                           0.71       750\n",
      "   macro avg       0.05      0.07      0.06       750\n",
      "weighted avg       0.50      0.71      0.59       750\n",
      "\n",
      "Classifier = KNeighborsClassifier\n",
      "              precision    recall  f1-score   support\n",
      "\n",
      "           0       0.22      0.19      0.21        21\n",
      "           1       0.00      0.00      0.00        11\n",
      "           2       0.50      0.19      0.27        27\n",
      "           3       1.00      0.12      0.22         8\n",
      "           4       0.07      0.13      0.10        15\n",
      "           5       0.09      0.27      0.13        11\n",
      "           6       0.75      0.86      0.80       532\n",
      "           7       0.00      0.00      0.00        32\n",
      "           8       0.00      0.00      0.00        19\n",
      "           9       0.15      0.12      0.13        17\n",
      "          10       0.12      0.10      0.11        10\n",
      "          11       0.86      0.55      0.67        11\n",
      "          12       0.27      0.12      0.16        26\n",
      "          13       0.75      0.30      0.43        10\n",
      "\n",
      "    accuracy                           0.65       750\n",
      "   macro avg       0.34      0.21      0.23       750\n",
      "weighted avg       0.60      0.65      0.62       750\n",
      "\n"
     ]
    },
    {
     "name": "stderr",
     "output_type": "stream",
     "text": [
      "C:\\Users\\Owner\\AppData\\Roaming\\Python\\Python39\\site-packages\\sklearn\\metrics\\_classification.py:1344: UndefinedMetricWarning: Precision and F-score are ill-defined and being set to 0.0 in labels with no predicted samples. Use `zero_division` parameter to control this behavior.\n",
      "  _warn_prf(average, modifier, msg_start, len(result))\n",
      "C:\\Users\\Owner\\AppData\\Roaming\\Python\\Python39\\site-packages\\sklearn\\metrics\\_classification.py:1344: UndefinedMetricWarning: Precision and F-score are ill-defined and being set to 0.0 in labels with no predicted samples. Use `zero_division` parameter to control this behavior.\n",
      "  _warn_prf(average, modifier, msg_start, len(result))\n",
      "C:\\Users\\Owner\\AppData\\Roaming\\Python\\Python39\\site-packages\\sklearn\\metrics\\_classification.py:1344: UndefinedMetricWarning: Precision and F-score are ill-defined and being set to 0.0 in labels with no predicted samples. Use `zero_division` parameter to control this behavior.\n",
      "  _warn_prf(average, modifier, msg_start, len(result))\n"
     ]
    }
   ],
   "source": [
    "print(\"Classifier = LogisticRegression\")\n",
    "speaker_accent_scaler_lr.fit(train_X, train_speaker_accents)\n",
    "print(classification_report(valid_speaker_accents, speaker_accent_scaler_lr.predict(valid_X)))\n",
    "\n",
    "print(\"Classifier = SVC (linear)\")\n",
    "speaker_accent_scaler_svc_linear.fit(train_X, train_speaker_accents)\n",
    "print(classification_report(valid_speaker_accents, speaker_accent_scaler_svc_linear.predict(valid_X)))\n",
    "\n",
    "print(\"Classifier = SVC (rbf)\")\n",
    "speaker_accent_scaler_svc_rbf.fit(train_X, train_speaker_accents)\n",
    "print(classification_report(valid_speaker_accents, speaker_accent_scaler_svc_rbf.predict(valid_X)))\n",
    "\n",
    "print(\"Classifier = RandomForestClassifier\")\n",
    "speaker_accent_rfc.fit(train_X, train_speaker_accents)\n",
    "print(classification_report(valid_speaker_accents, speaker_accent_rfc.predict(valid_X)))\n",
    "\n",
    "print(\"Classifier = KNeighborsClassifier\")\n",
    "speaker_accent_scaler_knn.fit(train_X, train_speaker_accents)\n",
    "print(classification_report(valid_speaker_accents, speaker_accent_scaler_knn.predict(valid_X)))\n",
    "\n",
    "# Conslusion after running:\n",
    "# weighted avg of KNN was the best: 0.62       "
   ]
  },
  {
   "cell_type": "code",
   "execution_count": 132,
   "metadata": {},
   "outputs": [
    {
     "name": "stdout",
     "output_type": "stream",
     "text": [
      "Classifier = SVC (linear) without feature scaling\n",
      "              precision    recall  f1-score   support\n",
      "\n",
      "           0       0.21      0.38      0.27        21\n",
      "           1       0.67      0.18      0.29        11\n",
      "           2       0.27      0.11      0.16        27\n",
      "           3       1.00      0.38      0.55         8\n",
      "           4       0.33      0.20      0.25        15\n",
      "           5       0.26      0.55      0.35        11\n",
      "           6       0.77      0.84      0.80       532\n",
      "           7       0.23      0.09      0.13        32\n",
      "           8       0.00      0.00      0.00        19\n",
      "           9       0.15      0.12      0.13        17\n",
      "          10       0.23      0.30      0.26        10\n",
      "          11       0.86      0.55      0.67        11\n",
      "          12       0.21      0.23      0.22        26\n",
      "          13       1.00      0.30      0.46        10\n",
      "\n",
      "    accuracy                           0.66       750\n",
      "   macro avg       0.44      0.30      0.32       750\n",
      "weighted avg       0.64      0.66      0.64       750\n",
      "\n"
     ]
    },
    {
     "name": "stderr",
     "output_type": "stream",
     "text": [
      "C:\\Users\\Owner\\AppData\\Roaming\\Python\\Python39\\site-packages\\sklearn\\metrics\\_classification.py:1344: UndefinedMetricWarning: Precision and F-score are ill-defined and being set to 0.0 in labels with no predicted samples. Use `zero_division` parameter to control this behavior.\n",
      "  _warn_prf(average, modifier, msg_start, len(result))\n",
      "C:\\Users\\Owner\\AppData\\Roaming\\Python\\Python39\\site-packages\\sklearn\\metrics\\_classification.py:1344: UndefinedMetricWarning: Precision and F-score are ill-defined and being set to 0.0 in labels with no predicted samples. Use `zero_division` parameter to control this behavior.\n",
      "  _warn_prf(average, modifier, msg_start, len(result))\n",
      "C:\\Users\\Owner\\AppData\\Roaming\\Python\\Python39\\site-packages\\sklearn\\metrics\\_classification.py:1344: UndefinedMetricWarning: Precision and F-score are ill-defined and being set to 0.0 in labels with no predicted samples. Use `zero_division` parameter to control this behavior.\n",
      "  _warn_prf(average, modifier, msg_start, len(result))\n"
     ]
    }
   ],
   "source": [
    "# Let's now check whether the feature sclaing helps the weighted svg score or not\n",
    "\n",
    "speaker_accent_knn = Pipeline([\n",
    "    # ('scaler', StandardScaler()),\n",
    "    ('classifier', KNeighborsClassifier())\n",
    "])\n",
    "\n",
    "print(\"Classifier = SVC (linear) without feature scaling\")\n",
    "speaker_accent_knn.fit(train_X, train_speaker_accents)\n",
    "print(classification_report(valid_speaker_accents, speaker_accent_knn.predict(valid_X)))\n",
    "\n",
    "# Conclusion\n",
    "# weighted avg IMPROVED : 0.64 (from 0.62)"
   ]
  },
  {
   "cell_type": "markdown",
   "metadata": {},
   "source": [
    "#### Hyperparameter tuning"
   ]
  },
  {
   "cell_type": "code",
   "execution_count": 133,
   "metadata": {},
   "outputs": [],
   "source": [
    "param_dist = {\n",
    "    'classifier__n_neighbors': range(1, 21),  # Number of neighbors to consider\n",
    "    'classifier__weights': ['uniform', 'distance'],  # Weighting method\n",
    "    'classifier__p': [1, 2],  # Minkowski distance parameter (1 for Manhattan, 2 for Euclidean)\n",
    "}\n",
    "\n",
    "random_search = RandomizedSearchCV(\n",
    "    estimator=speaker_accent_knn,  # Your pipeline\n",
    "    param_distributions=param_dist,  # The hyperparameters to search over\n",
    "    n_iter=10,  # Number of parameter settings that are sampled\n",
    "    scoring='balanced_accuracy',  # You can use other scoring metrics if needed\n",
    "    cv=3,  # Number of cross-validation folds\n",
    "    n_jobs=-1,  # Use all available CPU cores\n",
    "    verbose=3\n",
    ")"
   ]
  },
  {
   "cell_type": "code",
   "execution_count": 134,
   "metadata": {},
   "outputs": [
    {
     "name": "stdout",
     "output_type": "stream",
     "text": [
      "Fitting 3 folds for each of 10 candidates, totalling 30 fits\n"
     ]
    },
    {
     "ename": "KeyboardInterrupt",
     "evalue": "",
     "output_type": "error",
     "traceback": [
      "\u001b[1;31m---------------------------------------------------------------------------\u001b[0m",
      "\u001b[1;31mKeyboardInterrupt\u001b[0m                         Traceback (most recent call last)",
      "\u001b[1;32md:\\ACA semester 7\\CS4622 - Machine Learning\\ML-Project\\Coding\\Competition1-Layer12(using valid dataset).ipynb Cell 138\u001b[0m line \u001b[0;36m1\n\u001b[1;32m----> <a href='vscode-notebook-cell:/d%3A/ACA%20semester%207/CS4622%20-%20Machine%20Learning/ML-Project/Coding/Competition1-Layer12%28using%20valid%20dataset%29.ipynb#Y306sZmlsZQ%3D%3D?line=0'>1</a>\u001b[0m random_search\u001b[39m.\u001b[39;49mfit(train_X, train_speaker_accents)\n",
      "File \u001b[1;32m~\\AppData\\Roaming\\Python\\Python39\\site-packages\\sklearn\\model_selection\\_search.py:874\u001b[0m, in \u001b[0;36mBaseSearchCV.fit\u001b[1;34m(self, X, y, groups, **fit_params)\u001b[0m\n\u001b[0;32m    868\u001b[0m     results \u001b[39m=\u001b[39m \u001b[39mself\u001b[39m\u001b[39m.\u001b[39m_format_results(\n\u001b[0;32m    869\u001b[0m         all_candidate_params, n_splits, all_out, all_more_results\n\u001b[0;32m    870\u001b[0m     )\n\u001b[0;32m    872\u001b[0m     \u001b[39mreturn\u001b[39;00m results\n\u001b[1;32m--> 874\u001b[0m \u001b[39mself\u001b[39;49m\u001b[39m.\u001b[39;49m_run_search(evaluate_candidates)\n\u001b[0;32m    876\u001b[0m \u001b[39m# multimetric is determined here because in the case of a callable\u001b[39;00m\n\u001b[0;32m    877\u001b[0m \u001b[39m# self.scoring the return type is only known after calling\u001b[39;00m\n\u001b[0;32m    878\u001b[0m first_test_score \u001b[39m=\u001b[39m all_out[\u001b[39m0\u001b[39m][\u001b[39m\"\u001b[39m\u001b[39mtest_scores\u001b[39m\u001b[39m\"\u001b[39m]\n",
      "File \u001b[1;32m~\\AppData\\Roaming\\Python\\Python39\\site-packages\\sklearn\\model_selection\\_search.py:1768\u001b[0m, in \u001b[0;36mRandomizedSearchCV._run_search\u001b[1;34m(self, evaluate_candidates)\u001b[0m\n\u001b[0;32m   1766\u001b[0m \u001b[39mdef\u001b[39;00m \u001b[39m_run_search\u001b[39m(\u001b[39mself\u001b[39m, evaluate_candidates):\n\u001b[0;32m   1767\u001b[0m \u001b[39m    \u001b[39m\u001b[39m\"\"\"Search n_iter candidates from param_distributions\"\"\"\u001b[39;00m\n\u001b[1;32m-> 1768\u001b[0m     evaluate_candidates(\n\u001b[0;32m   1769\u001b[0m         ParameterSampler(\n\u001b[0;32m   1770\u001b[0m             \u001b[39mself\u001b[39;49m\u001b[39m.\u001b[39;49mparam_distributions, \u001b[39mself\u001b[39;49m\u001b[39m.\u001b[39;49mn_iter, random_state\u001b[39m=\u001b[39;49m\u001b[39mself\u001b[39;49m\u001b[39m.\u001b[39;49mrandom_state\n\u001b[0;32m   1771\u001b[0m         )\n\u001b[0;32m   1772\u001b[0m     )\n",
      "File \u001b[1;32m~\\AppData\\Roaming\\Python\\Python39\\site-packages\\sklearn\\model_selection\\_search.py:821\u001b[0m, in \u001b[0;36mBaseSearchCV.fit.<locals>.evaluate_candidates\u001b[1;34m(candidate_params, cv, more_results)\u001b[0m\n\u001b[0;32m    813\u001b[0m \u001b[39mif\u001b[39;00m \u001b[39mself\u001b[39m\u001b[39m.\u001b[39mverbose \u001b[39m>\u001b[39m \u001b[39m0\u001b[39m:\n\u001b[0;32m    814\u001b[0m     \u001b[39mprint\u001b[39m(\n\u001b[0;32m    815\u001b[0m         \u001b[39m\"\u001b[39m\u001b[39mFitting \u001b[39m\u001b[39m{0}\u001b[39;00m\u001b[39m folds for each of \u001b[39m\u001b[39m{1}\u001b[39;00m\u001b[39m candidates,\u001b[39m\u001b[39m\"\u001b[39m\n\u001b[0;32m    816\u001b[0m         \u001b[39m\"\u001b[39m\u001b[39m totalling \u001b[39m\u001b[39m{2}\u001b[39;00m\u001b[39m fits\u001b[39m\u001b[39m\"\u001b[39m\u001b[39m.\u001b[39mformat(\n\u001b[0;32m    817\u001b[0m             n_splits, n_candidates, n_candidates \u001b[39m*\u001b[39m n_splits\n\u001b[0;32m    818\u001b[0m         )\n\u001b[0;32m    819\u001b[0m     )\n\u001b[1;32m--> 821\u001b[0m out \u001b[39m=\u001b[39m parallel(\n\u001b[0;32m    822\u001b[0m     delayed(_fit_and_score)(\n\u001b[0;32m    823\u001b[0m         clone(base_estimator),\n\u001b[0;32m    824\u001b[0m         X,\n\u001b[0;32m    825\u001b[0m         y,\n\u001b[0;32m    826\u001b[0m         train\u001b[39m=\u001b[39;49mtrain,\n\u001b[0;32m    827\u001b[0m         test\u001b[39m=\u001b[39;49mtest,\n\u001b[0;32m    828\u001b[0m         parameters\u001b[39m=\u001b[39;49mparameters,\n\u001b[0;32m    829\u001b[0m         split_progress\u001b[39m=\u001b[39;49m(split_idx, n_splits),\n\u001b[0;32m    830\u001b[0m         candidate_progress\u001b[39m=\u001b[39;49m(cand_idx, n_candidates),\n\u001b[0;32m    831\u001b[0m         \u001b[39m*\u001b[39;49m\u001b[39m*\u001b[39;49mfit_and_score_kwargs,\n\u001b[0;32m    832\u001b[0m     )\n\u001b[0;32m    833\u001b[0m     \u001b[39mfor\u001b[39;49;00m (cand_idx, parameters), (split_idx, (train, test)) \u001b[39min\u001b[39;49;00m product(\n\u001b[0;32m    834\u001b[0m         \u001b[39menumerate\u001b[39;49m(candidate_params), \u001b[39menumerate\u001b[39;49m(cv\u001b[39m.\u001b[39;49msplit(X, y, groups))\n\u001b[0;32m    835\u001b[0m     )\n\u001b[0;32m    836\u001b[0m )\n\u001b[0;32m    838\u001b[0m \u001b[39mif\u001b[39;00m \u001b[39mlen\u001b[39m(out) \u001b[39m<\u001b[39m \u001b[39m1\u001b[39m:\n\u001b[0;32m    839\u001b[0m     \u001b[39mraise\u001b[39;00m \u001b[39mValueError\u001b[39;00m(\n\u001b[0;32m    840\u001b[0m         \u001b[39m\"\u001b[39m\u001b[39mNo fits were performed. \u001b[39m\u001b[39m\"\u001b[39m\n\u001b[0;32m    841\u001b[0m         \u001b[39m\"\u001b[39m\u001b[39mWas the CV iterator empty? \u001b[39m\u001b[39m\"\u001b[39m\n\u001b[0;32m    842\u001b[0m         \u001b[39m\"\u001b[39m\u001b[39mWere there no candidates?\u001b[39m\u001b[39m\"\u001b[39m\n\u001b[0;32m    843\u001b[0m     )\n",
      "File \u001b[1;32m~\\AppData\\Roaming\\Python\\Python39\\site-packages\\sklearn\\utils\\parallel.py:63\u001b[0m, in \u001b[0;36mParallel.__call__\u001b[1;34m(self, iterable)\u001b[0m\n\u001b[0;32m     58\u001b[0m config \u001b[39m=\u001b[39m get_config()\n\u001b[0;32m     59\u001b[0m iterable_with_config \u001b[39m=\u001b[39m (\n\u001b[0;32m     60\u001b[0m     (_with_config(delayed_func, config), args, kwargs)\n\u001b[0;32m     61\u001b[0m     \u001b[39mfor\u001b[39;00m delayed_func, args, kwargs \u001b[39min\u001b[39;00m iterable\n\u001b[0;32m     62\u001b[0m )\n\u001b[1;32m---> 63\u001b[0m \u001b[39mreturn\u001b[39;00m \u001b[39msuper\u001b[39;49m()\u001b[39m.\u001b[39;49m\u001b[39m__call__\u001b[39;49m(iterable_with_config)\n",
      "File \u001b[1;32mc:\\Users\\Owner\\AppData\\Local\\Programs\\Python\\Python39\\lib\\site-packages\\joblib\\parallel.py:1952\u001b[0m, in \u001b[0;36mParallel.__call__\u001b[1;34m(self, iterable)\u001b[0m\n\u001b[0;32m   1946\u001b[0m \u001b[39m# The first item from the output is blank, but it makes the interpreter\u001b[39;00m\n\u001b[0;32m   1947\u001b[0m \u001b[39m# progress until it enters the Try/Except block of the generator and\u001b[39;00m\n\u001b[0;32m   1948\u001b[0m \u001b[39m# reach the first `yield` statement. This starts the aynchronous\u001b[39;00m\n\u001b[0;32m   1949\u001b[0m \u001b[39m# dispatch of the tasks to the workers.\u001b[39;00m\n\u001b[0;32m   1950\u001b[0m \u001b[39mnext\u001b[39m(output)\n\u001b[1;32m-> 1952\u001b[0m \u001b[39mreturn\u001b[39;00m output \u001b[39mif\u001b[39;00m \u001b[39mself\u001b[39m\u001b[39m.\u001b[39mreturn_generator \u001b[39melse\u001b[39;00m \u001b[39mlist\u001b[39;49m(output)\n",
      "File \u001b[1;32mc:\\Users\\Owner\\AppData\\Local\\Programs\\Python\\Python39\\lib\\site-packages\\joblib\\parallel.py:1595\u001b[0m, in \u001b[0;36mParallel._get_outputs\u001b[1;34m(self, iterator, pre_dispatch)\u001b[0m\n\u001b[0;32m   1592\u001b[0m     \u001b[39myield\u001b[39;00m\n\u001b[0;32m   1594\u001b[0m     \u001b[39mwith\u001b[39;00m \u001b[39mself\u001b[39m\u001b[39m.\u001b[39m_backend\u001b[39m.\u001b[39mretrieval_context():\n\u001b[1;32m-> 1595\u001b[0m         \u001b[39myield from\u001b[39;00m \u001b[39mself\u001b[39m\u001b[39m.\u001b[39m_retrieve()\n\u001b[0;32m   1597\u001b[0m \u001b[39mexcept\u001b[39;00m \u001b[39mGeneratorExit\u001b[39;00m:\n\u001b[0;32m   1598\u001b[0m     \u001b[39m# The generator has been garbage collected before being fully\u001b[39;00m\n\u001b[0;32m   1599\u001b[0m     \u001b[39m# consumed. This aborts the remaining tasks if possible and warn\u001b[39;00m\n\u001b[0;32m   1600\u001b[0m     \u001b[39m# the user if necessary.\u001b[39;00m\n\u001b[0;32m   1601\u001b[0m     \u001b[39mself\u001b[39m\u001b[39m.\u001b[39m_exception \u001b[39m=\u001b[39m \u001b[39mTrue\u001b[39;00m\n",
      "File \u001b[1;32mc:\\Users\\Owner\\AppData\\Local\\Programs\\Python\\Python39\\lib\\site-packages\\joblib\\parallel.py:1707\u001b[0m, in \u001b[0;36mParallel._retrieve\u001b[1;34m(self)\u001b[0m\n\u001b[0;32m   1702\u001b[0m \u001b[39m# If the next job is not ready for retrieval yet, we just wait for\u001b[39;00m\n\u001b[0;32m   1703\u001b[0m \u001b[39m# async callbacks to progress.\u001b[39;00m\n\u001b[0;32m   1704\u001b[0m \u001b[39mif\u001b[39;00m ((\u001b[39mlen\u001b[39m(\u001b[39mself\u001b[39m\u001b[39m.\u001b[39m_jobs) \u001b[39m==\u001b[39m \u001b[39m0\u001b[39m) \u001b[39mor\u001b[39;00m\n\u001b[0;32m   1705\u001b[0m     (\u001b[39mself\u001b[39m\u001b[39m.\u001b[39m_jobs[\u001b[39m0\u001b[39m]\u001b[39m.\u001b[39mget_status(\n\u001b[0;32m   1706\u001b[0m         timeout\u001b[39m=\u001b[39m\u001b[39mself\u001b[39m\u001b[39m.\u001b[39mtimeout) \u001b[39m==\u001b[39m TASK_PENDING)):\n\u001b[1;32m-> 1707\u001b[0m     time\u001b[39m.\u001b[39;49msleep(\u001b[39m0.01\u001b[39;49m)\n\u001b[0;32m   1708\u001b[0m     \u001b[39mcontinue\u001b[39;00m\n\u001b[0;32m   1710\u001b[0m \u001b[39m# We need to be careful: the job list can be filling up as\u001b[39;00m\n\u001b[0;32m   1711\u001b[0m \u001b[39m# we empty it and Python list are not thread-safe by\u001b[39;00m\n\u001b[0;32m   1712\u001b[0m \u001b[39m# default hence the use of the lock\u001b[39;00m\n",
      "\u001b[1;31mKeyboardInterrupt\u001b[0m: "
     ]
    }
   ],
   "source": [
    "random_search.fit(train_X, train_speaker_accents)"
   ]
  },
  {
   "cell_type": "code",
   "execution_count": 110,
   "metadata": {},
   "outputs": [
    {
     "name": "stdout",
     "output_type": "stream",
     "text": [
      "Best Hyperparameters:\n",
      "{'classifier__C': 0.01, 'classifier__gamma': 0.01}\n"
     ]
    }
   ],
   "source": [
    "print(\"Best Hyperparameters:\")\n",
    "print(random_search.best_params_)"
   ]
  },
  {
   "cell_type": "code",
   "execution_count": null,
   "metadata": {},
   "outputs": [],
   "source": [
    "# the best weighted avg as of now: 0.64 (speaker_accent_knn)"
   ]
  },
  {
   "cell_type": "code",
   "execution_count": 135,
   "metadata": {},
   "outputs": [
    {
     "name": "stdout",
     "output_type": "stream",
     "text": [
      "just pca:\n",
      "              precision    recall  f1-score   support\n",
      "\n",
      "           0       0.16      0.38      0.22        21\n",
      "           1       1.00      0.09      0.17        11\n",
      "           2       0.40      0.15      0.22        27\n",
      "           3       1.00      0.38      0.55         8\n",
      "           4       0.15      0.20      0.17        15\n",
      "           5       0.16      0.27      0.20        11\n",
      "           6       0.76      0.82      0.79       532\n",
      "           7       0.14      0.06      0.09        32\n",
      "           8       0.00      0.00      0.00        19\n",
      "           9       0.14      0.12      0.13        17\n",
      "          10       0.19      0.30      0.23        10\n",
      "          11       0.86      0.55      0.67        11\n",
      "          12       0.44      0.27      0.33        26\n",
      "          13       1.00      0.30      0.46        10\n",
      "\n",
      "    accuracy                           0.64       750\n",
      "   macro avg       0.46      0.28      0.30       750\n",
      "weighted avg       0.64      0.64      0.62       750\n",
      "\n",
      "scaling + pca:\n",
      "              precision    recall  f1-score   support\n",
      "\n",
      "           0       0.26      0.24      0.25        21\n",
      "           1       0.00      0.00      0.00        11\n",
      "           2       0.46      0.22      0.30        27\n",
      "           3       0.00      0.00      0.00         8\n",
      "           4       0.10      0.33      0.16        15\n",
      "           5       0.14      0.36      0.21        11\n",
      "           6       0.75      0.80      0.77       532\n",
      "           7       0.33      0.03      0.06        32\n",
      "           8       0.00      0.00      0.00        19\n",
      "           9       0.03      0.06      0.04        17\n",
      "          10       0.05      0.10      0.07        10\n",
      "          11       0.80      0.36      0.50        11\n",
      "          12       0.27      0.12      0.16        26\n",
      "          13       1.00      0.30      0.46        10\n",
      "\n",
      "    accuracy                           0.61       750\n",
      "   macro avg       0.30      0.21      0.21       750\n",
      "weighted avg       0.61      0.61      0.60       750\n",
      "\n"
     ]
    },
    {
     "name": "stderr",
     "output_type": "stream",
     "text": [
      "C:\\Users\\Owner\\AppData\\Roaming\\Python\\Python39\\site-packages\\sklearn\\metrics\\_classification.py:1344: UndefinedMetricWarning: Precision and F-score are ill-defined and being set to 0.0 in labels with no predicted samples. Use `zero_division` parameter to control this behavior.\n",
      "  _warn_prf(average, modifier, msg_start, len(result))\n",
      "C:\\Users\\Owner\\AppData\\Roaming\\Python\\Python39\\site-packages\\sklearn\\metrics\\_classification.py:1344: UndefinedMetricWarning: Precision and F-score are ill-defined and being set to 0.0 in labels with no predicted samples. Use `zero_division` parameter to control this behavior.\n",
      "  _warn_prf(average, modifier, msg_start, len(result))\n",
      "C:\\Users\\Owner\\AppData\\Roaming\\Python\\Python39\\site-packages\\sklearn\\metrics\\_classification.py:1344: UndefinedMetricWarning: Precision and F-score are ill-defined and being set to 0.0 in labels with no predicted samples. Use `zero_division` parameter to control this behavior.\n",
      "  _warn_prf(average, modifier, msg_start, len(result))\n"
     ]
    }
   ],
   "source": [
    "# Now let's check what feature engineering technique would be better\n",
    "\n",
    "speaker_accent_pipe_pca_knn = Pipeline([\n",
    "    ('pca', PCA(n_components=0.95)),\n",
    "    ('classifier', KNeighborsClassifier())\n",
    "    ])\n",
    "\n",
    "print(\"just pca:\")\n",
    "speaker_accent_pipe_pca_knn.fit(train_X, train_speaker_accents)\n",
    "print(classification_report(valid_speaker_accents, speaker_accent_pipe_pca_knn.predict(valid_X)))\n",
    "\n",
    "print(\"scaling + pca:\")\n",
    "speaker_accent_pipe_scaler_pca_knn = Pipeline([\n",
    "    ('scaler', StandardScaler()),\n",
    "    ('pca', PCA(n_components=0.95)),\n",
    "    ('classifier', KNeighborsClassifier())\n",
    "    ])\n",
    "\n",
    "speaker_accent_pipe_scaler_pca_knn.fit(train_X, train_speaker_accents)\n",
    "print(classification_report(valid_speaker_accents, speaker_accent_pipe_scaler_pca_knn.predict(valid_X)))\n",
    "\n",
    "# Conclusion: jsut PCA gave the same weighted avg ==> Let's try to hyperparameter tune it"
   ]
  },
  {
   "cell_type": "code",
   "execution_count": 136,
   "metadata": {},
   "outputs": [
    {
     "name": "stdout",
     "output_type": "stream",
     "text": [
      "just model-based feature reduction:\n"
     ]
    },
    {
     "name": "stderr",
     "output_type": "stream",
     "text": [
      "C:\\Users\\Owner\\AppData\\Roaming\\Python\\Python39\\site-packages\\sklearn\\metrics\\_classification.py:1344: UndefinedMetricWarning: Precision and F-score are ill-defined and being set to 0.0 in labels with no predicted samples. Use `zero_division` parameter to control this behavior.\n",
      "  _warn_prf(average, modifier, msg_start, len(result))\n",
      "C:\\Users\\Owner\\AppData\\Roaming\\Python\\Python39\\site-packages\\sklearn\\metrics\\_classification.py:1344: UndefinedMetricWarning: Precision and F-score are ill-defined and being set to 0.0 in labels with no predicted samples. Use `zero_division` parameter to control this behavior.\n",
      "  _warn_prf(average, modifier, msg_start, len(result))\n",
      "C:\\Users\\Owner\\AppData\\Roaming\\Python\\Python39\\site-packages\\sklearn\\metrics\\_classification.py:1344: UndefinedMetricWarning: Precision and F-score are ill-defined and being set to 0.0 in labels with no predicted samples. Use `zero_division` parameter to control this behavior.\n",
      "  _warn_prf(average, modifier, msg_start, len(result))\n"
     ]
    },
    {
     "name": "stdout",
     "output_type": "stream",
     "text": [
      "              precision    recall  f1-score   support\n",
      "\n",
      "           0       0.19      0.14      0.16        21\n",
      "           1       0.00      0.00      0.00        11\n",
      "           2       0.00      0.00      0.00        27\n",
      "           3       0.20      0.25      0.22         8\n",
      "           4       0.30      0.20      0.24        15\n",
      "           5       0.06      0.09      0.07        11\n",
      "           6       0.74      0.90      0.82       532\n",
      "           7       0.50      0.16      0.24        32\n",
      "           8       0.00      0.00      0.00        19\n",
      "           9       0.00      0.00      0.00        17\n",
      "          10       0.33      0.10      0.15        10\n",
      "          11       0.33      0.27      0.30        11\n",
      "          12       0.17      0.08      0.11        26\n",
      "          13       0.14      0.10      0.12        10\n",
      "\n",
      "    accuracy                           0.67       750\n",
      "   macro avg       0.21      0.16      0.17       750\n",
      "weighted avg       0.58      0.67      0.61       750\n",
      "\n",
      "scaling + model-based feature reduction:\n",
      "              precision    recall  f1-score   support\n",
      "\n",
      "           0       0.27      0.29      0.28        21\n",
      "           1       0.00      0.00      0.00        11\n",
      "           2       0.27      0.11      0.16        27\n",
      "           3       0.00      0.00      0.00         8\n",
      "           4       0.29      0.13      0.18        15\n",
      "           5       0.12      0.36      0.18        11\n",
      "           6       0.76      0.87      0.81       532\n",
      "           7       0.25      0.03      0.06        32\n",
      "           8       0.00      0.00      0.00        19\n",
      "           9       0.24      0.29      0.26        17\n",
      "          10       0.20      0.10      0.13        10\n",
      "          11       0.56      0.45      0.50        11\n",
      "          12       0.14      0.15      0.15        26\n",
      "          13       0.33      0.10      0.15        10\n",
      "\n",
      "    accuracy                           0.66       750\n",
      "   macro avg       0.25      0.21      0.20       750\n",
      "weighted avg       0.60      0.66      0.62       750\n",
      "\n"
     ]
    },
    {
     "name": "stderr",
     "output_type": "stream",
     "text": [
      "C:\\Users\\Owner\\AppData\\Roaming\\Python\\Python39\\site-packages\\sklearn\\metrics\\_classification.py:1344: UndefinedMetricWarning: Precision and F-score are ill-defined and being set to 0.0 in labels with no predicted samples. Use `zero_division` parameter to control this behavior.\n",
      "  _warn_prf(average, modifier, msg_start, len(result))\n",
      "C:\\Users\\Owner\\AppData\\Roaming\\Python\\Python39\\site-packages\\sklearn\\metrics\\_classification.py:1344: UndefinedMetricWarning: Precision and F-score are ill-defined and being set to 0.0 in labels with no predicted samples. Use `zero_division` parameter to control this behavior.\n",
      "  _warn_prf(average, modifier, msg_start, len(result))\n",
      "C:\\Users\\Owner\\AppData\\Roaming\\Python\\Python39\\site-packages\\sklearn\\metrics\\_classification.py:1344: UndefinedMetricWarning: Precision and F-score are ill-defined and being set to 0.0 in labels with no predicted samples. Use `zero_division` parameter to control this behavior.\n",
      "  _warn_prf(average, modifier, msg_start, len(result))\n"
     ]
    }
   ],
   "source": [
    "# Pipleline for speaker age prediction with Model-based feature reduction\n",
    "speaker_accent_pipe_sfmlr_knn = Pipeline([\n",
    "    ('SFM_LR', SelectFromModel(LogisticRegression(C=0.01, penalty='l1', solver='liblinear', class_weight='balanced'))),\n",
    "    ('classifier', KNeighborsClassifier())\n",
    "])\n",
    "\n",
    "print(\"just model-based feature reduction:\")\n",
    "speaker_accent_pipe_sfmlr_knn.fit(train_X, train_speaker_accents)\n",
    "print(classification_report(valid_speaker_accents, speaker_accent_pipe_sfmlr_knn.predict(valid_X)))\n",
    "\n",
    "speaker_accent_pipe_scaler_sfmlr_knn = Pipeline([\n",
    "    ('scaler', StandardScaler()),\n",
    "    ('SFM_LR', SelectFromModel(LogisticRegression(C=0.01, penalty='l1', solver='liblinear', class_weight='balanced'))),\n",
    "    ('classifier', KNeighborsClassifier())\n",
    "])\n",
    "\n",
    "print(\"scaling + model-based feature reduction:\")\n",
    "speaker_accent_pipe_scaler_sfmlr_knn.fit(train_X, train_speaker_accents)\n",
    "print(classification_report(valid_speaker_accents, speaker_accent_pipe_scaler_sfmlr_knn.predict(valid_X)))\n",
    "\n",
    "# Conslusion\n",
    "# Both did not improve the weighted avg score "
   ]
  },
  {
   "cell_type": "markdown",
   "metadata": {},
   "source": [
    "### Prediction test data"
   ]
  },
  {
   "cell_type": "code",
   "execution_count": 137,
   "metadata": {},
   "outputs": [
    {
     "data": {
      "text/html": [
       "<div>\n",
       "<style scoped>\n",
       "    .dataframe tbody tr th:only-of-type {\n",
       "        vertical-align: middle;\n",
       "    }\n",
       "\n",
       "    .dataframe tbody tr th {\n",
       "        vertical-align: top;\n",
       "    }\n",
       "\n",
       "    .dataframe thead th {\n",
       "        text-align: right;\n",
       "    }\n",
       "</style>\n",
       "<table border=\"1\" class=\"dataframe\">\n",
       "  <thead>\n",
       "    <tr style=\"text-align: right;\">\n",
       "      <th></th>\n",
       "      <th>feature_1</th>\n",
       "      <th>feature_2</th>\n",
       "      <th>feature_3</th>\n",
       "      <th>feature_4</th>\n",
       "      <th>feature_5</th>\n",
       "      <th>feature_6</th>\n",
       "      <th>feature_7</th>\n",
       "      <th>feature_8</th>\n",
       "      <th>feature_9</th>\n",
       "      <th>feature_10</th>\n",
       "      <th>...</th>\n",
       "      <th>feature_759</th>\n",
       "      <th>feature_760</th>\n",
       "      <th>feature_761</th>\n",
       "      <th>feature_762</th>\n",
       "      <th>feature_763</th>\n",
       "      <th>feature_764</th>\n",
       "      <th>feature_765</th>\n",
       "      <th>feature_766</th>\n",
       "      <th>feature_767</th>\n",
       "      <th>feature_768</th>\n",
       "    </tr>\n",
       "  </thead>\n",
       "  <tbody>\n",
       "    <tr>\n",
       "      <th>0</th>\n",
       "      <td>0.124623</td>\n",
       "      <td>0.196628</td>\n",
       "      <td>0.257004</td>\n",
       "      <td>-0.156045</td>\n",
       "      <td>-0.054916</td>\n",
       "      <td>0.006071</td>\n",
       "      <td>-0.035149</td>\n",
       "      <td>-0.092019</td>\n",
       "      <td>-0.196302</td>\n",
       "      <td>0.077971</td>\n",
       "      <td>...</td>\n",
       "      <td>-0.221466</td>\n",
       "      <td>0.140292</td>\n",
       "      <td>0.123622</td>\n",
       "      <td>-0.175572</td>\n",
       "      <td>-0.107030</td>\n",
       "      <td>-0.087621</td>\n",
       "      <td>-0.026501</td>\n",
       "      <td>0.139337</td>\n",
       "      <td>-0.083030</td>\n",
       "      <td>0.059507</td>\n",
       "    </tr>\n",
       "    <tr>\n",
       "      <th>1</th>\n",
       "      <td>0.109655</td>\n",
       "      <td>0.170158</td>\n",
       "      <td>0.227644</td>\n",
       "      <td>-0.127088</td>\n",
       "      <td>-0.044476</td>\n",
       "      <td>-0.046852</td>\n",
       "      <td>-0.090026</td>\n",
       "      <td>-0.061321</td>\n",
       "      <td>-0.227288</td>\n",
       "      <td>0.066863</td>\n",
       "      <td>...</td>\n",
       "      <td>-0.204930</td>\n",
       "      <td>0.110203</td>\n",
       "      <td>0.085665</td>\n",
       "      <td>-0.286787</td>\n",
       "      <td>-0.113195</td>\n",
       "      <td>-0.057312</td>\n",
       "      <td>-0.055680</td>\n",
       "      <td>0.143939</td>\n",
       "      <td>-0.045760</td>\n",
       "      <td>0.106113</td>\n",
       "    </tr>\n",
       "    <tr>\n",
       "      <th>2</th>\n",
       "      <td>0.014854</td>\n",
       "      <td>0.030051</td>\n",
       "      <td>0.115092</td>\n",
       "      <td>-0.017179</td>\n",
       "      <td>0.002720</td>\n",
       "      <td>-0.011692</td>\n",
       "      <td>-0.078855</td>\n",
       "      <td>-0.042991</td>\n",
       "      <td>-0.096283</td>\n",
       "      <td>0.042701</td>\n",
       "      <td>...</td>\n",
       "      <td>-0.032937</td>\n",
       "      <td>0.075821</td>\n",
       "      <td>0.030987</td>\n",
       "      <td>-0.149850</td>\n",
       "      <td>-0.003155</td>\n",
       "      <td>-0.010207</td>\n",
       "      <td>-0.001427</td>\n",
       "      <td>0.000934</td>\n",
       "      <td>-0.017069</td>\n",
       "      <td>0.048123</td>\n",
       "    </tr>\n",
       "    <tr>\n",
       "      <th>3</th>\n",
       "      <td>0.196893</td>\n",
       "      <td>0.113314</td>\n",
       "      <td>0.352175</td>\n",
       "      <td>-0.108499</td>\n",
       "      <td>-0.064472</td>\n",
       "      <td>-0.073239</td>\n",
       "      <td>-0.086402</td>\n",
       "      <td>0.008671</td>\n",
       "      <td>-0.342217</td>\n",
       "      <td>0.104941</td>\n",
       "      <td>...</td>\n",
       "      <td>-0.255167</td>\n",
       "      <td>0.096579</td>\n",
       "      <td>0.069413</td>\n",
       "      <td>-0.215386</td>\n",
       "      <td>-0.075168</td>\n",
       "      <td>-0.035071</td>\n",
       "      <td>-0.023375</td>\n",
       "      <td>0.067768</td>\n",
       "      <td>-0.181530</td>\n",
       "      <td>0.174444</td>\n",
       "    </tr>\n",
       "    <tr>\n",
       "      <th>4</th>\n",
       "      <td>0.033004</td>\n",
       "      <td>0.013373</td>\n",
       "      <td>0.124001</td>\n",
       "      <td>-0.016143</td>\n",
       "      <td>0.010120</td>\n",
       "      <td>0.010635</td>\n",
       "      <td>-0.055789</td>\n",
       "      <td>-0.036282</td>\n",
       "      <td>-0.059422</td>\n",
       "      <td>0.060278</td>\n",
       "      <td>...</td>\n",
       "      <td>-0.035814</td>\n",
       "      <td>0.093764</td>\n",
       "      <td>0.027321</td>\n",
       "      <td>-0.116009</td>\n",
       "      <td>0.010096</td>\n",
       "      <td>-0.042293</td>\n",
       "      <td>0.005347</td>\n",
       "      <td>0.007722</td>\n",
       "      <td>-0.007731</td>\n",
       "      <td>0.058799</td>\n",
       "    </tr>\n",
       "  </tbody>\n",
       "</table>\n",
       "<p>5 rows × 768 columns</p>\n",
       "</div>"
      ],
      "text/plain": [
       "   feature_1  feature_2  feature_3  feature_4  feature_5  feature_6  \\\n",
       "0   0.124623   0.196628   0.257004  -0.156045  -0.054916   0.006071   \n",
       "1   0.109655   0.170158   0.227644  -0.127088  -0.044476  -0.046852   \n",
       "2   0.014854   0.030051   0.115092  -0.017179   0.002720  -0.011692   \n",
       "3   0.196893   0.113314   0.352175  -0.108499  -0.064472  -0.073239   \n",
       "4   0.033004   0.013373   0.124001  -0.016143   0.010120   0.010635   \n",
       "\n",
       "   feature_7  feature_8  feature_9  feature_10  ...  feature_759  feature_760  \\\n",
       "0  -0.035149  -0.092019  -0.196302    0.077971  ...    -0.221466     0.140292   \n",
       "1  -0.090026  -0.061321  -0.227288    0.066863  ...    -0.204930     0.110203   \n",
       "2  -0.078855  -0.042991  -0.096283    0.042701  ...    -0.032937     0.075821   \n",
       "3  -0.086402   0.008671  -0.342217    0.104941  ...    -0.255167     0.096579   \n",
       "4  -0.055789  -0.036282  -0.059422    0.060278  ...    -0.035814     0.093764   \n",
       "\n",
       "   feature_761  feature_762  feature_763  feature_764  feature_765  \\\n",
       "0     0.123622    -0.175572    -0.107030    -0.087621    -0.026501   \n",
       "1     0.085665    -0.286787    -0.113195    -0.057312    -0.055680   \n",
       "2     0.030987    -0.149850    -0.003155    -0.010207    -0.001427   \n",
       "3     0.069413    -0.215386    -0.075168    -0.035071    -0.023375   \n",
       "4     0.027321    -0.116009     0.010096    -0.042293     0.005347   \n",
       "\n",
       "   feature_766  feature_767  feature_768  \n",
       "0     0.139337    -0.083030     0.059507  \n",
       "1     0.143939    -0.045760     0.106113  \n",
       "2     0.000934    -0.017069     0.048123  \n",
       "3     0.067768    -0.181530     0.174444  \n",
       "4     0.007722    -0.007731     0.058799  \n",
       "\n",
       "[5 rows x 768 columns]"
      ]
     },
     "execution_count": 137,
     "metadata": {},
     "output_type": "execute_result"
    }
   ],
   "source": [
    "test_X.head()"
   ]
  },
  {
   "cell_type": "code",
   "execution_count": 138,
   "metadata": {},
   "outputs": [
    {
     "name": "stdout",
     "output_type": "stream",
     "text": [
      "(744,)\n"
     ]
    }
   ],
   "source": [
    "pred_speaker_accents_test = speaker_accent_knn.predict(test_X)\n",
    "print(pred_speaker_accents_test.shape)"
   ]
  },
  {
   "cell_type": "code",
   "execution_count": 139,
   "metadata": {},
   "outputs": [
    {
     "data": {
      "text/html": [
       "<div>\n",
       "<style scoped>\n",
       "    .dataframe tbody tr th:only-of-type {\n",
       "        vertical-align: middle;\n",
       "    }\n",
       "\n",
       "    .dataframe tbody tr th {\n",
       "        vertical-align: top;\n",
       "    }\n",
       "\n",
       "    .dataframe thead th {\n",
       "        text-align: right;\n",
       "    }\n",
       "</style>\n",
       "<table border=\"1\" class=\"dataframe\">\n",
       "  <thead>\n",
       "    <tr style=\"text-align: right;\">\n",
       "      <th></th>\n",
       "      <th>label_4</th>\n",
       "    </tr>\n",
       "  </thead>\n",
       "  <tbody>\n",
       "    <tr>\n",
       "      <th>0</th>\n",
       "      <td>2</td>\n",
       "    </tr>\n",
       "    <tr>\n",
       "      <th>1</th>\n",
       "      <td>8</td>\n",
       "    </tr>\n",
       "    <tr>\n",
       "      <th>2</th>\n",
       "      <td>6</td>\n",
       "    </tr>\n",
       "    <tr>\n",
       "      <th>3</th>\n",
       "      <td>6</td>\n",
       "    </tr>\n",
       "    <tr>\n",
       "      <th>4</th>\n",
       "      <td>6</td>\n",
       "    </tr>\n",
       "  </tbody>\n",
       "</table>\n",
       "</div>"
      ],
      "text/plain": [
       "   label_4\n",
       "0        2\n",
       "1        8\n",
       "2        6\n",
       "3        6\n",
       "4        6"
      ]
     },
     "execution_count": 139,
     "metadata": {},
     "output_type": "execute_result"
    }
   ],
   "source": [
    "pred_speaker_accents_test = pd.DataFrame(pred_speaker_accents_test, columns=['label_4'])\n",
    "pred_speaker_accents_test.head()"
   ]
  },
  {
   "cell_type": "code",
   "execution_count": 140,
   "metadata": {},
   "outputs": [
    {
     "data": {
      "text/html": [
       "<div>\n",
       "<style scoped>\n",
       "    .dataframe tbody tr th:only-of-type {\n",
       "        vertical-align: middle;\n",
       "    }\n",
       "\n",
       "    .dataframe tbody tr th {\n",
       "        vertical-align: top;\n",
       "    }\n",
       "\n",
       "    .dataframe thead th {\n",
       "        text-align: right;\n",
       "    }\n",
       "</style>\n",
       "<table border=\"1\" class=\"dataframe\">\n",
       "  <thead>\n",
       "    <tr style=\"text-align: right;\">\n",
       "      <th></th>\n",
       "      <th>ID</th>\n",
       "      <th>label_1</th>\n",
       "      <th>label_2</th>\n",
       "      <th>label_3</th>\n",
       "    </tr>\n",
       "  </thead>\n",
       "  <tbody>\n",
       "    <tr>\n",
       "      <th>0</th>\n",
       "      <td>1</td>\n",
       "      <td>26</td>\n",
       "      <td>22.0</td>\n",
       "      <td>0</td>\n",
       "    </tr>\n",
       "    <tr>\n",
       "      <th>1</th>\n",
       "      <td>2</td>\n",
       "      <td>18</td>\n",
       "      <td>25.0</td>\n",
       "      <td>1</td>\n",
       "    </tr>\n",
       "    <tr>\n",
       "      <th>2</th>\n",
       "      <td>3</td>\n",
       "      <td>16</td>\n",
       "      <td>30.0</td>\n",
       "      <td>1</td>\n",
       "    </tr>\n",
       "    <tr>\n",
       "      <th>3</th>\n",
       "      <td>4</td>\n",
       "      <td>7</td>\n",
       "      <td>27.0</td>\n",
       "      <td>1</td>\n",
       "    </tr>\n",
       "    <tr>\n",
       "      <th>4</th>\n",
       "      <td>5</td>\n",
       "      <td>58</td>\n",
       "      <td>29.0</td>\n",
       "      <td>0</td>\n",
       "    </tr>\n",
       "  </tbody>\n",
       "</table>\n",
       "</div>"
      ],
      "text/plain": [
       "   ID  label_1  label_2  label_3\n",
       "0   1       26     22.0        0\n",
       "1   2       18     25.0        1\n",
       "2   3       16     30.0        1\n",
       "3   4        7     27.0        1\n",
       "4   5       58     29.0        0"
      ]
     },
     "execution_count": 140,
     "metadata": {},
     "output_type": "execute_result"
    }
   ],
   "source": [
    "pred_test.head() # pred_test was already created (when doing prediction of speaker_ID)\n"
   ]
  },
  {
   "cell_type": "code",
   "execution_count": 141,
   "metadata": {},
   "outputs": [],
   "source": [
    "if \"label_4\" not in pred_test.columns:\n",
    "    pred_test.insert(4, \"label_4\", pred_speaker_accents_test['label_4'])\n",
    "else:\n",
    "    print(f\"Column : label_4 already exists\")"
   ]
  },
  {
   "cell_type": "code",
   "execution_count": 142,
   "metadata": {},
   "outputs": [
    {
     "data": {
      "text/html": [
       "<div>\n",
       "<style scoped>\n",
       "    .dataframe tbody tr th:only-of-type {\n",
       "        vertical-align: middle;\n",
       "    }\n",
       "\n",
       "    .dataframe tbody tr th {\n",
       "        vertical-align: top;\n",
       "    }\n",
       "\n",
       "    .dataframe thead th {\n",
       "        text-align: right;\n",
       "    }\n",
       "</style>\n",
       "<table border=\"1\" class=\"dataframe\">\n",
       "  <thead>\n",
       "    <tr style=\"text-align: right;\">\n",
       "      <th></th>\n",
       "      <th>ID</th>\n",
       "      <th>label_1</th>\n",
       "      <th>label_2</th>\n",
       "      <th>label_3</th>\n",
       "      <th>label_4</th>\n",
       "    </tr>\n",
       "  </thead>\n",
       "  <tbody>\n",
       "    <tr>\n",
       "      <th>0</th>\n",
       "      <td>1</td>\n",
       "      <td>26</td>\n",
       "      <td>22.0</td>\n",
       "      <td>0</td>\n",
       "      <td>2</td>\n",
       "    </tr>\n",
       "    <tr>\n",
       "      <th>1</th>\n",
       "      <td>2</td>\n",
       "      <td>18</td>\n",
       "      <td>25.0</td>\n",
       "      <td>1</td>\n",
       "      <td>8</td>\n",
       "    </tr>\n",
       "    <tr>\n",
       "      <th>2</th>\n",
       "      <td>3</td>\n",
       "      <td>16</td>\n",
       "      <td>30.0</td>\n",
       "      <td>1</td>\n",
       "      <td>6</td>\n",
       "    </tr>\n",
       "    <tr>\n",
       "      <th>3</th>\n",
       "      <td>4</td>\n",
       "      <td>7</td>\n",
       "      <td>27.0</td>\n",
       "      <td>1</td>\n",
       "      <td>6</td>\n",
       "    </tr>\n",
       "    <tr>\n",
       "      <th>4</th>\n",
       "      <td>5</td>\n",
       "      <td>58</td>\n",
       "      <td>29.0</td>\n",
       "      <td>0</td>\n",
       "      <td>6</td>\n",
       "    </tr>\n",
       "  </tbody>\n",
       "</table>\n",
       "</div>"
      ],
      "text/plain": [
       "   ID  label_1  label_2  label_3  label_4\n",
       "0   1       26     22.0        0        2\n",
       "1   2       18     25.0        1        8\n",
       "2   3       16     30.0        1        6\n",
       "3   4        7     27.0        1        6\n",
       "4   5       58     29.0        0        6"
      ]
     },
     "execution_count": 142,
     "metadata": {},
     "output_type": "execute_result"
    }
   ],
   "source": [
    "pred_test.head()"
   ]
  },
  {
   "cell_type": "code",
   "execution_count": 144,
   "metadata": {},
   "outputs": [
    {
     "data": {
      "text/html": [
       "<div>\n",
       "<style scoped>\n",
       "    .dataframe tbody tr th:only-of-type {\n",
       "        vertical-align: middle;\n",
       "    }\n",
       "\n",
       "    .dataframe tbody tr th {\n",
       "        vertical-align: top;\n",
       "    }\n",
       "\n",
       "    .dataframe thead th {\n",
       "        text-align: right;\n",
       "    }\n",
       "</style>\n",
       "<table border=\"1\" class=\"dataframe\">\n",
       "  <thead>\n",
       "    <tr style=\"text-align: right;\">\n",
       "      <th></th>\n",
       "      <th>ID</th>\n",
       "      <th>label_1</th>\n",
       "      <th>label_2</th>\n",
       "      <th>label_3</th>\n",
       "      <th>label_4</th>\n",
       "    </tr>\n",
       "  </thead>\n",
       "  <tbody>\n",
       "    <tr>\n",
       "      <th>0</th>\n",
       "      <td>1</td>\n",
       "      <td>26</td>\n",
       "      <td>22.0</td>\n",
       "      <td>0</td>\n",
       "      <td>2</td>\n",
       "    </tr>\n",
       "    <tr>\n",
       "      <th>1</th>\n",
       "      <td>2</td>\n",
       "      <td>18</td>\n",
       "      <td>25.0</td>\n",
       "      <td>1</td>\n",
       "      <td>8</td>\n",
       "    </tr>\n",
       "    <tr>\n",
       "      <th>2</th>\n",
       "      <td>3</td>\n",
       "      <td>16</td>\n",
       "      <td>30.0</td>\n",
       "      <td>1</td>\n",
       "      <td>6</td>\n",
       "    </tr>\n",
       "    <tr>\n",
       "      <th>3</th>\n",
       "      <td>4</td>\n",
       "      <td>7</td>\n",
       "      <td>27.0</td>\n",
       "      <td>1</td>\n",
       "      <td>6</td>\n",
       "    </tr>\n",
       "    <tr>\n",
       "      <th>4</th>\n",
       "      <td>5</td>\n",
       "      <td>58</td>\n",
       "      <td>29.0</td>\n",
       "      <td>0</td>\n",
       "      <td>6</td>\n",
       "    </tr>\n",
       "  </tbody>\n",
       "</table>\n",
       "</div>"
      ],
      "text/plain": [
       "   ID  label_1  label_2  label_3  label_4\n",
       "0   1       26     22.0        0        2\n",
       "1   2       18     25.0        1        8\n",
       "2   3       16     30.0        1        6\n",
       "3   4        7     27.0        1        6\n",
       "4   5       58     29.0        0        6"
      ]
     },
     "execution_count": 144,
     "metadata": {},
     "output_type": "execute_result"
    }
   ],
   "source": [
    "pred_test_layer7 = pred_test\n",
    "pred_test_layer7.head() "
   ]
  },
  {
   "cell_type": "code",
   "execution_count": 145,
   "metadata": {},
   "outputs": [],
   "source": [
    "pred_test_layer7.to_csv('2 - 190290U_pred_test_layer12.csv', index=False)"
   ]
  },
  {
   "cell_type": "code",
   "execution_count": null,
   "metadata": {},
   "outputs": [],
   "source": [
    "# #################### RUN BELOW FOR THE BEST MODEL ####################\n",
    "\n",
    "# # After grid search is complete, save the best estimator\n",
    "# best_svm = grid_search.best_estimator_\n",
    "\n",
    "# # You can also save the best hyperparameters\n",
    "# best_params = grid_search.best_params_\n",
    "\n",
    "# # Now, you can use the best estimator for making predictions or further operations\n",
    "# y_pred = best_svm.predict(X_validation)  # Example: Using it for predictions on validation data\n",
    "\n",
    "# # If you want to create a new instance of the model with the best hyperparameters\n",
    "# svm_with_best_params = SVC(**best_params)\n",
    "# svm_with_best_params.fit(X_train, y_train)  # Train the new model\n"
   ]
  },
  {
   "cell_type": "code",
   "execution_count": null,
   "metadata": {},
   "outputs": [],
   "source": [
    "# all other labels (age, gender, accent) have class imbalance problem. So account for that -> I think cv parameter in grid search cv can be used for that\n",
    "# read about it ==> https://scikit-learn.org/stable/modules/cross_validation.html (Cross validation)\n",
    "# This is vital because, we cannot track the model performance using a single metric\n",
    "# if cv is given an integer value, it will use stratified k fold cross validation\n",
    "\n",
    "\n"
   ]
  },
  {
   "cell_type": "code",
   "execution_count": null,
   "metadata": {},
   "outputs": [],
   "source": [
    "# TSNE : feature rection technique\n",
    "\n",
    "# from sklearn.model_selection import RandomizedSearchCV\n",
    "# from scipy.stats import uniform\n",
    "\n",
    "# # Define a range of hyperparameters and their distributions for random search\n",
    "# param_dist = {\n",
    "#     'clf__C': uniform(loc=0.1, scale=10),  # Regularization parameter (uniform distribution)\n",
    "#     'clf__kernel': ['linear', 'rbf', 'poly'],  # Kernel type\n",
    "# }\n",
    "\n",
    "# # Create a random search object\n",
    "# random_search = RandomizedSearchCV(estimator=speaker_ID_pipe_scaler_svc, param_distributions=param_dist, n_iter=10, cv=5, scoring='accuracy', random_state=42)\n",
    "\n",
    "# # Fit the random search to the data\n",
    "# random_search.fit(X_train, y_train)\n",
    "\n",
    "# # Get the best hyperparameters\n",
    "# best_params_random = random_search.best_params_\n",
    "# best_accuracy_random = random_search.best_score_\n",
    "\n",
    "# print(\"Best Hyperparameters (Random Search):\", best_params_random)\n",
    "# print(\"Best Accuracy (Random Search):\", best_accuracy_random)\n"
   ]
  },
  {
   "cell_type": "code",
   "execution_count": null,
   "metadata": {},
   "outputs": [],
   "source": [
    "# code to compare different pipelines\n",
    "\n",
    "# from sklearn.datasets import load_iris\n",
    "# from sklearn.model_selection import train_test_split\n",
    "# from sklearn.preprocessing import StandardScaler\n",
    "# from sklearn.decomposition import PCA\n",
    "# from sklearn.manifold import TSNE\n",
    "# from sklearn.svm import SVC\n",
    "# from sklearn.pipeline import Pipeline\n",
    "# from sklearn.metrics import accuracy_score\n",
    "\n",
    "# # Load a sample dataset (Iris dataset in this example)\n",
    "# data = load_iris()\n",
    "# X, y = data.data, data.target\n",
    "\n",
    "# # Split the data into training and testing sets\n",
    "# X_train, X_test, y_train, y_test = train_test_split(X, y, test_size=0.2, random_state=42)\n",
    "\n",
    "# # Create a common feature scaling pipeline\n",
    "# common_preprocessing = Pipeline([\n",
    "#     ('scaler', StandardScaler())\n",
    "# ])\n",
    "\n",
    "# # Define pipelines with different feature reduction techniques on top of common preprocessing\n",
    "# # You can add more as needed\n",
    "# pca_pipeline = Pipeline([\n",
    "#     ('preprocessing', common_preprocessing),\n",
    "#     ('pca', PCA(n_components=2)),  # Adjust the number of components as needed\n",
    "#     ('clf', SVC()),\n",
    "# ])\n",
    "\n",
    "# tsne_pipeline = Pipeline([\n",
    "#     ('preprocessing', common_preprocessing),\n",
    "#     ('tsne', TSNE(n_components=2)),  # Adjust the number of components as needed\n",
    "#     ('clf', SVC()),\n",
    "# ])\n",
    "\n",
    "# selectkbest_pipe = Pipeline([\n",
    "#     ('preprocessing', common_preprocessing),\n",
    "#     ('SelectKBest', SelectKBest(chi2, k=10)),\n",
    "#     ('clf', SVC())\n",
    "# ])\n",
    "\n",
    "# # Create a list of feature reduction pipelines for easy iteration\n",
    "# feature_reduction_pipelines = [\n",
    "#     (\"PCA\", pca_pipeline),\n",
    "#     (\"t-SNE\", tsne_pipeline),\n",
    "# ]\n",
    "\n",
    "# # Fit and compare the performance of different feature reduction pipelines\n",
    "# for name, pipeline in feature_reduction_pipelines:\n",
    "#     # Fit the pipeline on the training data\n",
    "#     pipeline.fit(X_train, y_train)\n",
    "    \n",
    "#     # Make predictions on the testing data\n",
    "#     y_pred = pipeline.predict(X_test)\n",
    "    \n",
    "#     # Calculate and print the accuracy\n",
    "#     accuracy = accuracy_score(y_test, y_pred)\n",
    "#     print(f\"Accuracy with {name}: {accuracy:.2f}\")\n",
    "\n",
    "########################################################################################\n",
    "###########So we effectively fit the scaler pipeline 2 times right? is it the case?################################\n",
    "########################################################################################\n",
    "########################################################################################\n",
    "\n",
    "# from sklearn.datasets import load_iris\n",
    "# from sklearn.model_selection import train_test_split\n",
    "# from sklearn.preprocessing import StandardScaler\n",
    "# from sklearn.decomposition import PCA\n",
    "# from sklearn.manifold import TSNE\n",
    "# from sklearn.svm import SVC\n",
    "# from sklearn.pipeline import Pipeline\n",
    "# from sklearn.metrics import accuracy_score\n",
    "\n",
    "# # Load a sample dataset (Iris dataset in this example)\n",
    "# data = load_iris()\n",
    "# X, y = data.data, data.target\n",
    "\n",
    "# # Split the data into training and testing sets\n",
    "# X_train, X_test, y_train, y_test = train_test_split(X, y, test_size=0.2, random_state=42)\n",
    "\n",
    "# # Create a common feature scaling pipeline and fit it once\n",
    "# common_preprocessing = Pipeline([\n",
    "#     ('scaler', StandardScaler())\n",
    "# ])\n",
    "\n",
    "# # Fit the common preprocessing pipeline on the training data\n",
    "# common_preprocessing.fit(X_train)\n",
    "\n",
    "# # Define pipelines with different feature reduction techniques using the fitted common preprocessing\n",
    "# # You can add more as needed\n",
    "# pca_pipeline = Pipeline([\n",
    "#     ('preprocessing', common_preprocessing),\n",
    "#     ('pca', PCA(n_components=2)),  # Adjust the number of components as needed\n",
    "#     ('clf', SVC()),\n",
    "# ])\n",
    "\n",
    "# tsne_pipeline = Pipeline([\n",
    "#     ('preprocessing', common_preprocessing),\n",
    "#     ('tsne', TSNE(n_components=2)),  # Adjust the number of components as needed\n",
    "#     ('clf', SVC()),\n",
    "# ])\n",
    "\n",
    "# # Create a list of feature reduction pipelines for easy iteration\n",
    "# feature_reduction_pipelines = [\n",
    "#     (\"PCA\", pca_pipeline),\n",
    "#     (\"t-SNE\", tsne_pipeline),\n",
    "# ]\n",
    "\n",
    "# # Fit and compare the performance of different feature reduction pipelines\n",
    "# for name, pipeline in feature_reduction_pipelines:\n",
    "#     # Make predictions on the testing data using the fitted common preprocessing\n",
    "#     X_test_preprocessed = pipeline.named_steps['preprocessing'].transform(X_test)\n",
    "#     y_pred = pipeline.named_steps['clf'].predict(X_test_preprocessed)\n",
    "    \n",
    "#     # Calculate and print the accuracy\n",
    "#     accuracy = accuracy_score(y_test, y_pred)\n",
    "#     print(f\"Accuracy with {name}: {accuracy:.2f}\")\n",
    "\n"
   ]
  }
 ],
 "metadata": {
  "kernelspec": {
   "display_name": "test1",
   "language": "python",
   "name": "python3"
  },
  "language_info": {
   "codemirror_mode": {
    "name": "ipython",
    "version": 3
   },
   "file_extension": ".py",
   "mimetype": "text/x-python",
   "name": "python",
   "nbconvert_exporter": "python",
   "pygments_lexer": "ipython3",
   "version": "3.9.13"
  },
  "orig_nbformat": 4
 },
 "nbformat": 4,
 "nbformat_minor": 2
}
