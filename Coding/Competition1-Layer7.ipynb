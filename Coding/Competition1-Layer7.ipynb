{
 "cells": [
  {
   "cell_type": "code",
   "execution_count": 2,
   "metadata": {},
   "outputs": [],
   "source": [
    "import pandas as pd\n",
    "import numpy as np          # For mathematical calculations\n",
    "import matplotlib.pyplot as plt  # For plotting graphs\n",
    "# import seaborn as sns\n",
    "%matplotlib inline\n",
    "\n",
    "train_csv_file_path = \"D:\\\\ACA semester 7\\\\CS4622 - Machine Learning\\\\ML-Project\\Data\\\\train.csv\"\n",
    "valid_csv_file_path = \"D:\\\\ACA semester 7\\\\CS4622 - Machine Learning\\\\ML-Project\\Data\\\\valid.csv\"\n",
    "test_csv_file_path = \"D:\\\\ACA semester 7\\\\CS4622 - Machine Learning\\\\ML-Project\\Data\\\\test.csv\""
   ]
  },
  {
   "cell_type": "markdown",
   "metadata": {},
   "source": [
    "# Train dataset"
   ]
  },
  {
   "cell_type": "code",
   "execution_count": 3,
   "metadata": {},
   "outputs": [
    {
     "data": {
      "text/html": [
       "<div>\n",
       "<style scoped>\n",
       "    .dataframe tbody tr th:only-of-type {\n",
       "        vertical-align: middle;\n",
       "    }\n",
       "\n",
       "    .dataframe tbody tr th {\n",
       "        vertical-align: top;\n",
       "    }\n",
       "\n",
       "    .dataframe thead th {\n",
       "        text-align: right;\n",
       "    }\n",
       "</style>\n",
       "<table border=\"1\" class=\"dataframe\">\n",
       "  <thead>\n",
       "    <tr style=\"text-align: right;\">\n",
       "      <th></th>\n",
       "      <th>feature_1</th>\n",
       "      <th>feature_2</th>\n",
       "      <th>feature_3</th>\n",
       "      <th>feature_4</th>\n",
       "      <th>feature_5</th>\n",
       "      <th>feature_6</th>\n",
       "      <th>feature_7</th>\n",
       "      <th>feature_8</th>\n",
       "      <th>feature_9</th>\n",
       "      <th>feature_10</th>\n",
       "      <th>...</th>\n",
       "      <th>feature_763</th>\n",
       "      <th>feature_764</th>\n",
       "      <th>feature_765</th>\n",
       "      <th>feature_766</th>\n",
       "      <th>feature_767</th>\n",
       "      <th>feature_768</th>\n",
       "      <th>label_1</th>\n",
       "      <th>label_2</th>\n",
       "      <th>label_3</th>\n",
       "      <th>label_4</th>\n",
       "    </tr>\n",
       "  </thead>\n",
       "  <tbody>\n",
       "    <tr>\n",
       "      <th>0</th>\n",
       "      <td>0.186257</td>\n",
       "      <td>-0.058807</td>\n",
       "      <td>0.024632</td>\n",
       "      <td>-0.163933</td>\n",
       "      <td>-0.146699</td>\n",
       "      <td>0.035889</td>\n",
       "      <td>0.111708</td>\n",
       "      <td>-0.162861</td>\n",
       "      <td>0.028249</td>\n",
       "      <td>-0.098063</td>\n",
       "      <td>...</td>\n",
       "      <td>0.055629</td>\n",
       "      <td>-0.010358</td>\n",
       "      <td>0.125754</td>\n",
       "      <td>0.011648</td>\n",
       "      <td>0.079197</td>\n",
       "      <td>0.093215</td>\n",
       "      <td>45</td>\n",
       "      <td>NaN</td>\n",
       "      <td>1</td>\n",
       "      <td>6</td>\n",
       "    </tr>\n",
       "    <tr>\n",
       "      <th>1</th>\n",
       "      <td>0.063431</td>\n",
       "      <td>-0.023597</td>\n",
       "      <td>0.068057</td>\n",
       "      <td>-0.252915</td>\n",
       "      <td>-0.061094</td>\n",
       "      <td>-0.027316</td>\n",
       "      <td>0.135747</td>\n",
       "      <td>-0.168147</td>\n",
       "      <td>0.091236</td>\n",
       "      <td>-0.078473</td>\n",
       "      <td>...</td>\n",
       "      <td>-0.014893</td>\n",
       "      <td>0.071721</td>\n",
       "      <td>0.018918</td>\n",
       "      <td>0.100032</td>\n",
       "      <td>-0.083042</td>\n",
       "      <td>0.088615</td>\n",
       "      <td>45</td>\n",
       "      <td>NaN</td>\n",
       "      <td>1</td>\n",
       "      <td>6</td>\n",
       "    </tr>\n",
       "    <tr>\n",
       "      <th>2</th>\n",
       "      <td>0.034962</td>\n",
       "      <td>0.035816</td>\n",
       "      <td>-0.029753</td>\n",
       "      <td>-0.094607</td>\n",
       "      <td>-0.017576</td>\n",
       "      <td>-0.053074</td>\n",
       "      <td>0.040121</td>\n",
       "      <td>-0.007932</td>\n",
       "      <td>0.097872</td>\n",
       "      <td>-0.024042</td>\n",
       "      <td>...</td>\n",
       "      <td>0.012415</td>\n",
       "      <td>0.015215</td>\n",
       "      <td>0.083808</td>\n",
       "      <td>0.031312</td>\n",
       "      <td>-0.056277</td>\n",
       "      <td>0.064702</td>\n",
       "      <td>45</td>\n",
       "      <td>NaN</td>\n",
       "      <td>1</td>\n",
       "      <td>6</td>\n",
       "    </tr>\n",
       "    <tr>\n",
       "      <th>3</th>\n",
       "      <td>0.033772</td>\n",
       "      <td>0.085612</td>\n",
       "      <td>0.067488</td>\n",
       "      <td>-0.073953</td>\n",
       "      <td>-0.180646</td>\n",
       "      <td>-0.024512</td>\n",
       "      <td>0.242879</td>\n",
       "      <td>-0.023374</td>\n",
       "      <td>-0.059999</td>\n",
       "      <td>0.002006</td>\n",
       "      <td>...</td>\n",
       "      <td>-0.078246</td>\n",
       "      <td>-0.032903</td>\n",
       "      <td>0.082949</td>\n",
       "      <td>-0.020659</td>\n",
       "      <td>0.082274</td>\n",
       "      <td>-0.050164</td>\n",
       "      <td>45</td>\n",
       "      <td>NaN</td>\n",
       "      <td>1</td>\n",
       "      <td>6</td>\n",
       "    </tr>\n",
       "    <tr>\n",
       "      <th>4</th>\n",
       "      <td>0.134305</td>\n",
       "      <td>0.062096</td>\n",
       "      <td>0.106920</td>\n",
       "      <td>-0.089327</td>\n",
       "      <td>0.117093</td>\n",
       "      <td>-0.077107</td>\n",
       "      <td>0.152579</td>\n",
       "      <td>0.047529</td>\n",
       "      <td>-0.015998</td>\n",
       "      <td>-0.110657</td>\n",
       "      <td>...</td>\n",
       "      <td>-0.094629</td>\n",
       "      <td>0.069718</td>\n",
       "      <td>0.014379</td>\n",
       "      <td>0.048124</td>\n",
       "      <td>0.007586</td>\n",
       "      <td>-0.016980</td>\n",
       "      <td>45</td>\n",
       "      <td>NaN</td>\n",
       "      <td>1</td>\n",
       "      <td>6</td>\n",
       "    </tr>\n",
       "  </tbody>\n",
       "</table>\n",
       "<p>5 rows × 772 columns</p>\n",
       "</div>"
      ],
      "text/plain": [
       "   feature_1  feature_2  feature_3  feature_4  feature_5  feature_6  \\\n",
       "0   0.186257  -0.058807   0.024632  -0.163933  -0.146699   0.035889   \n",
       "1   0.063431  -0.023597   0.068057  -0.252915  -0.061094  -0.027316   \n",
       "2   0.034962   0.035816  -0.029753  -0.094607  -0.017576  -0.053074   \n",
       "3   0.033772   0.085612   0.067488  -0.073953  -0.180646  -0.024512   \n",
       "4   0.134305   0.062096   0.106920  -0.089327   0.117093  -0.077107   \n",
       "\n",
       "   feature_7  feature_8  feature_9  feature_10  ...  feature_763  feature_764  \\\n",
       "0   0.111708  -0.162861   0.028249   -0.098063  ...     0.055629    -0.010358   \n",
       "1   0.135747  -0.168147   0.091236   -0.078473  ...    -0.014893     0.071721   \n",
       "2   0.040121  -0.007932   0.097872   -0.024042  ...     0.012415     0.015215   \n",
       "3   0.242879  -0.023374  -0.059999    0.002006  ...    -0.078246    -0.032903   \n",
       "4   0.152579   0.047529  -0.015998   -0.110657  ...    -0.094629     0.069718   \n",
       "\n",
       "   feature_765  feature_766  feature_767  feature_768  label_1  label_2  \\\n",
       "0     0.125754     0.011648     0.079197     0.093215       45      NaN   \n",
       "1     0.018918     0.100032    -0.083042     0.088615       45      NaN   \n",
       "2     0.083808     0.031312    -0.056277     0.064702       45      NaN   \n",
       "3     0.082949    -0.020659     0.082274    -0.050164       45      NaN   \n",
       "4     0.014379     0.048124     0.007586    -0.016980       45      NaN   \n",
       "\n",
       "   label_3  label_4  \n",
       "0        1        6  \n",
       "1        1        6  \n",
       "2        1        6  \n",
       "3        1        6  \n",
       "4        1        6  \n",
       "\n",
       "[5 rows x 772 columns]"
      ]
     },
     "execution_count": 3,
     "metadata": {},
     "output_type": "execute_result"
    }
   ],
   "source": [
    "train_df = pd.read_csv(train_csv_file_path)\n",
    "train_df.head()"
   ]
  },
  {
   "cell_type": "code",
   "execution_count": 4,
   "metadata": {},
   "outputs": [
    {
     "data": {
      "text/plain": [
       "feature_1      float64\n",
       "feature_2      float64\n",
       "feature_3      float64\n",
       "feature_4      float64\n",
       "feature_5      float64\n",
       "                ...   \n",
       "feature_768    float64\n",
       "label_1          int64\n",
       "label_2        float64\n",
       "label_3          int64\n",
       "label_4          int64\n",
       "Length: 772, dtype: object"
      ]
     },
     "execution_count": 4,
     "metadata": {},
     "output_type": "execute_result"
    }
   ],
   "source": [
    "# get type of each column\n",
    "train_df.dtypes"
   ]
  },
  {
   "cell_type": "markdown",
   "metadata": {},
   "source": [
    "## Renaming Labels\n",
    "\n",
    "*   Since the labels are in 'label_1', 'label_2' ... format, I will be renaming them to 'speaker_ID', 'speaker_age', ... format\n"
   ]
  },
  {
   "cell_type": "code",
   "execution_count": 5,
   "metadata": {},
   "outputs": [],
   "source": [
    "train_df.rename(columns={'label_1': 'speaker_ID', 'label_2': 'speaker_age', 'label_3': 'speaker_gender', 'label_4': 'speaker_accent'}, inplace=True)"
   ]
  },
  {
   "cell_type": "code",
   "execution_count": 6,
   "metadata": {},
   "outputs": [
    {
     "data": {
      "text/html": [
       "<div>\n",
       "<style scoped>\n",
       "    .dataframe tbody tr th:only-of-type {\n",
       "        vertical-align: middle;\n",
       "    }\n",
       "\n",
       "    .dataframe tbody tr th {\n",
       "        vertical-align: top;\n",
       "    }\n",
       "\n",
       "    .dataframe thead th {\n",
       "        text-align: right;\n",
       "    }\n",
       "</style>\n",
       "<table border=\"1\" class=\"dataframe\">\n",
       "  <thead>\n",
       "    <tr style=\"text-align: right;\">\n",
       "      <th></th>\n",
       "      <th>feature_1</th>\n",
       "      <th>feature_2</th>\n",
       "      <th>feature_3</th>\n",
       "      <th>feature_4</th>\n",
       "      <th>feature_5</th>\n",
       "      <th>feature_6</th>\n",
       "      <th>feature_7</th>\n",
       "      <th>feature_8</th>\n",
       "      <th>feature_9</th>\n",
       "      <th>feature_10</th>\n",
       "      <th>...</th>\n",
       "      <th>feature_763</th>\n",
       "      <th>feature_764</th>\n",
       "      <th>feature_765</th>\n",
       "      <th>feature_766</th>\n",
       "      <th>feature_767</th>\n",
       "      <th>feature_768</th>\n",
       "      <th>speaker_ID</th>\n",
       "      <th>speaker_age</th>\n",
       "      <th>speaker_gender</th>\n",
       "      <th>speaker_accent</th>\n",
       "    </tr>\n",
       "  </thead>\n",
       "  <tbody>\n",
       "    <tr>\n",
       "      <th>count</th>\n",
       "      <td>28520.000000</td>\n",
       "      <td>28520.000000</td>\n",
       "      <td>28520.000000</td>\n",
       "      <td>28520.000000</td>\n",
       "      <td>28520.000000</td>\n",
       "      <td>28520.000000</td>\n",
       "      <td>28520.000000</td>\n",
       "      <td>28520.000000</td>\n",
       "      <td>28520.000000</td>\n",
       "      <td>28520.000000</td>\n",
       "      <td>...</td>\n",
       "      <td>28520.000000</td>\n",
       "      <td>28520.000000</td>\n",
       "      <td>28520.000000</td>\n",
       "      <td>28520.000000</td>\n",
       "      <td>28520.000000</td>\n",
       "      <td>28520.000000</td>\n",
       "      <td>28520.000000</td>\n",
       "      <td>28040.000000</td>\n",
       "      <td>28520.000000</td>\n",
       "      <td>28520.000000</td>\n",
       "    </tr>\n",
       "    <tr>\n",
       "      <th>mean</th>\n",
       "      <td>0.065874</td>\n",
       "      <td>0.028860</td>\n",
       "      <td>0.017909</td>\n",
       "      <td>-0.063664</td>\n",
       "      <td>-0.152100</td>\n",
       "      <td>-0.047104</td>\n",
       "      <td>0.103360</td>\n",
       "      <td>-0.019966</td>\n",
       "      <td>0.053955</td>\n",
       "      <td>-0.066990</td>\n",
       "      <td>...</td>\n",
       "      <td>-0.027808</td>\n",
       "      <td>-0.036166</td>\n",
       "      <td>0.020930</td>\n",
       "      <td>0.033553</td>\n",
       "      <td>0.021910</td>\n",
       "      <td>0.002223</td>\n",
       "      <td>30.498843</td>\n",
       "      <td>27.975107</td>\n",
       "      <td>0.799299</td>\n",
       "      <td>5.997125</td>\n",
       "    </tr>\n",
       "    <tr>\n",
       "      <th>std</th>\n",
       "      <td>0.077031</td>\n",
       "      <td>0.052005</td>\n",
       "      <td>0.066953</td>\n",
       "      <td>0.063553</td>\n",
       "      <td>0.076321</td>\n",
       "      <td>0.060004</td>\n",
       "      <td>0.080915</td>\n",
       "      <td>0.064415</td>\n",
       "      <td>0.055282</td>\n",
       "      <td>0.055525</td>\n",
       "      <td>...</td>\n",
       "      <td>0.062439</td>\n",
       "      <td>0.059810</td>\n",
       "      <td>0.055272</td>\n",
       "      <td>0.061426</td>\n",
       "      <td>0.057703</td>\n",
       "      <td>0.077277</td>\n",
       "      <td>17.328389</td>\n",
       "      <td>5.735913</td>\n",
       "      <td>0.400532</td>\n",
       "      <td>2.375567</td>\n",
       "    </tr>\n",
       "    <tr>\n",
       "      <th>min</th>\n",
       "      <td>-0.208012</td>\n",
       "      <td>-0.255053</td>\n",
       "      <td>-0.266606</td>\n",
       "      <td>-0.343267</td>\n",
       "      <td>-0.513899</td>\n",
       "      <td>-0.310102</td>\n",
       "      <td>-0.219100</td>\n",
       "      <td>-0.328737</td>\n",
       "      <td>-0.144846</td>\n",
       "      <td>-0.296431</td>\n",
       "      <td>...</td>\n",
       "      <td>-0.277574</td>\n",
       "      <td>-0.292493</td>\n",
       "      <td>-0.246473</td>\n",
       "      <td>-0.225174</td>\n",
       "      <td>-0.202081</td>\n",
       "      <td>-0.322757</td>\n",
       "      <td>1.000000</td>\n",
       "      <td>22.000000</td>\n",
       "      <td>0.000000</td>\n",
       "      <td>0.000000</td>\n",
       "    </tr>\n",
       "    <tr>\n",
       "      <th>25%</th>\n",
       "      <td>0.017124</td>\n",
       "      <td>-0.006248</td>\n",
       "      <td>-0.030998</td>\n",
       "      <td>-0.103098</td>\n",
       "      <td>-0.202183</td>\n",
       "      <td>-0.085325</td>\n",
       "      <td>0.041097</td>\n",
       "      <td>-0.062285</td>\n",
       "      <td>0.016961</td>\n",
       "      <td>-0.102529</td>\n",
       "      <td>...</td>\n",
       "      <td>-0.068011</td>\n",
       "      <td>-0.077156</td>\n",
       "      <td>-0.015498</td>\n",
       "      <td>-0.008668</td>\n",
       "      <td>-0.019020</td>\n",
       "      <td>-0.043847</td>\n",
       "      <td>15.000000</td>\n",
       "      <td>25.000000</td>\n",
       "      <td>1.000000</td>\n",
       "      <td>6.000000</td>\n",
       "    </tr>\n",
       "    <tr>\n",
       "      <th>50%</th>\n",
       "      <td>0.067048</td>\n",
       "      <td>0.031829</td>\n",
       "      <td>0.014992</td>\n",
       "      <td>-0.063066</td>\n",
       "      <td>-0.150201</td>\n",
       "      <td>-0.043714</td>\n",
       "      <td>0.102243</td>\n",
       "      <td>-0.019105</td>\n",
       "      <td>0.058116</td>\n",
       "      <td>-0.062655</td>\n",
       "      <td>...</td>\n",
       "      <td>-0.026689</td>\n",
       "      <td>-0.033144</td>\n",
       "      <td>0.024588</td>\n",
       "      <td>0.029152</td>\n",
       "      <td>0.016737</td>\n",
       "      <td>0.012354</td>\n",
       "      <td>30.000000</td>\n",
       "      <td>27.000000</td>\n",
       "      <td>1.000000</td>\n",
       "      <td>6.000000</td>\n",
       "    </tr>\n",
       "    <tr>\n",
       "      <th>75%</th>\n",
       "      <td>0.117308</td>\n",
       "      <td>0.063893</td>\n",
       "      <td>0.063480</td>\n",
       "      <td>-0.022328</td>\n",
       "      <td>-0.101837</td>\n",
       "      <td>-0.004591</td>\n",
       "      <td>0.162044</td>\n",
       "      <td>0.022008</td>\n",
       "      <td>0.092691</td>\n",
       "      <td>-0.028027</td>\n",
       "      <td>...</td>\n",
       "      <td>0.011446</td>\n",
       "      <td>0.007627</td>\n",
       "      <td>0.059094</td>\n",
       "      <td>0.073403</td>\n",
       "      <td>0.058569</td>\n",
       "      <td>0.057865</td>\n",
       "      <td>46.000000</td>\n",
       "      <td>30.000000</td>\n",
       "      <td>1.000000</td>\n",
       "      <td>6.000000</td>\n",
       "    </tr>\n",
       "    <tr>\n",
       "      <th>max</th>\n",
       "      <td>0.335540</td>\n",
       "      <td>0.235086</td>\n",
       "      <td>0.304683</td>\n",
       "      <td>0.242093</td>\n",
       "      <td>0.167758</td>\n",
       "      <td>0.206523</td>\n",
       "      <td>0.402070</td>\n",
       "      <td>0.270795</td>\n",
       "      <td>0.276515</td>\n",
       "      <td>0.255341</td>\n",
       "      <td>...</td>\n",
       "      <td>0.224582</td>\n",
       "      <td>0.199627</td>\n",
       "      <td>0.254224</td>\n",
       "      <td>0.312076</td>\n",
       "      <td>0.260679</td>\n",
       "      <td>0.279346</td>\n",
       "      <td>60.000000</td>\n",
       "      <td>61.000000</td>\n",
       "      <td>1.000000</td>\n",
       "      <td>13.000000</td>\n",
       "    </tr>\n",
       "  </tbody>\n",
       "</table>\n",
       "<p>8 rows × 772 columns</p>\n",
       "</div>"
      ],
      "text/plain": [
       "          feature_1     feature_2     feature_3     feature_4     feature_5  \\\n",
       "count  28520.000000  28520.000000  28520.000000  28520.000000  28520.000000   \n",
       "mean       0.065874      0.028860      0.017909     -0.063664     -0.152100   \n",
       "std        0.077031      0.052005      0.066953      0.063553      0.076321   \n",
       "min       -0.208012     -0.255053     -0.266606     -0.343267     -0.513899   \n",
       "25%        0.017124     -0.006248     -0.030998     -0.103098     -0.202183   \n",
       "50%        0.067048      0.031829      0.014992     -0.063066     -0.150201   \n",
       "75%        0.117308      0.063893      0.063480     -0.022328     -0.101837   \n",
       "max        0.335540      0.235086      0.304683      0.242093      0.167758   \n",
       "\n",
       "          feature_6     feature_7     feature_8     feature_9    feature_10  \\\n",
       "count  28520.000000  28520.000000  28520.000000  28520.000000  28520.000000   \n",
       "mean      -0.047104      0.103360     -0.019966      0.053955     -0.066990   \n",
       "std        0.060004      0.080915      0.064415      0.055282      0.055525   \n",
       "min       -0.310102     -0.219100     -0.328737     -0.144846     -0.296431   \n",
       "25%       -0.085325      0.041097     -0.062285      0.016961     -0.102529   \n",
       "50%       -0.043714      0.102243     -0.019105      0.058116     -0.062655   \n",
       "75%       -0.004591      0.162044      0.022008      0.092691     -0.028027   \n",
       "max        0.206523      0.402070      0.270795      0.276515      0.255341   \n",
       "\n",
       "       ...   feature_763   feature_764   feature_765   feature_766  \\\n",
       "count  ...  28520.000000  28520.000000  28520.000000  28520.000000   \n",
       "mean   ...     -0.027808     -0.036166      0.020930      0.033553   \n",
       "std    ...      0.062439      0.059810      0.055272      0.061426   \n",
       "min    ...     -0.277574     -0.292493     -0.246473     -0.225174   \n",
       "25%    ...     -0.068011     -0.077156     -0.015498     -0.008668   \n",
       "50%    ...     -0.026689     -0.033144      0.024588      0.029152   \n",
       "75%    ...      0.011446      0.007627      0.059094      0.073403   \n",
       "max    ...      0.224582      0.199627      0.254224      0.312076   \n",
       "\n",
       "        feature_767   feature_768    speaker_ID   speaker_age  speaker_gender  \\\n",
       "count  28520.000000  28520.000000  28520.000000  28040.000000    28520.000000   \n",
       "mean       0.021910      0.002223     30.498843     27.975107        0.799299   \n",
       "std        0.057703      0.077277     17.328389      5.735913        0.400532   \n",
       "min       -0.202081     -0.322757      1.000000     22.000000        0.000000   \n",
       "25%       -0.019020     -0.043847     15.000000     25.000000        1.000000   \n",
       "50%        0.016737      0.012354     30.000000     27.000000        1.000000   \n",
       "75%        0.058569      0.057865     46.000000     30.000000        1.000000   \n",
       "max        0.260679      0.279346     60.000000     61.000000        1.000000   \n",
       "\n",
       "       speaker_accent  \n",
       "count    28520.000000  \n",
       "mean         5.997125  \n",
       "std          2.375567  \n",
       "min          0.000000  \n",
       "25%          6.000000  \n",
       "50%          6.000000  \n",
       "75%          6.000000  \n",
       "max         13.000000  \n",
       "\n",
       "[8 rows x 772 columns]"
      ]
     },
     "execution_count": 6,
     "metadata": {},
     "output_type": "execute_result"
    }
   ],
   "source": [
    "train_df.describe()"
   ]
  },
  {
   "cell_type": "markdown",
   "metadata": {},
   "source": [
    "## Check for null/NaN values in all columns\n",
    "\n"
   ]
  },
  {
   "cell_type": "code",
   "execution_count": 7,
   "metadata": {},
   "outputs": [
    {
     "data": {
      "text/plain": [
       "feature_1         False\n",
       "feature_2         False\n",
       "feature_3         False\n",
       "feature_4         False\n",
       "feature_5         False\n",
       "                  ...  \n",
       "feature_768       False\n",
       "speaker_ID        False\n",
       "speaker_age        True\n",
       "speaker_gender    False\n",
       "speaker_accent    False\n",
       "Length: 772, dtype: bool"
      ]
     },
     "execution_count": 7,
     "metadata": {},
     "output_type": "execute_result"
    }
   ],
   "source": [
    "train_df.isna().any()\n",
    "\n",
    "# Based on below output we can see that there are missing values in the speaker_age column of the dataset.\n",
    "# Let's now check whether that is the only column with missing values."
   ]
  },
  {
   "cell_type": "code",
   "execution_count": 8,
   "metadata": {},
   "outputs": [
    {
     "data": {
      "text/plain": [
       "feature_1           0\n",
       "feature_2           0\n",
       "feature_3           0\n",
       "feature_4           0\n",
       "feature_5           0\n",
       "                 ... \n",
       "feature_768         0\n",
       "speaker_ID          0\n",
       "speaker_age       480\n",
       "speaker_gender      0\n",
       "speaker_accent      0\n",
       "Length: 772, dtype: int64"
      ]
     },
     "execution_count": 8,
     "metadata": {},
     "output_type": "execute_result"
    }
   ],
   "source": [
    "train_df.isnull().sum()"
   ]
  },
  {
   "cell_type": "code",
   "execution_count": 9,
   "metadata": {},
   "outputs": [
    {
     "data": {
      "text/plain": [
       "480"
      ]
     },
     "execution_count": 9,
     "metadata": {},
     "output_type": "execute_result"
    }
   ],
   "source": [
    "train_df.isnull().sum().sum()\n",
    "\n",
    "# Based on the above and below outputs, we can see that there are 480 missing values 'only' in the speaker_age column. No missing values in other columns."
   ]
  },
  {
   "cell_type": "code",
   "execution_count": 10,
   "metadata": {},
   "outputs": [
    {
     "name": "stdout",
     "output_type": "stream",
     "text": [
      "train dataset shape: (28520, 772)\n",
      "null values row count:  480\n",
      "null values row count percentage:  1.6830294530154277\n"
     ]
    }
   ],
   "source": [
    "print(\"train dataset shape:\", train_df.shape)\n",
    "print(\"null values row count: \", train_df.isnull().sum().sum())\n",
    "print(\"null values row count percentage: \", (train_df.isnull().sum().sum() / train_df.shape[0]) * 100)"
   ]
  },
  {
   "cell_type": "code",
   "execution_count": 11,
   "metadata": {},
   "outputs": [
    {
     "data": {
      "text/plain": [
       "26.0    4762\n",
       "25.0    2849\n",
       "27.0    2846\n",
       "23.0    2842\n",
       "31.0    2385\n",
       "24.0    1906\n",
       "28.0    1899\n",
       "30.0    1894\n",
       "22.0    1432\n",
       "29.0    1424\n",
       "33.0     945\n",
       "36.0     481\n",
       "35.0     480\n",
       "34.0     478\n",
       "32.0     476\n",
       "41.0     474\n",
       "61.0     467\n",
       "Name: speaker_age, dtype: int64"
      ]
     },
     "execution_count": 11,
     "metadata": {},
     "output_type": "execute_result"
    }
   ],
   "source": [
    "# Let's now check the distribution of the speaker_age column.\n",
    "train_df.speaker_age.value_counts()"
   ]
  },
  {
   "cell_type": "markdown",
   "metadata": {},
   "source": [
    "## Handling Null values (Replace with Mean)"
   ]
  },
  {
   "cell_type": "code",
   "execution_count": 12,
   "metadata": {},
   "outputs": [
    {
     "name": "stdout",
     "output_type": "stream",
     "text": [
      "mean:  27.975106990014265\n"
     ]
    }
   ],
   "source": [
    "# Let's get the mean of the speaker_age column.\n",
    "speaker_age_mean = train_df.speaker_age.mean()\n",
    "print(\"mean: \", speaker_age_mean)\n",
    "\n",
    "# round it to nearest int\n",
    "speaker_age_mean = round(speaker_age_mean)"
   ]
  },
  {
   "cell_type": "code",
   "execution_count": 13,
   "metadata": {},
   "outputs": [],
   "source": [
    "# Let's now fill the missing values with the mean value.\n",
    "train_df.speaker_age.fillna(speaker_age_mean, inplace=True)"
   ]
  },
  {
   "cell_type": "markdown",
   "metadata": {},
   "source": [
    "## Checking each Label distribution"
   ]
  },
  {
   "cell_type": "markdown",
   "metadata": {},
   "source": [
    "### Speaker age"
   ]
  },
  {
   "cell_type": "code",
   "execution_count": 14,
   "metadata": {},
   "outputs": [
    {
     "data": {
      "text/plain": [
       "26.0    4762\n",
       "25.0    2849\n",
       "27.0    2846\n",
       "23.0    2842\n",
       "31.0    2385\n",
       "28.0    2379\n",
       "24.0    1906\n",
       "30.0    1894\n",
       "22.0    1432\n",
       "29.0    1424\n",
       "33.0     945\n",
       "36.0     481\n",
       "35.0     480\n",
       "34.0     478\n",
       "32.0     476\n",
       "41.0     474\n",
       "61.0     467\n",
       "Name: speaker_age, dtype: int64"
      ]
     },
     "execution_count": 14,
     "metadata": {},
     "output_type": "execute_result"
    }
   ],
   "source": [
    "# Let's now check the distribution of the speaker_age column.\n",
    "train_df.speaker_age.value_counts()"
   ]
  },
  {
   "cell_type": "code",
   "execution_count": 15,
   "metadata": {},
   "outputs": [
    {
     "data": {
      "text/plain": [
       "17"
      ]
     },
     "execution_count": 15,
     "metadata": {},
     "output_type": "execute_result"
    }
   ],
   "source": [
    "# Number os unique values in speaker age column\n",
    "train_df.speaker_age.nunique()"
   ]
  },
  {
   "cell_type": "code",
   "execution_count": 16,
   "metadata": {},
   "outputs": [
    {
     "data": {
      "text/plain": [
       "<Axes: >"
      ]
     },
     "execution_count": 16,
     "metadata": {},
     "output_type": "execute_result"
    },
    {
     "data": {
      "image/png": "[encoded data removed]",
      "text/plain": [
       "<Figure size 640x480 with 1 Axes>"
      ]
     },
     "metadata": {},
     "output_type": "display_data"
    }
   ],
   "source": [
    "train_df.speaker_age.value_counts().plot.bar()"
   ]
  },
  {
   "cell_type": "code",
   "execution_count": 17,
   "metadata": {},
   "outputs": [],
   "source": [
    "# There is a slight class imbalance issue based on above outputs. As a solution we can use RandomForrestClassifier with class_weight='balanced' parameter.\n",
    "\n",
    "# Note; hpt: forest_params = [{'max_depth': list(range(10, 15)), 'max_features': list(range(0,14))}]\n",
    "\n",
    "# use averaged F1 score "
   ]
  },
  {
   "cell_type": "markdown",
   "metadata": {},
   "source": [
    "### Speaker ID"
   ]
  },
  {
   "cell_type": "code",
   "execution_count": 18,
   "metadata": {},
   "outputs": [
    {
     "data": {
      "text/plain": [
       "12    485\n",
       "35    484\n",
       "26    483\n",
       "60    482\n",
       "24    482\n",
       "25    481\n",
       "59    481\n",
       "10    481\n",
       "54    481\n",
       "45    480\n",
       "41    480\n",
       "9     480\n",
       "2     479\n",
       "42    479\n",
       "47    479\n",
       "6     479\n",
       "56    479\n",
       "34    478\n",
       "52    478\n",
       "3     478\n",
       "14    478\n",
       "33    478\n",
       "43    477\n",
       "1     477\n",
       "13    477\n",
       "20    477\n",
       "23    477\n",
       "30    476\n",
       "51    476\n",
       "32    476\n",
       "53    476\n",
       "22    476\n",
       "38    476\n",
       "49    476\n",
       "55    475\n",
       "28    474\n",
       "8     474\n",
       "40    474\n",
       "48    474\n",
       "21    474\n",
       "4     474\n",
       "39    473\n",
       "17    473\n",
       "7     473\n",
       "15    472\n",
       "58    472\n",
       "5     471\n",
       "27    471\n",
       "31    470\n",
       "19    469\n",
       "11    469\n",
       "46    469\n",
       "29    469\n",
       "36    468\n",
       "16    468\n",
       "50    467\n",
       "37    467\n",
       "44    467\n",
       "57    466\n",
       "18    465\n",
       "Name: speaker_ID, dtype: int64"
      ]
     },
     "execution_count": 18,
     "metadata": {},
     "output_type": "execute_result"
    }
   ],
   "source": [
    "# Let's now check the distribution of the speaker_ID column.\n",
    "train_df.speaker_ID.value_counts()"
   ]
  },
  {
   "cell_type": "code",
   "execution_count": 19,
   "metadata": {},
   "outputs": [
    {
     "data": {
      "text/plain": [
       "60"
      ]
     },
     "execution_count": 19,
     "metadata": {},
     "output_type": "execute_result"
    }
   ],
   "source": [
    "# Let's get num of unique values in speaker_ID column.\n",
    "train_df.speaker_ID.nunique()"
   ]
  },
  {
   "cell_type": "code",
   "execution_count": 20,
   "metadata": {},
   "outputs": [
    {
     "data": {
      "text/plain": [
       "<Axes: >"
      ]
     },
     "execution_count": 20,
     "metadata": {},
     "output_type": "execute_result"
    },
    {
     "data": {
      "image/png": "[encoded data removed]",
      "text/plain": [
       "<Figure size 640x480 with 1 Axes>"
      ]
     },
     "metadata": {},
     "output_type": "display_data"
    }
   ],
   "source": [
    "train_df.speaker_ID.value_counts().plot.bar()\n",
    "\n",
    "# There is no significant class imbalance issue based on above outputs for the Speaker_ID column"
   ]
  },
  {
   "cell_type": "markdown",
   "metadata": {},
   "source": [
    "### Speaker gender"
   ]
  },
  {
   "cell_type": "code",
   "execution_count": 21,
   "metadata": {},
   "outputs": [
    {
     "data": {
      "text/plain": [
       "1    22796\n",
       "0     5724\n",
       "Name: speaker_gender, dtype: int64"
      ]
     },
     "execution_count": 21,
     "metadata": {},
     "output_type": "execute_result"
    }
   ],
   "source": [
    "# Let's now check the distribution of the speaker_age column.\n",
    "train_df.speaker_gender.value_counts()"
   ]
  },
  {
   "cell_type": "code",
   "execution_count": 22,
   "metadata": {},
   "outputs": [
    {
     "data": {
      "text/plain": [
       "2"
      ]
     },
     "execution_count": 22,
     "metadata": {},
     "output_type": "execute_result"
    }
   ],
   "source": [
    "train_df.speaker_gender.nunique()"
   ]
  },
  {
   "cell_type": "code",
   "execution_count": 23,
   "metadata": {},
   "outputs": [
    {
     "data": {
      "text/plain": [
       "<Axes: >"
      ]
     },
     "execution_count": 23,
     "metadata": {},
     "output_type": "execute_result"
    },
    {
     "data": {
      "image/png": "[encoded data removed]",
      "text/plain": [
       "<Figure size 640x480 with 1 Axes>"
      ]
     },
     "metadata": {},
     "output_type": "display_data"
    }
   ],
   "source": [
    "train_df.speaker_gender.value_counts().plot.bar()\n",
    "\n",
    "# There is a significant class imbalance issue in speaker_gender column. As a solution we can use RandomForrestClassifier with class_weight='balanced' parameter.\n",
    "# Also when splitting the dataset, I will use the stratisfied sampling technique.\n",
    "\n",
    "# Note; hpt: forest_params = [{'max_depth': list(range(10, 15)), 'max_features': list(range(0,14))}]\n",
    "\n",
    "# NOte; print classification report | use averaged/macro F1\n",
    "\n",
    "# # Define the steps in your pipeline\n",
    "# steps = [\n",
    "#     ('scaler', StandardScaler()),  # Standardize the features\n",
    "#     ('oversampler', SMOTE(random_state=42)),  # Apply SMOTE for oversampling\n",
    "#     ('pca', PCA(n_components=0.95)),  # Apply PCA for dimensionality reduction\n",
    "#     ('xgb', XGBClassifier(scale_pos_weight=np.sqrt(np.sum(y == 0) / np.sum(y == 1))))  # XGBoost Classifier\n",
    "# ]\n",
    "\n",
    "# The parameter scale_pos_weight is used in XGBoost to address class imbalance. It's an important hyperparameter to consider when working with imbalanced datasets. The specific value provided (np.sqrt(np.sum(y == 0) / np.sum(y == 1))) is a common heuristic used for setting scale_pos_weight, but it should be chosen based on the characteristics of your dataset."
   ]
  },
  {
   "cell_type": "markdown",
   "metadata": {},
   "source": [
    "### Speaker accent"
   ]
  },
  {
   "cell_type": "code",
   "execution_count": 24,
   "metadata": {},
   "outputs": [
    {
     "data": {
      "text/plain": [
       "6     19938\n",
       "2      1449\n",
       "0       955\n",
       "12      954\n",
       "7       938\n",
       "13      482\n",
       "1       481\n",
       "11      480\n",
       "10      480\n",
       "3       479\n",
       "5       478\n",
       "9       472\n",
       "4       469\n",
       "8       465\n",
       "Name: speaker_accent, dtype: int64"
      ]
     },
     "execution_count": 24,
     "metadata": {},
     "output_type": "execute_result"
    }
   ],
   "source": [
    "# Let's now check the distribution of the speaker_age column.\n",
    "train_df.speaker_accent.value_counts()"
   ]
  },
  {
   "cell_type": "code",
   "execution_count": 25,
   "metadata": {},
   "outputs": [
    {
     "data": {
      "text/plain": [
       "14"
      ]
     },
     "execution_count": 25,
     "metadata": {},
     "output_type": "execute_result"
    }
   ],
   "source": [
    "train_df.speaker_accent.nunique()"
   ]
  },
  {
   "cell_type": "code",
   "execution_count": 26,
   "metadata": {},
   "outputs": [
    {
     "data": {
      "text/plain": [
       "<Axes: >"
      ]
     },
     "execution_count": 26,
     "metadata": {},
     "output_type": "execute_result"
    },
    {
     "data": {
      "image/png": "[encoded data removed]",
      "text/plain": [
       "<Figure size 640x480 with 1 Axes>"
      ]
     },
     "metadata": {},
     "output_type": "display_data"
    }
   ],
   "source": [
    "train_df.speaker_accent.value_counts().plot.bar()   \n",
    "\n",
    "# There is a significant class imbalance issue in speaker_accents column. As a solution we can use RandomForrestClassifier with class_weight='balanced' parameter.\n",
    "# Also when splitting the dataset, I will use the stratisfied sampling technique.\n",
    "\n",
    "# Note; hpt: forest_params = [{'max_depth': list(range(10, 15)), 'max_features': list(range(0,14))}]\n",
    "\n",
    "# use avraged F1/macro F1\n",
    "\n",
    "# <!-- # Make predictions on the test set -->\n",
    "# y_pred = classifier_pipeline.predict(X_test)\n",
    "\n",
    "# <!-- # Generate a classification report -->\n",
    "# report = classification_report(y_test, y_pred)\n",
    "\n",
    "# <!-- # Print the classification report -->\n",
    "# print(\"Classification Report:\\n\", report)"
   ]
  },
  {
   "cell_type": "markdown",
   "metadata": {},
   "source": [
    "# Validation dataset"
   ]
  },
  {
   "cell_type": "code",
   "execution_count": 27,
   "metadata": {},
   "outputs": [
    {
     "data": {
      "text/html": [
       "<div>\n",
       "<style scoped>\n",
       "    .dataframe tbody tr th:only-of-type {\n",
       "        vertical-align: middle;\n",
       "    }\n",
       "\n",
       "    .dataframe tbody tr th {\n",
       "        vertical-align: top;\n",
       "    }\n",
       "\n",
       "    .dataframe thead th {\n",
       "        text-align: right;\n",
       "    }\n",
       "</style>\n",
       "<table border=\"1\" class=\"dataframe\">\n",
       "  <thead>\n",
       "    <tr style=\"text-align: right;\">\n",
       "      <th></th>\n",
       "      <th>feature_1</th>\n",
       "      <th>feature_2</th>\n",
       "      <th>feature_3</th>\n",
       "      <th>feature_4</th>\n",
       "      <th>feature_5</th>\n",
       "      <th>feature_6</th>\n",
       "      <th>feature_7</th>\n",
       "      <th>feature_8</th>\n",
       "      <th>feature_9</th>\n",
       "      <th>feature_10</th>\n",
       "      <th>...</th>\n",
       "      <th>feature_763</th>\n",
       "      <th>feature_764</th>\n",
       "      <th>feature_765</th>\n",
       "      <th>feature_766</th>\n",
       "      <th>feature_767</th>\n",
       "      <th>feature_768</th>\n",
       "      <th>label_1</th>\n",
       "      <th>label_2</th>\n",
       "      <th>label_3</th>\n",
       "      <th>label_4</th>\n",
       "    </tr>\n",
       "  </thead>\n",
       "  <tbody>\n",
       "    <tr>\n",
       "      <th>0</th>\n",
       "      <td>0.085129</td>\n",
       "      <td>0.000378</td>\n",
       "      <td>-0.029872</td>\n",
       "      <td>-0.104609</td>\n",
       "      <td>-0.191291</td>\n",
       "      <td>-0.025511</td>\n",
       "      <td>0.029381</td>\n",
       "      <td>0.006177</td>\n",
       "      <td>0.079207</td>\n",
       "      <td>-0.012729</td>\n",
       "      <td>...</td>\n",
       "      <td>-0.026701</td>\n",
       "      <td>0.003306</td>\n",
       "      <td>0.052219</td>\n",
       "      <td>0.000784</td>\n",
       "      <td>0.004527</td>\n",
       "      <td>0.102033</td>\n",
       "      <td>45</td>\n",
       "      <td>NaN</td>\n",
       "      <td>1</td>\n",
       "      <td>6</td>\n",
       "    </tr>\n",
       "    <tr>\n",
       "      <th>1</th>\n",
       "      <td>0.222652</td>\n",
       "      <td>-0.094210</td>\n",
       "      <td>-0.056387</td>\n",
       "      <td>-0.210214</td>\n",
       "      <td>-0.294624</td>\n",
       "      <td>-0.032355</td>\n",
       "      <td>-0.069078</td>\n",
       "      <td>-0.172146</td>\n",
       "      <td>0.056509</td>\n",
       "      <td>-0.126757</td>\n",
       "      <td>...</td>\n",
       "      <td>-0.041096</td>\n",
       "      <td>0.013654</td>\n",
       "      <td>0.142623</td>\n",
       "      <td>-0.011882</td>\n",
       "      <td>0.005219</td>\n",
       "      <td>0.143616</td>\n",
       "      <td>45</td>\n",
       "      <td>NaN</td>\n",
       "      <td>1</td>\n",
       "      <td>6</td>\n",
       "    </tr>\n",
       "    <tr>\n",
       "      <th>2</th>\n",
       "      <td>0.072147</td>\n",
       "      <td>0.023575</td>\n",
       "      <td>-0.017664</td>\n",
       "      <td>-0.070988</td>\n",
       "      <td>-0.098729</td>\n",
       "      <td>0.018534</td>\n",
       "      <td>0.028282</td>\n",
       "      <td>-0.064789</td>\n",
       "      <td>0.094686</td>\n",
       "      <td>-0.067313</td>\n",
       "      <td>...</td>\n",
       "      <td>-0.064602</td>\n",
       "      <td>-0.018653</td>\n",
       "      <td>0.013636</td>\n",
       "      <td>-0.078994</td>\n",
       "      <td>0.060903</td>\n",
       "      <td>0.064752</td>\n",
       "      <td>45</td>\n",
       "      <td>NaN</td>\n",
       "      <td>1</td>\n",
       "      <td>6</td>\n",
       "    </tr>\n",
       "    <tr>\n",
       "      <th>3</th>\n",
       "      <td>0.026623</td>\n",
       "      <td>0.052005</td>\n",
       "      <td>-0.006921</td>\n",
       "      <td>-0.075105</td>\n",
       "      <td>-0.074829</td>\n",
       "      <td>-0.031380</td>\n",
       "      <td>0.012402</td>\n",
       "      <td>-0.043555</td>\n",
       "      <td>0.073825</td>\n",
       "      <td>-0.050979</td>\n",
       "      <td>...</td>\n",
       "      <td>-0.005655</td>\n",
       "      <td>0.015477</td>\n",
       "      <td>0.064209</td>\n",
       "      <td>0.025045</td>\n",
       "      <td>-0.049599</td>\n",
       "      <td>0.078412</td>\n",
       "      <td>45</td>\n",
       "      <td>NaN</td>\n",
       "      <td>1</td>\n",
       "      <td>6</td>\n",
       "    </tr>\n",
       "    <tr>\n",
       "      <th>4</th>\n",
       "      <td>0.112069</td>\n",
       "      <td>0.113702</td>\n",
       "      <td>0.044343</td>\n",
       "      <td>0.010162</td>\n",
       "      <td>-0.169193</td>\n",
       "      <td>-0.099847</td>\n",
       "      <td>0.195957</td>\n",
       "      <td>0.051861</td>\n",
       "      <td>0.024582</td>\n",
       "      <td>0.001314</td>\n",
       "      <td>...</td>\n",
       "      <td>-0.118097</td>\n",
       "      <td>-0.043349</td>\n",
       "      <td>0.036754</td>\n",
       "      <td>-0.023065</td>\n",
       "      <td>0.007358</td>\n",
       "      <td>-0.132566</td>\n",
       "      <td>45</td>\n",
       "      <td>NaN</td>\n",
       "      <td>1</td>\n",
       "      <td>6</td>\n",
       "    </tr>\n",
       "  </tbody>\n",
       "</table>\n",
       "<p>5 rows × 772 columns</p>\n",
       "</div>"
      ],
      "text/plain": [
       "   feature_1  feature_2  feature_3  feature_4  feature_5  feature_6  \\\n",
       "0   0.085129   0.000378  -0.029872  -0.104609  -0.191291  -0.025511   \n",
       "1   0.222652  -0.094210  -0.056387  -0.210214  -0.294624  -0.032355   \n",
       "2   0.072147   0.023575  -0.017664  -0.070988  -0.098729   0.018534   \n",
       "3   0.026623   0.052005  -0.006921  -0.075105  -0.074829  -0.031380   \n",
       "4   0.112069   0.113702   0.044343   0.010162  -0.169193  -0.099847   \n",
       "\n",
       "   feature_7  feature_8  feature_9  feature_10  ...  feature_763  feature_764  \\\n",
       "0   0.029381   0.006177   0.079207   -0.012729  ...    -0.026701     0.003306   \n",
       "1  -0.069078  -0.172146   0.056509   -0.126757  ...    -0.041096     0.013654   \n",
       "2   0.028282  -0.064789   0.094686   -0.067313  ...    -0.064602    -0.018653   \n",
       "3   0.012402  -0.043555   0.073825   -0.050979  ...    -0.005655     0.015477   \n",
       "4   0.195957   0.051861   0.024582    0.001314  ...    -0.118097    -0.043349   \n",
       "\n",
       "   feature_765  feature_766  feature_767  feature_768  label_1  label_2  \\\n",
       "0     0.052219     0.000784     0.004527     0.102033       45      NaN   \n",
       "1     0.142623    -0.011882     0.005219     0.143616       45      NaN   \n",
       "2     0.013636    -0.078994     0.060903     0.064752       45      NaN   \n",
       "3     0.064209     0.025045    -0.049599     0.078412       45      NaN   \n",
       "4     0.036754    -0.023065     0.007358    -0.132566       45      NaN   \n",
       "\n",
       "   label_3  label_4  \n",
       "0        1        6  \n",
       "1        1        6  \n",
       "2        1        6  \n",
       "3        1        6  \n",
       "4        1        6  \n",
       "\n",
       "[5 rows x 772 columns]"
      ]
     },
     "execution_count": 27,
     "metadata": {},
     "output_type": "execute_result"
    }
   ],
   "source": [
    "valid_df = pd.read_csv(valid_csv_file_path)\n",
    "valid_df.head()"
   ]
  },
  {
   "cell_type": "code",
   "execution_count": 28,
   "metadata": {},
   "outputs": [
    {
     "data": {
      "text/plain": [
       "feature_1      float64\n",
       "feature_2      float64\n",
       "feature_3      float64\n",
       "feature_4      float64\n",
       "feature_5      float64\n",
       "                ...   \n",
       "feature_768    float64\n",
       "label_1          int64\n",
       "label_2        float64\n",
       "label_3          int64\n",
       "label_4          int64\n",
       "Length: 772, dtype: object"
      ]
     },
     "execution_count": 28,
     "metadata": {},
     "output_type": "execute_result"
    }
   ],
   "source": [
    "# get type of each column\n",
    "valid_df.dtypes"
   ]
  },
  {
   "cell_type": "markdown",
   "metadata": {},
   "source": [
    "## Renaming Labels\n",
    "\n",
    "*   Since the labels are in 'label_1', 'label_2' ... format, I will be renaming them to 'speaker_ID', 'speaker_age', ... format\n"
   ]
  },
  {
   "cell_type": "code",
   "execution_count": 29,
   "metadata": {},
   "outputs": [],
   "source": [
    "valid_df.rename(columns={'label_1': 'speaker_ID', 'label_2': 'speaker_age', 'label_3': 'speaker_gender', 'label_4': 'speaker_accent'}, inplace=True)"
   ]
  },
  {
   "cell_type": "code",
   "execution_count": 30,
   "metadata": {},
   "outputs": [
    {
     "data": {
      "text/html": [
       "<div>\n",
       "<style scoped>\n",
       "    .dataframe tbody tr th:only-of-type {\n",
       "        vertical-align: middle;\n",
       "    }\n",
       "\n",
       "    .dataframe tbody tr th {\n",
       "        vertical-align: top;\n",
       "    }\n",
       "\n",
       "    .dataframe thead th {\n",
       "        text-align: right;\n",
       "    }\n",
       "</style>\n",
       "<table border=\"1\" class=\"dataframe\">\n",
       "  <thead>\n",
       "    <tr style=\"text-align: right;\">\n",
       "      <th></th>\n",
       "      <th>feature_1</th>\n",
       "      <th>feature_2</th>\n",
       "      <th>feature_3</th>\n",
       "      <th>feature_4</th>\n",
       "      <th>feature_5</th>\n",
       "      <th>feature_6</th>\n",
       "      <th>feature_7</th>\n",
       "      <th>feature_8</th>\n",
       "      <th>feature_9</th>\n",
       "      <th>feature_10</th>\n",
       "      <th>...</th>\n",
       "      <th>feature_763</th>\n",
       "      <th>feature_764</th>\n",
       "      <th>feature_765</th>\n",
       "      <th>feature_766</th>\n",
       "      <th>feature_767</th>\n",
       "      <th>feature_768</th>\n",
       "      <th>speaker_ID</th>\n",
       "      <th>speaker_age</th>\n",
       "      <th>speaker_gender</th>\n",
       "      <th>speaker_accent</th>\n",
       "    </tr>\n",
       "  </thead>\n",
       "  <tbody>\n",
       "    <tr>\n",
       "      <th>count</th>\n",
       "      <td>750.000000</td>\n",
       "      <td>750.000000</td>\n",
       "      <td>750.000000</td>\n",
       "      <td>750.000000</td>\n",
       "      <td>750.000000</td>\n",
       "      <td>750.000000</td>\n",
       "      <td>750.000000</td>\n",
       "      <td>750.000000</td>\n",
       "      <td>750.000000</td>\n",
       "      <td>750.000000</td>\n",
       "      <td>...</td>\n",
       "      <td>750.000000</td>\n",
       "      <td>750.000000</td>\n",
       "      <td>750.000000</td>\n",
       "      <td>750.000000</td>\n",
       "      <td>750.000000</td>\n",
       "      <td>750.000000</td>\n",
       "      <td>750.000000</td>\n",
       "      <td>736.000000</td>\n",
       "      <td>750.000000</td>\n",
       "      <td>750.000000</td>\n",
       "    </tr>\n",
       "    <tr>\n",
       "      <th>mean</th>\n",
       "      <td>0.065343</td>\n",
       "      <td>0.028254</td>\n",
       "      <td>0.017104</td>\n",
       "      <td>-0.064875</td>\n",
       "      <td>-0.150976</td>\n",
       "      <td>-0.045967</td>\n",
       "      <td>0.103203</td>\n",
       "      <td>-0.024541</td>\n",
       "      <td>0.056699</td>\n",
       "      <td>-0.068377</td>\n",
       "      <td>...</td>\n",
       "      <td>-0.029009</td>\n",
       "      <td>-0.035013</td>\n",
       "      <td>0.022654</td>\n",
       "      <td>0.031738</td>\n",
       "      <td>0.021984</td>\n",
       "      <td>0.007387</td>\n",
       "      <td>30.085333</td>\n",
       "      <td>28.330163</td>\n",
       "      <td>0.810667</td>\n",
       "      <td>6.117333</td>\n",
       "    </tr>\n",
       "    <tr>\n",
       "      <th>std</th>\n",
       "      <td>0.075503</td>\n",
       "      <td>0.051639</td>\n",
       "      <td>0.070737</td>\n",
       "      <td>0.065121</td>\n",
       "      <td>0.076390</td>\n",
       "      <td>0.060949</td>\n",
       "      <td>0.079239</td>\n",
       "      <td>0.065462</td>\n",
       "      <td>0.053570</td>\n",
       "      <td>0.055164</td>\n",
       "      <td>...</td>\n",
       "      <td>0.061546</td>\n",
       "      <td>0.060042</td>\n",
       "      <td>0.054347</td>\n",
       "      <td>0.063622</td>\n",
       "      <td>0.055285</td>\n",
       "      <td>0.078428</td>\n",
       "      <td>17.489060</td>\n",
       "      <td>6.518500</td>\n",
       "      <td>0.392035</td>\n",
       "      <td>2.227895</td>\n",
       "    </tr>\n",
       "    <tr>\n",
       "      <th>min</th>\n",
       "      <td>-0.154389</td>\n",
       "      <td>-0.127209</td>\n",
       "      <td>-0.206854</td>\n",
       "      <td>-0.268425</td>\n",
       "      <td>-0.418381</td>\n",
       "      <td>-0.252394</td>\n",
       "      <td>-0.096562</td>\n",
       "      <td>-0.213260</td>\n",
       "      <td>-0.105972</td>\n",
       "      <td>-0.256963</td>\n",
       "      <td>...</td>\n",
       "      <td>-0.234465</td>\n",
       "      <td>-0.219546</td>\n",
       "      <td>-0.162846</td>\n",
       "      <td>-0.168805</td>\n",
       "      <td>-0.128853</td>\n",
       "      <td>-0.256403</td>\n",
       "      <td>1.000000</td>\n",
       "      <td>22.000000</td>\n",
       "      <td>0.000000</td>\n",
       "      <td>0.000000</td>\n",
       "    </tr>\n",
       "    <tr>\n",
       "      <th>25%</th>\n",
       "      <td>0.018203</td>\n",
       "      <td>-0.006113</td>\n",
       "      <td>-0.032940</td>\n",
       "      <td>-0.102911</td>\n",
       "      <td>-0.197965</td>\n",
       "      <td>-0.086631</td>\n",
       "      <td>0.040759</td>\n",
       "      <td>-0.067297</td>\n",
       "      <td>0.023229</td>\n",
       "      <td>-0.105432</td>\n",
       "      <td>...</td>\n",
       "      <td>-0.068467</td>\n",
       "      <td>-0.074493</td>\n",
       "      <td>-0.012096</td>\n",
       "      <td>-0.010266</td>\n",
       "      <td>-0.015070</td>\n",
       "      <td>-0.041183</td>\n",
       "      <td>15.000000</td>\n",
       "      <td>25.000000</td>\n",
       "      <td>1.000000</td>\n",
       "      <td>6.000000</td>\n",
       "    </tr>\n",
       "    <tr>\n",
       "      <th>50%</th>\n",
       "      <td>0.064435</td>\n",
       "      <td>0.032623</td>\n",
       "      <td>0.015322</td>\n",
       "      <td>-0.063273</td>\n",
       "      <td>-0.149014</td>\n",
       "      <td>-0.042593</td>\n",
       "      <td>0.102535</td>\n",
       "      <td>-0.025283</td>\n",
       "      <td>0.062613</td>\n",
       "      <td>-0.064284</td>\n",
       "      <td>...</td>\n",
       "      <td>-0.025893</td>\n",
       "      <td>-0.030194</td>\n",
       "      <td>0.025138</td>\n",
       "      <td>0.025431</td>\n",
       "      <td>0.016813</td>\n",
       "      <td>0.013506</td>\n",
       "      <td>29.000000</td>\n",
       "      <td>27.000000</td>\n",
       "      <td>1.000000</td>\n",
       "      <td>6.000000</td>\n",
       "    </tr>\n",
       "    <tr>\n",
       "      <th>75%</th>\n",
       "      <td>0.112311</td>\n",
       "      <td>0.064124</td>\n",
       "      <td>0.063005</td>\n",
       "      <td>-0.026061</td>\n",
       "      <td>-0.101120</td>\n",
       "      <td>-0.000968</td>\n",
       "      <td>0.163022</td>\n",
       "      <td>0.017450</td>\n",
       "      <td>0.096418</td>\n",
       "      <td>-0.029683</td>\n",
       "      <td>...</td>\n",
       "      <td>0.009571</td>\n",
       "      <td>0.008086</td>\n",
       "      <td>0.061446</td>\n",
       "      <td>0.071360</td>\n",
       "      <td>0.055578</td>\n",
       "      <td>0.063816</td>\n",
       "      <td>45.000000</td>\n",
       "      <td>30.000000</td>\n",
       "      <td>1.000000</td>\n",
       "      <td>6.000000</td>\n",
       "    </tr>\n",
       "    <tr>\n",
       "      <th>max</th>\n",
       "      <td>0.308737</td>\n",
       "      <td>0.169459</td>\n",
       "      <td>0.220998</td>\n",
       "      <td>0.133039</td>\n",
       "      <td>0.081396</td>\n",
       "      <td>0.104645</td>\n",
       "      <td>0.328981</td>\n",
       "      <td>0.157345</td>\n",
       "      <td>0.203738</td>\n",
       "      <td>0.111428</td>\n",
       "      <td>...</td>\n",
       "      <td>0.198216</td>\n",
       "      <td>0.108848</td>\n",
       "      <td>0.174819</td>\n",
       "      <td>0.270681</td>\n",
       "      <td>0.229520</td>\n",
       "      <td>0.231531</td>\n",
       "      <td>60.000000</td>\n",
       "      <td>61.000000</td>\n",
       "      <td>1.000000</td>\n",
       "      <td>13.000000</td>\n",
       "    </tr>\n",
       "  </tbody>\n",
       "</table>\n",
       "<p>8 rows × 772 columns</p>\n",
       "</div>"
      ],
      "text/plain": [
       "        feature_1   feature_2   feature_3   feature_4   feature_5   feature_6  \\\n",
       "count  750.000000  750.000000  750.000000  750.000000  750.000000  750.000000   \n",
       "mean     0.065343    0.028254    0.017104   -0.064875   -0.150976   -0.045967   \n",
       "std      0.075503    0.051639    0.070737    0.065121    0.076390    0.060949   \n",
       "min     -0.154389   -0.127209   -0.206854   -0.268425   -0.418381   -0.252394   \n",
       "25%      0.018203   -0.006113   -0.032940   -0.102911   -0.197965   -0.086631   \n",
       "50%      0.064435    0.032623    0.015322   -0.063273   -0.149014   -0.042593   \n",
       "75%      0.112311    0.064124    0.063005   -0.026061   -0.101120   -0.000968   \n",
       "max      0.308737    0.169459    0.220998    0.133039    0.081396    0.104645   \n",
       "\n",
       "        feature_7   feature_8   feature_9  feature_10  ...  feature_763  \\\n",
       "count  750.000000  750.000000  750.000000  750.000000  ...   750.000000   \n",
       "mean     0.103203   -0.024541    0.056699   -0.068377  ...    -0.029009   \n",
       "std      0.079239    0.065462    0.053570    0.055164  ...     0.061546   \n",
       "min     -0.096562   -0.213260   -0.105972   -0.256963  ...    -0.234465   \n",
       "25%      0.040759   -0.067297    0.023229   -0.105432  ...    -0.068467   \n",
       "50%      0.102535   -0.025283    0.062613   -0.064284  ...    -0.025893   \n",
       "75%      0.163022    0.017450    0.096418   -0.029683  ...     0.009571   \n",
       "max      0.328981    0.157345    0.203738    0.111428  ...     0.198216   \n",
       "\n",
       "       feature_764  feature_765  feature_766  feature_767  feature_768  \\\n",
       "count   750.000000   750.000000   750.000000   750.000000   750.000000   \n",
       "mean     -0.035013     0.022654     0.031738     0.021984     0.007387   \n",
       "std       0.060042     0.054347     0.063622     0.055285     0.078428   \n",
       "min      -0.219546    -0.162846    -0.168805    -0.128853    -0.256403   \n",
       "25%      -0.074493    -0.012096    -0.010266    -0.015070    -0.041183   \n",
       "50%      -0.030194     0.025138     0.025431     0.016813     0.013506   \n",
       "75%       0.008086     0.061446     0.071360     0.055578     0.063816   \n",
       "max       0.108848     0.174819     0.270681     0.229520     0.231531   \n",
       "\n",
       "       speaker_ID  speaker_age  speaker_gender  speaker_accent  \n",
       "count  750.000000   736.000000      750.000000      750.000000  \n",
       "mean    30.085333    28.330163        0.810667        6.117333  \n",
       "std     17.489060     6.518500        0.392035        2.227895  \n",
       "min      1.000000    22.000000        0.000000        0.000000  \n",
       "25%     15.000000    25.000000        1.000000        6.000000  \n",
       "50%     29.000000    27.000000        1.000000        6.000000  \n",
       "75%     45.000000    30.000000        1.000000        6.000000  \n",
       "max     60.000000    61.000000        1.000000       13.000000  \n",
       "\n",
       "[8 rows x 772 columns]"
      ]
     },
     "execution_count": 30,
     "metadata": {},
     "output_type": "execute_result"
    }
   ],
   "source": [
    "valid_df.describe()"
   ]
  },
  {
   "cell_type": "markdown",
   "metadata": {},
   "source": [
    "## Check for null/NaN values in all columns\n",
    "\n"
   ]
  },
  {
   "cell_type": "code",
   "execution_count": 31,
   "metadata": {},
   "outputs": [
    {
     "data": {
      "text/plain": [
       "feature_1         False\n",
       "feature_2         False\n",
       "feature_3         False\n",
       "feature_4         False\n",
       "feature_5         False\n",
       "                  ...  \n",
       "feature_768       False\n",
       "speaker_ID        False\n",
       "speaker_age        True\n",
       "speaker_gender    False\n",
       "speaker_accent    False\n",
       "Length: 772, dtype: bool"
      ]
     },
     "execution_count": 31,
     "metadata": {},
     "output_type": "execute_result"
    }
   ],
   "source": [
    "valid_df.isna().any()\n",
    "\n",
    "# Based on below output we can see that there are missing values in the speaker_age column of the dataset.\n",
    "# Let's now check whether that is the only column with missing values."
   ]
  },
  {
   "cell_type": "code",
   "execution_count": 32,
   "metadata": {},
   "outputs": [
    {
     "data": {
      "text/plain": [
       "feature_1          0\n",
       "feature_2          0\n",
       "feature_3          0\n",
       "feature_4          0\n",
       "feature_5          0\n",
       "                  ..\n",
       "feature_768        0\n",
       "speaker_ID         0\n",
       "speaker_age       14\n",
       "speaker_gender     0\n",
       "speaker_accent     0\n",
       "Length: 772, dtype: int64"
      ]
     },
     "execution_count": 32,
     "metadata": {},
     "output_type": "execute_result"
    }
   ],
   "source": [
    "valid_df.isnull().sum()"
   ]
  },
  {
   "cell_type": "code",
   "execution_count": 33,
   "metadata": {},
   "outputs": [
    {
     "data": {
      "text/plain": [
       "14"
      ]
     },
     "execution_count": 33,
     "metadata": {},
     "output_type": "execute_result"
    }
   ],
   "source": [
    "valid_df.isnull().sum().sum()\n",
    "\n",
    "# Based on the above and below outputs, we can see that there are 480 missing values 'only' in the speaker_age column. No missing values in other columns."
   ]
  },
  {
   "cell_type": "code",
   "execution_count": 34,
   "metadata": {},
   "outputs": [
    {
     "name": "stdout",
     "output_type": "stream",
     "text": [
      "validation dataset shape: (750, 772)\n",
      "null values row count:  14\n",
      "null values row count percentage:  1.866666666666667\n"
     ]
    }
   ],
   "source": [
    "print(\"validation dataset shape:\", valid_df.shape)\n",
    "print(\"null values row count: \", valid_df.isnull().sum().sum())\n",
    "print(\"null values row count percentage: \", (valid_df.isnull().sum().sum() / valid_df.shape[0]) * 100)"
   ]
  },
  {
   "cell_type": "code",
   "execution_count": 35,
   "metadata": {},
   "outputs": [
    {
     "data": {
      "text/plain": [
       "26.0    115\n",
       "27.0     81\n",
       "25.0     79\n",
       "23.0     71\n",
       "31.0     65\n",
       "30.0     48\n",
       "28.0     46\n",
       "24.0     46\n",
       "29.0     45\n",
       "22.0     36\n",
       "33.0     30\n",
       "61.0     19\n",
       "41.0     14\n",
       "34.0     11\n",
       "32.0     11\n",
       "35.0     11\n",
       "36.0      8\n",
       "Name: speaker_age, dtype: int64"
      ]
     },
     "execution_count": 35,
     "metadata": {},
     "output_type": "execute_result"
    }
   ],
   "source": [
    "# Let's now check the distribution of the speaker_age column.\n",
    "valid_df.speaker_age.value_counts()"
   ]
  },
  {
   "cell_type": "markdown",
   "metadata": {},
   "source": [
    "## Handling Null values (Replace with Mean)"
   ]
  },
  {
   "cell_type": "code",
   "execution_count": 36,
   "metadata": {},
   "outputs": [
    {
     "name": "stdout",
     "output_type": "stream",
     "text": [
      "mean:  28\n"
     ]
    }
   ],
   "source": [
    "# Let's get the mean of the speaker_age column.\n",
    "speaker_age_mean = valid_df.speaker_age.mean()\n",
    "\n",
    "# round it to nearest int\n",
    "speaker_age_mean = round(speaker_age_mean)\n",
    "print(\"mean: \", speaker_age_mean)"
   ]
  },
  {
   "cell_type": "code",
   "execution_count": 37,
   "metadata": {},
   "outputs": [],
   "source": [
    "# Let's now fill the missing values with the mean value.\n",
    "valid_df.speaker_age.fillna(speaker_age_mean, inplace=True)"
   ]
  },
  {
   "cell_type": "code",
   "execution_count": 38,
   "metadata": {},
   "outputs": [
    {
     "data": {
      "text/plain": [
       "26.0    115\n",
       "27.0     81\n",
       "25.0     79\n",
       "23.0     71\n",
       "31.0     65\n",
       "28.0     60\n",
       "30.0     48\n",
       "24.0     46\n",
       "29.0     45\n",
       "22.0     36\n",
       "33.0     30\n",
       "61.0     19\n",
       "41.0     14\n",
       "34.0     11\n",
       "32.0     11\n",
       "35.0     11\n",
       "36.0      8\n",
       "Name: speaker_age, dtype: int64"
      ]
     },
     "execution_count": 38,
     "metadata": {},
     "output_type": "execute_result"
    }
   ],
   "source": [
    "valid_df.speaker_age.value_counts()"
   ]
  },
  {
   "cell_type": "code",
   "execution_count": 39,
   "metadata": {},
   "outputs": [],
   "source": [
    "# Preparing training and validation datasets\n",
    "from sklearn.model_selection import train_test_split\n",
    "\n",
    "train_X = train_df.drop(['speaker_ID', 'speaker_age', 'speaker_gender', 'speaker_accent'], axis=1)\n",
    "train_speaker_IDs = train_df['speaker_ID']\n",
    "train_speaker_ages = train_df['speaker_age']\n",
    "train_speaker_genders = train_df['speaker_gender']\n",
    "train_speaker_accents = train_df['speaker_accent']\n",
    "\n",
    "valid_X = valid_df.drop(['speaker_ID', 'speaker_age', 'speaker_gender', 'speaker_accent'], axis=1)\n",
    "valid_speaker_IDs = valid_df['speaker_ID']\n",
    "valid_speaker_ages = valid_df['speaker_age']\n",
    "valid_speaker_genders = valid_df['speaker_gender']\n",
    "valid_speaker_accents = valid_df['speaker_accent']\n"
   ]
  },
  {
   "cell_type": "markdown",
   "metadata": {},
   "source": [
    "# Test dataset"
   ]
  },
  {
   "cell_type": "code",
   "execution_count": 40,
   "metadata": {},
   "outputs": [
    {
     "data": {
      "text/html": [
       "<div>\n",
       "<style scoped>\n",
       "    .dataframe tbody tr th:only-of-type {\n",
       "        vertical-align: middle;\n",
       "    }\n",
       "\n",
       "    .dataframe tbody tr th {\n",
       "        vertical-align: top;\n",
       "    }\n",
       "\n",
       "    .dataframe thead th {\n",
       "        text-align: right;\n",
       "    }\n",
       "</style>\n",
       "<table border=\"1\" class=\"dataframe\">\n",
       "  <thead>\n",
       "    <tr style=\"text-align: right;\">\n",
       "      <th></th>\n",
       "      <th>ID</th>\n",
       "      <th>feature_1</th>\n",
       "      <th>feature_2</th>\n",
       "      <th>feature_3</th>\n",
       "      <th>feature_4</th>\n",
       "      <th>feature_5</th>\n",
       "      <th>feature_6</th>\n",
       "      <th>feature_7</th>\n",
       "      <th>feature_8</th>\n",
       "      <th>feature_9</th>\n",
       "      <th>...</th>\n",
       "      <th>feature_759</th>\n",
       "      <th>feature_760</th>\n",
       "      <th>feature_761</th>\n",
       "      <th>feature_762</th>\n",
       "      <th>feature_763</th>\n",
       "      <th>feature_764</th>\n",
       "      <th>feature_765</th>\n",
       "      <th>feature_766</th>\n",
       "      <th>feature_767</th>\n",
       "      <th>feature_768</th>\n",
       "    </tr>\n",
       "  </thead>\n",
       "  <tbody>\n",
       "    <tr>\n",
       "      <th>0</th>\n",
       "      <td>1</td>\n",
       "      <td>0.187868</td>\n",
       "      <td>-0.009268</td>\n",
       "      <td>0.039846</td>\n",
       "      <td>-0.102515</td>\n",
       "      <td>-0.109121</td>\n",
       "      <td>-0.079769</td>\n",
       "      <td>0.061295</td>\n",
       "      <td>-0.042890</td>\n",
       "      <td>0.099860</td>\n",
       "      <td>...</td>\n",
       "      <td>0.043647</td>\n",
       "      <td>0.061174</td>\n",
       "      <td>0.026771</td>\n",
       "      <td>-0.092734</td>\n",
       "      <td>-0.052383</td>\n",
       "      <td>-0.055526</td>\n",
       "      <td>0.029101</td>\n",
       "      <td>0.041857</td>\n",
       "      <td>-0.027872</td>\n",
       "      <td>0.099500</td>\n",
       "    </tr>\n",
       "    <tr>\n",
       "      <th>1</th>\n",
       "      <td>2</td>\n",
       "      <td>0.122119</td>\n",
       "      <td>0.019015</td>\n",
       "      <td>0.134483</td>\n",
       "      <td>0.007949</td>\n",
       "      <td>-0.157884</td>\n",
       "      <td>-0.033332</td>\n",
       "      <td>0.044334</td>\n",
       "      <td>-0.016869</td>\n",
       "      <td>-0.014088</td>\n",
       "      <td>...</td>\n",
       "      <td>-0.179798</td>\n",
       "      <td>-0.027611</td>\n",
       "      <td>0.240023</td>\n",
       "      <td>-0.005648</td>\n",
       "      <td>-0.057537</td>\n",
       "      <td>0.023922</td>\n",
       "      <td>-0.038126</td>\n",
       "      <td>-0.015171</td>\n",
       "      <td>-0.006270</td>\n",
       "      <td>-0.003790</td>\n",
       "    </tr>\n",
       "    <tr>\n",
       "      <th>2</th>\n",
       "      <td>3</td>\n",
       "      <td>0.079187</td>\n",
       "      <td>0.146195</td>\n",
       "      <td>-0.001316</td>\n",
       "      <td>-0.085596</td>\n",
       "      <td>-0.261093</td>\n",
       "      <td>-0.021620</td>\n",
       "      <td>0.268898</td>\n",
       "      <td>-0.103950</td>\n",
       "      <td>0.068976</td>\n",
       "      <td>...</td>\n",
       "      <td>-0.075460</td>\n",
       "      <td>0.037346</td>\n",
       "      <td>0.124254</td>\n",
       "      <td>-0.369695</td>\n",
       "      <td>-0.056773</td>\n",
       "      <td>-0.028471</td>\n",
       "      <td>0.019971</td>\n",
       "      <td>-0.065683</td>\n",
       "      <td>-0.047366</td>\n",
       "      <td>-0.121744</td>\n",
       "    </tr>\n",
       "    <tr>\n",
       "      <th>3</th>\n",
       "      <td>4</td>\n",
       "      <td>0.231196</td>\n",
       "      <td>0.021558</td>\n",
       "      <td>0.215534</td>\n",
       "      <td>-0.210258</td>\n",
       "      <td>-0.158189</td>\n",
       "      <td>0.041621</td>\n",
       "      <td>0.240254</td>\n",
       "      <td>-0.068112</td>\n",
       "      <td>-0.017550</td>\n",
       "      <td>...</td>\n",
       "      <td>0.083334</td>\n",
       "      <td>0.141642</td>\n",
       "      <td>-0.007219</td>\n",
       "      <td>0.031547</td>\n",
       "      <td>-0.010762</td>\n",
       "      <td>-0.169036</td>\n",
       "      <td>-0.030963</td>\n",
       "      <td>0.086698</td>\n",
       "      <td>0.114194</td>\n",
       "      <td>-0.036775</td>\n",
       "    </tr>\n",
       "    <tr>\n",
       "      <th>4</th>\n",
       "      <td>5</td>\n",
       "      <td>0.020412</td>\n",
       "      <td>0.063732</td>\n",
       "      <td>-0.065506</td>\n",
       "      <td>-0.089598</td>\n",
       "      <td>-0.130788</td>\n",
       "      <td>-0.018809</td>\n",
       "      <td>0.119304</td>\n",
       "      <td>-0.057494</td>\n",
       "      <td>0.094714</td>\n",
       "      <td>...</td>\n",
       "      <td>-0.001969</td>\n",
       "      <td>-0.003025</td>\n",
       "      <td>-0.021156</td>\n",
       "      <td>-0.136993</td>\n",
       "      <td>-0.003615</td>\n",
       "      <td>0.036371</td>\n",
       "      <td>0.048715</td>\n",
       "      <td>-0.002688</td>\n",
       "      <td>-0.016957</td>\n",
       "      <td>-0.004331</td>\n",
       "    </tr>\n",
       "  </tbody>\n",
       "</table>\n",
       "<p>5 rows × 769 columns</p>\n",
       "</div>"
      ],
      "text/plain": [
       "   ID  feature_1  feature_2  feature_3  feature_4  feature_5  feature_6  \\\n",
       "0   1   0.187868  -0.009268   0.039846  -0.102515  -0.109121  -0.079769   \n",
       "1   2   0.122119   0.019015   0.134483   0.007949  -0.157884  -0.033332   \n",
       "2   3   0.079187   0.146195  -0.001316  -0.085596  -0.261093  -0.021620   \n",
       "3   4   0.231196   0.021558   0.215534  -0.210258  -0.158189   0.041621   \n",
       "4   5   0.020412   0.063732  -0.065506  -0.089598  -0.130788  -0.018809   \n",
       "\n",
       "   feature_7  feature_8  feature_9  ...  feature_759  feature_760  \\\n",
       "0   0.061295  -0.042890   0.099860  ...     0.043647     0.061174   \n",
       "1   0.044334  -0.016869  -0.014088  ...    -0.179798    -0.027611   \n",
       "2   0.268898  -0.103950   0.068976  ...    -0.075460     0.037346   \n",
       "3   0.240254  -0.068112  -0.017550  ...     0.083334     0.141642   \n",
       "4   0.119304  -0.057494   0.094714  ...    -0.001969    -0.003025   \n",
       "\n",
       "   feature_761  feature_762  feature_763  feature_764  feature_765  \\\n",
       "0     0.026771    -0.092734    -0.052383    -0.055526     0.029101   \n",
       "1     0.240023    -0.005648    -0.057537     0.023922    -0.038126   \n",
       "2     0.124254    -0.369695    -0.056773    -0.028471     0.019971   \n",
       "3    -0.007219     0.031547    -0.010762    -0.169036    -0.030963   \n",
       "4    -0.021156    -0.136993    -0.003615     0.036371     0.048715   \n",
       "\n",
       "   feature_766  feature_767  feature_768  \n",
       "0     0.041857    -0.027872     0.099500  \n",
       "1    -0.015171    -0.006270    -0.003790  \n",
       "2    -0.065683    -0.047366    -0.121744  \n",
       "3     0.086698     0.114194    -0.036775  \n",
       "4    -0.002688    -0.016957    -0.004331  \n",
       "\n",
       "[5 rows x 769 columns]"
      ]
     },
     "execution_count": 40,
     "metadata": {},
     "output_type": "execute_result"
    }
   ],
   "source": [
    "test_df = pd.read_csv(test_csv_file_path)\n",
    "test_df.head()"
   ]
  },
  {
   "cell_type": "code",
   "execution_count": 41,
   "metadata": {},
   "outputs": [
    {
     "data": {
      "text/plain": [
       "ID               int64\n",
       "feature_1      float64\n",
       "feature_2      float64\n",
       "feature_3      float64\n",
       "feature_4      float64\n",
       "                ...   \n",
       "feature_764    float64\n",
       "feature_765    float64\n",
       "feature_766    float64\n",
       "feature_767    float64\n",
       "feature_768    float64\n",
       "Length: 769, dtype: object"
      ]
     },
     "execution_count": 41,
     "metadata": {},
     "output_type": "execute_result"
    }
   ],
   "source": [
    "# get type of each column\n",
    "test_df.dtypes"
   ]
  },
  {
   "cell_type": "code",
   "execution_count": 42,
   "metadata": {},
   "outputs": [
    {
     "data": {
      "text/plain": [
       "ID             False\n",
       "feature_1      False\n",
       "feature_2      False\n",
       "feature_3      False\n",
       "feature_4      False\n",
       "               ...  \n",
       "feature_764    False\n",
       "feature_765    False\n",
       "feature_766    False\n",
       "feature_767    False\n",
       "feature_768    False\n",
       "Length: 769, dtype: bool"
      ]
     },
     "execution_count": 42,
     "metadata": {},
     "output_type": "execute_result"
    }
   ],
   "source": [
    "test_df.isna().any()"
   ]
  },
  {
   "cell_type": "code",
   "execution_count": 43,
   "metadata": {},
   "outputs": [
    {
     "data": {
      "text/plain": [
       "0"
      ]
     },
     "execution_count": 43,
     "metadata": {},
     "output_type": "execute_result"
    }
   ],
   "source": [
    "test_df.isnull().sum().sum()\n",
    "\n",
    "# based on above output we can see that there are no missing values in the test dataset"
   ]
  },
  {
   "cell_type": "code",
   "execution_count": 44,
   "metadata": {},
   "outputs": [
    {
     "name": "stdout",
     "output_type": "stream",
     "text": [
      "test dataset shape: (744, 768)\n"
     ]
    },
    {
     "data": {
      "text/html": [
       "<div>\n",
       "<style scoped>\n",
       "    .dataframe tbody tr th:only-of-type {\n",
       "        vertical-align: middle;\n",
       "    }\n",
       "\n",
       "    .dataframe tbody tr th {\n",
       "        vertical-align: top;\n",
       "    }\n",
       "\n",
       "    .dataframe thead th {\n",
       "        text-align: right;\n",
       "    }\n",
       "</style>\n",
       "<table border=\"1\" class=\"dataframe\">\n",
       "  <thead>\n",
       "    <tr style=\"text-align: right;\">\n",
       "      <th></th>\n",
       "      <th>feature_1</th>\n",
       "      <th>feature_2</th>\n",
       "      <th>feature_3</th>\n",
       "      <th>feature_4</th>\n",
       "      <th>feature_5</th>\n",
       "      <th>feature_6</th>\n",
       "      <th>feature_7</th>\n",
       "      <th>feature_8</th>\n",
       "      <th>feature_9</th>\n",
       "      <th>feature_10</th>\n",
       "      <th>...</th>\n",
       "      <th>feature_759</th>\n",
       "      <th>feature_760</th>\n",
       "      <th>feature_761</th>\n",
       "      <th>feature_762</th>\n",
       "      <th>feature_763</th>\n",
       "      <th>feature_764</th>\n",
       "      <th>feature_765</th>\n",
       "      <th>feature_766</th>\n",
       "      <th>feature_767</th>\n",
       "      <th>feature_768</th>\n",
       "    </tr>\n",
       "  </thead>\n",
       "  <tbody>\n",
       "    <tr>\n",
       "      <th>0</th>\n",
       "      <td>0.187868</td>\n",
       "      <td>-0.009268</td>\n",
       "      <td>0.039846</td>\n",
       "      <td>-0.102515</td>\n",
       "      <td>-0.109121</td>\n",
       "      <td>-0.079769</td>\n",
       "      <td>0.061295</td>\n",
       "      <td>-0.042890</td>\n",
       "      <td>0.099860</td>\n",
       "      <td>-0.066319</td>\n",
       "      <td>...</td>\n",
       "      <td>0.043647</td>\n",
       "      <td>0.061174</td>\n",
       "      <td>0.026771</td>\n",
       "      <td>-0.092734</td>\n",
       "      <td>-0.052383</td>\n",
       "      <td>-0.055526</td>\n",
       "      <td>0.029101</td>\n",
       "      <td>0.041857</td>\n",
       "      <td>-0.027872</td>\n",
       "      <td>0.099500</td>\n",
       "    </tr>\n",
       "    <tr>\n",
       "      <th>1</th>\n",
       "      <td>0.122119</td>\n",
       "      <td>0.019015</td>\n",
       "      <td>0.134483</td>\n",
       "      <td>0.007949</td>\n",
       "      <td>-0.157884</td>\n",
       "      <td>-0.033332</td>\n",
       "      <td>0.044334</td>\n",
       "      <td>-0.016869</td>\n",
       "      <td>-0.014088</td>\n",
       "      <td>-0.060542</td>\n",
       "      <td>...</td>\n",
       "      <td>-0.179798</td>\n",
       "      <td>-0.027611</td>\n",
       "      <td>0.240023</td>\n",
       "      <td>-0.005648</td>\n",
       "      <td>-0.057537</td>\n",
       "      <td>0.023922</td>\n",
       "      <td>-0.038126</td>\n",
       "      <td>-0.015171</td>\n",
       "      <td>-0.006270</td>\n",
       "      <td>-0.003790</td>\n",
       "    </tr>\n",
       "    <tr>\n",
       "      <th>2</th>\n",
       "      <td>0.079187</td>\n",
       "      <td>0.146195</td>\n",
       "      <td>-0.001316</td>\n",
       "      <td>-0.085596</td>\n",
       "      <td>-0.261093</td>\n",
       "      <td>-0.021620</td>\n",
       "      <td>0.268898</td>\n",
       "      <td>-0.103950</td>\n",
       "      <td>0.068976</td>\n",
       "      <td>-0.062388</td>\n",
       "      <td>...</td>\n",
       "      <td>-0.075460</td>\n",
       "      <td>0.037346</td>\n",
       "      <td>0.124254</td>\n",
       "      <td>-0.369695</td>\n",
       "      <td>-0.056773</td>\n",
       "      <td>-0.028471</td>\n",
       "      <td>0.019971</td>\n",
       "      <td>-0.065683</td>\n",
       "      <td>-0.047366</td>\n",
       "      <td>-0.121744</td>\n",
       "    </tr>\n",
       "    <tr>\n",
       "      <th>3</th>\n",
       "      <td>0.231196</td>\n",
       "      <td>0.021558</td>\n",
       "      <td>0.215534</td>\n",
       "      <td>-0.210258</td>\n",
       "      <td>-0.158189</td>\n",
       "      <td>0.041621</td>\n",
       "      <td>0.240254</td>\n",
       "      <td>-0.068112</td>\n",
       "      <td>-0.017550</td>\n",
       "      <td>-0.233767</td>\n",
       "      <td>...</td>\n",
       "      <td>0.083334</td>\n",
       "      <td>0.141642</td>\n",
       "      <td>-0.007219</td>\n",
       "      <td>0.031547</td>\n",
       "      <td>-0.010762</td>\n",
       "      <td>-0.169036</td>\n",
       "      <td>-0.030963</td>\n",
       "      <td>0.086698</td>\n",
       "      <td>0.114194</td>\n",
       "      <td>-0.036775</td>\n",
       "    </tr>\n",
       "    <tr>\n",
       "      <th>4</th>\n",
       "      <td>0.020412</td>\n",
       "      <td>0.063732</td>\n",
       "      <td>-0.065506</td>\n",
       "      <td>-0.089598</td>\n",
       "      <td>-0.130788</td>\n",
       "      <td>-0.018809</td>\n",
       "      <td>0.119304</td>\n",
       "      <td>-0.057494</td>\n",
       "      <td>0.094714</td>\n",
       "      <td>-0.047923</td>\n",
       "      <td>...</td>\n",
       "      <td>-0.001969</td>\n",
       "      <td>-0.003025</td>\n",
       "      <td>-0.021156</td>\n",
       "      <td>-0.136993</td>\n",
       "      <td>-0.003615</td>\n",
       "      <td>0.036371</td>\n",
       "      <td>0.048715</td>\n",
       "      <td>-0.002688</td>\n",
       "      <td>-0.016957</td>\n",
       "      <td>-0.004331</td>\n",
       "    </tr>\n",
       "  </tbody>\n",
       "</table>\n",
       "<p>5 rows × 768 columns</p>\n",
       "</div>"
      ],
      "text/plain": [
       "   feature_1  feature_2  feature_3  feature_4  feature_5  feature_6  \\\n",
       "0   0.187868  -0.009268   0.039846  -0.102515  -0.109121  -0.079769   \n",
       "1   0.122119   0.019015   0.134483   0.007949  -0.157884  -0.033332   \n",
       "2   0.079187   0.146195  -0.001316  -0.085596  -0.261093  -0.021620   \n",
       "3   0.231196   0.021558   0.215534  -0.210258  -0.158189   0.041621   \n",
       "4   0.020412   0.063732  -0.065506  -0.089598  -0.130788  -0.018809   \n",
       "\n",
       "   feature_7  feature_8  feature_9  feature_10  ...  feature_759  feature_760  \\\n",
       "0   0.061295  -0.042890   0.099860   -0.066319  ...     0.043647     0.061174   \n",
       "1   0.044334  -0.016869  -0.014088   -0.060542  ...    -0.179798    -0.027611   \n",
       "2   0.268898  -0.103950   0.068976   -0.062388  ...    -0.075460     0.037346   \n",
       "3   0.240254  -0.068112  -0.017550   -0.233767  ...     0.083334     0.141642   \n",
       "4   0.119304  -0.057494   0.094714   -0.047923  ...    -0.001969    -0.003025   \n",
       "\n",
       "   feature_761  feature_762  feature_763  feature_764  feature_765  \\\n",
       "0     0.026771    -0.092734    -0.052383    -0.055526     0.029101   \n",
       "1     0.240023    -0.005648    -0.057537     0.023922    -0.038126   \n",
       "2     0.124254    -0.369695    -0.056773    -0.028471     0.019971   \n",
       "3    -0.007219     0.031547    -0.010762    -0.169036    -0.030963   \n",
       "4    -0.021156    -0.136993    -0.003615     0.036371     0.048715   \n",
       "\n",
       "   feature_766  feature_767  feature_768  \n",
       "0     0.041857    -0.027872     0.099500  \n",
       "1    -0.015171    -0.006270    -0.003790  \n",
       "2    -0.065683    -0.047366    -0.121744  \n",
       "3     0.086698     0.114194    -0.036775  \n",
       "4    -0.002688    -0.016957    -0.004331  \n",
       "\n",
       "[5 rows x 768 columns]"
      ]
     },
     "execution_count": 44,
     "metadata": {},
     "output_type": "execute_result"
    }
   ],
   "source": [
    "test_X = test_df.drop([\"ID\"], axis=1)\n",
    "print(\"test dataset shape:\", test_X.shape)\n",
    "test_X.head()"
   ]
  },
  {
   "cell_type": "markdown",
   "metadata": {},
   "source": [
    "# Developing the Pipelines"
   ]
  },
  {
   "cell_type": "code",
   "execution_count": 45,
   "metadata": {},
   "outputs": [],
   "source": [
    "# Let's now develop pipelines to predict the speaker ID, speaker age, speaker gender, and speaker accent. \n",
    "from sklearn.pipeline import Pipeline\n",
    "from sklearn.preprocessing import StandardScaler\n",
    "from sklearn.linear_model import LogisticRegression\n",
    "from sklearn.model_selection import train_test_split\n",
    "from sklearn.metrics import accuracy_score\n",
    "from sklearn.decomposition import PCA\n",
    "from sklearn.svm import SVC\n",
    "from sklearn.feature_selection import SelectFromModel\n",
    "from sklearn.linear_model import LogisticRegression\n",
    "from sklearn.feature_selection import RFECV\n",
    "from sklearn.svm import LinearSVC\n",
    "from sklearn.feature_selection import VarianceThreshold\n",
    "from sklearn.model_selection import GridSearchCV"
   ]
  },
  {
   "cell_type": "markdown",
   "metadata": {},
   "source": [
    "## For Speaker_IDs"
   ]
  },
  {
   "cell_type": "code",
   "execution_count": 50,
   "metadata": {},
   "outputs": [],
   "source": [
    "#  StandardScaler => For ensuring that all features have the same scale, which is often crucial for the proper functioning of many machine learning algorithms.\n",
    "#  PCA => For dimensionality reduction\n",
    "#  SVC => Support Vector Classifier\n",
    "\n",
    "# Pipeline for speaker ID prediction without feature engineering (to check raw accuracy)\n",
    "speaker_ID_pipe_svc = Pipeline([ \n",
    "    ('clf', SVC())\n",
    "    ])\n",
    "\n",
    "\n",
    "# Pipleline for speaker ID prediction with PCA for feature reduction\n",
    "speaker_ID_pipe_scaler_pca_svc = Pipeline([\n",
    "    # ('scaler', StandardScaler()),\n",
    "    ('pca', PCA(n_components=0.95)),\n",
    "    ('clf', SVC())\n",
    "    ])\n",
    "\n",
    "# Pipleline for speaker ID prediction with Model-based feature reduction\n",
    "speaker_ID_pipe_scaler_sfmlr_svc = Pipeline([\n",
    "    # ('scaler', StandardScaler()),\n",
    "    ('SFM_LR', SelectFromModel(LogisticRegression(C=0.01, penalty='l1', solver='liblinear', class_weight='balanced'))),\n",
    "    ('clf', SVC())  \n",
    "])"
   ]
  },
  {
   "cell_type": "code",
   "execution_count": 47,
   "metadata": {},
   "outputs": [],
   "source": [
    "temp = Pipeline([\n",
    "        ('pca', PCA(n_components=0.95)),\n",
    "        ('clf', SVC())\n",
    "    ])"
   ]
  },
  {
   "cell_type": "code",
   "execution_count": 48,
   "metadata": {},
   "outputs": [
    {
     "data": {
      "text/html": [
       "<style>#sk-container-id-1 {color: black;background-color: white;}#sk-container-id-1 pre{padding: 0;}#sk-container-id-1 div.sk-toggleable {background-color: white;}#sk-container-id-1 label.sk-toggleable__label {cursor: pointer;display: block;width: 100%;margin-bottom: 0;padding: 0.3em;box-sizing: border-box;text-align: center;}#sk-container-id-1 label.sk-toggleable__label-arrow:before {content: \"▸\";float: left;margin-right: 0.25em;color: #696969;}#sk-container-id-1 label.sk-toggleable__label-arrow:hover:before {color: black;}#sk-container-id-1 div.sk-estimator:hover label.sk-toggleable__label-arrow:before {color: black;}#sk-container-id-1 div.sk-toggleable__content {max-height: 0;max-width: 0;overflow: hidden;text-align: left;background-color: #f0f8ff;}#sk-container-id-1 div.sk-toggleable__content pre {margin: 0.2em;color: black;border-radius: 0.25em;background-color: #f0f8ff;}#sk-container-id-1 input.sk-toggleable__control:checked~div.sk-toggleable__content {max-height: 200px;max-width: 100%;overflow: auto;}#sk-container-id-1 input.sk-toggleable__control:checked~label.sk-toggleable__label-arrow:before {content: \"▾\";}#sk-container-id-1 div.sk-estimator input.sk-toggleable__control:checked~label.sk-toggleable__label {background-color: #d4ebff;}#sk-container-id-1 div.sk-label input.sk-toggleable__control:checked~label.sk-toggleable__label {background-color: #d4ebff;}#sk-container-id-1 input.sk-hidden--visually {border: 0;clip: rect(1px 1px 1px 1px);clip: rect(1px, 1px, 1px, 1px);height: 1px;margin: -1px;overflow: hidden;padding: 0;position: absolute;width: 1px;}#sk-container-id-1 div.sk-estimator {font-family: monospace;background-color: #f0f8ff;border: 1px dotted black;border-radius: 0.25em;box-sizing: border-box;margin-bottom: 0.5em;}#sk-container-id-1 div.sk-estimator:hover {background-color: #d4ebff;}#sk-container-id-1 div.sk-parallel-item::after {content: \"\";width: 100%;border-bottom: 1px solid gray;flex-grow: 1;}#sk-container-id-1 div.sk-label:hover label.sk-toggleable__label {background-color: #d4ebff;}#sk-container-id-1 div.sk-serial::before {content: \"\";position: absolute;border-left: 1px solid gray;box-sizing: border-box;top: 0;bottom: 0;left: 50%;z-index: 0;}#sk-container-id-1 div.sk-serial {display: flex;flex-direction: column;align-items: center;background-color: white;padding-right: 0.2em;padding-left: 0.2em;position: relative;}#sk-container-id-1 div.sk-item {position: relative;z-index: 1;}#sk-container-id-1 div.sk-parallel {display: flex;align-items: stretch;justify-content: center;background-color: white;position: relative;}#sk-container-id-1 div.sk-item::before, #sk-container-id-1 div.sk-parallel-item::before {content: \"\";position: absolute;border-left: 1px solid gray;box-sizing: border-box;top: 0;bottom: 0;left: 50%;z-index: -1;}#sk-container-id-1 div.sk-parallel-item {display: flex;flex-direction: column;z-index: 1;position: relative;background-color: white;}#sk-container-id-1 div.sk-parallel-item:first-child::after {align-self: flex-end;width: 50%;}#sk-container-id-1 div.sk-parallel-item:last-child::after {align-self: flex-start;width: 50%;}#sk-container-id-1 div.sk-parallel-item:only-child::after {width: 0;}#sk-container-id-1 div.sk-dashed-wrapped {border: 1px dashed gray;margin: 0 0.4em 0.5em 0.4em;box-sizing: border-box;padding-bottom: 0.4em;background-color: white;}#sk-container-id-1 div.sk-label label {font-family: monospace;font-weight: bold;display: inline-block;line-height: 1.2em;}#sk-container-id-1 div.sk-label-container {text-align: center;}#sk-container-id-1 div.sk-container {/* jupyter's `normalize.less` sets `[hidden] { display: none; }` but bootstrap.min.css set `[hidden] { display: none !important; }` so we also need the `!important` here to be able to override the default hidden behavior on the sphinx rendered scikit-learn.org. See: https://github.com/scikit-learn/scikit-learn/issues/21755 */display: inline-block !important;position: relative;}#sk-container-id-1 div.sk-text-repr-fallback {display: none;}</style><div id=\"sk-container-id-1\" class=\"sk-top-container\"><div class=\"sk-text-repr-fallback\"><pre>Pipeline(steps=[(&#x27;pca&#x27;, PCA(n_components=0.95)), (&#x27;clf&#x27;, SVC())])</pre><b>In a Jupyter environment, please rerun this cell to show the HTML representation or trust the notebook. <br />On GitHub, the HTML representation is unable to render, please try loading this page with nbviewer.org.</b></div><div class=\"sk-container\" hidden><div class=\"sk-item sk-dashed-wrapped\"><div class=\"sk-label-container\"><div class=\"sk-label sk-toggleable\"><input class=\"sk-toggleable__control sk-hidden--visually\" id=\"sk-estimator-id-1\" type=\"checkbox\" ><label for=\"sk-estimator-id-1\" class=\"sk-toggleable__label sk-toggleable__label-arrow\">Pipeline</label><div class=\"sk-toggleable__content\"><pre>Pipeline(steps=[(&#x27;pca&#x27;, PCA(n_components=0.95)), (&#x27;clf&#x27;, SVC())])</pre></div></div></div><div class=\"sk-serial\"><div class=\"sk-item\"><div class=\"sk-estimator sk-toggleable\"><input class=\"sk-toggleable__control sk-hidden--visually\" id=\"sk-estimator-id-2\" type=\"checkbox\" ><label for=\"sk-estimator-id-2\" class=\"sk-toggleable__label sk-toggleable__label-arrow\">PCA</label><div class=\"sk-toggleable__content\"><pre>PCA(n_components=0.95)</pre></div></div></div><div class=\"sk-item\"><div class=\"sk-estimator sk-toggleable\"><input class=\"sk-toggleable__control sk-hidden--visually\" id=\"sk-estimator-id-3\" type=\"checkbox\" ><label for=\"sk-estimator-id-3\" class=\"sk-toggleable__label sk-toggleable__label-arrow\">SVC</label><div class=\"sk-toggleable__content\"><pre>SVC()</pre></div></div></div></div></div></div></div>"
      ],
      "text/plain": [
       "Pipeline(steps=[('pca', PCA(n_components=0.95)), ('clf', SVC())])"
      ]
     },
     "execution_count": 48,
     "metadata": {},
     "output_type": "execute_result"
    }
   ],
   "source": [
    "temp.fit(train_X, train_speaker_IDs)\n"
   ]
  },
  {
   "cell_type": "code",
   "execution_count": 49,
   "metadata": {},
   "outputs": [
    {
     "data": {
      "text/plain": [
       "0.972"
      ]
     },
     "execution_count": 49,
     "metadata": {},
     "output_type": "execute_result"
    }
   ],
   "source": [
    "temp.score(valid_X, valid_speaker_IDs)"
   ]
  },
  {
   "cell_type": "code",
   "execution_count": null,
   "metadata": {},
   "outputs": [],
   "source": []
  },
  {
   "cell_type": "code",
   "execution_count": null,
   "metadata": {},
   "outputs": [],
   "source": []
  },
  {
   "cell_type": "code",
   "execution_count": 51,
   "metadata": {},
   "outputs": [],
   "source": [
    "##visualize Pipeline\n",
    "from sklearn import set_config\n",
    "set_config(display='diagram')"
   ]
  },
  {
   "cell_type": "code",
   "execution_count": 52,
   "metadata": {},
   "outputs": [
    {
     "data": {
      "text/plain": [
       "((28520, 768), (28520,), (28520,), (28520,))"
      ]
     },
     "execution_count": 52,
     "metadata": {},
     "output_type": "execute_result"
    }
   ],
   "source": [
    "train_X.shape, train_speaker_IDs.shape, train_speaker_genders.shape, train_speaker_accents.shape"
   ]
  },
  {
   "cell_type": "markdown",
   "metadata": {},
   "source": [
    "### Training"
   ]
  },
  {
   "cell_type": "code",
   "execution_count": 53,
   "metadata": {},
   "outputs": [
    {
     "data": {
      "text/html": [
       "<style>#sk-container-id-2 {color: black;background-color: white;}#sk-container-id-2 pre{padding: 0;}#sk-container-id-2 div.sk-toggleable {background-color: white;}#sk-container-id-2 label.sk-toggleable__label {cursor: pointer;display: block;width: 100%;margin-bottom: 0;padding: 0.3em;box-sizing: border-box;text-align: center;}#sk-container-id-2 label.sk-toggleable__label-arrow:before {content: \"▸\";float: left;margin-right: 0.25em;color: #696969;}#sk-container-id-2 label.sk-toggleable__label-arrow:hover:before {color: black;}#sk-container-id-2 div.sk-estimator:hover label.sk-toggleable__label-arrow:before {color: black;}#sk-container-id-2 div.sk-toggleable__content {max-height: 0;max-width: 0;overflow: hidden;text-align: left;background-color: #f0f8ff;}#sk-container-id-2 div.sk-toggleable__content pre {margin: 0.2em;color: black;border-radius: 0.25em;background-color: #f0f8ff;}#sk-container-id-2 input.sk-toggleable__control:checked~div.sk-toggleable__content {max-height: 200px;max-width: 100%;overflow: auto;}#sk-container-id-2 input.sk-toggleable__control:checked~label.sk-toggleable__label-arrow:before {content: \"▾\";}#sk-container-id-2 div.sk-estimator input.sk-toggleable__control:checked~label.sk-toggleable__label {background-color: #d4ebff;}#sk-container-id-2 div.sk-label input.sk-toggleable__control:checked~label.sk-toggleable__label {background-color: #d4ebff;}#sk-container-id-2 input.sk-hidden--visually {border: 0;clip: rect(1px 1px 1px 1px);clip: rect(1px, 1px, 1px, 1px);height: 1px;margin: -1px;overflow: hidden;padding: 0;position: absolute;width: 1px;}#sk-container-id-2 div.sk-estimator {font-family: monospace;background-color: #f0f8ff;border: 1px dotted black;border-radius: 0.25em;box-sizing: border-box;margin-bottom: 0.5em;}#sk-container-id-2 div.sk-estimator:hover {background-color: #d4ebff;}#sk-container-id-2 div.sk-parallel-item::after {content: \"\";width: 100%;border-bottom: 1px solid gray;flex-grow: 1;}#sk-container-id-2 div.sk-label:hover label.sk-toggleable__label {background-color: #d4ebff;}#sk-container-id-2 div.sk-serial::before {content: \"\";position: absolute;border-left: 1px solid gray;box-sizing: border-box;top: 0;bottom: 0;left: 50%;z-index: 0;}#sk-container-id-2 div.sk-serial {display: flex;flex-direction: column;align-items: center;background-color: white;padding-right: 0.2em;padding-left: 0.2em;position: relative;}#sk-container-id-2 div.sk-item {position: relative;z-index: 1;}#sk-container-id-2 div.sk-parallel {display: flex;align-items: stretch;justify-content: center;background-color: white;position: relative;}#sk-container-id-2 div.sk-item::before, #sk-container-id-2 div.sk-parallel-item::before {content: \"\";position: absolute;border-left: 1px solid gray;box-sizing: border-box;top: 0;bottom: 0;left: 50%;z-index: -1;}#sk-container-id-2 div.sk-parallel-item {display: flex;flex-direction: column;z-index: 1;position: relative;background-color: white;}#sk-container-id-2 div.sk-parallel-item:first-child::after {align-self: flex-end;width: 50%;}#sk-container-id-2 div.sk-parallel-item:last-child::after {align-self: flex-start;width: 50%;}#sk-container-id-2 div.sk-parallel-item:only-child::after {width: 0;}#sk-container-id-2 div.sk-dashed-wrapped {border: 1px dashed gray;margin: 0 0.4em 0.5em 0.4em;box-sizing: border-box;padding-bottom: 0.4em;background-color: white;}#sk-container-id-2 div.sk-label label {font-family: monospace;font-weight: bold;display: inline-block;line-height: 1.2em;}#sk-container-id-2 div.sk-label-container {text-align: center;}#sk-container-id-2 div.sk-container {/* jupyter's `normalize.less` sets `[hidden] { display: none; }` but bootstrap.min.css set `[hidden] { display: none !important; }` so we also need the `!important` here to be able to override the default hidden behavior on the sphinx rendered scikit-learn.org. See: https://github.com/scikit-learn/scikit-learn/issues/21755 */display: inline-block !important;position: relative;}#sk-container-id-2 div.sk-text-repr-fallback {display: none;}</style><div id=\"sk-container-id-2\" class=\"sk-top-container\"><div class=\"sk-text-repr-fallback\"><pre>Pipeline(steps=[(&#x27;clf&#x27;, SVC())])</pre><b>In a Jupyter environment, please rerun this cell to show the HTML representation or trust the notebook. <br />On GitHub, the HTML representation is unable to render, please try loading this page with nbviewer.org.</b></div><div class=\"sk-container\" hidden><div class=\"sk-item sk-dashed-wrapped\"><div class=\"sk-label-container\"><div class=\"sk-label sk-toggleable\"><input class=\"sk-toggleable__control sk-hidden--visually\" id=\"sk-estimator-id-4\" type=\"checkbox\" ><label for=\"sk-estimator-id-4\" class=\"sk-toggleable__label sk-toggleable__label-arrow\">Pipeline</label><div class=\"sk-toggleable__content\"><pre>Pipeline(steps=[(&#x27;clf&#x27;, SVC())])</pre></div></div></div><div class=\"sk-serial\"><div class=\"sk-item\"><div class=\"sk-estimator sk-toggleable\"><input class=\"sk-toggleable__control sk-hidden--visually\" id=\"sk-estimator-id-5\" type=\"checkbox\" ><label for=\"sk-estimator-id-5\" class=\"sk-toggleable__label sk-toggleable__label-arrow\">SVC</label><div class=\"sk-toggleable__content\"><pre>SVC()</pre></div></div></div></div></div></div></div>"
      ],
      "text/plain": [
       "Pipeline(steps=[('clf', SVC())])"
      ]
     },
     "execution_count": 53,
     "metadata": {},
     "output_type": "execute_result"
    }
   ],
   "source": [
    "# Pipeine without feature engineering\n",
    "speaker_ID_pipe_svc.fit(train_X, train_speaker_IDs)"
   ]
  },
  {
   "cell_type": "code",
   "execution_count": 54,
   "metadata": {},
   "outputs": [
    {
     "data": {
      "text/html": [
       "<style>#sk-container-id-3 {color: black;background-color: white;}#sk-container-id-3 pre{padding: 0;}#sk-container-id-3 div.sk-toggleable {background-color: white;}#sk-container-id-3 label.sk-toggleable__label {cursor: pointer;display: block;width: 100%;margin-bottom: 0;padding: 0.3em;box-sizing: border-box;text-align: center;}#sk-container-id-3 label.sk-toggleable__label-arrow:before {content: \"▸\";float: left;margin-right: 0.25em;color: #696969;}#sk-container-id-3 label.sk-toggleable__label-arrow:hover:before {color: black;}#sk-container-id-3 div.sk-estimator:hover label.sk-toggleable__label-arrow:before {color: black;}#sk-container-id-3 div.sk-toggleable__content {max-height: 0;max-width: 0;overflow: hidden;text-align: left;background-color: #f0f8ff;}#sk-container-id-3 div.sk-toggleable__content pre {margin: 0.2em;color: black;border-radius: 0.25em;background-color: #f0f8ff;}#sk-container-id-3 input.sk-toggleable__control:checked~div.sk-toggleable__content {max-height: 200px;max-width: 100%;overflow: auto;}#sk-container-id-3 input.sk-toggleable__control:checked~label.sk-toggleable__label-arrow:before {content: \"▾\";}#sk-container-id-3 div.sk-estimator input.sk-toggleable__control:checked~label.sk-toggleable__label {background-color: #d4ebff;}#sk-container-id-3 div.sk-label input.sk-toggleable__control:checked~label.sk-toggleable__label {background-color: #d4ebff;}#sk-container-id-3 input.sk-hidden--visually {border: 0;clip: rect(1px 1px 1px 1px);clip: rect(1px, 1px, 1px, 1px);height: 1px;margin: -1px;overflow: hidden;padding: 0;position: absolute;width: 1px;}#sk-container-id-3 div.sk-estimator {font-family: monospace;background-color: #f0f8ff;border: 1px dotted black;border-radius: 0.25em;box-sizing: border-box;margin-bottom: 0.5em;}#sk-container-id-3 div.sk-estimator:hover {background-color: #d4ebff;}#sk-container-id-3 div.sk-parallel-item::after {content: \"\";width: 100%;border-bottom: 1px solid gray;flex-grow: 1;}#sk-container-id-3 div.sk-label:hover label.sk-toggleable__label {background-color: #d4ebff;}#sk-container-id-3 div.sk-serial::before {content: \"\";position: absolute;border-left: 1px solid gray;box-sizing: border-box;top: 0;bottom: 0;left: 50%;z-index: 0;}#sk-container-id-3 div.sk-serial {display: flex;flex-direction: column;align-items: center;background-color: white;padding-right: 0.2em;padding-left: 0.2em;position: relative;}#sk-container-id-3 div.sk-item {position: relative;z-index: 1;}#sk-container-id-3 div.sk-parallel {display: flex;align-items: stretch;justify-content: center;background-color: white;position: relative;}#sk-container-id-3 div.sk-item::before, #sk-container-id-3 div.sk-parallel-item::before {content: \"\";position: absolute;border-left: 1px solid gray;box-sizing: border-box;top: 0;bottom: 0;left: 50%;z-index: -1;}#sk-container-id-3 div.sk-parallel-item {display: flex;flex-direction: column;z-index: 1;position: relative;background-color: white;}#sk-container-id-3 div.sk-parallel-item:first-child::after {align-self: flex-end;width: 50%;}#sk-container-id-3 div.sk-parallel-item:last-child::after {align-self: flex-start;width: 50%;}#sk-container-id-3 div.sk-parallel-item:only-child::after {width: 0;}#sk-container-id-3 div.sk-dashed-wrapped {border: 1px dashed gray;margin: 0 0.4em 0.5em 0.4em;box-sizing: border-box;padding-bottom: 0.4em;background-color: white;}#sk-container-id-3 div.sk-label label {font-family: monospace;font-weight: bold;display: inline-block;line-height: 1.2em;}#sk-container-id-3 div.sk-label-container {text-align: center;}#sk-container-id-3 div.sk-container {/* jupyter's `normalize.less` sets `[hidden] { display: none; }` but bootstrap.min.css set `[hidden] { display: none !important; }` so we also need the `!important` here to be able to override the default hidden behavior on the sphinx rendered scikit-learn.org. See: https://github.com/scikit-learn/scikit-learn/issues/21755 */display: inline-block !important;position: relative;}#sk-container-id-3 div.sk-text-repr-fallback {display: none;}</style><div id=\"sk-container-id-3\" class=\"sk-top-container\"><div class=\"sk-text-repr-fallback\"><pre>Pipeline(steps=[(&#x27;pca&#x27;, PCA(n_components=0.95)), (&#x27;clf&#x27;, SVC())])</pre><b>In a Jupyter environment, please rerun this cell to show the HTML representation or trust the notebook. <br />On GitHub, the HTML representation is unable to render, please try loading this page with nbviewer.org.</b></div><div class=\"sk-container\" hidden><div class=\"sk-item sk-dashed-wrapped\"><div class=\"sk-label-container\"><div class=\"sk-label sk-toggleable\"><input class=\"sk-toggleable__control sk-hidden--visually\" id=\"sk-estimator-id-6\" type=\"checkbox\" ><label for=\"sk-estimator-id-6\" class=\"sk-toggleable__label sk-toggleable__label-arrow\">Pipeline</label><div class=\"sk-toggleable__content\"><pre>Pipeline(steps=[(&#x27;pca&#x27;, PCA(n_components=0.95)), (&#x27;clf&#x27;, SVC())])</pre></div></div></div><div class=\"sk-serial\"><div class=\"sk-item\"><div class=\"sk-estimator sk-toggleable\"><input class=\"sk-toggleable__control sk-hidden--visually\" id=\"sk-estimator-id-7\" type=\"checkbox\" ><label for=\"sk-estimator-id-7\" class=\"sk-toggleable__label sk-toggleable__label-arrow\">PCA</label><div class=\"sk-toggleable__content\"><pre>PCA(n_components=0.95)</pre></div></div></div><div class=\"sk-item\"><div class=\"sk-estimator sk-toggleable\"><input class=\"sk-toggleable__control sk-hidden--visually\" id=\"sk-estimator-id-8\" type=\"checkbox\" ><label for=\"sk-estimator-id-8\" class=\"sk-toggleable__label sk-toggleable__label-arrow\">SVC</label><div class=\"sk-toggleable__content\"><pre>SVC()</pre></div></div></div></div></div></div></div>"
      ],
      "text/plain": [
       "Pipeline(steps=[('pca', PCA(n_components=0.95)), ('clf', SVC())])"
      ]
     },
     "execution_count": 54,
     "metadata": {},
     "output_type": "execute_result"
    }
   ],
   "source": [
    "# Pipeine with PCA for feature reduction\n",
    "speaker_ID_pipe_scaler_pca_svc.fit(train_X, train_speaker_IDs)"
   ]
  },
  {
   "cell_type": "code",
   "execution_count": 55,
   "metadata": {},
   "outputs": [
    {
     "data": {
      "text/html": [
       "<style>#sk-container-id-4 {color: black;background-color: white;}#sk-container-id-4 pre{padding: 0;}#sk-container-id-4 div.sk-toggleable {background-color: white;}#sk-container-id-4 label.sk-toggleable__label {cursor: pointer;display: block;width: 100%;margin-bottom: 0;padding: 0.3em;box-sizing: border-box;text-align: center;}#sk-container-id-4 label.sk-toggleable__label-arrow:before {content: \"▸\";float: left;margin-right: 0.25em;color: #696969;}#sk-container-id-4 label.sk-toggleable__label-arrow:hover:before {color: black;}#sk-container-id-4 div.sk-estimator:hover label.sk-toggleable__label-arrow:before {color: black;}#sk-container-id-4 div.sk-toggleable__content {max-height: 0;max-width: 0;overflow: hidden;text-align: left;background-color: #f0f8ff;}#sk-container-id-4 div.sk-toggleable__content pre {margin: 0.2em;color: black;border-radius: 0.25em;background-color: #f0f8ff;}#sk-container-id-4 input.sk-toggleable__control:checked~div.sk-toggleable__content {max-height: 200px;max-width: 100%;overflow: auto;}#sk-container-id-4 input.sk-toggleable__control:checked~label.sk-toggleable__label-arrow:before {content: \"▾\";}#sk-container-id-4 div.sk-estimator input.sk-toggleable__control:checked~label.sk-toggleable__label {background-color: #d4ebff;}#sk-container-id-4 div.sk-label input.sk-toggleable__control:checked~label.sk-toggleable__label {background-color: #d4ebff;}#sk-container-id-4 input.sk-hidden--visually {border: 0;clip: rect(1px 1px 1px 1px);clip: rect(1px, 1px, 1px, 1px);height: 1px;margin: -1px;overflow: hidden;padding: 0;position: absolute;width: 1px;}#sk-container-id-4 div.sk-estimator {font-family: monospace;background-color: #f0f8ff;border: 1px dotted black;border-radius: 0.25em;box-sizing: border-box;margin-bottom: 0.5em;}#sk-container-id-4 div.sk-estimator:hover {background-color: #d4ebff;}#sk-container-id-4 div.sk-parallel-item::after {content: \"\";width: 100%;border-bottom: 1px solid gray;flex-grow: 1;}#sk-container-id-4 div.sk-label:hover label.sk-toggleable__label {background-color: #d4ebff;}#sk-container-id-4 div.sk-serial::before {content: \"\";position: absolute;border-left: 1px solid gray;box-sizing: border-box;top: 0;bottom: 0;left: 50%;z-index: 0;}#sk-container-id-4 div.sk-serial {display: flex;flex-direction: column;align-items: center;background-color: white;padding-right: 0.2em;padding-left: 0.2em;position: relative;}#sk-container-id-4 div.sk-item {position: relative;z-index: 1;}#sk-container-id-4 div.sk-parallel {display: flex;align-items: stretch;justify-content: center;background-color: white;position: relative;}#sk-container-id-4 div.sk-item::before, #sk-container-id-4 div.sk-parallel-item::before {content: \"\";position: absolute;border-left: 1px solid gray;box-sizing: border-box;top: 0;bottom: 0;left: 50%;z-index: -1;}#sk-container-id-4 div.sk-parallel-item {display: flex;flex-direction: column;z-index: 1;position: relative;background-color: white;}#sk-container-id-4 div.sk-parallel-item:first-child::after {align-self: flex-end;width: 50%;}#sk-container-id-4 div.sk-parallel-item:last-child::after {align-self: flex-start;width: 50%;}#sk-container-id-4 div.sk-parallel-item:only-child::after {width: 0;}#sk-container-id-4 div.sk-dashed-wrapped {border: 1px dashed gray;margin: 0 0.4em 0.5em 0.4em;box-sizing: border-box;padding-bottom: 0.4em;background-color: white;}#sk-container-id-4 div.sk-label label {font-family: monospace;font-weight: bold;display: inline-block;line-height: 1.2em;}#sk-container-id-4 div.sk-label-container {text-align: center;}#sk-container-id-4 div.sk-container {/* jupyter's `normalize.less` sets `[hidden] { display: none; }` but bootstrap.min.css set `[hidden] { display: none !important; }` so we also need the `!important` here to be able to override the default hidden behavior on the sphinx rendered scikit-learn.org. See: https://github.com/scikit-learn/scikit-learn/issues/21755 */display: inline-block !important;position: relative;}#sk-container-id-4 div.sk-text-repr-fallback {display: none;}</style><div id=\"sk-container-id-4\" class=\"sk-top-container\"><div class=\"sk-text-repr-fallback\"><pre>Pipeline(steps=[(&#x27;SFM_LR&#x27;,\n",
       "                 SelectFromModel(estimator=LogisticRegression(C=0.01,\n",
       "                                                              class_weight=&#x27;balanced&#x27;,\n",
       "                                                              penalty=&#x27;l1&#x27;,\n",
       "                                                              solver=&#x27;liblinear&#x27;))),\n",
       "                (&#x27;clf&#x27;, SVC())])</pre><b>In a Jupyter environment, please rerun this cell to show the HTML representation or trust the notebook. <br />On GitHub, the HTML representation is unable to render, please try loading this page with nbviewer.org.</b></div><div class=\"sk-container\" hidden><div class=\"sk-item sk-dashed-wrapped\"><div class=\"sk-label-container\"><div class=\"sk-label sk-toggleable\"><input class=\"sk-toggleable__control sk-hidden--visually\" id=\"sk-estimator-id-9\" type=\"checkbox\" ><label for=\"sk-estimator-id-9\" class=\"sk-toggleable__label sk-toggleable__label-arrow\">Pipeline</label><div class=\"sk-toggleable__content\"><pre>Pipeline(steps=[(&#x27;SFM_LR&#x27;,\n",
       "                 SelectFromModel(estimator=LogisticRegression(C=0.01,\n",
       "                                                              class_weight=&#x27;balanced&#x27;,\n",
       "                                                              penalty=&#x27;l1&#x27;,\n",
       "                                                              solver=&#x27;liblinear&#x27;))),\n",
       "                (&#x27;clf&#x27;, SVC())])</pre></div></div></div><div class=\"sk-serial\"><div class=\"sk-item sk-dashed-wrapped\"><div class=\"sk-label-container\"><div class=\"sk-label sk-toggleable\"><input class=\"sk-toggleable__control sk-hidden--visually\" id=\"sk-estimator-id-10\" type=\"checkbox\" ><label for=\"sk-estimator-id-10\" class=\"sk-toggleable__label sk-toggleable__label-arrow\">SFM_LR: SelectFromModel</label><div class=\"sk-toggleable__content\"><pre>SelectFromModel(estimator=LogisticRegression(C=0.01, class_weight=&#x27;balanced&#x27;,\n",
       "                                             penalty=&#x27;l1&#x27;, solver=&#x27;liblinear&#x27;))</pre></div></div></div><div class=\"sk-parallel\"><div class=\"sk-parallel-item\"><div class=\"sk-item\"><div class=\"sk-label-container\"><div class=\"sk-label sk-toggleable\"><input class=\"sk-toggleable__control sk-hidden--visually\" id=\"sk-estimator-id-11\" type=\"checkbox\" ><label for=\"sk-estimator-id-11\" class=\"sk-toggleable__label sk-toggleable__label-arrow\">estimator: LogisticRegression</label><div class=\"sk-toggleable__content\"><pre>LogisticRegression(C=0.01, class_weight=&#x27;balanced&#x27;, penalty=&#x27;l1&#x27;,\n",
       "                   solver=&#x27;liblinear&#x27;)</pre></div></div></div><div class=\"sk-serial\"><div class=\"sk-item\"><div class=\"sk-estimator sk-toggleable\"><input class=\"sk-toggleable__control sk-hidden--visually\" id=\"sk-estimator-id-12\" type=\"checkbox\" ><label for=\"sk-estimator-id-12\" class=\"sk-toggleable__label sk-toggleable__label-arrow\">LogisticRegression</label><div class=\"sk-toggleable__content\"><pre>LogisticRegression(C=0.01, class_weight=&#x27;balanced&#x27;, penalty=&#x27;l1&#x27;,\n",
       "                   solver=&#x27;liblinear&#x27;)</pre></div></div></div></div></div></div></div></div><div class=\"sk-item\"><div class=\"sk-estimator sk-toggleable\"><input class=\"sk-toggleable__control sk-hidden--visually\" id=\"sk-estimator-id-13\" type=\"checkbox\" ><label for=\"sk-estimator-id-13\" class=\"sk-toggleable__label sk-toggleable__label-arrow\">SVC</label><div class=\"sk-toggleable__content\"><pre>SVC()</pre></div></div></div></div></div></div></div>"
      ],
      "text/plain": [
       "Pipeline(steps=[('SFM_LR',\n",
       "                 SelectFromModel(estimator=LogisticRegression(C=0.01,\n",
       "                                                              class_weight='balanced',\n",
       "                                                              penalty='l1',\n",
       "                                                              solver='liblinear'))),\n",
       "                ('clf', SVC())])"
      ]
     },
     "execution_count": 55,
     "metadata": {},
     "output_type": "execute_result"
    }
   ],
   "source": [
    "# Pipeine with Model-based feature reduction (SelectFromModel - LogisticRegression)\n",
    "speaker_ID_pipe_scaler_sfmlr_svc.fit(train_X, train_speaker_IDs)"
   ]
  },
  {
   "cell_type": "code",
   "execution_count": 56,
   "metadata": {},
   "outputs": [
    {
     "name": "stdout",
     "output_type": "stream",
     "text": [
      "Without feature engineering:  95.6 %\n",
      "With PCA for feature reduction:  97.2 %\n",
      "With Model-based feature reduction:  62.93333333333333 %\n"
     ]
    }
   ],
   "source": [
    "# Let's now check the accuracies.\n",
    "print(\"Without feature engineering: \", speaker_ID_pipe_svc.score(valid_X, valid_speaker_IDs)*100, \"%\")\n",
    "print(\"With PCA for feature reduction: \", speaker_ID_pipe_scaler_pca_svc.score(valid_X, valid_speaker_IDs)*100, \"%\")\n",
    "print(\"With Model-based feature reduction: \", speaker_ID_pipe_scaler_sfmlr_svc.score(valid_X, valid_speaker_IDs)*100, \"%\")"
   ]
  },
  {
   "cell_type": "code",
   "execution_count": 58,
   "metadata": {},
   "outputs": [
    {
     "name": "stdout",
     "output_type": "stream",
     "text": [
      "Number of features before reduction:  768\n",
      "Number of features after PCA:  239\n",
      "Number of features after model-based feature reduction:  18\n"
     ]
    }
   ],
   "source": [
    "num_features_before_reduction = speaker_ID_pipe_svc.named_steps['clf'].n_features_in_\n",
    "num_features_after_pca = speaker_ID_pipe_scaler_pca_svc.named_steps['pca'].n_components_\n",
    "num_features_after_sfmlr = sum(speaker_ID_pipe_scaler_sfmlr_svc.named_steps['SFM_LR'].get_support())\n",
    "\n",
    "print(\"Number of features before reduction: \", num_features_before_reduction)\n",
    "print(\"Number of features after PCA: \", num_features_after_pca)\n",
    "print(\"Number of features after model-based feature reduction: \", num_features_after_sfmlr)\n",
    "\n",
    "# Based on the above output accuracies and the reduced num of features, we can see that the model with model-based feature reduction has the highest accuracy (96%). Also it reduced the num of features to 693 from 768\n",
    "# Also, the PCA model reduced the accuracy slightly (by ~0.2%), but it has reduced the um of features to 321 from 768"
   ]
  },
  {
   "cell_type": "markdown",
   "metadata": {},
   "source": [
    "### Hyperparameter tuning"
   ]
  },
  {
   "cell_type": "code",
   "execution_count": 44,
   "metadata": {},
   "outputs": [],
   "source": [
    "# Let's now try to improve the accuracy of the model with PCA for feature reduction by tuning the hyperparameters of the model.\n",
    "\n",
    "param_grid = dict(PCA__n_components=[0.95, 0.96, 0.97],\n",
    "                  clf__C=np.logspace(-2, 1, 4),\n",
    "                  clf__kernel=['rbf','linear',  'poly'])\n",
    "\n",
    "grid = GridSearchCV(speaker_ID_pipe_scaler_pca_svc, param_grid=param_grid, cv=3, n_jobs=1, verbose=2, scoring= 'accuracy')"
   ]
  },
  {
   "cell_type": "code",
   "execution_count": 51,
   "metadata": {},
   "outputs": [
    {
     "name": "stdout",
     "output_type": "stream",
     "text": [
      "Fitting 3 folds for each of 36 candidates, totalling 108 fits\n",
      "[CV] END PCA__n_components=0.95, clf__C=0.01, clf__kernel=rbf; total time= 1.5min\n",
      "[CV] END PCA__n_components=0.95, clf__C=0.01, clf__kernel=rbf; total time= 1.5min\n",
      "[CV] END PCA__n_components=0.95, clf__C=0.01, clf__kernel=rbf; total time= 1.7min\n",
      "[CV] END PCA__n_components=0.95, clf__C=0.01, clf__kernel=linear; total time=  36.9s\n",
      "[CV] END PCA__n_components=0.95, clf__C=0.01, clf__kernel=linear; total time=  34.1s\n",
      "[CV] END PCA__n_components=0.95, clf__C=0.01, clf__kernel=linear; total time=  36.1s\n",
      "[CV] END PCA__n_components=0.95, clf__C=0.01, clf__kernel=poly; total time= 1.2min\n",
      "[CV] END PCA__n_components=0.95, clf__C=0.01, clf__kernel=poly; total time= 1.2min\n",
      "[CV] END PCA__n_components=0.95, clf__C=0.01, clf__kernel=poly; total time= 1.3min\n",
      "[CV] END PCA__n_components=0.95, clf__C=0.1, clf__kernel=rbf; total time= 1.4min\n",
      "[CV] END PCA__n_components=0.95, clf__C=0.1, clf__kernel=rbf; total time= 1.4min\n",
      "[CV] END PCA__n_components=0.95, clf__C=0.1, clf__kernel=rbf; total time= 1.4min\n",
      "[CV] END PCA__n_components=0.95, clf__C=0.1, clf__kernel=linear; total time=  31.8s\n",
      "[CV] END PCA__n_components=0.95, clf__C=0.1, clf__kernel=linear; total time=  31.6s\n",
      "[CV] END PCA__n_components=0.95, clf__C=0.1, clf__kernel=linear; total time=  32.2s\n",
      "[CV] END PCA__n_components=0.95, clf__C=0.1, clf__kernel=poly; total time= 1.2min\n",
      "[CV] END PCA__n_components=0.95, clf__C=0.1, clf__kernel=poly; total time= 1.4min\n",
      "[CV] END PCA__n_components=0.95, clf__C=0.1, clf__kernel=poly; total time= 1.3min\n",
      "[CV] END PCA__n_components=0.95, clf__C=1.0, clf__kernel=rbf; total time= 1.2min\n",
      "[CV] END PCA__n_components=0.95, clf__C=1.0, clf__kernel=rbf; total time= 1.1min\n",
      "[CV] END PCA__n_components=0.95, clf__C=1.0, clf__kernel=rbf; total time= 1.1min\n",
      "[CV] END PCA__n_components=0.95, clf__C=1.0, clf__kernel=linear; total time=  31.4s\n",
      "[CV] END PCA__n_components=0.95, clf__C=1.0, clf__kernel=linear; total time=  31.4s\n",
      "[CV] END PCA__n_components=0.95, clf__C=1.0, clf__kernel=linear; total time=  32.0s\n",
      "[CV] END PCA__n_components=0.95, clf__C=1.0, clf__kernel=poly; total time=  54.6s\n",
      "[CV] END PCA__n_components=0.95, clf__C=1.0, clf__kernel=poly; total time=  54.5s\n",
      "[CV] END PCA__n_components=0.95, clf__C=1.0, clf__kernel=poly; total time=  54.5s\n",
      "[CV] END PCA__n_components=0.95, clf__C=10.0, clf__kernel=rbf; total time= 1.0min\n",
      "[CV] END PCA__n_components=0.95, clf__C=10.0, clf__kernel=rbf; total time= 1.1min\n",
      "[CV] END PCA__n_components=0.95, clf__C=10.0, clf__kernel=rbf; total time= 1.0min\n",
      "[CV] END PCA__n_components=0.95, clf__C=10.0, clf__kernel=linear; total time=  31.6s\n",
      "[CV] END PCA__n_components=0.95, clf__C=10.0, clf__kernel=linear; total time=  31.3s\n",
      "[CV] END PCA__n_components=0.95, clf__C=10.0, clf__kernel=linear; total time=  31.9s\n",
      "[CV] END PCA__n_components=0.95, clf__C=10.0, clf__kernel=poly; total time=  53.8s\n",
      "[CV] END PCA__n_components=0.95, clf__C=10.0, clf__kernel=poly; total time=  55.6s\n",
      "[CV] END PCA__n_components=0.95, clf__C=10.0, clf__kernel=poly; total time=  54.1s\n",
      "[CV] END PCA__n_components=0.96, clf__C=0.01, clf__kernel=rbf; total time= 1.5min\n",
      "[CV] END PCA__n_components=0.96, clf__C=0.01, clf__kernel=rbf; total time= 1.5min\n",
      "[CV] END PCA__n_components=0.96, clf__C=0.01, clf__kernel=rbf; total time= 1.6min\n",
      "[CV] END PCA__n_components=0.96, clf__C=0.01, clf__kernel=linear; total time=  37.4s\n",
      "[CV] END PCA__n_components=0.96, clf__C=0.01, clf__kernel=linear; total time=  37.8s\n",
      "[CV] END PCA__n_components=0.96, clf__C=0.01, clf__kernel=linear; total time=  35.7s\n",
      "[CV] END PCA__n_components=0.96, clf__C=0.01, clf__kernel=poly; total time= 1.2min\n",
      "[CV] END PCA__n_components=0.96, clf__C=0.01, clf__kernel=poly; total time= 1.2min\n",
      "[CV] END PCA__n_components=0.96, clf__C=0.01, clf__kernel=poly; total time= 1.3min\n",
      "[CV] END PCA__n_components=0.96, clf__C=0.1, clf__kernel=rbf; total time= 1.5min\n",
      "[CV] END PCA__n_components=0.96, clf__C=0.1, clf__kernel=rbf; total time= 1.5min\n",
      "[CV] END PCA__n_components=0.96, clf__C=0.1, clf__kernel=rbf; total time= 1.5min\n",
      "[CV] END PCA__n_components=0.96, clf__C=0.1, clf__kernel=linear; total time=  34.1s\n",
      "[CV] END PCA__n_components=0.96, clf__C=0.1, clf__kernel=linear; total time=  33.7s\n",
      "[CV] END PCA__n_components=0.96, clf__C=0.1, clf__kernel=linear; total time=  35.3s\n",
      "[CV] END PCA__n_components=0.96, clf__C=0.1, clf__kernel=poly; total time= 1.2min\n",
      "[CV] END PCA__n_components=0.96, clf__C=0.1, clf__kernel=poly; total time= 1.2min\n",
      "[CV] END PCA__n_components=0.96, clf__C=0.1, clf__kernel=poly; total time= 1.2min\n",
      "[CV] END PCA__n_components=0.96, clf__C=1.0, clf__kernel=rbf; total time= 1.2min\n",
      "[CV] END PCA__n_components=0.96, clf__C=1.0, clf__kernel=rbf; total time= 1.3min\n",
      "[CV] END PCA__n_components=0.96, clf__C=1.0, clf__kernel=rbf; total time= 1.2min\n",
      "[CV] END PCA__n_components=0.96, clf__C=1.0, clf__kernel=linear; total time=  34.3s\n",
      "[CV] END PCA__n_components=0.96, clf__C=1.0, clf__kernel=linear; total time=  34.3s\n",
      "[CV] END PCA__n_components=0.96, clf__C=1.0, clf__kernel=linear; total time=  34.6s\n",
      "[CV] END PCA__n_components=0.96, clf__C=1.0, clf__kernel=poly; total time=  57.4s\n",
      "[CV] END PCA__n_components=0.96, clf__C=1.0, clf__kernel=poly; total time=  58.8s\n",
      "[CV] END PCA__n_components=0.96, clf__C=1.0, clf__kernel=poly; total time=  58.9s\n",
      "[CV] END PCA__n_components=0.96, clf__C=10.0, clf__kernel=rbf; total time= 1.3min\n",
      "[CV] END PCA__n_components=0.96, clf__C=10.0, clf__kernel=rbf; total time= 1.2min\n",
      "[CV] END PCA__n_components=0.96, clf__C=10.0, clf__kernel=rbf; total time= 1.2min\n",
      "[CV] END PCA__n_components=0.96, clf__C=10.0, clf__kernel=linear; total time=  34.1s\n",
      "[CV] END PCA__n_components=0.96, clf__C=10.0, clf__kernel=linear; total time=  33.6s\n",
      "[CV] END PCA__n_components=0.96, clf__C=10.0, clf__kernel=linear; total time=  34.1s\n",
      "[CV] END PCA__n_components=0.96, clf__C=10.0, clf__kernel=poly; total time=  58.0s\n",
      "[CV] END PCA__n_components=0.96, clf__C=10.0, clf__kernel=poly; total time= 1.1min\n",
      "[CV] END PCA__n_components=0.96, clf__C=10.0, clf__kernel=poly; total time= 1.0min\n",
      "[CV] END PCA__n_components=0.97, clf__C=0.01, clf__kernel=rbf; total time= 1.8min\n",
      "[CV] END PCA__n_components=0.97, clf__C=0.01, clf__kernel=rbf; total time= 1.8min\n",
      "[CV] END PCA__n_components=0.97, clf__C=0.01, clf__kernel=rbf; total time= 1.8min\n",
      "[CV] END PCA__n_components=0.97, clf__C=0.01, clf__kernel=linear; total time=  42.2s\n",
      "[CV] END PCA__n_components=0.97, clf__C=0.01, clf__kernel=linear; total time=  42.4s\n",
      "[CV] END PCA__n_components=0.97, clf__C=0.01, clf__kernel=linear; total time=  42.7s\n",
      "[CV] END PCA__n_components=0.97, clf__C=0.01, clf__kernel=poly; total time= 1.5min\n",
      "[CV] END PCA__n_components=0.97, clf__C=0.01, clf__kernel=poly; total time= 1.5min\n",
      "[CV] END PCA__n_components=0.97, clf__C=0.01, clf__kernel=poly; total time= 1.5min\n",
      "[CV] END PCA__n_components=0.97, clf__C=0.1, clf__kernel=rbf; total time= 1.7min\n",
      "[CV] END PCA__n_components=0.97, clf__C=0.1, clf__kernel=rbf; total time= 1.6min\n",
      "[CV] END PCA__n_components=0.97, clf__C=0.1, clf__kernel=rbf; total time= 1.6min\n",
      "[CV] END PCA__n_components=0.97, clf__C=0.1, clf__kernel=linear; total time=  36.4s\n",
      "[CV] END PCA__n_components=0.97, clf__C=0.1, clf__kernel=linear; total time=  36.4s\n",
      "[CV] END PCA__n_components=0.97, clf__C=0.1, clf__kernel=linear; total time=  36.8s\n",
      "[CV] END PCA__n_components=0.97, clf__C=0.1, clf__kernel=poly; total time= 1.3min\n",
      "[CV] END PCA__n_components=0.97, clf__C=0.1, clf__kernel=poly; total time= 1.3min\n",
      "[CV] END PCA__n_components=0.97, clf__C=0.1, clf__kernel=poly; total time= 1.3min\n",
      "[CV] END PCA__n_components=0.97, clf__C=1.0, clf__kernel=rbf; total time= 1.3min\n",
      "[CV] END PCA__n_components=0.97, clf__C=1.0, clf__kernel=rbf; total time= 1.3min\n",
      "[CV] END PCA__n_components=0.97, clf__C=1.0, clf__kernel=rbf; total time= 1.3min\n",
      "[CV] END PCA__n_components=0.97, clf__C=1.0, clf__kernel=linear; total time=  36.3s\n",
      "[CV] END PCA__n_components=0.97, clf__C=1.0, clf__kernel=linear; total time=  36.4s\n",
      "[CV] END PCA__n_components=0.97, clf__C=1.0, clf__kernel=linear; total time=  36.6s\n",
      "[CV] END PCA__n_components=0.97, clf__C=1.0, clf__kernel=poly; total time= 1.0min\n",
      "[CV] END PCA__n_components=0.97, clf__C=1.0, clf__kernel=poly; total time= 1.0min\n",
      "[CV] END PCA__n_components=0.97, clf__C=1.0, clf__kernel=poly; total time= 1.0min\n",
      "[CV] END PCA__n_components=0.97, clf__C=10.0, clf__kernel=rbf; total time= 1.2min\n",
      "[CV] END PCA__n_components=0.97, clf__C=10.0, clf__kernel=rbf; total time= 1.2min\n",
      "[CV] END PCA__n_components=0.97, clf__C=10.0, clf__kernel=rbf; total time= 1.2min\n",
      "[CV] END PCA__n_components=0.97, clf__C=10.0, clf__kernel=linear; total time=  36.4s\n",
      "[CV] END PCA__n_components=0.97, clf__C=10.0, clf__kernel=linear; total time=  36.4s\n",
      "[CV] END PCA__n_components=0.97, clf__C=10.0, clf__kernel=linear; total time=  36.7s\n",
      "[CV] END PCA__n_components=0.97, clf__C=10.0, clf__kernel=poly; total time= 1.1min\n",
      "[CV] END PCA__n_components=0.97, clf__C=10.0, clf__kernel=poly; total time= 1.0min\n",
      "[CV] END PCA__n_components=0.97, clf__C=10.0, clf__kernel=poly; total time= 1.0min\n",
      "0.9562586926166287\n",
      "{'mean_fit_time': array([49.47772566, 12.97752062, 42.51674803, 42.97677851,  9.40195545,\n",
      "       44.11755323, 26.13037777,  9.3887887 , 27.00111413, 24.23969555,\n",
      "        9.30837146, 27.68564423, 46.53229229, 11.47501953, 41.67577092,\n",
      "       42.67198229, 10.19416277, 39.50706689, 27.29057066, 10.01737626,\n",
      "       28.00052516, 27.95725203,  9.73974085, 30.70353897, 54.91234914,\n",
      "       12.55987859, 48.88511197, 48.78731736, 10.42038679, 43.21477222,\n",
      "       28.74732248, 10.46053799, 30.87148039, 27.83131949, 10.47460683,\n",
      "       32.90918414]), 'std_fit_time': array([4.37332635, 1.23095408, 1.31016221, 0.39394829, 0.08349675,\n",
      "       5.00431954, 0.63795973, 0.12075647, 0.02179831, 0.02261905,\n",
      "       0.08084509, 0.10295224, 1.1738215 , 0.21024401, 0.5668539 ,\n",
      "       0.21369517, 0.3494612 , 0.72825628, 0.98733691, 0.23793094,\n",
      "       0.25519079, 2.2846209 , 0.14171367, 1.78104418, 0.50943406,\n",
      "       0.09075109, 0.08187878, 1.88884903, 0.11152185, 0.29814297,\n",
      "       0.19553527, 0.11161024, 0.10894527, 0.30276264, 0.10449318,\n",
      "       0.16365303]), 'mean_score_time': array([45.68577298, 22.8201712 , 32.35888934, 43.32441314, 22.60228324,\n",
      "       31.56856902, 40.86296741, 22.31692386, 27.63868268, 38.97514399,\n",
      "       22.38535221, 26.91114354, 46.97224299, 25.60521317, 33.3646791 ,\n",
      "       45.78329428, 24.26088031, 32.7785635 , 45.72479248, 24.45385782,\n",
      "       30.45939509, 45.26789633, 24.30488666, 30.00654324, 55.49117176,\n",
      "       29.98408985, 39.48133238, 48.96228425, 26.21336404, 35.14852802,\n",
      "       46.80451679, 26.09340143, 31.91210612, 46.15390507, 26.11307613,\n",
      "       30.16959985]), 'std_score_time': array([1.87108744, 0.10840993, 1.28707757, 0.03045816, 0.21430151,\n",
      "       1.18916918, 1.6640001 , 0.15306732, 0.0351716 , 0.26451544,\n",
      "       0.17032059, 0.70719921, 0.08301457, 0.71346258, 0.15230748,\n",
      "       0.39492151, 0.36208322, 0.53997627, 2.36153384, 0.24608419,\n",
      "       0.40571107, 0.86934948, 0.09091076, 0.46645678, 0.25909165,\n",
      "       0.14958683, 0.13184406, 0.05615665, 0.12990338, 0.04147259,\n",
      "       0.28964683, 0.14263551, 0.04109444, 0.09086451, 0.15455227,\n",
      "       0.25256   ]), 'param_PCA__n_components': masked_array(data=[0.95, 0.95, 0.95, 0.95, 0.95, 0.95, 0.95, 0.95, 0.95,\n",
      "                   0.95, 0.95, 0.95, 0.96, 0.96, 0.96, 0.96, 0.96, 0.96,\n",
      "                   0.96, 0.96, 0.96, 0.96, 0.96, 0.96, 0.97, 0.97, 0.97,\n",
      "                   0.97, 0.97, 0.97, 0.97, 0.97, 0.97, 0.97, 0.97, 0.97],\n",
      "             mask=[False, False, False, False, False, False, False, False,\n",
      "                   False, False, False, False, False, False, False, False,\n",
      "                   False, False, False, False, False, False, False, False,\n",
      "                   False, False, False, False, False, False, False, False,\n",
      "                   False, False, False, False],\n",
      "       fill_value='?',\n",
      "            dtype=object), 'param_clf__C': masked_array(data=[0.01, 0.01, 0.01, 0.1, 0.1, 0.1, 1.0, 1.0, 1.0, 10.0,\n",
      "                   10.0, 10.0, 0.01, 0.01, 0.01, 0.1, 0.1, 0.1, 1.0, 1.0,\n",
      "                   1.0, 10.0, 10.0, 10.0, 0.01, 0.01, 0.01, 0.1, 0.1, 0.1,\n",
      "                   1.0, 1.0, 1.0, 10.0, 10.0, 10.0],\n",
      "             mask=[False, False, False, False, False, False, False, False,\n",
      "                   False, False, False, False, False, False, False, False,\n",
      "                   False, False, False, False, False, False, False, False,\n",
      "                   False, False, False, False, False, False, False, False,\n",
      "                   False, False, False, False],\n",
      "       fill_value='?',\n",
      "            dtype=object), 'param_clf__kernel': masked_array(data=['rbf', 'linear', 'poly', 'rbf', 'linear', 'poly',\n",
      "                   'rbf', 'linear', 'poly', 'rbf', 'linear', 'poly',\n",
      "                   'rbf', 'linear', 'poly', 'rbf', 'linear', 'poly',\n",
      "                   'rbf', 'linear', 'poly', 'rbf', 'linear', 'poly',\n",
      "                   'rbf', 'linear', 'poly', 'rbf', 'linear', 'poly',\n",
      "                   'rbf', 'linear', 'poly', 'rbf', 'linear', 'poly'],\n",
      "             mask=[False, False, False, False, False, False, False, False,\n",
      "                   False, False, False, False, False, False, False, False,\n",
      "                   False, False, False, False, False, False, False, False,\n",
      "                   False, False, False, False, False, False, False, False,\n",
      "                   False, False, False, False],\n",
      "       fill_value='?',\n",
      "            dtype=object), 'params': [{'PCA__n_components': 0.95, 'clf__C': 0.01, 'clf__kernel': 'rbf'}, {'PCA__n_components': 0.95, 'clf__C': 0.01, 'clf__kernel': 'linear'}, {'PCA__n_components': 0.95, 'clf__C': 0.01, 'clf__kernel': 'poly'}, {'PCA__n_components': 0.95, 'clf__C': 0.1, 'clf__kernel': 'rbf'}, {'PCA__n_components': 0.95, 'clf__C': 0.1, 'clf__kernel': 'linear'}, {'PCA__n_components': 0.95, 'clf__C': 0.1, 'clf__kernel': 'poly'}, {'PCA__n_components': 0.95, 'clf__C': 1.0, 'clf__kernel': 'rbf'}, {'PCA__n_components': 0.95, 'clf__C': 1.0, 'clf__kernel': 'linear'}, {'PCA__n_components': 0.95, 'clf__C': 1.0, 'clf__kernel': 'poly'}, {'PCA__n_components': 0.95, 'clf__C': 10.0, 'clf__kernel': 'rbf'}, {'PCA__n_components': 0.95, 'clf__C': 10.0, 'clf__kernel': 'linear'}, {'PCA__n_components': 0.95, 'clf__C': 10.0, 'clf__kernel': 'poly'}, {'PCA__n_components': 0.96, 'clf__C': 0.01, 'clf__kernel': 'rbf'}, {'PCA__n_components': 0.96, 'clf__C': 0.01, 'clf__kernel': 'linear'}, {'PCA__n_components': 0.96, 'clf__C': 0.01, 'clf__kernel': 'poly'}, {'PCA__n_components': 0.96, 'clf__C': 0.1, 'clf__kernel': 'rbf'}, {'PCA__n_components': 0.96, 'clf__C': 0.1, 'clf__kernel': 'linear'}, {'PCA__n_components': 0.96, 'clf__C': 0.1, 'clf__kernel': 'poly'}, {'PCA__n_components': 0.96, 'clf__C': 1.0, 'clf__kernel': 'rbf'}, {'PCA__n_components': 0.96, 'clf__C': 1.0, 'clf__kernel': 'linear'}, {'PCA__n_components': 0.96, 'clf__C': 1.0, 'clf__kernel': 'poly'}, {'PCA__n_components': 0.96, 'clf__C': 10.0, 'clf__kernel': 'rbf'}, {'PCA__n_components': 0.96, 'clf__C': 10.0, 'clf__kernel': 'linear'}, {'PCA__n_components': 0.96, 'clf__C': 10.0, 'clf__kernel': 'poly'}, {'PCA__n_components': 0.97, 'clf__C': 0.01, 'clf__kernel': 'rbf'}, {'PCA__n_components': 0.97, 'clf__C': 0.01, 'clf__kernel': 'linear'}, {'PCA__n_components': 0.97, 'clf__C': 0.01, 'clf__kernel': 'poly'}, {'PCA__n_components': 0.97, 'clf__C': 0.1, 'clf__kernel': 'rbf'}, {'PCA__n_components': 0.97, 'clf__C': 0.1, 'clf__kernel': 'linear'}, {'PCA__n_components': 0.97, 'clf__C': 0.1, 'clf__kernel': 'poly'}, {'PCA__n_components': 0.97, 'clf__C': 1.0, 'clf__kernel': 'rbf'}, {'PCA__n_components': 0.97, 'clf__C': 1.0, 'clf__kernel': 'linear'}, {'PCA__n_components': 0.97, 'clf__C': 1.0, 'clf__kernel': 'poly'}, {'PCA__n_components': 0.97, 'clf__C': 10.0, 'clf__kernel': 'rbf'}, {'PCA__n_components': 0.97, 'clf__C': 10.0, 'clf__kernel': 'linear'}, {'PCA__n_components': 0.97, 'clf__C': 10.0, 'clf__kernel': 'poly'}], 'split0_test_score': array([0.01696029, 0.93150145, 0.02945043, 0.65658691, 0.92006311,\n",
      "       0.51577702, 0.92597949, 0.91980016, 0.87010255, 0.9560873 ,\n",
      "       0.91980016, 0.92492769, 0.01696029, 0.93636603, 0.03181699,\n",
      "       0.65658691, 0.92203524, 0.51249014, 0.92808309, 0.92124638,\n",
      "       0.87128583, 0.95687615, 0.92124638, 0.92479621, 0.01696029,\n",
      "       0.93676045, 0.03668157, 0.65579805, 0.92755719, 0.51078096,\n",
      "       0.92874047, 0.92689982, 0.87181173, 0.95792795, 0.92689982,\n",
      "       0.92597949]), 'split1_test_score': array([0.01696252, 0.93162393, 0.01880342, 0.64312952, 0.92084155,\n",
      "       0.50532544, 0.92794214, 0.91939513, 0.87376726, 0.95529257,\n",
      "       0.91939513, 0.92465483, 0.01696252, 0.93543721, 0.01932939,\n",
      "       0.64378698, 0.92478632, 0.50230112, 0.9287311 , 0.92320842,\n",
      "       0.87416174, 0.95608153, 0.92320842, 0.92557528, 0.01696252,\n",
      "       0.93833005, 0.02038133, 0.64063116, 0.92899408, 0.49809336,\n",
      "       0.92991453, 0.92859961, 0.87495069, 0.95608153, 0.92859961,\n",
      "       0.92636423]), 'split2_test_score': array([0.04575937, 0.93320184, 0.02222222, 0.65627876, 0.92281394,\n",
      "       0.49020381, 0.92662722, 0.92202498, 0.86890204, 0.9530572 ,\n",
      "       0.92202498, 0.921762  , 0.04575937, 0.9339908 , 0.02235371,\n",
      "       0.65588429, 0.9270217 , 0.48717949, 0.92781065, 0.92570677,\n",
      "       0.8695595 , 0.95437212, 0.92570677, 0.92333991, 0.04589086,\n",
      "       0.93622617, 0.02248521, 0.65430638, 0.93149244, 0.48507561,\n",
      "       0.92807364, 0.9304405 , 0.86982249, 0.9547666 , 0.9304405 ,\n",
      "       0.92307692]), 'mean_test_score': array([0.02656073, 0.93210907, 0.02349202, 0.6519984 , 0.92123953,\n",
      "       0.50376876, 0.92684962, 0.92040676, 0.87092395, 0.95481236,\n",
      "       0.92040676, 0.92378151, 0.02656073, 0.93526468, 0.02450003,\n",
      "       0.65208606, 0.92461442, 0.50065691, 0.92820828, 0.92338719,\n",
      "       0.87166902, 0.9557766 , 0.92338719, 0.92457047, 0.02660456,\n",
      "       0.93710556, 0.02651603, 0.6502452 , 0.9293479 , 0.49798331,\n",
      "       0.92890954, 0.92864664, 0.87219497, 0.95625869, 0.92864664,\n",
      "       0.92514022]), 'std_test_score': array([0.01357549, 0.00077432, 0.0044384 , 0.0062725 , 0.00115774,\n",
      "       0.01049808, 0.00081654, 0.00115614, 0.0020694 , 0.00128279,\n",
      "       0.00115614, 0.00143235, 0.01357549, 0.00097733, 0.00531915,\n",
      "       0.00587534, 0.00203934, 0.01039823, 0.00038606, 0.00182533,\n",
      "       0.00189829, 0.00104476, 0.00182533, 0.00092644, 0.01363747,\n",
      "       0.0008929 , 0.00723925, 0.00682537, 0.00162592, 0.01049446,\n",
      "       0.00076099, 0.00144586, 0.00211105, 0.00129668, 0.00144586,\n",
      "       0.0014674 ]), 'rank_test_score': array([32,  6, 36, 26, 19, 28, 12, 20, 24,  3, 20, 16, 32,  5, 35, 25, 14,\n",
      "       29, 11, 17, 23,  2, 17, 15, 31,  4, 34, 27,  7, 30,  8,  9, 22,  1,\n",
      "        9, 13])}\n"
     ]
    }
   ],
   "source": [
    "grid.fit(train_X, train_speaker_IDs)\n",
    "print(grid.best_score_)\n",
    "print(grid.cv_results_)"
   ]
  },
  {
   "cell_type": "code",
   "execution_count": 56,
   "metadata": {},
   "outputs": [
    {
     "name": "stdout",
     "output_type": "stream",
     "text": [
      "Best Hyperparameters:  {'PCA__n_components': 0.97, 'clf__C': 10.0, 'clf__kernel': 'rbf'}\n",
      "Best Accuracy: 95.625869%\n"
     ]
    }
   ],
   "source": [
    "# Print the best hyperparameters and corresponding accuracy\n",
    "print(\"Best Hyperparameters: \", grid.best_params_)\n",
    "print(\"Best Accuracy: {:f}%\".format(grid.best_score_ * 100))\n",
    "\n",
    "# Therefore the best hyperparameters based on gridSearchCV : \n",
    "# - 'PCA__n_components': 0.97, \n",
    "# - 'clf__C': 10.0, \n",
    "# - 'clf__kernel': 'rbf'"
   ]
  },
  {
   "cell_type": "code",
   "execution_count": 59,
   "metadata": {},
   "outputs": [
    {
     "name": "stdout",
     "output_type": "stream",
     "text": [
      "PCA for feature reduction (Hyperparameters tuned):  98.93333333333332 %\n"
     ]
    }
   ],
   "source": [
    "best_PCA__n_components = 0.97\n",
    "best_clf__C = 10.0\n",
    "best_clf__kernel = 'rbf'\n",
    "\n",
    "# Pipleline with best params\n",
    "best_speaker_ID_pipe_scaler_pca_svc = Pipeline([\n",
    "    # ('scaler', StandardScaler()),\n",
    "    ('pca', PCA(n_components=best_PCA__n_components)),\n",
    "    ('clf', SVC(C=best_clf__C, kernel=best_clf__kernel))\n",
    "    ])\n",
    "\n",
    "best_speaker_ID_pipe_scaler_pca_svc.fit(train_X, train_speaker_IDs)\n",
    "print(\"PCA for feature reduction (Hyperparameters tuned): \", best_speaker_ID_pipe_scaler_pca_svc.score(valid_X, valid_speaker_IDs)*100, \"%\")\n",
    "\n",
    "# best_svm = grid.best_estimator_\n",
    "# pred_valid_speaker_IDs = best_svm.predict(valid_X)  \n",
    "# validation_accuracy = accuracy_score(valid_speaker_IDs, pred_valid_speaker_IDs)\n",
    "# print(\"Validation Accuracy:\", validation_accuracy)"
   ]
  },
  {
   "cell_type": "code",
   "execution_count": 46,
   "metadata": {},
   "outputs": [],
   "source": [
    "# Let's now try to improve the accuracy of the model with model-based for feature reduction by tuning the hyperparameters of the model.\n",
    "param_grid = dict(SFM_LR__estimator__C=np.logspace(-2, 1, 4),\n",
    "                    clf__C=np.logspace(-2, 1, 4),\n",
    "                    clf__kernel=['rbf'])\n",
    "\n",
    "grid = GridSearchCV(speaker_ID_pipe_scaler_sfmlr_svc, param_grid=param_grid, cv=3, n_jobs=1, verbose=2, scoring= 'accuracy')"
   ]
  },
  {
   "cell_type": "code",
   "execution_count": 72,
   "metadata": {},
   "outputs": [
    {
     "name": "stdout",
     "output_type": "stream",
     "text": [
      "Fitting 3 folds for each of 16 candidates, totalling 48 fits\n",
      "[CV] END SFM_LR__estimator__C=0.01, clf__C=0.01, clf__kernel=rbf; total time= 4.4min\n",
      "[CV] END SFM_LR__estimator__C=0.01, clf__C=0.01, clf__kernel=rbf; total time= 4.5min\n",
      "[CV] END SFM_LR__estimator__C=0.01, clf__C=0.01, clf__kernel=rbf; total time= 4.1min\n",
      "[CV] END SFM_LR__estimator__C=0.01, clf__C=0.1, clf__kernel=rbf; total time= 4.1min\n",
      "[CV] END SFM_LR__estimator__C=0.01, clf__C=0.1, clf__kernel=rbf; total time= 4.2min\n",
      "[CV] END SFM_LR__estimator__C=0.01, clf__C=0.1, clf__kernel=rbf; total time= 4.0min\n",
      "[CV] END SFM_LR__estimator__C=0.01, clf__C=1.0, clf__kernel=rbf; total time= 3.3min\n",
      "[CV] END SFM_LR__estimator__C=0.01, clf__C=1.0, clf__kernel=rbf; total time= 3.3min\n",
      "[CV] END SFM_LR__estimator__C=0.01, clf__C=1.0, clf__kernel=rbf; total time= 3.2min\n",
      "[CV] END SFM_LR__estimator__C=0.01, clf__C=10.0, clf__kernel=rbf; total time= 3.2min\n",
      "[CV] END SFM_LR__estimator__C=0.01, clf__C=10.0, clf__kernel=rbf; total time= 3.2min\n",
      "[CV] END SFM_LR__estimator__C=0.01, clf__C=10.0, clf__kernel=rbf; total time= 3.1min\n",
      "[CV] END SFM_LR__estimator__C=0.1, clf__C=0.01, clf__kernel=rbf; total time= 6.1min\n",
      "[CV] END SFM_LR__estimator__C=0.1, clf__C=0.01, clf__kernel=rbf; total time= 5.9min\n",
      "[CV] END SFM_LR__estimator__C=0.1, clf__C=0.01, clf__kernel=rbf; total time= 6.1min\n",
      "[CV] END SFM_LR__estimator__C=0.1, clf__C=0.1, clf__kernel=rbf; total time= 5.9min\n",
      "[CV] END SFM_LR__estimator__C=0.1, clf__C=0.1, clf__kernel=rbf; total time= 6.1min\n",
      "[CV] END SFM_LR__estimator__C=0.1, clf__C=0.1, clf__kernel=rbf; total time= 5.9min\n",
      "[CV] END SFM_LR__estimator__C=0.1, clf__C=1.0, clf__kernel=rbf; total time= 4.8min\n",
      "[CV] END SFM_LR__estimator__C=0.1, clf__C=1.0, clf__kernel=rbf; total time= 4.8min\n",
      "[CV] END SFM_LR__estimator__C=0.1, clf__C=1.0, clf__kernel=rbf; total time= 4.7min\n",
      "[CV] END SFM_LR__estimator__C=0.1, clf__C=10.0, clf__kernel=rbf; total time= 4.6min\n",
      "[CV] END SFM_LR__estimator__C=0.1, clf__C=10.0, clf__kernel=rbf; total time= 4.6min\n",
      "[CV] END SFM_LR__estimator__C=0.1, clf__C=10.0, clf__kernel=rbf; total time= 5.7min\n",
      "[CV] END SFM_LR__estimator__C=1.0, clf__C=0.01, clf__kernel=rbf; total time=10.7min\n",
      "[CV] END SFM_LR__estimator__C=1.0, clf__C=0.01, clf__kernel=rbf; total time=10.9min\n",
      "[CV] END SFM_LR__estimator__C=1.0, clf__C=0.01, clf__kernel=rbf; total time=11.1min\n",
      "[CV] END SFM_LR__estimator__C=1.0, clf__C=0.1, clf__kernel=rbf; total time=11.2min\n",
      "[CV] END SFM_LR__estimator__C=1.0, clf__C=0.1, clf__kernel=rbf; total time=11.5min\n",
      "[CV] END SFM_LR__estimator__C=1.0, clf__C=0.1, clf__kernel=rbf; total time=11.2min\n",
      "[CV] END SFM_LR__estimator__C=1.0, clf__C=1.0, clf__kernel=rbf; total time=10.4min\n",
      "[CV] END SFM_LR__estimator__C=1.0, clf__C=1.0, clf__kernel=rbf; total time=10.4min\n",
      "[CV] END SFM_LR__estimator__C=1.0, clf__C=1.0, clf__kernel=rbf; total time=10.5min\n",
      "[CV] END SFM_LR__estimator__C=1.0, clf__C=10.0, clf__kernel=rbf; total time=10.3min\n",
      "[CV] END SFM_LR__estimator__C=1.0, clf__C=10.0, clf__kernel=rbf; total time= 9.7min\n",
      "[CV] END SFM_LR__estimator__C=1.0, clf__C=10.0, clf__kernel=rbf; total time= 9.7min\n",
      "[CV] END SFM_LR__estimator__C=10.0, clf__C=0.01, clf__kernel=rbf; total time=17.5min\n",
      "[CV] END SFM_LR__estimator__C=10.0, clf__C=0.01, clf__kernel=rbf; total time=23.2min\n",
      "[CV] END SFM_LR__estimator__C=10.0, clf__C=0.01, clf__kernel=rbf; total time=20.3min\n",
      "[CV] END SFM_LR__estimator__C=10.0, clf__C=0.1, clf__kernel=rbf; total time=16.1min\n",
      "[CV] END SFM_LR__estimator__C=10.0, clf__C=0.1, clf__kernel=rbf; total time=15.1min\n",
      "[CV] END SFM_LR__estimator__C=10.0, clf__C=0.1, clf__kernel=rbf; total time=14.6min\n",
      "[CV] END SFM_LR__estimator__C=10.0, clf__C=1.0, clf__kernel=rbf; total time=15.1min\n",
      "[CV] END SFM_LR__estimator__C=10.0, clf__C=1.0, clf__kernel=rbf; total time=14.2min\n",
      "[CV] END SFM_LR__estimator__C=10.0, clf__C=1.0, clf__kernel=rbf; total time=13.6min\n",
      "[CV] END SFM_LR__estimator__C=10.0, clf__C=10.0, clf__kernel=rbf; total time=14.7min\n",
      "[CV] END SFM_LR__estimator__C=10.0, clf__C=10.0, clf__kernel=rbf; total time=14.1min\n",
      "[CV] END SFM_LR__estimator__C=10.0, clf__C=10.0, clf__kernel=rbf; total time=13.7min\n",
      "0.9663744690527528\n",
      "{'mean_fit_time': array([ 144.09749786,  130.53832595,   88.75582679,   85.92062696,\n",
      "        222.56461279,  219.12132279,  169.55041846,  183.00628177,\n",
      "        526.90676173,  548.47780514,  500.73059599,  478.99215841,\n",
      "       1074.42440987,  801.4643151 ,  753.05606715,  742.61919451]), 'std_fit_time': array([  7.46127427,   3.30850948,   1.40299691,   1.45226757,\n",
      "         5.79835688,  15.73249716,   0.46162573,  28.38985958,\n",
      "         8.92075242,  10.26577008,   3.46008842,  19.65391657,\n",
      "       114.49466276,  37.38992652,  36.28701161,  25.68665542]), 'mean_score_time': array([115.83058278, 114.96262773, 106.73539305, 105.10718211,\n",
      "       138.90705864, 138.73373723, 115.78623796, 113.28479155,\n",
      "       125.55111424, 128.85154756, 125.97712255, 114.9951086 ,\n",
      "       145.94489217, 113.45513169, 106.41592534, 105.99022539]), 'std_score_time': array([ 0.96374666,  2.55345995,  1.88381458,  2.65382893,  0.43885877,\n",
      "       18.10226598,  0.82956046,  2.15910386,  3.32259808,  0.56574796,\n",
      "        4.23245586,  2.11433991, 34.67456114,  0.68936417,  0.9894925 ,\n",
      "        1.44757537]), 'param_SFM_LR__estimator__C': masked_array(data=[0.01, 0.01, 0.01, 0.01, 0.1, 0.1, 0.1, 0.1, 1.0, 1.0,\n",
      "                   1.0, 1.0, 10.0, 10.0, 10.0, 10.0],\n",
      "             mask=[False, False, False, False, False, False, False, False,\n",
      "                   False, False, False, False, False, False, False, False],\n",
      "       fill_value='?',\n",
      "            dtype=object), 'param_clf__C': masked_array(data=[0.01, 0.1, 1.0, 10.0, 0.01, 0.1, 1.0, 10.0, 0.01, 0.1,\n",
      "                   1.0, 10.0, 0.01, 0.1, 1.0, 10.0],\n",
      "             mask=[False, False, False, False, False, False, False, False,\n",
      "                   False, False, False, False, False, False, False, False],\n",
      "       fill_value='?',\n",
      "            dtype=object), 'param_clf__kernel': masked_array(data=['rbf', 'rbf', 'rbf', 'rbf', 'rbf', 'rbf', 'rbf', 'rbf',\n",
      "                   'rbf', 'rbf', 'rbf', 'rbf', 'rbf', 'rbf', 'rbf', 'rbf'],\n",
      "             mask=[False, False, False, False, False, False, False, False,\n",
      "                   False, False, False, False, False, False, False, False],\n",
      "       fill_value='?',\n",
      "            dtype=object), 'params': [{'SFM_LR__estimator__C': 0.01, 'clf__C': 0.01, 'clf__kernel': 'rbf'}, {'SFM_LR__estimator__C': 0.01, 'clf__C': 0.1, 'clf__kernel': 'rbf'}, {'SFM_LR__estimator__C': 0.01, 'clf__C': 1.0, 'clf__kernel': 'rbf'}, {'SFM_LR__estimator__C': 0.01, 'clf__C': 10.0, 'clf__kernel': 'rbf'}, {'SFM_LR__estimator__C': 0.1, 'clf__C': 0.01, 'clf__kernel': 'rbf'}, {'SFM_LR__estimator__C': 0.1, 'clf__C': 0.1, 'clf__kernel': 'rbf'}, {'SFM_LR__estimator__C': 0.1, 'clf__C': 1.0, 'clf__kernel': 'rbf'}, {'SFM_LR__estimator__C': 0.1, 'clf__C': 10.0, 'clf__kernel': 'rbf'}, {'SFM_LR__estimator__C': 1.0, 'clf__C': 0.01, 'clf__kernel': 'rbf'}, {'SFM_LR__estimator__C': 1.0, 'clf__C': 0.1, 'clf__kernel': 'rbf'}, {'SFM_LR__estimator__C': 1.0, 'clf__C': 1.0, 'clf__kernel': 'rbf'}, {'SFM_LR__estimator__C': 1.0, 'clf__C': 10.0, 'clf__kernel': 'rbf'}, {'SFM_LR__estimator__C': 10.0, 'clf__C': 0.01, 'clf__kernel': 'rbf'}, {'SFM_LR__estimator__C': 10.0, 'clf__C': 0.1, 'clf__kernel': 'rbf'}, {'SFM_LR__estimator__C': 10.0, 'clf__C': 1.0, 'clf__kernel': 'rbf'}, {'SFM_LR__estimator__C': 10.0, 'clf__C': 10.0, 'clf__kernel': 'rbf'}], 'split0_test_score': array([0.01704008, 0.75049963, 0.94414642, 0.96665615, 0.01704008,\n",
      "       0.72388766, 0.94025455, 0.96507836, 0.01704008, 0.72315136,\n",
      "       0.94014936, 0.96486799, 0.01704008, 0.72315136, 0.94014936,\n",
      "       0.96486799]), 'split1_test_score': array([0.03292311, 0.75113075, 0.94782792, 0.96623541, 0.03239718,\n",
      "       0.7250447 , 0.9449879 , 0.96444725, 0.03239718, 0.7250447 ,\n",
      "       0.9449879 , 0.96444725, 0.03239718, 0.7250447 , 0.9449879 ,\n",
      "       0.96444725]), 'split2_test_score': array([0.01693667, 0.75720598, 0.94466653, 0.96623185, 0.01693667,\n",
      "       0.73364191, 0.94119503, 0.96591626, 0.01693667, 0.73364191,\n",
      "       0.94119503, 0.96581107, 0.01693667, 0.73364191, 0.94119503,\n",
      "       0.96581107]), 'mean_test_score': array([0.02229995, 0.75294545, 0.94554695, 0.96637447, 0.02212464,\n",
      "       0.72752476, 0.94214583, 0.96514729, 0.02212464, 0.72727933,\n",
      "       0.94211077, 0.9650421 , 0.02212464, 0.72727933, 0.94211077,\n",
      "       0.9650421 ]), 'std_test_score': array([0.00751183, 0.00302364, 0.0016268 , 0.00019918, 0.0072639 ,\n",
      "       0.00435119, 0.002046  , 0.0006017 , 0.0072639 , 0.00456494,\n",
      "       0.00207875, 0.00057023, 0.0072639 , 0.00456494, 0.00207875,\n",
      "       0.00057023]), 'rank_test_score': array([13,  9,  5,  1, 14, 10,  6,  2, 14, 11,  7,  3, 14, 11,  7,  3])}\n"
     ]
    }
   ],
   "source": [
    "grid.fit(train_X, train_speaker_IDs)\n",
    "print(grid.best_score_)\n",
    "print(grid.cv_results_) "
   ]
  },
  {
   "cell_type": "code",
   "execution_count": 73,
   "metadata": {},
   "outputs": [
    {
     "name": "stdout",
     "output_type": "stream",
     "text": [
      "Best Hyperparameters:  {'SFM_LR__estimator__C': 0.01, 'clf__C': 10.0, 'clf__kernel': 'rbf'}\n",
      "Best Accuracy: 96.637447%\n"
     ]
    }
   ],
   "source": [
    "# Print the best hyperparameters and corresponding accuracy\n",
    "print(\"Best Hyperparameters: \", grid.best_params_)\n",
    "print(\"Best Accuracy: {:f}%\".format(grid.best_score_ * 100))\n",
    "\n",
    "# Therefore the best hyperparameters based on gridSearchCV : \n",
    "# - 'SFM_LR__estimator__C': 0.01, \n",
    "# - 'clf__C': 10.0, \n",
    "# - 'clf__kernel': 'rbf'"
   ]
  },
  {
   "cell_type": "code",
   "execution_count": 60,
   "metadata": {},
   "outputs": [
    {
     "name": "stdout",
     "output_type": "stream",
     "text": [
      "Model-based feature reduction (Hyperparameters tuned):  79.2 %\n"
     ]
    }
   ],
   "source": [
    "best_SFM_LR__estimator__C = 0.01\n",
    "best_clf__C = 10.0\n",
    "best_clf__kernel = 'rbf'\n",
    "\n",
    "# Pipleline with best params\n",
    "best_speaker_ID_pipe_scaler_sfmlr_svc = Pipeline([\n",
    "    # ('scaler', StandardScaler()),\n",
    "    ('SFM_LR', SelectFromModel(LogisticRegression(C=best_SFM_LR__estimator__C, penalty='l1', solver='liblinear', class_weight='balanced'))),\n",
    "    ('clf', SVC(kernel=best_clf__kernel, C=best_clf__C))  \n",
    "])\n",
    "\n",
    "best_speaker_ID_pipe_scaler_sfmlr_svc.fit(train_X, train_speaker_IDs)\n",
    "print(\"Model-based feature reduction (Hyperparameters tuned): \", best_speaker_ID_pipe_scaler_sfmlr_svc.score(valid_X, valid_speaker_IDs)*100, \"%\")\n",
    "\n",
    "\n",
    "# best_svm = grid.best_estimator_\n",
    "# pred_valid_speaker_IDs = best_svm.predict(valid_X)  \n",
    "# validation_accuracy = accuracy_score(valid_speaker_IDs, pred_valid_speaker_IDs)\n",
    "# print(\"Validation Accuracy:\", validation_accuracy)"
   ]
  },
  {
   "cell_type": "code",
   "execution_count": 61,
   "metadata": {},
   "outputs": [
    {
     "name": "stdout",
     "output_type": "stream",
     "text": [
      "PCA for feature reduction (Hyperparameters tuned):  0.9893333333333333\n",
      "Model-based feature reduction (Hyperparameters tuned):  0.792\n"
     ]
    }
   ],
   "source": [
    "print(\"PCA for feature reduction (Hyperparameters tuned): \", best_speaker_ID_pipe_scaler_pca_svc.score(valid_X, valid_speaker_IDs))\n",
    "print(\"Model-based feature reduction (Hyperparameters tuned): \", best_speaker_ID_pipe_scaler_sfmlr_svc.score(valid_X, valid_speaker_IDs))"
   ]
  },
  {
   "cell_type": "markdown",
   "metadata": {},
   "source": [
    "### Prediction on test data "
   ]
  },
  {
   "cell_type": "code",
   "execution_count": 76,
   "metadata": {},
   "outputs": [
    {
     "name": "stdout",
     "output_type": "stream",
     "text": [
      "(744,)\n"
     ]
    }
   ],
   "source": [
    "# Let's use best performing pipeline to make predictions for the test data\n",
    "pred_test = best_speaker_ID_pipe_scaler_pca_svc.predict(test_X)\n",
    "print(pred_test.shape)"
   ]
  },
  {
   "cell_type": "code",
   "execution_count": 77,
   "metadata": {},
   "outputs": [
    {
     "data": {
      "text/html": [
       "<div>\n",
       "<style scoped>\n",
       "    .dataframe tbody tr th:only-of-type {\n",
       "        vertical-align: middle;\n",
       "    }\n",
       "\n",
       "    .dataframe tbody tr th {\n",
       "        vertical-align: top;\n",
       "    }\n",
       "\n",
       "    .dataframe thead th {\n",
       "        text-align: right;\n",
       "    }\n",
       "</style>\n",
       "<table border=\"1\" class=\"dataframe\">\n",
       "  <thead>\n",
       "    <tr style=\"text-align: right;\">\n",
       "      <th></th>\n",
       "      <th>label_1</th>\n",
       "    </tr>\n",
       "  </thead>\n",
       "  <tbody>\n",
       "    <tr>\n",
       "      <th>0</th>\n",
       "      <td>26</td>\n",
       "    </tr>\n",
       "    <tr>\n",
       "      <th>1</th>\n",
       "      <td>18</td>\n",
       "    </tr>\n",
       "    <tr>\n",
       "      <th>2</th>\n",
       "      <td>16</td>\n",
       "    </tr>\n",
       "    <tr>\n",
       "      <th>3</th>\n",
       "      <td>7</td>\n",
       "    </tr>\n",
       "    <tr>\n",
       "      <th>4</th>\n",
       "      <td>58</td>\n",
       "    </tr>\n",
       "  </tbody>\n",
       "</table>\n",
       "</div>"
      ],
      "text/plain": [
       "   label_1\n",
       "0       26\n",
       "1       18\n",
       "2       16\n",
       "3        7\n",
       "4       58"
      ]
     },
     "execution_count": 77,
     "metadata": {},
     "output_type": "execute_result"
    }
   ],
   "source": [
    "pred_test = pd.DataFrame(pred_test, columns=['label_1'])\n",
    "pred_test.head()"
   ]
  },
  {
   "cell_type": "code",
   "execution_count": 78,
   "metadata": {},
   "outputs": [],
   "source": [
    "if \"ID\" not in pred_test.columns:\n",
    "    pred_test.insert(0, \"ID\", test_df['ID'])\n",
    "else:\n",
    "    print(f\"Column : ID already exists\")"
   ]
  },
  {
   "cell_type": "code",
   "execution_count": 79,
   "metadata": {},
   "outputs": [
    {
     "data": {
      "text/html": [
       "<div>\n",
       "<style scoped>\n",
       "    .dataframe tbody tr th:only-of-type {\n",
       "        vertical-align: middle;\n",
       "    }\n",
       "\n",
       "    .dataframe tbody tr th {\n",
       "        vertical-align: top;\n",
       "    }\n",
       "\n",
       "    .dataframe thead th {\n",
       "        text-align: right;\n",
       "    }\n",
       "</style>\n",
       "<table border=\"1\" class=\"dataframe\">\n",
       "  <thead>\n",
       "    <tr style=\"text-align: right;\">\n",
       "      <th></th>\n",
       "      <th>ID</th>\n",
       "      <th>label_1</th>\n",
       "    </tr>\n",
       "  </thead>\n",
       "  <tbody>\n",
       "    <tr>\n",
       "      <th>0</th>\n",
       "      <td>1</td>\n",
       "      <td>26</td>\n",
       "    </tr>\n",
       "    <tr>\n",
       "      <th>1</th>\n",
       "      <td>2</td>\n",
       "      <td>18</td>\n",
       "    </tr>\n",
       "    <tr>\n",
       "      <th>2</th>\n",
       "      <td>3</td>\n",
       "      <td>16</td>\n",
       "    </tr>\n",
       "    <tr>\n",
       "      <th>3</th>\n",
       "      <td>4</td>\n",
       "      <td>7</td>\n",
       "    </tr>\n",
       "    <tr>\n",
       "      <th>4</th>\n",
       "      <td>5</td>\n",
       "      <td>58</td>\n",
       "    </tr>\n",
       "  </tbody>\n",
       "</table>\n",
       "</div>"
      ],
      "text/plain": [
       "   ID  label_1\n",
       "0   1       26\n",
       "1   2       18\n",
       "2   3       16\n",
       "3   4        7\n",
       "4   5       58"
      ]
     },
     "execution_count": 79,
     "metadata": {},
     "output_type": "execute_result"
    }
   ],
   "source": [
    "pred_test.head()"
   ]
  },
  {
   "cell_type": "markdown",
   "metadata": {},
   "source": [
    "## For Speaker_age"
   ]
  },
  {
   "cell_type": "code",
   "execution_count": 80,
   "metadata": {},
   "outputs": [],
   "source": [
    "# from xgboost import XGBClassifier\n",
    "from sklearn.ensemble import RandomForestClassifier\n",
    "from sklearn.tree import DecisionTreeClassifier\n",
    "from sklearn.pipeline import Pipeline\n",
    "from sklearn.utils import class_weight\n",
    "from sklearn.metrics import classification_report, accuracy_score\n",
    "from sklearn.preprocessing import StandardScaler\n",
    "from sklearn.decomposition import PCA\n",
    "from imblearn.over_sampling import SMOTE  "
   ]
  },
  {
   "cell_type": "code",
   "execution_count": 71,
   "metadata": {},
   "outputs": [],
   "source": [
    "#  Note: \n",
    "# There is a slight class imbalance issue in speaker_age values. As a solution we can use class_weight='balanced' parameter.\n",
    "\n",
    "# Note; hpt: forest_params = [{'max_depth': list(range(10, 15)), 'max_features': list(range(0,14))}]\n",
    "\n",
    "# use averaged F1 score \n",
    "\n",
    "# Pipeline for speaker ID prediction without feature engineering (to check raw accuracy)\n",
    "\n",
    "#Let's choose a good classifer\n",
    "\n",
    "speaker_age_pipe_svc = Pipeline([ \n",
    "    ('clf', SVC(class_weight='balanced'))\n",
    "    ])\n",
    "\n",
    "speaker_age_pipe_dtc = Pipeline([ \n",
    "    ('clf', DecisionTreeClassifier(class_weight='balanced'))\n",
    "    ])\n",
    "\n",
    "classes = np.unique(train_speaker_ages)\n",
    "cw = class_weight.compute_class_weight(class_weight='balanced', classes=classes, y=train_speaker_ages)\n",
    "weights = dict(zip(classes,cw))\n",
    "class_weighted_model = DecisionTreeClassifier(class_weight=weights)\n",
    "\n",
    "speaker_age_pipe_dtc2 = Pipeline([ \n",
    "    ('clf', class_weighted_model)\n",
    "    ])\n",
    "\n",
    "speaker_age_pipe_rfc = Pipeline([ \n",
    "    ('clf', RandomForestClassifier(class_weight='balanced'))\n",
    "    ])"
   ]
  },
  {
   "cell_type": "code",
   "execution_count": 72,
   "metadata": {},
   "outputs": [],
   "source": [
    "##visualize Pipeline\n",
    "from sklearn import set_config\n",
    "set_config(display='diagram')"
   ]
  },
  {
   "cell_type": "markdown",
   "metadata": {},
   "source": [
    "### Training"
   ]
  },
  {
   "cell_type": "code",
   "execution_count": 73,
   "metadata": {},
   "outputs": [
    {
     "data": {
      "text/html": [
       "<style>#sk-container-id-7 {color: black;background-color: white;}#sk-container-id-7 pre{padding: 0;}#sk-container-id-7 div.sk-toggleable {background-color: white;}#sk-container-id-7 label.sk-toggleable__label {cursor: pointer;display: block;width: 100%;margin-bottom: 0;padding: 0.3em;box-sizing: border-box;text-align: center;}#sk-container-id-7 label.sk-toggleable__label-arrow:before {content: \"▸\";float: left;margin-right: 0.25em;color: #696969;}#sk-container-id-7 label.sk-toggleable__label-arrow:hover:before {color: black;}#sk-container-id-7 div.sk-estimator:hover label.sk-toggleable__label-arrow:before {color: black;}#sk-container-id-7 div.sk-toggleable__content {max-height: 0;max-width: 0;overflow: hidden;text-align: left;background-color: #f0f8ff;}#sk-container-id-7 div.sk-toggleable__content pre {margin: 0.2em;color: black;border-radius: 0.25em;background-color: #f0f8ff;}#sk-container-id-7 input.sk-toggleable__control:checked~div.sk-toggleable__content {max-height: 200px;max-width: 100%;overflow: auto;}#sk-container-id-7 input.sk-toggleable__control:checked~label.sk-toggleable__label-arrow:before {content: \"▾\";}#sk-container-id-7 div.sk-estimator input.sk-toggleable__control:checked~label.sk-toggleable__label {background-color: #d4ebff;}#sk-container-id-7 div.sk-label input.sk-toggleable__control:checked~label.sk-toggleable__label {background-color: #d4ebff;}#sk-container-id-7 input.sk-hidden--visually {border: 0;clip: rect(1px 1px 1px 1px);clip: rect(1px, 1px, 1px, 1px);height: 1px;margin: -1px;overflow: hidden;padding: 0;position: absolute;width: 1px;}#sk-container-id-7 div.sk-estimator {font-family: monospace;background-color: #f0f8ff;border: 1px dotted black;border-radius: 0.25em;box-sizing: border-box;margin-bottom: 0.5em;}#sk-container-id-7 div.sk-estimator:hover {background-color: #d4ebff;}#sk-container-id-7 div.sk-parallel-item::after {content: \"\";width: 100%;border-bottom: 1px solid gray;flex-grow: 1;}#sk-container-id-7 div.sk-label:hover label.sk-toggleable__label {background-color: #d4ebff;}#sk-container-id-7 div.sk-serial::before {content: \"\";position: absolute;border-left: 1px solid gray;box-sizing: border-box;top: 0;bottom: 0;left: 50%;z-index: 0;}#sk-container-id-7 div.sk-serial {display: flex;flex-direction: column;align-items: center;background-color: white;padding-right: 0.2em;padding-left: 0.2em;position: relative;}#sk-container-id-7 div.sk-item {position: relative;z-index: 1;}#sk-container-id-7 div.sk-parallel {display: flex;align-items: stretch;justify-content: center;background-color: white;position: relative;}#sk-container-id-7 div.sk-item::before, #sk-container-id-7 div.sk-parallel-item::before {content: \"\";position: absolute;border-left: 1px solid gray;box-sizing: border-box;top: 0;bottom: 0;left: 50%;z-index: -1;}#sk-container-id-7 div.sk-parallel-item {display: flex;flex-direction: column;z-index: 1;position: relative;background-color: white;}#sk-container-id-7 div.sk-parallel-item:first-child::after {align-self: flex-end;width: 50%;}#sk-container-id-7 div.sk-parallel-item:last-child::after {align-self: flex-start;width: 50%;}#sk-container-id-7 div.sk-parallel-item:only-child::after {width: 0;}#sk-container-id-7 div.sk-dashed-wrapped {border: 1px dashed gray;margin: 0 0.4em 0.5em 0.4em;box-sizing: border-box;padding-bottom: 0.4em;background-color: white;}#sk-container-id-7 div.sk-label label {font-family: monospace;font-weight: bold;display: inline-block;line-height: 1.2em;}#sk-container-id-7 div.sk-label-container {text-align: center;}#sk-container-id-7 div.sk-container {/* jupyter's `normalize.less` sets `[hidden] { display: none; }` but bootstrap.min.css set `[hidden] { display: none !important; }` so we also need the `!important` here to be able to override the default hidden behavior on the sphinx rendered scikit-learn.org. See: https://github.com/scikit-learn/scikit-learn/issues/21755 */display: inline-block !important;position: relative;}#sk-container-id-7 div.sk-text-repr-fallback {display: none;}</style><div id=\"sk-container-id-7\" class=\"sk-top-container\"><div class=\"sk-text-repr-fallback\"><pre>Pipeline(steps=[(&#x27;clf&#x27;, SVC(class_weight=&#x27;balanced&#x27;))])</pre><b>In a Jupyter environment, please rerun this cell to show the HTML representation or trust the notebook. <br />On GitHub, the HTML representation is unable to render, please try loading this page with nbviewer.org.</b></div><div class=\"sk-container\" hidden><div class=\"sk-item sk-dashed-wrapped\"><div class=\"sk-label-container\"><div class=\"sk-label sk-toggleable\"><input class=\"sk-toggleable__control sk-hidden--visually\" id=\"sk-estimator-id-22\" type=\"checkbox\" ><label for=\"sk-estimator-id-22\" class=\"sk-toggleable__label sk-toggleable__label-arrow\">Pipeline</label><div class=\"sk-toggleable__content\"><pre>Pipeline(steps=[(&#x27;clf&#x27;, SVC(class_weight=&#x27;balanced&#x27;))])</pre></div></div></div><div class=\"sk-serial\"><div class=\"sk-item\"><div class=\"sk-estimator sk-toggleable\"><input class=\"sk-toggleable__control sk-hidden--visually\" id=\"sk-estimator-id-23\" type=\"checkbox\" ><label for=\"sk-estimator-id-23\" class=\"sk-toggleable__label sk-toggleable__label-arrow\">SVC</label><div class=\"sk-toggleable__content\"><pre>SVC(class_weight=&#x27;balanced&#x27;)</pre></div></div></div></div></div></div></div>"
      ],
      "text/plain": [
       "Pipeline(steps=[('clf', SVC(class_weight='balanced'))])"
      ]
     },
     "execution_count": 73,
     "metadata": {},
     "output_type": "execute_result"
    }
   ],
   "source": [
    "# Pipeine without feature engineering\n",
    "speaker_age_pipe_svc.fit(train_X, train_speaker_ages)"
   ]
  },
  {
   "cell_type": "code",
   "execution_count": 109,
   "metadata": {},
   "outputs": [
    {
     "data": {
      "text/html": [
       "<style>#sk-container-id-12 {color: black;background-color: white;}#sk-container-id-12 pre{padding: 0;}#sk-container-id-12 div.sk-toggleable {background-color: white;}#sk-container-id-12 label.sk-toggleable__label {cursor: pointer;display: block;width: 100%;margin-bottom: 0;padding: 0.3em;box-sizing: border-box;text-align: center;}#sk-container-id-12 label.sk-toggleable__label-arrow:before {content: \"▸\";float: left;margin-right: 0.25em;color: #696969;}#sk-container-id-12 label.sk-toggleable__label-arrow:hover:before {color: black;}#sk-container-id-12 div.sk-estimator:hover label.sk-toggleable__label-arrow:before {color: black;}#sk-container-id-12 div.sk-toggleable__content {max-height: 0;max-width: 0;overflow: hidden;text-align: left;background-color: #f0f8ff;}#sk-container-id-12 div.sk-toggleable__content pre {margin: 0.2em;color: black;border-radius: 0.25em;background-color: #f0f8ff;}#sk-container-id-12 input.sk-toggleable__control:checked~div.sk-toggleable__content {max-height: 200px;max-width: 100%;overflow: auto;}#sk-container-id-12 input.sk-toggleable__control:checked~label.sk-toggleable__label-arrow:before {content: \"▾\";}#sk-container-id-12 div.sk-estimator input.sk-toggleable__control:checked~label.sk-toggleable__label {background-color: #d4ebff;}#sk-container-id-12 div.sk-label input.sk-toggleable__control:checked~label.sk-toggleable__label {background-color: #d4ebff;}#sk-container-id-12 input.sk-hidden--visually {border: 0;clip: rect(1px 1px 1px 1px);clip: rect(1px, 1px, 1px, 1px);height: 1px;margin: -1px;overflow: hidden;padding: 0;position: absolute;width: 1px;}#sk-container-id-12 div.sk-estimator {font-family: monospace;background-color: #f0f8ff;border: 1px dotted black;border-radius: 0.25em;box-sizing: border-box;margin-bottom: 0.5em;}#sk-container-id-12 div.sk-estimator:hover {background-color: #d4ebff;}#sk-container-id-12 div.sk-parallel-item::after {content: \"\";width: 100%;border-bottom: 1px solid gray;flex-grow: 1;}#sk-container-id-12 div.sk-label:hover label.sk-toggleable__label {background-color: #d4ebff;}#sk-container-id-12 div.sk-serial::before {content: \"\";position: absolute;border-left: 1px solid gray;box-sizing: border-box;top: 0;bottom: 0;left: 50%;z-index: 0;}#sk-container-id-12 div.sk-serial {display: flex;flex-direction: column;align-items: center;background-color: white;padding-right: 0.2em;padding-left: 0.2em;position: relative;}#sk-container-id-12 div.sk-item {position: relative;z-index: 1;}#sk-container-id-12 div.sk-parallel {display: flex;align-items: stretch;justify-content: center;background-color: white;position: relative;}#sk-container-id-12 div.sk-item::before, #sk-container-id-12 div.sk-parallel-item::before {content: \"\";position: absolute;border-left: 1px solid gray;box-sizing: border-box;top: 0;bottom: 0;left: 50%;z-index: -1;}#sk-container-id-12 div.sk-parallel-item {display: flex;flex-direction: column;z-index: 1;position: relative;background-color: white;}#sk-container-id-12 div.sk-parallel-item:first-child::after {align-self: flex-end;width: 50%;}#sk-container-id-12 div.sk-parallel-item:last-child::after {align-self: flex-start;width: 50%;}#sk-container-id-12 div.sk-parallel-item:only-child::after {width: 0;}#sk-container-id-12 div.sk-dashed-wrapped {border: 1px dashed gray;margin: 0 0.4em 0.5em 0.4em;box-sizing: border-box;padding-bottom: 0.4em;background-color: white;}#sk-container-id-12 div.sk-label label {font-family: monospace;font-weight: bold;display: inline-block;line-height: 1.2em;}#sk-container-id-12 div.sk-label-container {text-align: center;}#sk-container-id-12 div.sk-container {/* jupyter's `normalize.less` sets `[hidden] { display: none; }` but bootstrap.min.css set `[hidden] { display: none !important; }` so we also need the `!important` here to be able to override the default hidden behavior on the sphinx rendered scikit-learn.org. See: https://github.com/scikit-learn/scikit-learn/issues/21755 */display: inline-block !important;position: relative;}#sk-container-id-12 div.sk-text-repr-fallback {display: none;}</style><div id=\"sk-container-id-12\" class=\"sk-top-container\"><div class=\"sk-text-repr-fallback\"><pre>Pipeline(steps=[(&#x27;clf&#x27;, DecisionTreeClassifier(class_weight=&#x27;balanced&#x27;))])</pre><b>In a Jupyter environment, please rerun this cell to show the HTML representation or trust the notebook. <br />On GitHub, the HTML representation is unable to render, please try loading this page with nbviewer.org.</b></div><div class=\"sk-container\" hidden><div class=\"sk-item sk-dashed-wrapped\"><div class=\"sk-label-container\"><div class=\"sk-label sk-toggleable\"><input class=\"sk-toggleable__control sk-hidden--visually\" id=\"sk-estimator-id-33\" type=\"checkbox\" ><label for=\"sk-estimator-id-33\" class=\"sk-toggleable__label sk-toggleable__label-arrow\">Pipeline</label><div class=\"sk-toggleable__content\"><pre>Pipeline(steps=[(&#x27;clf&#x27;, DecisionTreeClassifier(class_weight=&#x27;balanced&#x27;))])</pre></div></div></div><div class=\"sk-serial\"><div class=\"sk-item\"><div class=\"sk-estimator sk-toggleable\"><input class=\"sk-toggleable__control sk-hidden--visually\" id=\"sk-estimator-id-34\" type=\"checkbox\" ><label for=\"sk-estimator-id-34\" class=\"sk-toggleable__label sk-toggleable__label-arrow\">DecisionTreeClassifier</label><div class=\"sk-toggleable__content\"><pre>DecisionTreeClassifier(class_weight=&#x27;balanced&#x27;)</pre></div></div></div></div></div></div></div>"
      ],
      "text/plain": [
       "Pipeline(steps=[('clf', DecisionTreeClassifier(class_weight='balanced'))])"
      ]
     },
     "execution_count": 109,
     "metadata": {},
     "output_type": "execute_result"
    }
   ],
   "source": [
    "# Pipeine with PCA for feature reduction\n",
    "speaker_age_pipe_dtc.fit(train_X, train_speaker_ages)"
   ]
  },
  {
   "cell_type": "code",
   "execution_count": 110,
   "metadata": {},
   "outputs": [
    {
     "data": {
      "text/html": [
       "<style>#sk-container-id-13 {color: black;background-color: white;}#sk-container-id-13 pre{padding: 0;}#sk-container-id-13 div.sk-toggleable {background-color: white;}#sk-container-id-13 label.sk-toggleable__label {cursor: pointer;display: block;width: 100%;margin-bottom: 0;padding: 0.3em;box-sizing: border-box;text-align: center;}#sk-container-id-13 label.sk-toggleable__label-arrow:before {content: \"▸\";float: left;margin-right: 0.25em;color: #696969;}#sk-container-id-13 label.sk-toggleable__label-arrow:hover:before {color: black;}#sk-container-id-13 div.sk-estimator:hover label.sk-toggleable__label-arrow:before {color: black;}#sk-container-id-13 div.sk-toggleable__content {max-height: 0;max-width: 0;overflow: hidden;text-align: left;background-color: #f0f8ff;}#sk-container-id-13 div.sk-toggleable__content pre {margin: 0.2em;color: black;border-radius: 0.25em;background-color: #f0f8ff;}#sk-container-id-13 input.sk-toggleable__control:checked~div.sk-toggleable__content {max-height: 200px;max-width: 100%;overflow: auto;}#sk-container-id-13 input.sk-toggleable__control:checked~label.sk-toggleable__label-arrow:before {content: \"▾\";}#sk-container-id-13 div.sk-estimator input.sk-toggleable__control:checked~label.sk-toggleable__label {background-color: #d4ebff;}#sk-container-id-13 div.sk-label input.sk-toggleable__control:checked~label.sk-toggleable__label {background-color: #d4ebff;}#sk-container-id-13 input.sk-hidden--visually {border: 0;clip: rect(1px 1px 1px 1px);clip: rect(1px, 1px, 1px, 1px);height: 1px;margin: -1px;overflow: hidden;padding: 0;position: absolute;width: 1px;}#sk-container-id-13 div.sk-estimator {font-family: monospace;background-color: #f0f8ff;border: 1px dotted black;border-radius: 0.25em;box-sizing: border-box;margin-bottom: 0.5em;}#sk-container-id-13 div.sk-estimator:hover {background-color: #d4ebff;}#sk-container-id-13 div.sk-parallel-item::after {content: \"\";width: 100%;border-bottom: 1px solid gray;flex-grow: 1;}#sk-container-id-13 div.sk-label:hover label.sk-toggleable__label {background-color: #d4ebff;}#sk-container-id-13 div.sk-serial::before {content: \"\";position: absolute;border-left: 1px solid gray;box-sizing: border-box;top: 0;bottom: 0;left: 50%;z-index: 0;}#sk-container-id-13 div.sk-serial {display: flex;flex-direction: column;align-items: center;background-color: white;padding-right: 0.2em;padding-left: 0.2em;position: relative;}#sk-container-id-13 div.sk-item {position: relative;z-index: 1;}#sk-container-id-13 div.sk-parallel {display: flex;align-items: stretch;justify-content: center;background-color: white;position: relative;}#sk-container-id-13 div.sk-item::before, #sk-container-id-13 div.sk-parallel-item::before {content: \"\";position: absolute;border-left: 1px solid gray;box-sizing: border-box;top: 0;bottom: 0;left: 50%;z-index: -1;}#sk-container-id-13 div.sk-parallel-item {display: flex;flex-direction: column;z-index: 1;position: relative;background-color: white;}#sk-container-id-13 div.sk-parallel-item:first-child::after {align-self: flex-end;width: 50%;}#sk-container-id-13 div.sk-parallel-item:last-child::after {align-self: flex-start;width: 50%;}#sk-container-id-13 div.sk-parallel-item:only-child::after {width: 0;}#sk-container-id-13 div.sk-dashed-wrapped {border: 1px dashed gray;margin: 0 0.4em 0.5em 0.4em;box-sizing: border-box;padding-bottom: 0.4em;background-color: white;}#sk-container-id-13 div.sk-label label {font-family: monospace;font-weight: bold;display: inline-block;line-height: 1.2em;}#sk-container-id-13 div.sk-label-container {text-align: center;}#sk-container-id-13 div.sk-container {/* jupyter's `normalize.less` sets `[hidden] { display: none; }` but bootstrap.min.css set `[hidden] { display: none !important; }` so we also need the `!important` here to be able to override the default hidden behavior on the sphinx rendered scikit-learn.org. See: https://github.com/scikit-learn/scikit-learn/issues/21755 */display: inline-block !important;position: relative;}#sk-container-id-13 div.sk-text-repr-fallback {display: none;}</style><div id=\"sk-container-id-13\" class=\"sk-top-container\"><div class=\"sk-text-repr-fallback\"><pre>Pipeline(steps=[(&#x27;clf&#x27;,\n",
       "                 DecisionTreeClassifier(class_weight={22.0: 1.171541242195202,\n",
       "                                                      23.0: 0.5903050875522623,\n",
       "                                                      24.0: 0.8801925807048948,\n",
       "                                                      25.0: 0.5888547065017653,\n",
       "                                                      26.0: 0.3522988363762137,\n",
       "                                                      27.0: 0.5894754247447398,\n",
       "                                                      28.0: 0.705190020522711,\n",
       "                                                      29.0: 1.1781229345670852,\n",
       "                                                      30.0: 0.8857693024411454,\n",
       "                                                      31.0: 0.7034159575779998,\n",
       "                                                      32.0: 3.5244686109738015,\n",
       "                                                      33.0: 1.7752878929349518,\n",
       "                                                      34.0: 3.5097218803839527,\n",
       "                                                      35.0: 3.4950980392156863,\n",
       "                                                      36.0: 3.487831723125841,\n",
       "                                                      41.0: 3.5393397865475302,\n",
       "                                                      61.0: 3.5923919889154807}))])</pre><b>In a Jupyter environment, please rerun this cell to show the HTML representation or trust the notebook. <br />On GitHub, the HTML representation is unable to render, please try loading this page with nbviewer.org.</b></div><div class=\"sk-container\" hidden><div class=\"sk-item sk-dashed-wrapped\"><div class=\"sk-label-container\"><div class=\"sk-label sk-toggleable\"><input class=\"sk-toggleable__control sk-hidden--visually\" id=\"sk-estimator-id-35\" type=\"checkbox\" ><label for=\"sk-estimator-id-35\" class=\"sk-toggleable__label sk-toggleable__label-arrow\">Pipeline</label><div class=\"sk-toggleable__content\"><pre>Pipeline(steps=[(&#x27;clf&#x27;,\n",
       "                 DecisionTreeClassifier(class_weight={22.0: 1.171541242195202,\n",
       "                                                      23.0: 0.5903050875522623,\n",
       "                                                      24.0: 0.8801925807048948,\n",
       "                                                      25.0: 0.5888547065017653,\n",
       "                                                      26.0: 0.3522988363762137,\n",
       "                                                      27.0: 0.5894754247447398,\n",
       "                                                      28.0: 0.705190020522711,\n",
       "                                                      29.0: 1.1781229345670852,\n",
       "                                                      30.0: 0.8857693024411454,\n",
       "                                                      31.0: 0.7034159575779998,\n",
       "                                                      32.0: 3.5244686109738015,\n",
       "                                                      33.0: 1.7752878929349518,\n",
       "                                                      34.0: 3.5097218803839527,\n",
       "                                                      35.0: 3.4950980392156863,\n",
       "                                                      36.0: 3.487831723125841,\n",
       "                                                      41.0: 3.5393397865475302,\n",
       "                                                      61.0: 3.5923919889154807}))])</pre></div></div></div><div class=\"sk-serial\"><div class=\"sk-item\"><div class=\"sk-estimator sk-toggleable\"><input class=\"sk-toggleable__control sk-hidden--visually\" id=\"sk-estimator-id-36\" type=\"checkbox\" ><label for=\"sk-estimator-id-36\" class=\"sk-toggleable__label sk-toggleable__label-arrow\">DecisionTreeClassifier</label><div class=\"sk-toggleable__content\"><pre>DecisionTreeClassifier(class_weight={22.0: 1.171541242195202,\n",
       "                                     23.0: 0.5903050875522623,\n",
       "                                     24.0: 0.8801925807048948,\n",
       "                                     25.0: 0.5888547065017653,\n",
       "                                     26.0: 0.3522988363762137,\n",
       "                                     27.0: 0.5894754247447398,\n",
       "                                     28.0: 0.705190020522711,\n",
       "                                     29.0: 1.1781229345670852,\n",
       "                                     30.0: 0.8857693024411454,\n",
       "                                     31.0: 0.7034159575779998,\n",
       "                                     32.0: 3.5244686109738015,\n",
       "                                     33.0: 1.7752878929349518,\n",
       "                                     34.0: 3.5097218803839527,\n",
       "                                     35.0: 3.4950980392156863,\n",
       "                                     36.0: 3.487831723125841,\n",
       "                                     41.0: 3.5393397865475302,\n",
       "                                     61.0: 3.5923919889154807})</pre></div></div></div></div></div></div></div>"
      ],
      "text/plain": [
       "Pipeline(steps=[('clf',\n",
       "                 DecisionTreeClassifier(class_weight={22.0: 1.171541242195202,\n",
       "                                                      23.0: 0.5903050875522623,\n",
       "                                                      24.0: 0.8801925807048948,\n",
       "                                                      25.0: 0.5888547065017653,\n",
       "                                                      26.0: 0.3522988363762137,\n",
       "                                                      27.0: 0.5894754247447398,\n",
       "                                                      28.0: 0.705190020522711,\n",
       "                                                      29.0: 1.1781229345670852,\n",
       "                                                      30.0: 0.8857693024411454,\n",
       "                                                      31.0: 0.7034159575779998,\n",
       "                                                      32.0: 3.5244686109738015,\n",
       "                                                      33.0: 1.7752878929349518,\n",
       "                                                      34.0: 3.5097218803839527,\n",
       "                                                      35.0: 3.4950980392156863,\n",
       "                                                      36.0: 3.487831723125841,\n",
       "                                                      41.0: 3.5393397865475302,\n",
       "                                                      61.0: 3.5923919889154807}))])"
      ]
     },
     "execution_count": 110,
     "metadata": {},
     "output_type": "execute_result"
    }
   ],
   "source": [
    "# Pipeine with PCA for feature reduction\n",
    "speaker_age_pipe_dtc2.fit(train_X, train_speaker_ages)"
   ]
  },
  {
   "cell_type": "code",
   "execution_count": 114,
   "metadata": {},
   "outputs": [
    {
     "data": {
      "text/html": [
       "<style>#sk-container-id-14 {color: black;background-color: white;}#sk-container-id-14 pre{padding: 0;}#sk-container-id-14 div.sk-toggleable {background-color: white;}#sk-container-id-14 label.sk-toggleable__label {cursor: pointer;display: block;width: 100%;margin-bottom: 0;padding: 0.3em;box-sizing: border-box;text-align: center;}#sk-container-id-14 label.sk-toggleable__label-arrow:before {content: \"▸\";float: left;margin-right: 0.25em;color: #696969;}#sk-container-id-14 label.sk-toggleable__label-arrow:hover:before {color: black;}#sk-container-id-14 div.sk-estimator:hover label.sk-toggleable__label-arrow:before {color: black;}#sk-container-id-14 div.sk-toggleable__content {max-height: 0;max-width: 0;overflow: hidden;text-align: left;background-color: #f0f8ff;}#sk-container-id-14 div.sk-toggleable__content pre {margin: 0.2em;color: black;border-radius: 0.25em;background-color: #f0f8ff;}#sk-container-id-14 input.sk-toggleable__control:checked~div.sk-toggleable__content {max-height: 200px;max-width: 100%;overflow: auto;}#sk-container-id-14 input.sk-toggleable__control:checked~label.sk-toggleable__label-arrow:before {content: \"▾\";}#sk-container-id-14 div.sk-estimator input.sk-toggleable__control:checked~label.sk-toggleable__label {background-color: #d4ebff;}#sk-container-id-14 div.sk-label input.sk-toggleable__control:checked~label.sk-toggleable__label {background-color: #d4ebff;}#sk-container-id-14 input.sk-hidden--visually {border: 0;clip: rect(1px 1px 1px 1px);clip: rect(1px, 1px, 1px, 1px);height: 1px;margin: -1px;overflow: hidden;padding: 0;position: absolute;width: 1px;}#sk-container-id-14 div.sk-estimator {font-family: monospace;background-color: #f0f8ff;border: 1px dotted black;border-radius: 0.25em;box-sizing: border-box;margin-bottom: 0.5em;}#sk-container-id-14 div.sk-estimator:hover {background-color: #d4ebff;}#sk-container-id-14 div.sk-parallel-item::after {content: \"\";width: 100%;border-bottom: 1px solid gray;flex-grow: 1;}#sk-container-id-14 div.sk-label:hover label.sk-toggleable__label {background-color: #d4ebff;}#sk-container-id-14 div.sk-serial::before {content: \"\";position: absolute;border-left: 1px solid gray;box-sizing: border-box;top: 0;bottom: 0;left: 50%;z-index: 0;}#sk-container-id-14 div.sk-serial {display: flex;flex-direction: column;align-items: center;background-color: white;padding-right: 0.2em;padding-left: 0.2em;position: relative;}#sk-container-id-14 div.sk-item {position: relative;z-index: 1;}#sk-container-id-14 div.sk-parallel {display: flex;align-items: stretch;justify-content: center;background-color: white;position: relative;}#sk-container-id-14 div.sk-item::before, #sk-container-id-14 div.sk-parallel-item::before {content: \"\";position: absolute;border-left: 1px solid gray;box-sizing: border-box;top: 0;bottom: 0;left: 50%;z-index: -1;}#sk-container-id-14 div.sk-parallel-item {display: flex;flex-direction: column;z-index: 1;position: relative;background-color: white;}#sk-container-id-14 div.sk-parallel-item:first-child::after {align-self: flex-end;width: 50%;}#sk-container-id-14 div.sk-parallel-item:last-child::after {align-self: flex-start;width: 50%;}#sk-container-id-14 div.sk-parallel-item:only-child::after {width: 0;}#sk-container-id-14 div.sk-dashed-wrapped {border: 1px dashed gray;margin: 0 0.4em 0.5em 0.4em;box-sizing: border-box;padding-bottom: 0.4em;background-color: white;}#sk-container-id-14 div.sk-label label {font-family: monospace;font-weight: bold;display: inline-block;line-height: 1.2em;}#sk-container-id-14 div.sk-label-container {text-align: center;}#sk-container-id-14 div.sk-container {/* jupyter's `normalize.less` sets `[hidden] { display: none; }` but bootstrap.min.css set `[hidden] { display: none !important; }` so we also need the `!important` here to be able to override the default hidden behavior on the sphinx rendered scikit-learn.org. See: https://github.com/scikit-learn/scikit-learn/issues/21755 */display: inline-block !important;position: relative;}#sk-container-id-14 div.sk-text-repr-fallback {display: none;}</style><div id=\"sk-container-id-14\" class=\"sk-top-container\"><div class=\"sk-text-repr-fallback\"><pre>Pipeline(steps=[(&#x27;clf&#x27;, RandomForestClassifier(class_weight=&#x27;balanced&#x27;))])</pre><b>In a Jupyter environment, please rerun this cell to show the HTML representation or trust the notebook. <br />On GitHub, the HTML representation is unable to render, please try loading this page with nbviewer.org.</b></div><div class=\"sk-container\" hidden><div class=\"sk-item sk-dashed-wrapped\"><div class=\"sk-label-container\"><div class=\"sk-label sk-toggleable\"><input class=\"sk-toggleable__control sk-hidden--visually\" id=\"sk-estimator-id-37\" type=\"checkbox\" ><label for=\"sk-estimator-id-37\" class=\"sk-toggleable__label sk-toggleable__label-arrow\">Pipeline</label><div class=\"sk-toggleable__content\"><pre>Pipeline(steps=[(&#x27;clf&#x27;, RandomForestClassifier(class_weight=&#x27;balanced&#x27;))])</pre></div></div></div><div class=\"sk-serial\"><div class=\"sk-item\"><div class=\"sk-estimator sk-toggleable\"><input class=\"sk-toggleable__control sk-hidden--visually\" id=\"sk-estimator-id-38\" type=\"checkbox\" ><label for=\"sk-estimator-id-38\" class=\"sk-toggleable__label sk-toggleable__label-arrow\">RandomForestClassifier</label><div class=\"sk-toggleable__content\"><pre>RandomForestClassifier(class_weight=&#x27;balanced&#x27;)</pre></div></div></div></div></div></div></div>"
      ],
      "text/plain": [
       "Pipeline(steps=[('clf', RandomForestClassifier(class_weight='balanced'))])"
      ]
     },
     "execution_count": 114,
     "metadata": {},
     "output_type": "execute_result"
    }
   ],
   "source": [
    "# Pipeine with PCA for feature reduction\n",
    "speaker_age_pipe_rfc.fit(train_X, train_speaker_ages)"
   ]
  },
  {
   "cell_type": "code",
   "execution_count": 116,
   "metadata": {},
   "outputs": [
    {
     "name": "stdout",
     "output_type": "stream",
     "text": [
      "With SVC classifier: 0.8773333333333333\n",
      "With Decision Tree classifier (class_weight='balanced'): 0.3893333333333333\n",
      "With Decision Tree classifier (class_weights manuelly calculated): 0.38\n",
      "With Random Forest classifier (class_weight='balanced'): 0.76\n"
     ]
    }
   ],
   "source": [
    "# Now let's check the accuracies\n",
    "print(\"With SVC classifier:\", speaker_age_pipe_svc.score(valid_X, valid_speaker_ages)) \n",
    "print(\"With Decision Tree classifier (class_weight='balanced'):\", speaker_age_pipe_dtc.score(valid_X, valid_speaker_ages))\n",
    "print(\"With Decision Tree classifier (class_weights manuelly calculated):\", speaker_age_pipe_dtc2.score(valid_X, valid_speaker_ages)) \n",
    "print(\"With Random Forest classifier (class_weight='balanced'):\", speaker_age_pipe_rfc.score(valid_X, valid_speaker_ages))"
   ]
  },
  {
   "cell_type": "code",
   "execution_count": 67,
   "metadata": {},
   "outputs": [],
   "source": [
    "# Based on the above outputs SVC with class_weight='balanced' parameter performs better\n",
    "# Now let's check what feature engineering technique would be better\n",
    "\n",
    "# Pipleline for speaker age prediction with PCA for feature reduction\n",
    "speaker_age_pipe_scaler_pca_svc = Pipeline([\n",
    "    # ('scaler', StandardScaler()),\n",
    "    ('pca', PCA(n_components=0.95)),\n",
    "    ('clf', SVC(class_weight='balanced'))\n",
    "    ])\n",
    "\n",
    "# Pipleline for speaker age prediction with Model-based feature reduction\n",
    "speaker_age_pipe_scaler_sfmlr_svc = Pipeline([\n",
    "    # ('scaler', StandardScaler()),\n",
    "    ('SFM_LR', SelectFromModel(LogisticRegression(C=0.01, penalty='l1', solver='liblinear', class_weight='balanced'))),\n",
    "    ('clf', SVC(class_weight='balanced'))  \n",
    "])"
   ]
  },
  {
   "cell_type": "code",
   "execution_count": 68,
   "metadata": {},
   "outputs": [
    {
     "data": {
      "text/html": [
       "<style>#sk-container-id-5 {color: black;background-color: white;}#sk-container-id-5 pre{padding: 0;}#sk-container-id-5 div.sk-toggleable {background-color: white;}#sk-container-id-5 label.sk-toggleable__label {cursor: pointer;display: block;width: 100%;margin-bottom: 0;padding: 0.3em;box-sizing: border-box;text-align: center;}#sk-container-id-5 label.sk-toggleable__label-arrow:before {content: \"▸\";float: left;margin-right: 0.25em;color: #696969;}#sk-container-id-5 label.sk-toggleable__label-arrow:hover:before {color: black;}#sk-container-id-5 div.sk-estimator:hover label.sk-toggleable__label-arrow:before {color: black;}#sk-container-id-5 div.sk-toggleable__content {max-height: 0;max-width: 0;overflow: hidden;text-align: left;background-color: #f0f8ff;}#sk-container-id-5 div.sk-toggleable__content pre {margin: 0.2em;color: black;border-radius: 0.25em;background-color: #f0f8ff;}#sk-container-id-5 input.sk-toggleable__control:checked~div.sk-toggleable__content {max-height: 200px;max-width: 100%;overflow: auto;}#sk-container-id-5 input.sk-toggleable__control:checked~label.sk-toggleable__label-arrow:before {content: \"▾\";}#sk-container-id-5 div.sk-estimator input.sk-toggleable__control:checked~label.sk-toggleable__label {background-color: #d4ebff;}#sk-container-id-5 div.sk-label input.sk-toggleable__control:checked~label.sk-toggleable__label {background-color: #d4ebff;}#sk-container-id-5 input.sk-hidden--visually {border: 0;clip: rect(1px 1px 1px 1px);clip: rect(1px, 1px, 1px, 1px);height: 1px;margin: -1px;overflow: hidden;padding: 0;position: absolute;width: 1px;}#sk-container-id-5 div.sk-estimator {font-family: monospace;background-color: #f0f8ff;border: 1px dotted black;border-radius: 0.25em;box-sizing: border-box;margin-bottom: 0.5em;}#sk-container-id-5 div.sk-estimator:hover {background-color: #d4ebff;}#sk-container-id-5 div.sk-parallel-item::after {content: \"\";width: 100%;border-bottom: 1px solid gray;flex-grow: 1;}#sk-container-id-5 div.sk-label:hover label.sk-toggleable__label {background-color: #d4ebff;}#sk-container-id-5 div.sk-serial::before {content: \"\";position: absolute;border-left: 1px solid gray;box-sizing: border-box;top: 0;bottom: 0;left: 50%;z-index: 0;}#sk-container-id-5 div.sk-serial {display: flex;flex-direction: column;align-items: center;background-color: white;padding-right: 0.2em;padding-left: 0.2em;position: relative;}#sk-container-id-5 div.sk-item {position: relative;z-index: 1;}#sk-container-id-5 div.sk-parallel {display: flex;align-items: stretch;justify-content: center;background-color: white;position: relative;}#sk-container-id-5 div.sk-item::before, #sk-container-id-5 div.sk-parallel-item::before {content: \"\";position: absolute;border-left: 1px solid gray;box-sizing: border-box;top: 0;bottom: 0;left: 50%;z-index: -1;}#sk-container-id-5 div.sk-parallel-item {display: flex;flex-direction: column;z-index: 1;position: relative;background-color: white;}#sk-container-id-5 div.sk-parallel-item:first-child::after {align-self: flex-end;width: 50%;}#sk-container-id-5 div.sk-parallel-item:last-child::after {align-self: flex-start;width: 50%;}#sk-container-id-5 div.sk-parallel-item:only-child::after {width: 0;}#sk-container-id-5 div.sk-dashed-wrapped {border: 1px dashed gray;margin: 0 0.4em 0.5em 0.4em;box-sizing: border-box;padding-bottom: 0.4em;background-color: white;}#sk-container-id-5 div.sk-label label {font-family: monospace;font-weight: bold;display: inline-block;line-height: 1.2em;}#sk-container-id-5 div.sk-label-container {text-align: center;}#sk-container-id-5 div.sk-container {/* jupyter's `normalize.less` sets `[hidden] { display: none; }` but bootstrap.min.css set `[hidden] { display: none !important; }` so we also need the `!important` here to be able to override the default hidden behavior on the sphinx rendered scikit-learn.org. See: https://github.com/scikit-learn/scikit-learn/issues/21755 */display: inline-block !important;position: relative;}#sk-container-id-5 div.sk-text-repr-fallback {display: none;}</style><div id=\"sk-container-id-5\" class=\"sk-top-container\"><div class=\"sk-text-repr-fallback\"><pre>Pipeline(steps=[(&#x27;pca&#x27;, PCA(n_components=0.95)),\n",
       "                (&#x27;clf&#x27;, SVC(class_weight=&#x27;balanced&#x27;))])</pre><b>In a Jupyter environment, please rerun this cell to show the HTML representation or trust the notebook. <br />On GitHub, the HTML representation is unable to render, please try loading this page with nbviewer.org.</b></div><div class=\"sk-container\" hidden><div class=\"sk-item sk-dashed-wrapped\"><div class=\"sk-label-container\"><div class=\"sk-label sk-toggleable\"><input class=\"sk-toggleable__control sk-hidden--visually\" id=\"sk-estimator-id-14\" type=\"checkbox\" ><label for=\"sk-estimator-id-14\" class=\"sk-toggleable__label sk-toggleable__label-arrow\">Pipeline</label><div class=\"sk-toggleable__content\"><pre>Pipeline(steps=[(&#x27;pca&#x27;, PCA(n_components=0.95)),\n",
       "                (&#x27;clf&#x27;, SVC(class_weight=&#x27;balanced&#x27;))])</pre></div></div></div><div class=\"sk-serial\"><div class=\"sk-item\"><div class=\"sk-estimator sk-toggleable\"><input class=\"sk-toggleable__control sk-hidden--visually\" id=\"sk-estimator-id-15\" type=\"checkbox\" ><label for=\"sk-estimator-id-15\" class=\"sk-toggleable__label sk-toggleable__label-arrow\">PCA</label><div class=\"sk-toggleable__content\"><pre>PCA(n_components=0.95)</pre></div></div></div><div class=\"sk-item\"><div class=\"sk-estimator sk-toggleable\"><input class=\"sk-toggleable__control sk-hidden--visually\" id=\"sk-estimator-id-16\" type=\"checkbox\" ><label for=\"sk-estimator-id-16\" class=\"sk-toggleable__label sk-toggleable__label-arrow\">SVC</label><div class=\"sk-toggleable__content\"><pre>SVC(class_weight=&#x27;balanced&#x27;)</pre></div></div></div></div></div></div></div>"
      ],
      "text/plain": [
       "Pipeline(steps=[('pca', PCA(n_components=0.95)),\n",
       "                ('clf', SVC(class_weight='balanced'))])"
      ]
     },
     "execution_count": 68,
     "metadata": {},
     "output_type": "execute_result"
    }
   ],
   "source": [
    "# Pipeine with PCA for feature reduction\n",
    "speaker_age_pipe_scaler_pca_svc.fit(train_X, train_speaker_ages)"
   ]
  },
  {
   "cell_type": "code",
   "execution_count": 69,
   "metadata": {},
   "outputs": [
    {
     "data": {
      "text/html": [
       "<style>#sk-container-id-6 {color: black;background-color: white;}#sk-container-id-6 pre{padding: 0;}#sk-container-id-6 div.sk-toggleable {background-color: white;}#sk-container-id-6 label.sk-toggleable__label {cursor: pointer;display: block;width: 100%;margin-bottom: 0;padding: 0.3em;box-sizing: border-box;text-align: center;}#sk-container-id-6 label.sk-toggleable__label-arrow:before {content: \"▸\";float: left;margin-right: 0.25em;color: #696969;}#sk-container-id-6 label.sk-toggleable__label-arrow:hover:before {color: black;}#sk-container-id-6 div.sk-estimator:hover label.sk-toggleable__label-arrow:before {color: black;}#sk-container-id-6 div.sk-toggleable__content {max-height: 0;max-width: 0;overflow: hidden;text-align: left;background-color: #f0f8ff;}#sk-container-id-6 div.sk-toggleable__content pre {margin: 0.2em;color: black;border-radius: 0.25em;background-color: #f0f8ff;}#sk-container-id-6 input.sk-toggleable__control:checked~div.sk-toggleable__content {max-height: 200px;max-width: 100%;overflow: auto;}#sk-container-id-6 input.sk-toggleable__control:checked~label.sk-toggleable__label-arrow:before {content: \"▾\";}#sk-container-id-6 div.sk-estimator input.sk-toggleable__control:checked~label.sk-toggleable__label {background-color: #d4ebff;}#sk-container-id-6 div.sk-label input.sk-toggleable__control:checked~label.sk-toggleable__label {background-color: #d4ebff;}#sk-container-id-6 input.sk-hidden--visually {border: 0;clip: rect(1px 1px 1px 1px);clip: rect(1px, 1px, 1px, 1px);height: 1px;margin: -1px;overflow: hidden;padding: 0;position: absolute;width: 1px;}#sk-container-id-6 div.sk-estimator {font-family: monospace;background-color: #f0f8ff;border: 1px dotted black;border-radius: 0.25em;box-sizing: border-box;margin-bottom: 0.5em;}#sk-container-id-6 div.sk-estimator:hover {background-color: #d4ebff;}#sk-container-id-6 div.sk-parallel-item::after {content: \"\";width: 100%;border-bottom: 1px solid gray;flex-grow: 1;}#sk-container-id-6 div.sk-label:hover label.sk-toggleable__label {background-color: #d4ebff;}#sk-container-id-6 div.sk-serial::before {content: \"\";position: absolute;border-left: 1px solid gray;box-sizing: border-box;top: 0;bottom: 0;left: 50%;z-index: 0;}#sk-container-id-6 div.sk-serial {display: flex;flex-direction: column;align-items: center;background-color: white;padding-right: 0.2em;padding-left: 0.2em;position: relative;}#sk-container-id-6 div.sk-item {position: relative;z-index: 1;}#sk-container-id-6 div.sk-parallel {display: flex;align-items: stretch;justify-content: center;background-color: white;position: relative;}#sk-container-id-6 div.sk-item::before, #sk-container-id-6 div.sk-parallel-item::before {content: \"\";position: absolute;border-left: 1px solid gray;box-sizing: border-box;top: 0;bottom: 0;left: 50%;z-index: -1;}#sk-container-id-6 div.sk-parallel-item {display: flex;flex-direction: column;z-index: 1;position: relative;background-color: white;}#sk-container-id-6 div.sk-parallel-item:first-child::after {align-self: flex-end;width: 50%;}#sk-container-id-6 div.sk-parallel-item:last-child::after {align-self: flex-start;width: 50%;}#sk-container-id-6 div.sk-parallel-item:only-child::after {width: 0;}#sk-container-id-6 div.sk-dashed-wrapped {border: 1px dashed gray;margin: 0 0.4em 0.5em 0.4em;box-sizing: border-box;padding-bottom: 0.4em;background-color: white;}#sk-container-id-6 div.sk-label label {font-family: monospace;font-weight: bold;display: inline-block;line-height: 1.2em;}#sk-container-id-6 div.sk-label-container {text-align: center;}#sk-container-id-6 div.sk-container {/* jupyter's `normalize.less` sets `[hidden] { display: none; }` but bootstrap.min.css set `[hidden] { display: none !important; }` so we also need the `!important` here to be able to override the default hidden behavior on the sphinx rendered scikit-learn.org. See: https://github.com/scikit-learn/scikit-learn/issues/21755 */display: inline-block !important;position: relative;}#sk-container-id-6 div.sk-text-repr-fallback {display: none;}</style><div id=\"sk-container-id-6\" class=\"sk-top-container\"><div class=\"sk-text-repr-fallback\"><pre>Pipeline(steps=[(&#x27;SFM_LR&#x27;,\n",
       "                 SelectFromModel(estimator=LogisticRegression(C=0.01,\n",
       "                                                              class_weight=&#x27;balanced&#x27;,\n",
       "                                                              penalty=&#x27;l1&#x27;,\n",
       "                                                              solver=&#x27;liblinear&#x27;))),\n",
       "                (&#x27;clf&#x27;, SVC(class_weight=&#x27;balanced&#x27;))])</pre><b>In a Jupyter environment, please rerun this cell to show the HTML representation or trust the notebook. <br />On GitHub, the HTML representation is unable to render, please try loading this page with nbviewer.org.</b></div><div class=\"sk-container\" hidden><div class=\"sk-item sk-dashed-wrapped\"><div class=\"sk-label-container\"><div class=\"sk-label sk-toggleable\"><input class=\"sk-toggleable__control sk-hidden--visually\" id=\"sk-estimator-id-17\" type=\"checkbox\" ><label for=\"sk-estimator-id-17\" class=\"sk-toggleable__label sk-toggleable__label-arrow\">Pipeline</label><div class=\"sk-toggleable__content\"><pre>Pipeline(steps=[(&#x27;SFM_LR&#x27;,\n",
       "                 SelectFromModel(estimator=LogisticRegression(C=0.01,\n",
       "                                                              class_weight=&#x27;balanced&#x27;,\n",
       "                                                              penalty=&#x27;l1&#x27;,\n",
       "                                                              solver=&#x27;liblinear&#x27;))),\n",
       "                (&#x27;clf&#x27;, SVC(class_weight=&#x27;balanced&#x27;))])</pre></div></div></div><div class=\"sk-serial\"><div class=\"sk-item sk-dashed-wrapped\"><div class=\"sk-label-container\"><div class=\"sk-label sk-toggleable\"><input class=\"sk-toggleable__control sk-hidden--visually\" id=\"sk-estimator-id-18\" type=\"checkbox\" ><label for=\"sk-estimator-id-18\" class=\"sk-toggleable__label sk-toggleable__label-arrow\">SFM_LR: SelectFromModel</label><div class=\"sk-toggleable__content\"><pre>SelectFromModel(estimator=LogisticRegression(C=0.01, class_weight=&#x27;balanced&#x27;,\n",
       "                                             penalty=&#x27;l1&#x27;, solver=&#x27;liblinear&#x27;))</pre></div></div></div><div class=\"sk-parallel\"><div class=\"sk-parallel-item\"><div class=\"sk-item\"><div class=\"sk-label-container\"><div class=\"sk-label sk-toggleable\"><input class=\"sk-toggleable__control sk-hidden--visually\" id=\"sk-estimator-id-19\" type=\"checkbox\" ><label for=\"sk-estimator-id-19\" class=\"sk-toggleable__label sk-toggleable__label-arrow\">estimator: LogisticRegression</label><div class=\"sk-toggleable__content\"><pre>LogisticRegression(C=0.01, class_weight=&#x27;balanced&#x27;, penalty=&#x27;l1&#x27;,\n",
       "                   solver=&#x27;liblinear&#x27;)</pre></div></div></div><div class=\"sk-serial\"><div class=\"sk-item\"><div class=\"sk-estimator sk-toggleable\"><input class=\"sk-toggleable__control sk-hidden--visually\" id=\"sk-estimator-id-20\" type=\"checkbox\" ><label for=\"sk-estimator-id-20\" class=\"sk-toggleable__label sk-toggleable__label-arrow\">LogisticRegression</label><div class=\"sk-toggleable__content\"><pre>LogisticRegression(C=0.01, class_weight=&#x27;balanced&#x27;, penalty=&#x27;l1&#x27;,\n",
       "                   solver=&#x27;liblinear&#x27;)</pre></div></div></div></div></div></div></div></div><div class=\"sk-item\"><div class=\"sk-estimator sk-toggleable\"><input class=\"sk-toggleable__control sk-hidden--visually\" id=\"sk-estimator-id-21\" type=\"checkbox\" ><label for=\"sk-estimator-id-21\" class=\"sk-toggleable__label sk-toggleable__label-arrow\">SVC</label><div class=\"sk-toggleable__content\"><pre>SVC(class_weight=&#x27;balanced&#x27;)</pre></div></div></div></div></div></div></div>"
      ],
      "text/plain": [
       "Pipeline(steps=[('SFM_LR',\n",
       "                 SelectFromModel(estimator=LogisticRegression(C=0.01,\n",
       "                                                              class_weight='balanced',\n",
       "                                                              penalty='l1',\n",
       "                                                              solver='liblinear'))),\n",
       "                ('clf', SVC(class_weight='balanced'))])"
      ]
     },
     "execution_count": 69,
     "metadata": {},
     "output_type": "execute_result"
    }
   ],
   "source": [
    "# Pipeine with PCA for feature reduction\n",
    "speaker_age_pipe_scaler_sfmlr_svc.fit(train_X, train_speaker_ages)"
   ]
  },
  {
   "cell_type": "code",
   "execution_count": 74,
   "metadata": {},
   "outputs": [
    {
     "name": "stdout",
     "output_type": "stream",
     "text": [
      "Withouth feature engineering:  0.8773333333333333\n",
      "With PCA for feature reduction:  0.932\n",
      "With Model-based feature reduction:  0.6466666666666666\n"
     ]
    }
   ],
   "source": [
    "# Let's now check the accuracies.\n",
    "print(\"Withouth feature engineering: \", speaker_age_pipe_svc.score(valid_X, valid_speaker_ages))\n",
    "print(\"With PCA for feature reduction: \", speaker_age_pipe_scaler_pca_svc.score(valid_X, valid_speaker_ages))\n",
    "print(\"With Model-based feature reduction: \", speaker_age_pipe_scaler_sfmlr_svc.score(valid_X, valid_speaker_ages))"
   ]
  },
  {
   "cell_type": "code",
   "execution_count": 75,
   "metadata": {},
   "outputs": [
    {
     "name": "stdout",
     "output_type": "stream",
     "text": [
      "Number of features before reduction:  768\n",
      "Number of features after PCA:  239\n",
      "Number of features after model-based feature reduction:  40\n"
     ]
    }
   ],
   "source": [
    "num_features_before_reduction = speaker_age_pipe_svc.named_steps['clf'].n_features_in_\n",
    "num_features_after_pca = speaker_age_pipe_scaler_pca_svc.named_steps['pca'].n_components_\n",
    "num_features_after_sfmlr = sum(speaker_age_pipe_scaler_sfmlr_svc.named_steps['SFM_LR'].get_support())\n",
    "\n",
    "print(\"Number of features before reduction: \", num_features_before_reduction)\n",
    "print(\"Number of features after PCA: \", num_features_after_pca)\n",
    "print(\"Number of features after model-based feature reduction: \", num_features_after_sfmlr)"
   ]
  },
  {
   "cell_type": "markdown",
   "metadata": {},
   "source": [
    "### Hyperparameter tuning"
   ]
  },
  {
   "cell_type": "code",
   "execution_count": 127,
   "metadata": {},
   "outputs": [],
   "source": [
    "# Let's now try to improve the accuracy of the model with PCA for feature reduction by tuning the hyperparameters of the model.\n",
    "\n",
    "# NOTE: When 'cv' parameter is used in the GridSearchCV ==> it does Stratified Croos Validation which is good when class imbalance is there \n",
    "param_grid = dict(pca__n_components=[0.95, 0.96, 0.97],\n",
    "                  clf__C=np.logspace(-2, 1, 4),\n",
    "                  clf__kernel=['rbf'])\n",
    "\n",
    "grid = GridSearchCV(speaker_age_pipe_scaler_pca_svc, param_grid=param_grid, cv=3, n_jobs=1, verbose=2, scoring= 'balanced_accuracy') ####CHANGED DIDNOTRUN"
   ]
  },
  {
   "cell_type": "code",
   "execution_count": 128,
   "metadata": {},
   "outputs": [
    {
     "name": "stdout",
     "output_type": "stream",
     "text": [
      "Fitting 3 folds for each of 12 candidates, totalling 36 fits\n",
      "[CV] END clf__C=0.01, clf__kernel=rbf, pca__n_components=0.95; total time= 3.5min\n",
      "[CV] END clf__C=0.01, clf__kernel=rbf, pca__n_components=0.95; total time= 3.3min\n",
      "[CV] END clf__C=0.01, clf__kernel=rbf, pca__n_components=0.95; total time= 3.3min\n",
      "[CV] END clf__C=0.01, clf__kernel=rbf, pca__n_components=0.96; total time= 3.6min\n",
      "[CV] END clf__C=0.01, clf__kernel=rbf, pca__n_components=0.96; total time= 3.6min\n",
      "[CV] END clf__C=0.01, clf__kernel=rbf, pca__n_components=0.96; total time= 3.5min\n",
      "[CV] END clf__C=0.01, clf__kernel=rbf, pca__n_components=0.97; total time= 4.1min\n",
      "[CV] END clf__C=0.01, clf__kernel=rbf, pca__n_components=0.97; total time= 4.0min\n",
      "[CV] END clf__C=0.01, clf__kernel=rbf, pca__n_components=0.97; total time= 3.9min\n",
      "[CV] END clf__C=0.1, clf__kernel=rbf, pca__n_components=0.95; total time= 2.6min\n",
      "[CV] END clf__C=0.1, clf__kernel=rbf, pca__n_components=0.95; total time= 2.7min\n",
      "[CV] END clf__C=0.1, clf__kernel=rbf, pca__n_components=0.95; total time= 2.6min\n",
      "[CV] END clf__C=0.1, clf__kernel=rbf, pca__n_components=0.96; total time= 2.8min\n",
      "[CV] END clf__C=0.1, clf__kernel=rbf, pca__n_components=0.96; total time= 2.9min\n",
      "[CV] END clf__C=0.1, clf__kernel=rbf, pca__n_components=0.96; total time= 2.9min\n",
      "[CV] END clf__C=0.1, clf__kernel=rbf, pca__n_components=0.97; total time= 3.4min\n",
      "[CV] END clf__C=0.1, clf__kernel=rbf, pca__n_components=0.97; total time= 3.4min\n",
      "[CV] END clf__C=0.1, clf__kernel=rbf, pca__n_components=0.97; total time= 3.3min\n",
      "[CV] END clf__C=1.0, clf__kernel=rbf, pca__n_components=0.95; total time= 1.6min\n",
      "[CV] END clf__C=1.0, clf__kernel=rbf, pca__n_components=0.95; total time= 1.7min\n",
      "[CV] END clf__C=1.0, clf__kernel=rbf, pca__n_components=0.95; total time= 1.7min\n",
      "[CV] END clf__C=1.0, clf__kernel=rbf, pca__n_components=0.96; total time= 1.7min\n",
      "[CV] END clf__C=1.0, clf__kernel=rbf, pca__n_components=0.96; total time= 1.8min\n",
      "[CV] END clf__C=1.0, clf__kernel=rbf, pca__n_components=0.96; total time= 1.8min\n",
      "[CV] END clf__C=1.0, clf__kernel=rbf, pca__n_components=0.97; total time= 2.1min\n",
      "[CV] END clf__C=1.0, clf__kernel=rbf, pca__n_components=0.97; total time= 2.2min\n",
      "[CV] END clf__C=1.0, clf__kernel=rbf, pca__n_components=0.97; total time= 2.1min\n",
      "[CV] END clf__C=10.0, clf__kernel=rbf, pca__n_components=0.95; total time= 1.4min\n",
      "[CV] END clf__C=10.0, clf__kernel=rbf, pca__n_components=0.95; total time= 1.5min\n",
      "[CV] END clf__C=10.0, clf__kernel=rbf, pca__n_components=0.95; total time= 1.4min\n",
      "[CV] END clf__C=10.0, clf__kernel=rbf, pca__n_components=0.96; total time= 1.5min\n",
      "[CV] END clf__C=10.0, clf__kernel=rbf, pca__n_components=0.96; total time= 1.6min\n",
      "[CV] END clf__C=10.0, clf__kernel=rbf, pca__n_components=0.96; total time= 1.5min\n",
      "[CV] END clf__C=10.0, clf__kernel=rbf, pca__n_components=0.97; total time= 1.8min\n",
      "[CV] END clf__C=10.0, clf__kernel=rbf, pca__n_components=0.97; total time= 1.9min\n",
      "[CV] END clf__C=10.0, clf__kernel=rbf, pca__n_components=0.97; total time= 1.8min\n",
      "0.3522431745934373\n",
      "{'mean_fit_time': array([145.15604591, 152.50668017, 173.45870082, 104.37599905,\n",
      "       113.45136484, 137.59807928,  50.84336925,  54.33418496,\n",
      "        68.15263621,  39.333932  ,  43.7328546 ,  52.22703147]), 'std_fit_time': array([6.36757839, 0.86446795, 3.84509838, 0.97932254, 1.73555307,\n",
      "       1.59689394, 0.57412262, 0.36315344, 1.84376727, 0.55974845,\n",
      "       1.85808691, 1.58815014]), 'mean_score_time': array([57.04020898, 61.66143243, 67.43465598, 53.69310347, 58.46339258,\n",
      "       66.64048187, 48.53666488, 51.75050886, 60.76523217, 46.42523917,\n",
      "       49.55939778, 57.02502084]), 'std_score_time': array([0.29064007, 0.5463163 , 2.02153249, 0.64634744, 0.45014348,\n",
      "       0.90543777, 0.53560768, 1.170958  , 0.44325373, 1.36212321,\n",
      "       0.45704662, 1.60906178]), 'param_clf__C': masked_array(data=[0.01, 0.01, 0.01, 0.1, 0.1, 0.1, 1.0, 1.0, 1.0, 10.0,\n",
      "                   10.0, 10.0],\n",
      "             mask=[False, False, False, False, False, False, False, False,\n",
      "                   False, False, False, False],\n",
      "       fill_value='?',\n",
      "            dtype=object), 'param_clf__kernel': masked_array(data=['rbf', 'rbf', 'rbf', 'rbf', 'rbf', 'rbf', 'rbf', 'rbf',\n",
      "                   'rbf', 'rbf', 'rbf', 'rbf'],\n",
      "             mask=[False, False, False, False, False, False, False, False,\n",
      "                   False, False, False, False],\n",
      "       fill_value='?',\n",
      "            dtype=object), 'param_pca__n_components': masked_array(data=[0.95, 0.96, 0.97, 0.95, 0.96, 0.97, 0.95, 0.96, 0.97,\n",
      "                   0.95, 0.96, 0.97],\n",
      "             mask=[False, False, False, False, False, False, False, False,\n",
      "                   False, False, False, False],\n",
      "       fill_value='?',\n",
      "            dtype=object), 'params': [{'clf__C': 0.01, 'clf__kernel': 'rbf', 'pca__n_components': 0.95}, {'clf__C': 0.01, 'clf__kernel': 'rbf', 'pca__n_components': 0.96}, {'clf__C': 0.01, 'clf__kernel': 'rbf', 'pca__n_components': 0.97}, {'clf__C': 0.1, 'clf__kernel': 'rbf', 'pca__n_components': 0.95}, {'clf__C': 0.1, 'clf__kernel': 'rbf', 'pca__n_components': 0.96}, {'clf__C': 0.1, 'clf__kernel': 'rbf', 'pca__n_components': 0.97}, {'clf__C': 1.0, 'clf__kernel': 'rbf', 'pca__n_components': 0.95}, {'clf__C': 1.0, 'clf__kernel': 'rbf', 'pca__n_components': 0.96}, {'clf__C': 1.0, 'clf__kernel': 'rbf', 'pca__n_components': 0.97}, {'clf__C': 10.0, 'clf__kernel': 'rbf', 'pca__n_components': 0.95}, {'clf__C': 10.0, 'clf__kernel': 'rbf', 'pca__n_components': 0.96}, {'clf__C': 10.0, 'clf__kernel': 'rbf', 'pca__n_components': 0.97}], 'split0_test_score': array([0.18807195, 0.18702009, 0.18649416, 0.20132534, 0.2023772 ,\n",
      "       0.20258757, 0.28789313, 0.28947092, 0.28905017, 0.30977175,\n",
      "       0.31145472, 0.31092879]), 'split1_test_score': array([0.18291785, 0.18249711, 0.18197118, 0.25170927, 0.25181445,\n",
      "       0.25307668, 0.37519722, 0.37698538, 0.37782686, 0.41674556,\n",
      "       0.41884927, 0.41821816]), 'split2_test_score': array([0.08110667, 0.0801599 , 0.07847675, 0.24332001, 0.24342521,\n",
      "       0.24437198, 0.31906165, 0.31843046, 0.31937724, 0.32547865,\n",
      "       0.32642542, 0.32758258]), 'mean_test_score': array([0.15069882, 0.14989237, 0.1489807 , 0.2321182 , 0.23253895,\n",
      "       0.23334541, 0.327384  , 0.32829559, 0.32875142, 0.35066532,\n",
      "       0.35224313, 0.35224317]), 'std_test_score': array([0.04925405, 0.04934286, 0.049888  , 0.02204156, 0.02160083,\n",
      "       0.02203749, 0.0361243 , 0.03640225, 0.0368441 , 0.04716372,\n",
      "       0.04749255, 0.04714418]), 'rank_test_score': array([10, 11, 12,  9,  8,  7,  6,  5,  4,  3,  2,  1])}\n"
     ]
    }
   ],
   "source": [
    "grid.fit(train_X, train_speaker_ages)\n",
    "print(grid.best_score_)\n",
    "print(grid.cv_results_)"
   ]
  },
  {
   "cell_type": "code",
   "execution_count": 129,
   "metadata": {},
   "outputs": [
    {
     "name": "stdout",
     "output_type": "stream",
     "text": [
      "Best Hyperparameters:  {'clf__C': 10.0, 'clf__kernel': 'rbf', 'pca__n_components': 0.97}\n",
      "Best Accuracy: 0.352243%\n"
     ]
    }
   ],
   "source": [
    "# Print the best hyperparameters and corresponding accuracy\n",
    "print(\"Best Hyperparameters: \", grid.best_params_)\n",
    "print(\"Best Accuracy: {:f}%\".format(grid.best_score_))\n",
    "\n",
    "# Therefore the best hyperparameters based on gridSearchCV : \n",
    "# - 'pca__n_components': , \n",
    "# - 'clf__C': , \n",
    "# - 'clf__kernel': 'rbf'"
   ]
  },
  {
   "cell_type": "code",
   "execution_count": 81,
   "metadata": {},
   "outputs": [
    {
     "name": "stdout",
     "output_type": "stream",
     "text": [
      "PCA for feature reduction (Hyperparameters tuned):  0.968\n"
     ]
    }
   ],
   "source": [
    "best_pca__n_components = 0.97\n",
    "best_clf__C = 10.0\n",
    "best_clf__kernel = 'rbf'\n",
    "\n",
    "# Pipleline with best params\n",
    "best_speaker_age_pipe_scaler_pca_svc = Pipeline([\n",
    "    # ('scaler', StandardScaler()),\n",
    "    ('pca', PCA(n_components=best_pca__n_components)),\n",
    "    ('clf', SVC(C=best_clf__C, kernel=best_clf__kernel))\n",
    "    ])\n",
    "\n",
    "best_speaker_age_pipe_scaler_pca_svc.fit(train_X, train_speaker_ages)\n",
    "print(\"PCA for feature reduction (Hyperparameters tuned): \", best_speaker_age_pipe_scaler_pca_svc.score(valid_X, valid_speaker_ages))"
   ]
  },
  {
   "cell_type": "code",
   "execution_count": 137,
   "metadata": {},
   "outputs": [],
   "source": [
    "# Let's now try to improve the accuracy of the model with model-based for feature reduction by tuning the hyperparameters of the model.\n",
    "param_grid = dict(SFM_LR__estimator__C=np.logspace(-2, 1, 4),\n",
    "                    clf__C=[10.0],\n",
    "                    clf__kernel=['rbf'])\n",
    "\n",
    "grid = GridSearchCV(speaker_age_pipe_scaler_sfmlr_svc, param_grid=param_grid, cv=3, n_jobs=1, verbose=2, scoring= 'balanced_accuracy')\n",
    "### CHANGED DIDNOT RUN"
   ]
  },
  {
   "cell_type": "code",
   "execution_count": 138,
   "metadata": {},
   "outputs": [
    {
     "name": "stdout",
     "output_type": "stream",
     "text": [
      "Fitting 3 folds for each of 4 candidates, totalling 12 fits\n",
      "[CV] END SFM_LR__estimator__C=0.01, clf__C=10.0, clf__kernel=rbf; total time= 2.6min\n",
      "[CV] END SFM_LR__estimator__C=0.01, clf__C=10.0, clf__kernel=rbf; total time= 2.8min\n",
      "[CV] END SFM_LR__estimator__C=0.01, clf__C=10.0, clf__kernel=rbf; total time= 2.8min\n",
      "[CV] END SFM_LR__estimator__C=0.1, clf__C=10.0, clf__kernel=rbf; total time= 4.5min\n",
      "[CV] END SFM_LR__estimator__C=0.1, clf__C=10.0, clf__kernel=rbf; total time= 4.5min\n",
      "[CV] END SFM_LR__estimator__C=0.1, clf__C=10.0, clf__kernel=rbf; total time= 4.5min\n",
      "[CV] END SFM_LR__estimator__C=1.0, clf__C=10.0, clf__kernel=rbf; total time= 9.0min\n",
      "[CV] END SFM_LR__estimator__C=1.0, clf__C=10.0, clf__kernel=rbf; total time= 9.2min\n",
      "[CV] END SFM_LR__estimator__C=1.0, clf__C=10.0, clf__kernel=rbf; total time= 9.2min\n",
      "[CV] END SFM_LR__estimator__C=10.0, clf__C=10.0, clf__kernel=rbf; total time=21.3min\n",
      "[CV] END SFM_LR__estimator__C=10.0, clf__C=10.0, clf__kernel=rbf; total time=16.3min\n",
      "[CV] END SFM_LR__estimator__C=10.0, clf__C=10.0, clf__kernel=rbf; total time=22.2min\n",
      "0.3539613212607439\n",
      "{'mean_fit_time': array([  89.29604801,  171.16181564,  448.9101247 , 1103.82555827]), 'std_fit_time': array([  3.97666962,   3.52511743,   5.59735494, 156.02746046]), 'mean_score_time': array([74.36252101, 98.27785571, 99.22995536, 92.9683009 ]), 'std_score_time': array([2.37106189, 2.29531599, 1.24662367, 2.19287053]), 'param_SFM_LR__estimator__C': masked_array(data=[0.01, 0.1, 1.0, 10.0],\n",
      "             mask=[False, False, False, False],\n",
      "       fill_value='?',\n",
      "            dtype=object), 'param_clf__C': masked_array(data=[10.0, 10.0, 10.0, 10.0],\n",
      "             mask=[False, False, False, False],\n",
      "       fill_value='?',\n",
      "            dtype=object), 'param_clf__kernel': masked_array(data=['rbf', 'rbf', 'rbf', 'rbf'],\n",
      "             mask=[False, False, False, False],\n",
      "       fill_value='?',\n",
      "            dtype=object), 'params': [{'SFM_LR__estimator__C': 0.01, 'clf__C': 10.0, 'clf__kernel': 'rbf'}, {'SFM_LR__estimator__C': 0.1, 'clf__C': 10.0, 'clf__kernel': 'rbf'}, {'SFM_LR__estimator__C': 1.0, 'clf__C': 10.0, 'clf__kernel': 'rbf'}, {'SFM_LR__estimator__C': 10.0, 'clf__C': 10.0, 'clf__kernel': 'rbf'}], 'split0_test_score': array([0.31050805, 0.31124435, 0.31134953, 0.31134953]), 'split1_test_score': array([0.41727148, 0.41969075, 0.41969075, 0.41969075]), 'split2_test_score': array([0.32789817, 0.33063328, 0.33084368, 0.33084368]), 'mean_test_score': array([0.35189257, 0.35385613, 0.35396132, 0.35396132]), 'std_test_score': array([0.04677183, 0.04722027, 0.04715417, 0.04715417]), 'rank_test_score': array([4, 3, 1, 1])}\n"
     ]
    }
   ],
   "source": [
    "grid.fit(train_X, train_speaker_ages)\n",
    "print(grid.best_score_)\n",
    "print(grid.cv_results_) "
   ]
  },
  {
   "cell_type": "code",
   "execution_count": 139,
   "metadata": {},
   "outputs": [
    {
     "name": "stdout",
     "output_type": "stream",
     "text": [
      "Best Hyperparameters:  {'SFM_LR__estimator__C': 1.0, 'clf__C': 10.0, 'clf__kernel': 'rbf'}\n",
      "Best Accuracy: 35.396132%\n"
     ]
    }
   ],
   "source": [
    "# Print the best hyperparameters and corresponding accuracy\n",
    "print(\"Best Hyperparameters: \", grid.best_params_)\n",
    "print(\"Best Accuracy: {:f}%\".format(grid.best_score_ * 100))\n",
    "\n",
    "# Therefore the best hyperparameters based on gridSearchCV : \n",
    "# - 'SFM_LR__estimator__C': , \n",
    "# - 'clf__C': , \n",
    "# - 'clf__kernel': 'rbf'"
   ]
  },
  {
   "cell_type": "code",
   "execution_count": 82,
   "metadata": {},
   "outputs": [
    {
     "name": "stdout",
     "output_type": "stream",
     "text": [
      "Model-based feature reduction (Hyperparameters tuned):  0.9573333333333334\n"
     ]
    }
   ],
   "source": [
    "best_SFM_LR__estimator__C = 1\n",
    "best_clf__C = 10.0\n",
    "best_clf__kernel = 'rbf'\n",
    "\n",
    "# Pipleline with best params\n",
    "best_speaker_age_pipe_scaler_sfmlr_svc = Pipeline([\n",
    "    ('scaler', StandardScaler()),\n",
    "    ('SFM_LR', SelectFromModel(LogisticRegression(C=best_SFM_LR__estimator__C, penalty='l1', solver='liblinear', class_weight='balanced'))),\n",
    "    ('clf', SVC(class_weight='balanced', C=best_clf__C, kernel=best_clf__kernel))  \n",
    "])\n",
    "\n",
    "best_speaker_age_pipe_scaler_sfmlr_svc.fit(train_X, train_speaker_ages)\n",
    "print(\"Model-based feature reduction (Hyperparameters tuned): \", best_speaker_age_pipe_scaler_sfmlr_svc.score(valid_X, valid_speaker_ages))\n",
    "\n",
    "\n",
    "# best_svm = grid.best_estimator_\n",
    "# pred_valid_speaker_IDs = best_svm.predict(valid_X)  \n",
    "# validation_accuracy = accuracy_score(valid_speaker_IDs, pred_valid_speaker_IDs)\n",
    "# print(\"Validation Accuracy:\", validation_accuracy)"
   ]
  },
  {
   "cell_type": "markdown",
   "metadata": {},
   "source": [
    "### Prediction on test data"
   ]
  },
  {
   "cell_type": "code",
   "execution_count": 83,
   "metadata": {},
   "outputs": [
    {
     "data": {
      "text/html": [
       "<div>\n",
       "<style scoped>\n",
       "    .dataframe tbody tr th:only-of-type {\n",
       "        vertical-align: middle;\n",
       "    }\n",
       "\n",
       "    .dataframe tbody tr th {\n",
       "        vertical-align: top;\n",
       "    }\n",
       "\n",
       "    .dataframe thead th {\n",
       "        text-align: right;\n",
       "    }\n",
       "</style>\n",
       "<table border=\"1\" class=\"dataframe\">\n",
       "  <thead>\n",
       "    <tr style=\"text-align: right;\">\n",
       "      <th></th>\n",
       "      <th>feature_1</th>\n",
       "      <th>feature_2</th>\n",
       "      <th>feature_3</th>\n",
       "      <th>feature_4</th>\n",
       "      <th>feature_5</th>\n",
       "      <th>feature_6</th>\n",
       "      <th>feature_7</th>\n",
       "      <th>feature_8</th>\n",
       "      <th>feature_9</th>\n",
       "      <th>feature_10</th>\n",
       "      <th>...</th>\n",
       "      <th>feature_759</th>\n",
       "      <th>feature_760</th>\n",
       "      <th>feature_761</th>\n",
       "      <th>feature_762</th>\n",
       "      <th>feature_763</th>\n",
       "      <th>feature_764</th>\n",
       "      <th>feature_765</th>\n",
       "      <th>feature_766</th>\n",
       "      <th>feature_767</th>\n",
       "      <th>feature_768</th>\n",
       "    </tr>\n",
       "  </thead>\n",
       "  <tbody>\n",
       "    <tr>\n",
       "      <th>0</th>\n",
       "      <td>0.187868</td>\n",
       "      <td>-0.009268</td>\n",
       "      <td>0.039846</td>\n",
       "      <td>-0.102515</td>\n",
       "      <td>-0.109121</td>\n",
       "      <td>-0.079769</td>\n",
       "      <td>0.061295</td>\n",
       "      <td>-0.042890</td>\n",
       "      <td>0.099860</td>\n",
       "      <td>-0.066319</td>\n",
       "      <td>...</td>\n",
       "      <td>0.043647</td>\n",
       "      <td>0.061174</td>\n",
       "      <td>0.026771</td>\n",
       "      <td>-0.092734</td>\n",
       "      <td>-0.052383</td>\n",
       "      <td>-0.055526</td>\n",
       "      <td>0.029101</td>\n",
       "      <td>0.041857</td>\n",
       "      <td>-0.027872</td>\n",
       "      <td>0.099500</td>\n",
       "    </tr>\n",
       "    <tr>\n",
       "      <th>1</th>\n",
       "      <td>0.122119</td>\n",
       "      <td>0.019015</td>\n",
       "      <td>0.134483</td>\n",
       "      <td>0.007949</td>\n",
       "      <td>-0.157884</td>\n",
       "      <td>-0.033332</td>\n",
       "      <td>0.044334</td>\n",
       "      <td>-0.016869</td>\n",
       "      <td>-0.014088</td>\n",
       "      <td>-0.060542</td>\n",
       "      <td>...</td>\n",
       "      <td>-0.179798</td>\n",
       "      <td>-0.027611</td>\n",
       "      <td>0.240023</td>\n",
       "      <td>-0.005648</td>\n",
       "      <td>-0.057537</td>\n",
       "      <td>0.023922</td>\n",
       "      <td>-0.038126</td>\n",
       "      <td>-0.015171</td>\n",
       "      <td>-0.006270</td>\n",
       "      <td>-0.003790</td>\n",
       "    </tr>\n",
       "    <tr>\n",
       "      <th>2</th>\n",
       "      <td>0.079187</td>\n",
       "      <td>0.146195</td>\n",
       "      <td>-0.001316</td>\n",
       "      <td>-0.085596</td>\n",
       "      <td>-0.261093</td>\n",
       "      <td>-0.021620</td>\n",
       "      <td>0.268898</td>\n",
       "      <td>-0.103950</td>\n",
       "      <td>0.068976</td>\n",
       "      <td>-0.062388</td>\n",
       "      <td>...</td>\n",
       "      <td>-0.075460</td>\n",
       "      <td>0.037346</td>\n",
       "      <td>0.124254</td>\n",
       "      <td>-0.369695</td>\n",
       "      <td>-0.056773</td>\n",
       "      <td>-0.028471</td>\n",
       "      <td>0.019971</td>\n",
       "      <td>-0.065683</td>\n",
       "      <td>-0.047366</td>\n",
       "      <td>-0.121744</td>\n",
       "    </tr>\n",
       "    <tr>\n",
       "      <th>3</th>\n",
       "      <td>0.231196</td>\n",
       "      <td>0.021558</td>\n",
       "      <td>0.215534</td>\n",
       "      <td>-0.210258</td>\n",
       "      <td>-0.158189</td>\n",
       "      <td>0.041621</td>\n",
       "      <td>0.240254</td>\n",
       "      <td>-0.068112</td>\n",
       "      <td>-0.017550</td>\n",
       "      <td>-0.233767</td>\n",
       "      <td>...</td>\n",
       "      <td>0.083334</td>\n",
       "      <td>0.141642</td>\n",
       "      <td>-0.007219</td>\n",
       "      <td>0.031547</td>\n",
       "      <td>-0.010762</td>\n",
       "      <td>-0.169036</td>\n",
       "      <td>-0.030963</td>\n",
       "      <td>0.086698</td>\n",
       "      <td>0.114194</td>\n",
       "      <td>-0.036775</td>\n",
       "    </tr>\n",
       "    <tr>\n",
       "      <th>4</th>\n",
       "      <td>0.020412</td>\n",
       "      <td>0.063732</td>\n",
       "      <td>-0.065506</td>\n",
       "      <td>-0.089598</td>\n",
       "      <td>-0.130788</td>\n",
       "      <td>-0.018809</td>\n",
       "      <td>0.119304</td>\n",
       "      <td>-0.057494</td>\n",
       "      <td>0.094714</td>\n",
       "      <td>-0.047923</td>\n",
       "      <td>...</td>\n",
       "      <td>-0.001969</td>\n",
       "      <td>-0.003025</td>\n",
       "      <td>-0.021156</td>\n",
       "      <td>-0.136993</td>\n",
       "      <td>-0.003615</td>\n",
       "      <td>0.036371</td>\n",
       "      <td>0.048715</td>\n",
       "      <td>-0.002688</td>\n",
       "      <td>-0.016957</td>\n",
       "      <td>-0.004331</td>\n",
       "    </tr>\n",
       "  </tbody>\n",
       "</table>\n",
       "<p>5 rows × 768 columns</p>\n",
       "</div>"
      ],
      "text/plain": [
       "   feature_1  feature_2  feature_3  feature_4  feature_5  feature_6  \\\n",
       "0   0.187868  -0.009268   0.039846  -0.102515  -0.109121  -0.079769   \n",
       "1   0.122119   0.019015   0.134483   0.007949  -0.157884  -0.033332   \n",
       "2   0.079187   0.146195  -0.001316  -0.085596  -0.261093  -0.021620   \n",
       "3   0.231196   0.021558   0.215534  -0.210258  -0.158189   0.041621   \n",
       "4   0.020412   0.063732  -0.065506  -0.089598  -0.130788  -0.018809   \n",
       "\n",
       "   feature_7  feature_8  feature_9  feature_10  ...  feature_759  feature_760  \\\n",
       "0   0.061295  -0.042890   0.099860   -0.066319  ...     0.043647     0.061174   \n",
       "1   0.044334  -0.016869  -0.014088   -0.060542  ...    -0.179798    -0.027611   \n",
       "2   0.268898  -0.103950   0.068976   -0.062388  ...    -0.075460     0.037346   \n",
       "3   0.240254  -0.068112  -0.017550   -0.233767  ...     0.083334     0.141642   \n",
       "4   0.119304  -0.057494   0.094714   -0.047923  ...    -0.001969    -0.003025   \n",
       "\n",
       "   feature_761  feature_762  feature_763  feature_764  feature_765  \\\n",
       "0     0.026771    -0.092734    -0.052383    -0.055526     0.029101   \n",
       "1     0.240023    -0.005648    -0.057537     0.023922    -0.038126   \n",
       "2     0.124254    -0.369695    -0.056773    -0.028471     0.019971   \n",
       "3    -0.007219     0.031547    -0.010762    -0.169036    -0.030963   \n",
       "4    -0.021156    -0.136993    -0.003615     0.036371     0.048715   \n",
       "\n",
       "   feature_766  feature_767  feature_768  \n",
       "0     0.041857    -0.027872     0.099500  \n",
       "1    -0.015171    -0.006270    -0.003790  \n",
       "2    -0.065683    -0.047366    -0.121744  \n",
       "3     0.086698     0.114194    -0.036775  \n",
       "4    -0.002688    -0.016957    -0.004331  \n",
       "\n",
       "[5 rows x 768 columns]"
      ]
     },
     "execution_count": 83,
     "metadata": {},
     "output_type": "execute_result"
    }
   ],
   "source": [
    "test_X.head()"
   ]
  },
  {
   "cell_type": "code",
   "execution_count": 84,
   "metadata": {},
   "outputs": [
    {
     "name": "stdout",
     "output_type": "stream",
     "text": [
      "(744,)\n"
     ]
    }
   ],
   "source": [
    "# Let's use best performing pipeline to make predictions for the test data\n",
    "pred_speaker_ages_test = best_speaker_age_pipe_scaler_pca_svc.predict(test_X)\n",
    "print(pred_speaker_ages_test.shape)"
   ]
  },
  {
   "cell_type": "code",
   "execution_count": 85,
   "metadata": {},
   "outputs": [
    {
     "data": {
      "text/html": [
       "<div>\n",
       "<style scoped>\n",
       "    .dataframe tbody tr th:only-of-type {\n",
       "        vertical-align: middle;\n",
       "    }\n",
       "\n",
       "    .dataframe tbody tr th {\n",
       "        vertical-align: top;\n",
       "    }\n",
       "\n",
       "    .dataframe thead th {\n",
       "        text-align: right;\n",
       "    }\n",
       "</style>\n",
       "<table border=\"1\" class=\"dataframe\">\n",
       "  <thead>\n",
       "    <tr style=\"text-align: right;\">\n",
       "      <th></th>\n",
       "      <th>label_2</th>\n",
       "    </tr>\n",
       "  </thead>\n",
       "  <tbody>\n",
       "    <tr>\n",
       "      <th>0</th>\n",
       "      <td>22.0</td>\n",
       "    </tr>\n",
       "    <tr>\n",
       "      <th>1</th>\n",
       "      <td>25.0</td>\n",
       "    </tr>\n",
       "    <tr>\n",
       "      <th>2</th>\n",
       "      <td>30.0</td>\n",
       "    </tr>\n",
       "    <tr>\n",
       "      <th>3</th>\n",
       "      <td>27.0</td>\n",
       "    </tr>\n",
       "    <tr>\n",
       "      <th>4</th>\n",
       "      <td>29.0</td>\n",
       "    </tr>\n",
       "  </tbody>\n",
       "</table>\n",
       "</div>"
      ],
      "text/plain": [
       "   label_2\n",
       "0     22.0\n",
       "1     25.0\n",
       "2     30.0\n",
       "3     27.0\n",
       "4     29.0"
      ]
     },
     "execution_count": 85,
     "metadata": {},
     "output_type": "execute_result"
    }
   ],
   "source": [
    "pred_speaker_age_test = pd.DataFrame(pred_speaker_ages_test, columns=['label_2'])\n",
    "pred_speaker_age_test.head()"
   ]
  },
  {
   "cell_type": "code",
   "execution_count": 86,
   "metadata": {},
   "outputs": [
    {
     "data": {
      "text/html": [
       "<div>\n",
       "<style scoped>\n",
       "    .dataframe tbody tr th:only-of-type {\n",
       "        vertical-align: middle;\n",
       "    }\n",
       "\n",
       "    .dataframe tbody tr th {\n",
       "        vertical-align: top;\n",
       "    }\n",
       "\n",
       "    .dataframe thead th {\n",
       "        text-align: right;\n",
       "    }\n",
       "</style>\n",
       "<table border=\"1\" class=\"dataframe\">\n",
       "  <thead>\n",
       "    <tr style=\"text-align: right;\">\n",
       "      <th></th>\n",
       "      <th>ID</th>\n",
       "      <th>label_1</th>\n",
       "    </tr>\n",
       "  </thead>\n",
       "  <tbody>\n",
       "    <tr>\n",
       "      <th>0</th>\n",
       "      <td>1</td>\n",
       "      <td>26</td>\n",
       "    </tr>\n",
       "    <tr>\n",
       "      <th>1</th>\n",
       "      <td>2</td>\n",
       "      <td>18</td>\n",
       "    </tr>\n",
       "    <tr>\n",
       "      <th>2</th>\n",
       "      <td>3</td>\n",
       "      <td>16</td>\n",
       "    </tr>\n",
       "    <tr>\n",
       "      <th>3</th>\n",
       "      <td>4</td>\n",
       "      <td>7</td>\n",
       "    </tr>\n",
       "    <tr>\n",
       "      <th>4</th>\n",
       "      <td>5</td>\n",
       "      <td>58</td>\n",
       "    </tr>\n",
       "  </tbody>\n",
       "</table>\n",
       "</div>"
      ],
      "text/plain": [
       "   ID  label_1\n",
       "0   1       26\n",
       "1   2       18\n",
       "2   3       16\n",
       "3   4        7\n",
       "4   5       58"
      ]
     },
     "execution_count": 86,
     "metadata": {},
     "output_type": "execute_result"
    }
   ],
   "source": [
    "pred_test.head() # pred_test was already created (when doing prediction of speaker_ID)"
   ]
  },
  {
   "cell_type": "code",
   "execution_count": 87,
   "metadata": {},
   "outputs": [],
   "source": [
    "if \"label_2\" not in pred_test.columns:\n",
    "    pred_test.insert(2, \"label_2\", pred_speaker_age_test['label_2'])\n",
    "else:\n",
    "    print(f\"Column : label_2 already exists\")"
   ]
  },
  {
   "cell_type": "code",
   "execution_count": 88,
   "metadata": {},
   "outputs": [
    {
     "data": {
      "text/html": [
       "<div>\n",
       "<style scoped>\n",
       "    .dataframe tbody tr th:only-of-type {\n",
       "        vertical-align: middle;\n",
       "    }\n",
       "\n",
       "    .dataframe tbody tr th {\n",
       "        vertical-align: top;\n",
       "    }\n",
       "\n",
       "    .dataframe thead th {\n",
       "        text-align: right;\n",
       "    }\n",
       "</style>\n",
       "<table border=\"1\" class=\"dataframe\">\n",
       "  <thead>\n",
       "    <tr style=\"text-align: right;\">\n",
       "      <th></th>\n",
       "      <th>ID</th>\n",
       "      <th>label_1</th>\n",
       "      <th>label_2</th>\n",
       "    </tr>\n",
       "  </thead>\n",
       "  <tbody>\n",
       "    <tr>\n",
       "      <th>0</th>\n",
       "      <td>1</td>\n",
       "      <td>26</td>\n",
       "      <td>22.0</td>\n",
       "    </tr>\n",
       "    <tr>\n",
       "      <th>1</th>\n",
       "      <td>2</td>\n",
       "      <td>18</td>\n",
       "      <td>25.0</td>\n",
       "    </tr>\n",
       "    <tr>\n",
       "      <th>2</th>\n",
       "      <td>3</td>\n",
       "      <td>16</td>\n",
       "      <td>30.0</td>\n",
       "    </tr>\n",
       "    <tr>\n",
       "      <th>3</th>\n",
       "      <td>4</td>\n",
       "      <td>7</td>\n",
       "      <td>27.0</td>\n",
       "    </tr>\n",
       "    <tr>\n",
       "      <th>4</th>\n",
       "      <td>5</td>\n",
       "      <td>58</td>\n",
       "      <td>29.0</td>\n",
       "    </tr>\n",
       "  </tbody>\n",
       "</table>\n",
       "</div>"
      ],
      "text/plain": [
       "   ID  label_1  label_2\n",
       "0   1       26     22.0\n",
       "1   2       18     25.0\n",
       "2   3       16     30.0\n",
       "3   4        7     27.0\n",
       "4   5       58     29.0"
      ]
     },
     "execution_count": 88,
     "metadata": {},
     "output_type": "execute_result"
    }
   ],
   "source": [
    "pred_test.head()"
   ]
  },
  {
   "cell_type": "markdown",
   "metadata": {},
   "source": [
    "## For speaker_gender"
   ]
  },
  {
   "cell_type": "code",
   "execution_count": 89,
   "metadata": {},
   "outputs": [
    {
     "data": {
      "text/plain": [
       "<Axes: >"
      ]
     },
     "execution_count": 89,
     "metadata": {},
     "output_type": "execute_result"
    },
    {
     "data": {
      "image/png": "[encoded data removed]",
      "text/plain": [
       "<Figure size 640x480 with 1 Axes>"
      ]
     },
     "metadata": {},
     "output_type": "display_data"
    }
   ],
   "source": [
    "train_df.speaker_gender.value_counts().plot.bar()"
   ]
  },
  {
   "cell_type": "code",
   "execution_count": 90,
   "metadata": {},
   "outputs": [],
   "source": [
    "#  Note: \n",
    "# There is a class imbalance issue in speaker_gender values. As a solution we can use class_weight='balanced' parameter.\n",
    "\n",
    "# use averaged F1 score \n",
    "\n",
    "#Let's choose a good classifer\n",
    "\n",
    "speaker_gender_pipe_svc = Pipeline([ \n",
    "    ('clf', SVC(class_weight='balanced'))\n",
    "    ])\n",
    "\n",
    "speaker_gender_pipe_dtc = Pipeline([ \n",
    "    ('clf', DecisionTreeClassifier(class_weight='balanced'))\n",
    "    ])\n",
    "\n",
    "classes = np.unique(train_speaker_genders)\n",
    "cw = class_weight.compute_class_weight(class_weight='balanced', classes=classes, y=train_speaker_genders)\n",
    "weights = dict(zip(classes,cw))\n",
    "class_weighted_model = DecisionTreeClassifier(class_weight=weights)\n",
    "\n",
    "speaker_gender_pipe_dtc2 = Pipeline([ \n",
    "    ('clf', class_weighted_model)\n",
    "    ])\n",
    "\n",
    "speaker_gender_pipe_rfc = Pipeline([ \n",
    "    ('clf', RandomForestClassifier(class_weight='balanced'))\n",
    "])"
   ]
  },
  {
   "cell_type": "code",
   "execution_count": 91,
   "metadata": {},
   "outputs": [],
   "source": [
    "##visualize Pipeline\n",
    "from sklearn import set_config\n",
    "set_config(display='diagram')"
   ]
  },
  {
   "cell_type": "markdown",
   "metadata": {},
   "source": [
    "### Training"
   ]
  },
  {
   "cell_type": "code",
   "execution_count": 92,
   "metadata": {},
   "outputs": [
    {
     "data": {
      "text/html": [
       "<style>#sk-container-id-8 {color: black;background-color: white;}#sk-container-id-8 pre{padding: 0;}#sk-container-id-8 div.sk-toggleable {background-color: white;}#sk-container-id-8 label.sk-toggleable__label {cursor: pointer;display: block;width: 100%;margin-bottom: 0;padding: 0.3em;box-sizing: border-box;text-align: center;}#sk-container-id-8 label.sk-toggleable__label-arrow:before {content: \"▸\";float: left;margin-right: 0.25em;color: #696969;}#sk-container-id-8 label.sk-toggleable__label-arrow:hover:before {color: black;}#sk-container-id-8 div.sk-estimator:hover label.sk-toggleable__label-arrow:before {color: black;}#sk-container-id-8 div.sk-toggleable__content {max-height: 0;max-width: 0;overflow: hidden;text-align: left;background-color: #f0f8ff;}#sk-container-id-8 div.sk-toggleable__content pre {margin: 0.2em;color: black;border-radius: 0.25em;background-color: #f0f8ff;}#sk-container-id-8 input.sk-toggleable__control:checked~div.sk-toggleable__content {max-height: 200px;max-width: 100%;overflow: auto;}#sk-container-id-8 input.sk-toggleable__control:checked~label.sk-toggleable__label-arrow:before {content: \"▾\";}#sk-container-id-8 div.sk-estimator input.sk-toggleable__control:checked~label.sk-toggleable__label {background-color: #d4ebff;}#sk-container-id-8 div.sk-label input.sk-toggleable__control:checked~label.sk-toggleable__label {background-color: #d4ebff;}#sk-container-id-8 input.sk-hidden--visually {border: 0;clip: rect(1px 1px 1px 1px);clip: rect(1px, 1px, 1px, 1px);height: 1px;margin: -1px;overflow: hidden;padding: 0;position: absolute;width: 1px;}#sk-container-id-8 div.sk-estimator {font-family: monospace;background-color: #f0f8ff;border: 1px dotted black;border-radius: 0.25em;box-sizing: border-box;margin-bottom: 0.5em;}#sk-container-id-8 div.sk-estimator:hover {background-color: #d4ebff;}#sk-container-id-8 div.sk-parallel-item::after {content: \"\";width: 100%;border-bottom: 1px solid gray;flex-grow: 1;}#sk-container-id-8 div.sk-label:hover label.sk-toggleable__label {background-color: #d4ebff;}#sk-container-id-8 div.sk-serial::before {content: \"\";position: absolute;border-left: 1px solid gray;box-sizing: border-box;top: 0;bottom: 0;left: 50%;z-index: 0;}#sk-container-id-8 div.sk-serial {display: flex;flex-direction: column;align-items: center;background-color: white;padding-right: 0.2em;padding-left: 0.2em;position: relative;}#sk-container-id-8 div.sk-item {position: relative;z-index: 1;}#sk-container-id-8 div.sk-parallel {display: flex;align-items: stretch;justify-content: center;background-color: white;position: relative;}#sk-container-id-8 div.sk-item::before, #sk-container-id-8 div.sk-parallel-item::before {content: \"\";position: absolute;border-left: 1px solid gray;box-sizing: border-box;top: 0;bottom: 0;left: 50%;z-index: -1;}#sk-container-id-8 div.sk-parallel-item {display: flex;flex-direction: column;z-index: 1;position: relative;background-color: white;}#sk-container-id-8 div.sk-parallel-item:first-child::after {align-self: flex-end;width: 50%;}#sk-container-id-8 div.sk-parallel-item:last-child::after {align-self: flex-start;width: 50%;}#sk-container-id-8 div.sk-parallel-item:only-child::after {width: 0;}#sk-container-id-8 div.sk-dashed-wrapped {border: 1px dashed gray;margin: 0 0.4em 0.5em 0.4em;box-sizing: border-box;padding-bottom: 0.4em;background-color: white;}#sk-container-id-8 div.sk-label label {font-family: monospace;font-weight: bold;display: inline-block;line-height: 1.2em;}#sk-container-id-8 div.sk-label-container {text-align: center;}#sk-container-id-8 div.sk-container {/* jupyter's `normalize.less` sets `[hidden] { display: none; }` but bootstrap.min.css set `[hidden] { display: none !important; }` so we also need the `!important` here to be able to override the default hidden behavior on the sphinx rendered scikit-learn.org. See: https://github.com/scikit-learn/scikit-learn/issues/21755 */display: inline-block !important;position: relative;}#sk-container-id-8 div.sk-text-repr-fallback {display: none;}</style><div id=\"sk-container-id-8\" class=\"sk-top-container\"><div class=\"sk-text-repr-fallback\"><pre>Pipeline(steps=[(&#x27;clf&#x27;, SVC(class_weight=&#x27;balanced&#x27;))])</pre><b>In a Jupyter environment, please rerun this cell to show the HTML representation or trust the notebook. <br />On GitHub, the HTML representation is unable to render, please try loading this page with nbviewer.org.</b></div><div class=\"sk-container\" hidden><div class=\"sk-item sk-dashed-wrapped\"><div class=\"sk-label-container\"><div class=\"sk-label sk-toggleable\"><input class=\"sk-toggleable__control sk-hidden--visually\" id=\"sk-estimator-id-24\" type=\"checkbox\" ><label for=\"sk-estimator-id-24\" class=\"sk-toggleable__label sk-toggleable__label-arrow\">Pipeline</label><div class=\"sk-toggleable__content\"><pre>Pipeline(steps=[(&#x27;clf&#x27;, SVC(class_weight=&#x27;balanced&#x27;))])</pre></div></div></div><div class=\"sk-serial\"><div class=\"sk-item\"><div class=\"sk-estimator sk-toggleable\"><input class=\"sk-toggleable__control sk-hidden--visually\" id=\"sk-estimator-id-25\" type=\"checkbox\" ><label for=\"sk-estimator-id-25\" class=\"sk-toggleable__label sk-toggleable__label-arrow\">SVC</label><div class=\"sk-toggleable__content\"><pre>SVC(class_weight=&#x27;balanced&#x27;)</pre></div></div></div></div></div></div></div>"
      ],
      "text/plain": [
       "Pipeline(steps=[('clf', SVC(class_weight='balanced'))])"
      ]
     },
     "execution_count": 92,
     "metadata": {},
     "output_type": "execute_result"
    }
   ],
   "source": [
    "# Pipeine without feature engineering\n",
    "speaker_gender_pipe_svc.fit(train_X, train_speaker_genders)"
   ]
  },
  {
   "cell_type": "code",
   "execution_count": 161,
   "metadata": {},
   "outputs": [
    {
     "data": {
      "text/html": [
       "<style>#sk-container-id-21 {color: black;background-color: white;}#sk-container-id-21 pre{padding: 0;}#sk-container-id-21 div.sk-toggleable {background-color: white;}#sk-container-id-21 label.sk-toggleable__label {cursor: pointer;display: block;width: 100%;margin-bottom: 0;padding: 0.3em;box-sizing: border-box;text-align: center;}#sk-container-id-21 label.sk-toggleable__label-arrow:before {content: \"▸\";float: left;margin-right: 0.25em;color: #696969;}#sk-container-id-21 label.sk-toggleable__label-arrow:hover:before {color: black;}#sk-container-id-21 div.sk-estimator:hover label.sk-toggleable__label-arrow:before {color: black;}#sk-container-id-21 div.sk-toggleable__content {max-height: 0;max-width: 0;overflow: hidden;text-align: left;background-color: #f0f8ff;}#sk-container-id-21 div.sk-toggleable__content pre {margin: 0.2em;color: black;border-radius: 0.25em;background-color: #f0f8ff;}#sk-container-id-21 input.sk-toggleable__control:checked~div.sk-toggleable__content {max-height: 200px;max-width: 100%;overflow: auto;}#sk-container-id-21 input.sk-toggleable__control:checked~label.sk-toggleable__label-arrow:before {content: \"▾\";}#sk-container-id-21 div.sk-estimator input.sk-toggleable__control:checked~label.sk-toggleable__label {background-color: #d4ebff;}#sk-container-id-21 div.sk-label input.sk-toggleable__control:checked~label.sk-toggleable__label {background-color: #d4ebff;}#sk-container-id-21 input.sk-hidden--visually {border: 0;clip: rect(1px 1px 1px 1px);clip: rect(1px, 1px, 1px, 1px);height: 1px;margin: -1px;overflow: hidden;padding: 0;position: absolute;width: 1px;}#sk-container-id-21 div.sk-estimator {font-family: monospace;background-color: #f0f8ff;border: 1px dotted black;border-radius: 0.25em;box-sizing: border-box;margin-bottom: 0.5em;}#sk-container-id-21 div.sk-estimator:hover {background-color: #d4ebff;}#sk-container-id-21 div.sk-parallel-item::after {content: \"\";width: 100%;border-bottom: 1px solid gray;flex-grow: 1;}#sk-container-id-21 div.sk-label:hover label.sk-toggleable__label {background-color: #d4ebff;}#sk-container-id-21 div.sk-serial::before {content: \"\";position: absolute;border-left: 1px solid gray;box-sizing: border-box;top: 0;bottom: 0;left: 50%;z-index: 0;}#sk-container-id-21 div.sk-serial {display: flex;flex-direction: column;align-items: center;background-color: white;padding-right: 0.2em;padding-left: 0.2em;position: relative;}#sk-container-id-21 div.sk-item {position: relative;z-index: 1;}#sk-container-id-21 div.sk-parallel {display: flex;align-items: stretch;justify-content: center;background-color: white;position: relative;}#sk-container-id-21 div.sk-item::before, #sk-container-id-21 div.sk-parallel-item::before {content: \"\";position: absolute;border-left: 1px solid gray;box-sizing: border-box;top: 0;bottom: 0;left: 50%;z-index: -1;}#sk-container-id-21 div.sk-parallel-item {display: flex;flex-direction: column;z-index: 1;position: relative;background-color: white;}#sk-container-id-21 div.sk-parallel-item:first-child::after {align-self: flex-end;width: 50%;}#sk-container-id-21 div.sk-parallel-item:last-child::after {align-self: flex-start;width: 50%;}#sk-container-id-21 div.sk-parallel-item:only-child::after {width: 0;}#sk-container-id-21 div.sk-dashed-wrapped {border: 1px dashed gray;margin: 0 0.4em 0.5em 0.4em;box-sizing: border-box;padding-bottom: 0.4em;background-color: white;}#sk-container-id-21 div.sk-label label {font-family: monospace;font-weight: bold;display: inline-block;line-height: 1.2em;}#sk-container-id-21 div.sk-label-container {text-align: center;}#sk-container-id-21 div.sk-container {/* jupyter's `normalize.less` sets `[hidden] { display: none; }` but bootstrap.min.css set `[hidden] { display: none !important; }` so we also need the `!important` here to be able to override the default hidden behavior on the sphinx rendered scikit-learn.org. See: https://github.com/scikit-learn/scikit-learn/issues/21755 */display: inline-block !important;position: relative;}#sk-container-id-21 div.sk-text-repr-fallback {display: none;}</style><div id=\"sk-container-id-21\" class=\"sk-top-container\"><div class=\"sk-text-repr-fallback\"><pre>Pipeline(steps=[(&#x27;clf&#x27;, DecisionTreeClassifier(class_weight=&#x27;balanced&#x27;))])</pre><b>In a Jupyter environment, please rerun this cell to show the HTML representation or trust the notebook. <br />On GitHub, the HTML representation is unable to render, please try loading this page with nbviewer.org.</b></div><div class=\"sk-container\" hidden><div class=\"sk-item sk-dashed-wrapped\"><div class=\"sk-label-container\"><div class=\"sk-label sk-toggleable\"><input class=\"sk-toggleable__control sk-hidden--visually\" id=\"sk-estimator-id-57\" type=\"checkbox\" ><label for=\"sk-estimator-id-57\" class=\"sk-toggleable__label sk-toggleable__label-arrow\">Pipeline</label><div class=\"sk-toggleable__content\"><pre>Pipeline(steps=[(&#x27;clf&#x27;, DecisionTreeClassifier(class_weight=&#x27;balanced&#x27;))])</pre></div></div></div><div class=\"sk-serial\"><div class=\"sk-item\"><div class=\"sk-estimator sk-toggleable\"><input class=\"sk-toggleable__control sk-hidden--visually\" id=\"sk-estimator-id-58\" type=\"checkbox\" ><label for=\"sk-estimator-id-58\" class=\"sk-toggleable__label sk-toggleable__label-arrow\">DecisionTreeClassifier</label><div class=\"sk-toggleable__content\"><pre>DecisionTreeClassifier(class_weight=&#x27;balanced&#x27;)</pre></div></div></div></div></div></div></div>"
      ],
      "text/plain": [
       "Pipeline(steps=[('clf', DecisionTreeClassifier(class_weight='balanced'))])"
      ]
     },
     "execution_count": 161,
     "metadata": {},
     "output_type": "execute_result"
    }
   ],
   "source": [
    "# Pipeine with PCA for feature reduction\n",
    "speaker_gender_pipe_dtc.fit(train_X, train_speaker_genders)"
   ]
  },
  {
   "cell_type": "code",
   "execution_count": 162,
   "metadata": {},
   "outputs": [
    {
     "data": {
      "text/html": [
       "<style>#sk-container-id-22 {color: black;background-color: white;}#sk-container-id-22 pre{padding: 0;}#sk-container-id-22 div.sk-toggleable {background-color: white;}#sk-container-id-22 label.sk-toggleable__label {cursor: pointer;display: block;width: 100%;margin-bottom: 0;padding: 0.3em;box-sizing: border-box;text-align: center;}#sk-container-id-22 label.sk-toggleable__label-arrow:before {content: \"▸\";float: left;margin-right: 0.25em;color: #696969;}#sk-container-id-22 label.sk-toggleable__label-arrow:hover:before {color: black;}#sk-container-id-22 div.sk-estimator:hover label.sk-toggleable__label-arrow:before {color: black;}#sk-container-id-22 div.sk-toggleable__content {max-height: 0;max-width: 0;overflow: hidden;text-align: left;background-color: #f0f8ff;}#sk-container-id-22 div.sk-toggleable__content pre {margin: 0.2em;color: black;border-radius: 0.25em;background-color: #f0f8ff;}#sk-container-id-22 input.sk-toggleable__control:checked~div.sk-toggleable__content {max-height: 200px;max-width: 100%;overflow: auto;}#sk-container-id-22 input.sk-toggleable__control:checked~label.sk-toggleable__label-arrow:before {content: \"▾\";}#sk-container-id-22 div.sk-estimator input.sk-toggleable__control:checked~label.sk-toggleable__label {background-color: #d4ebff;}#sk-container-id-22 div.sk-label input.sk-toggleable__control:checked~label.sk-toggleable__label {background-color: #d4ebff;}#sk-container-id-22 input.sk-hidden--visually {border: 0;clip: rect(1px 1px 1px 1px);clip: rect(1px, 1px, 1px, 1px);height: 1px;margin: -1px;overflow: hidden;padding: 0;position: absolute;width: 1px;}#sk-container-id-22 div.sk-estimator {font-family: monospace;background-color: #f0f8ff;border: 1px dotted black;border-radius: 0.25em;box-sizing: border-box;margin-bottom: 0.5em;}#sk-container-id-22 div.sk-estimator:hover {background-color: #d4ebff;}#sk-container-id-22 div.sk-parallel-item::after {content: \"\";width: 100%;border-bottom: 1px solid gray;flex-grow: 1;}#sk-container-id-22 div.sk-label:hover label.sk-toggleable__label {background-color: #d4ebff;}#sk-container-id-22 div.sk-serial::before {content: \"\";position: absolute;border-left: 1px solid gray;box-sizing: border-box;top: 0;bottom: 0;left: 50%;z-index: 0;}#sk-container-id-22 div.sk-serial {display: flex;flex-direction: column;align-items: center;background-color: white;padding-right: 0.2em;padding-left: 0.2em;position: relative;}#sk-container-id-22 div.sk-item {position: relative;z-index: 1;}#sk-container-id-22 div.sk-parallel {display: flex;align-items: stretch;justify-content: center;background-color: white;position: relative;}#sk-container-id-22 div.sk-item::before, #sk-container-id-22 div.sk-parallel-item::before {content: \"\";position: absolute;border-left: 1px solid gray;box-sizing: border-box;top: 0;bottom: 0;left: 50%;z-index: -1;}#sk-container-id-22 div.sk-parallel-item {display: flex;flex-direction: column;z-index: 1;position: relative;background-color: white;}#sk-container-id-22 div.sk-parallel-item:first-child::after {align-self: flex-end;width: 50%;}#sk-container-id-22 div.sk-parallel-item:last-child::after {align-self: flex-start;width: 50%;}#sk-container-id-22 div.sk-parallel-item:only-child::after {width: 0;}#sk-container-id-22 div.sk-dashed-wrapped {border: 1px dashed gray;margin: 0 0.4em 0.5em 0.4em;box-sizing: border-box;padding-bottom: 0.4em;background-color: white;}#sk-container-id-22 div.sk-label label {font-family: monospace;font-weight: bold;display: inline-block;line-height: 1.2em;}#sk-container-id-22 div.sk-label-container {text-align: center;}#sk-container-id-22 div.sk-container {/* jupyter's `normalize.less` sets `[hidden] { display: none; }` but bootstrap.min.css set `[hidden] { display: none !important; }` so we also need the `!important` here to be able to override the default hidden behavior on the sphinx rendered scikit-learn.org. See: https://github.com/scikit-learn/scikit-learn/issues/21755 */display: inline-block !important;position: relative;}#sk-container-id-22 div.sk-text-repr-fallback {display: none;}</style><div id=\"sk-container-id-22\" class=\"sk-top-container\"><div class=\"sk-text-repr-fallback\"><pre>Pipeline(steps=[(&#x27;clf&#x27;,\n",
       "                 DecisionTreeClassifier(class_weight={0: 2.491264849755416,\n",
       "                                                      1: 0.6255483418143534}))])</pre><b>In a Jupyter environment, please rerun this cell to show the HTML representation or trust the notebook. <br />On GitHub, the HTML representation is unable to render, please try loading this page with nbviewer.org.</b></div><div class=\"sk-container\" hidden><div class=\"sk-item sk-dashed-wrapped\"><div class=\"sk-label-container\"><div class=\"sk-label sk-toggleable\"><input class=\"sk-toggleable__control sk-hidden--visually\" id=\"sk-estimator-id-59\" type=\"checkbox\" ><label for=\"sk-estimator-id-59\" class=\"sk-toggleable__label sk-toggleable__label-arrow\">Pipeline</label><div class=\"sk-toggleable__content\"><pre>Pipeline(steps=[(&#x27;clf&#x27;,\n",
       "                 DecisionTreeClassifier(class_weight={0: 2.491264849755416,\n",
       "                                                      1: 0.6255483418143534}))])</pre></div></div></div><div class=\"sk-serial\"><div class=\"sk-item\"><div class=\"sk-estimator sk-toggleable\"><input class=\"sk-toggleable__control sk-hidden--visually\" id=\"sk-estimator-id-60\" type=\"checkbox\" ><label for=\"sk-estimator-id-60\" class=\"sk-toggleable__label sk-toggleable__label-arrow\">DecisionTreeClassifier</label><div class=\"sk-toggleable__content\"><pre>DecisionTreeClassifier(class_weight={0: 2.491264849755416,\n",
       "                                     1: 0.6255483418143534})</pre></div></div></div></div></div></div></div>"
      ],
      "text/plain": [
       "Pipeline(steps=[('clf',\n",
       "                 DecisionTreeClassifier(class_weight={0: 2.491264849755416,\n",
       "                                                      1: 0.6255483418143534}))])"
      ]
     },
     "execution_count": 162,
     "metadata": {},
     "output_type": "execute_result"
    }
   ],
   "source": [
    "# Pipeine with PCA for feature reduction\n",
    "speaker_gender_pipe_dtc2.fit(train_X, train_speaker_genders)"
   ]
  },
  {
   "cell_type": "code",
   "execution_count": 163,
   "metadata": {},
   "outputs": [
    {
     "data": {
      "text/html": [
       "<style>#sk-container-id-23 {color: black;background-color: white;}#sk-container-id-23 pre{padding: 0;}#sk-container-id-23 div.sk-toggleable {background-color: white;}#sk-container-id-23 label.sk-toggleable__label {cursor: pointer;display: block;width: 100%;margin-bottom: 0;padding: 0.3em;box-sizing: border-box;text-align: center;}#sk-container-id-23 label.sk-toggleable__label-arrow:before {content: \"▸\";float: left;margin-right: 0.25em;color: #696969;}#sk-container-id-23 label.sk-toggleable__label-arrow:hover:before {color: black;}#sk-container-id-23 div.sk-estimator:hover label.sk-toggleable__label-arrow:before {color: black;}#sk-container-id-23 div.sk-toggleable__content {max-height: 0;max-width: 0;overflow: hidden;text-align: left;background-color: #f0f8ff;}#sk-container-id-23 div.sk-toggleable__content pre {margin: 0.2em;color: black;border-radius: 0.25em;background-color: #f0f8ff;}#sk-container-id-23 input.sk-toggleable__control:checked~div.sk-toggleable__content {max-height: 200px;max-width: 100%;overflow: auto;}#sk-container-id-23 input.sk-toggleable__control:checked~label.sk-toggleable__label-arrow:before {content: \"▾\";}#sk-container-id-23 div.sk-estimator input.sk-toggleable__control:checked~label.sk-toggleable__label {background-color: #d4ebff;}#sk-container-id-23 div.sk-label input.sk-toggleable__control:checked~label.sk-toggleable__label {background-color: #d4ebff;}#sk-container-id-23 input.sk-hidden--visually {border: 0;clip: rect(1px 1px 1px 1px);clip: rect(1px, 1px, 1px, 1px);height: 1px;margin: -1px;overflow: hidden;padding: 0;position: absolute;width: 1px;}#sk-container-id-23 div.sk-estimator {font-family: monospace;background-color: #f0f8ff;border: 1px dotted black;border-radius: 0.25em;box-sizing: border-box;margin-bottom: 0.5em;}#sk-container-id-23 div.sk-estimator:hover {background-color: #d4ebff;}#sk-container-id-23 div.sk-parallel-item::after {content: \"\";width: 100%;border-bottom: 1px solid gray;flex-grow: 1;}#sk-container-id-23 div.sk-label:hover label.sk-toggleable__label {background-color: #d4ebff;}#sk-container-id-23 div.sk-serial::before {content: \"\";position: absolute;border-left: 1px solid gray;box-sizing: border-box;top: 0;bottom: 0;left: 50%;z-index: 0;}#sk-container-id-23 div.sk-serial {display: flex;flex-direction: column;align-items: center;background-color: white;padding-right: 0.2em;padding-left: 0.2em;position: relative;}#sk-container-id-23 div.sk-item {position: relative;z-index: 1;}#sk-container-id-23 div.sk-parallel {display: flex;align-items: stretch;justify-content: center;background-color: white;position: relative;}#sk-container-id-23 div.sk-item::before, #sk-container-id-23 div.sk-parallel-item::before {content: \"\";position: absolute;border-left: 1px solid gray;box-sizing: border-box;top: 0;bottom: 0;left: 50%;z-index: -1;}#sk-container-id-23 div.sk-parallel-item {display: flex;flex-direction: column;z-index: 1;position: relative;background-color: white;}#sk-container-id-23 div.sk-parallel-item:first-child::after {align-self: flex-end;width: 50%;}#sk-container-id-23 div.sk-parallel-item:last-child::after {align-self: flex-start;width: 50%;}#sk-container-id-23 div.sk-parallel-item:only-child::after {width: 0;}#sk-container-id-23 div.sk-dashed-wrapped {border: 1px dashed gray;margin: 0 0.4em 0.5em 0.4em;box-sizing: border-box;padding-bottom: 0.4em;background-color: white;}#sk-container-id-23 div.sk-label label {font-family: monospace;font-weight: bold;display: inline-block;line-height: 1.2em;}#sk-container-id-23 div.sk-label-container {text-align: center;}#sk-container-id-23 div.sk-container {/* jupyter's `normalize.less` sets `[hidden] { display: none; }` but bootstrap.min.css set `[hidden] { display: none !important; }` so we also need the `!important` here to be able to override the default hidden behavior on the sphinx rendered scikit-learn.org. See: https://github.com/scikit-learn/scikit-learn/issues/21755 */display: inline-block !important;position: relative;}#sk-container-id-23 div.sk-text-repr-fallback {display: none;}</style><div id=\"sk-container-id-23\" class=\"sk-top-container\"><div class=\"sk-text-repr-fallback\"><pre>Pipeline(steps=[(&#x27;clf&#x27;, RandomForestClassifier(class_weight=&#x27;balanced&#x27;))])</pre><b>In a Jupyter environment, please rerun this cell to show the HTML representation or trust the notebook. <br />On GitHub, the HTML representation is unable to render, please try loading this page with nbviewer.org.</b></div><div class=\"sk-container\" hidden><div class=\"sk-item sk-dashed-wrapped\"><div class=\"sk-label-container\"><div class=\"sk-label sk-toggleable\"><input class=\"sk-toggleable__control sk-hidden--visually\" id=\"sk-estimator-id-61\" type=\"checkbox\" ><label for=\"sk-estimator-id-61\" class=\"sk-toggleable__label sk-toggleable__label-arrow\">Pipeline</label><div class=\"sk-toggleable__content\"><pre>Pipeline(steps=[(&#x27;clf&#x27;, RandomForestClassifier(class_weight=&#x27;balanced&#x27;))])</pre></div></div></div><div class=\"sk-serial\"><div class=\"sk-item\"><div class=\"sk-estimator sk-toggleable\"><input class=\"sk-toggleable__control sk-hidden--visually\" id=\"sk-estimator-id-62\" type=\"checkbox\" ><label for=\"sk-estimator-id-62\" class=\"sk-toggleable__label sk-toggleable__label-arrow\">RandomForestClassifier</label><div class=\"sk-toggleable__content\"><pre>RandomForestClassifier(class_weight=&#x27;balanced&#x27;)</pre></div></div></div></div></div></div></div>"
      ],
      "text/plain": [
       "Pipeline(steps=[('clf', RandomForestClassifier(class_weight='balanced'))])"
      ]
     },
     "execution_count": 163,
     "metadata": {},
     "output_type": "execute_result"
    }
   ],
   "source": [
    "# Pipeine with PCA for feature reduction\n",
    "speaker_gender_pipe_rfc.fit(train_X, train_speaker_genders)"
   ]
  },
  {
   "cell_type": "code",
   "execution_count": 165,
   "metadata": {},
   "outputs": [
    {
     "name": "stdout",
     "output_type": "stream",
     "text": [
      "With SVC classifier:\n",
      "              precision    recall  f1-score   support\n",
      "\n",
      "           0       0.99      1.00      1.00       142\n",
      "           1       1.00      1.00      1.00       608\n",
      "\n",
      "    accuracy                           1.00       750\n",
      "   macro avg       1.00      1.00      1.00       750\n",
      "weighted avg       1.00      1.00      1.00       750\n",
      "\n",
      "With Decision Tree classifier (class_weight='balanced'):\n",
      "              precision    recall  f1-score   support\n",
      "\n",
      "           0       0.78      0.85      0.81       142\n",
      "           1       0.96      0.95      0.95       608\n",
      "\n",
      "    accuracy                           0.93       750\n",
      "   macro avg       0.87      0.90      0.88       750\n",
      "weighted avg       0.93      0.93      0.93       750\n",
      "\n",
      "With Decision Tree classifier (class_weights manuelly calculated):\n",
      "              precision    recall  f1-score   support\n",
      "\n",
      "           0       0.81      0.86      0.83       142\n",
      "           1       0.97      0.95      0.96       608\n",
      "\n",
      "    accuracy                           0.93       750\n",
      "   macro avg       0.89      0.91      0.90       750\n",
      "weighted avg       0.94      0.93      0.94       750\n",
      "\n",
      "With Random Forest classifier (class_weight='balanced'):\n",
      "              precision    recall  f1-score   support\n",
      "\n",
      "           0       1.00      0.82      0.90       142\n",
      "           1       0.96      1.00      0.98       608\n",
      "\n",
      "    accuracy                           0.97       750\n",
      "   macro avg       0.98      0.91      0.94       750\n",
      "weighted avg       0.97      0.97      0.96       750\n",
      "\n"
     ]
    }
   ],
   "source": [
    "# now let's check the results\n",
    "print(\"With SVC classifier:\") \n",
    "print(classification_report(valid_speaker_genders, speaker_gender_pipe_svc.predict(valid_X)))\n",
    "print(\"With Decision Tree classifier (class_weight='balanced'):\") \n",
    "print(classification_report(valid_speaker_genders, speaker_gender_pipe_dtc.predict(valid_X)))\n",
    "print(\"With Decision Tree classifier (class_weights manuelly calculated):\") \n",
    "print(classification_report(valid_speaker_genders, speaker_gender_pipe_dtc2.predict(valid_X)))\n",
    "print(\"With Random Forest classifier (class_weight='balanced'):\") \n",
    "print(classification_report(valid_speaker_genders, speaker_gender_pipe_rfc.predict(valid_X)))\n"
   ]
  },
  {
   "cell_type": "markdown",
   "metadata": {},
   "source": [
    "### Prediction on test data"
   ]
  },
  {
   "cell_type": "code",
   "execution_count": 93,
   "metadata": {},
   "outputs": [
    {
     "name": "stdout",
     "output_type": "stream",
     "text": [
      "(744,)\n"
     ]
    }
   ],
   "source": [
    "# Pipeline with SVC (class weights balanced) version gave perferct results (1.00 for all metrics in classification report) ==> Therefore let's use that for the prediction of test data\n",
    "\n",
    "best_speaker_gender_pipe = speaker_gender_pipe_svc\n",
    "pred_speaker_genders_test = best_speaker_gender_pipe.predict(test_X)\n",
    "print(pred_speaker_genders_test.shape)"
   ]
  },
  {
   "cell_type": "code",
   "execution_count": 94,
   "metadata": {},
   "outputs": [
    {
     "data": {
      "text/html": [
       "<div>\n",
       "<style scoped>\n",
       "    .dataframe tbody tr th:only-of-type {\n",
       "        vertical-align: middle;\n",
       "    }\n",
       "\n",
       "    .dataframe tbody tr th {\n",
       "        vertical-align: top;\n",
       "    }\n",
       "\n",
       "    .dataframe thead th {\n",
       "        text-align: right;\n",
       "    }\n",
       "</style>\n",
       "<table border=\"1\" class=\"dataframe\">\n",
       "  <thead>\n",
       "    <tr style=\"text-align: right;\">\n",
       "      <th></th>\n",
       "      <th>label_3</th>\n",
       "    </tr>\n",
       "  </thead>\n",
       "  <tbody>\n",
       "    <tr>\n",
       "      <th>0</th>\n",
       "      <td>0</td>\n",
       "    </tr>\n",
       "    <tr>\n",
       "      <th>1</th>\n",
       "      <td>1</td>\n",
       "    </tr>\n",
       "    <tr>\n",
       "      <th>2</th>\n",
       "      <td>1</td>\n",
       "    </tr>\n",
       "    <tr>\n",
       "      <th>3</th>\n",
       "      <td>1</td>\n",
       "    </tr>\n",
       "    <tr>\n",
       "      <th>4</th>\n",
       "      <td>0</td>\n",
       "    </tr>\n",
       "  </tbody>\n",
       "</table>\n",
       "</div>"
      ],
      "text/plain": [
       "   label_3\n",
       "0        0\n",
       "1        1\n",
       "2        1\n",
       "3        1\n",
       "4        0"
      ]
     },
     "execution_count": 94,
     "metadata": {},
     "output_type": "execute_result"
    }
   ],
   "source": [
    "pred_speaker_genders_test = pd.DataFrame(pred_speaker_genders_test, columns=['label_3'])\n",
    "pred_speaker_genders_test.head()"
   ]
  },
  {
   "cell_type": "code",
   "execution_count": 95,
   "metadata": {},
   "outputs": [
    {
     "data": {
      "text/html": [
       "<div>\n",
       "<style scoped>\n",
       "    .dataframe tbody tr th:only-of-type {\n",
       "        vertical-align: middle;\n",
       "    }\n",
       "\n",
       "    .dataframe tbody tr th {\n",
       "        vertical-align: top;\n",
       "    }\n",
       "\n",
       "    .dataframe thead th {\n",
       "        text-align: right;\n",
       "    }\n",
       "</style>\n",
       "<table border=\"1\" class=\"dataframe\">\n",
       "  <thead>\n",
       "    <tr style=\"text-align: right;\">\n",
       "      <th></th>\n",
       "      <th>ID</th>\n",
       "      <th>label_1</th>\n",
       "      <th>label_2</th>\n",
       "    </tr>\n",
       "  </thead>\n",
       "  <tbody>\n",
       "    <tr>\n",
       "      <th>0</th>\n",
       "      <td>1</td>\n",
       "      <td>26</td>\n",
       "      <td>22.0</td>\n",
       "    </tr>\n",
       "    <tr>\n",
       "      <th>1</th>\n",
       "      <td>2</td>\n",
       "      <td>18</td>\n",
       "      <td>25.0</td>\n",
       "    </tr>\n",
       "    <tr>\n",
       "      <th>2</th>\n",
       "      <td>3</td>\n",
       "      <td>16</td>\n",
       "      <td>30.0</td>\n",
       "    </tr>\n",
       "    <tr>\n",
       "      <th>3</th>\n",
       "      <td>4</td>\n",
       "      <td>7</td>\n",
       "      <td>27.0</td>\n",
       "    </tr>\n",
       "    <tr>\n",
       "      <th>4</th>\n",
       "      <td>5</td>\n",
       "      <td>58</td>\n",
       "      <td>29.0</td>\n",
       "    </tr>\n",
       "  </tbody>\n",
       "</table>\n",
       "</div>"
      ],
      "text/plain": [
       "   ID  label_1  label_2\n",
       "0   1       26     22.0\n",
       "1   2       18     25.0\n",
       "2   3       16     30.0\n",
       "3   4        7     27.0\n",
       "4   5       58     29.0"
      ]
     },
     "execution_count": 95,
     "metadata": {},
     "output_type": "execute_result"
    }
   ],
   "source": [
    "pred_test.head() # pred_test was already created (when doing prediction of speaker_ID)"
   ]
  },
  {
   "cell_type": "code",
   "execution_count": 96,
   "metadata": {},
   "outputs": [],
   "source": [
    "if \"label_3\" not in pred_test.columns:\n",
    "    pred_test.insert(3, \"label_3\", pred_speaker_genders_test['label_3'])\n",
    "else:\n",
    "    print(f\"Column : label_3 already exists\")"
   ]
  },
  {
   "cell_type": "code",
   "execution_count": 97,
   "metadata": {},
   "outputs": [
    {
     "data": {
      "text/html": [
       "<div>\n",
       "<style scoped>\n",
       "    .dataframe tbody tr th:only-of-type {\n",
       "        vertical-align: middle;\n",
       "    }\n",
       "\n",
       "    .dataframe tbody tr th {\n",
       "        vertical-align: top;\n",
       "    }\n",
       "\n",
       "    .dataframe thead th {\n",
       "        text-align: right;\n",
       "    }\n",
       "</style>\n",
       "<table border=\"1\" class=\"dataframe\">\n",
       "  <thead>\n",
       "    <tr style=\"text-align: right;\">\n",
       "      <th></th>\n",
       "      <th>ID</th>\n",
       "      <th>label_1</th>\n",
       "      <th>label_2</th>\n",
       "      <th>label_3</th>\n",
       "    </tr>\n",
       "  </thead>\n",
       "  <tbody>\n",
       "    <tr>\n",
       "      <th>0</th>\n",
       "      <td>1</td>\n",
       "      <td>26</td>\n",
       "      <td>22.0</td>\n",
       "      <td>0</td>\n",
       "    </tr>\n",
       "    <tr>\n",
       "      <th>1</th>\n",
       "      <td>2</td>\n",
       "      <td>18</td>\n",
       "      <td>25.0</td>\n",
       "      <td>1</td>\n",
       "    </tr>\n",
       "    <tr>\n",
       "      <th>2</th>\n",
       "      <td>3</td>\n",
       "      <td>16</td>\n",
       "      <td>30.0</td>\n",
       "      <td>1</td>\n",
       "    </tr>\n",
       "    <tr>\n",
       "      <th>3</th>\n",
       "      <td>4</td>\n",
       "      <td>7</td>\n",
       "      <td>27.0</td>\n",
       "      <td>1</td>\n",
       "    </tr>\n",
       "    <tr>\n",
       "      <th>4</th>\n",
       "      <td>5</td>\n",
       "      <td>58</td>\n",
       "      <td>29.0</td>\n",
       "      <td>0</td>\n",
       "    </tr>\n",
       "  </tbody>\n",
       "</table>\n",
       "</div>"
      ],
      "text/plain": [
       "   ID  label_1  label_2  label_3\n",
       "0   1       26     22.0        0\n",
       "1   2       18     25.0        1\n",
       "2   3       16     30.0        1\n",
       "3   4        7     27.0        1\n",
       "4   5       58     29.0        0"
      ]
     },
     "execution_count": 97,
     "metadata": {},
     "output_type": "execute_result"
    }
   ],
   "source": [
    "pred_test.head()"
   ]
  },
  {
   "cell_type": "markdown",
   "metadata": {},
   "source": [
    "## For speaker_accent"
   ]
  },
  {
   "cell_type": "code",
   "execution_count": 74,
   "metadata": {},
   "outputs": [
    {
     "data": {
      "text/plain": [
       "<Axes: >"
      ]
     },
     "execution_count": 74,
     "metadata": {},
     "output_type": "execute_result"
    },
    {
     "data": {
      "image/png": "[encoded data removed]",
      "text/plain": [
       "<Figure size 640x480 with 1 Axes>"
      ]
     },
     "metadata": {},
     "output_type": "display_data"
    }
   ],
   "source": [
    "train_df.speaker_accent.value_counts().plot.bar()"
   ]
  },
  {
   "cell_type": "code",
   "execution_count": 98,
   "metadata": {},
   "outputs": [],
   "source": [
    "# Note: \n",
    "# There is a class imbalance issue in speaker_accent values. As a solution we can use class_weight='balanced' parameter.\n",
    "\n",
    "# use averaged F1 score \n",
    "\n",
    "#Let's choose a good classifer\n",
    "\n",
    "speaker_accent_pipe_svc = Pipeline([ \n",
    "    ('clf', SVC(class_weight='balanced'))\n",
    "    ])\n",
    "\n",
    "speaker_accent_pipe_dtc = Pipeline([ \n",
    "    ('clf', DecisionTreeClassifier(class_weight='balanced'))\n",
    "    ])\n",
    "\n",
    "classes = np.unique(train_speaker_accents)\n",
    "cw = class_weight.compute_class_weight(class_weight='balanced', classes=classes, y=train_speaker_accents)\n",
    "weights = dict(zip(classes,cw))\n",
    "class_weighted_model = DecisionTreeClassifier(class_weight=weights)\n",
    "\n",
    "speaker_accent_pipe_dtc2 = Pipeline([ \n",
    "    ('clf', class_weighted_model)\n",
    "    ])\n",
    "\n",
    "speaker_accent_pipe_rfc = Pipeline([ \n",
    "    ('clf', RandomForestClassifier(class_weight='balanced'))\n",
    "])"
   ]
  },
  {
   "cell_type": "code",
   "execution_count": 99,
   "metadata": {},
   "outputs": [],
   "source": [
    "##visualize Pipeline\n",
    "from sklearn import set_config\n",
    "set_config(display='diagram')"
   ]
  },
  {
   "cell_type": "markdown",
   "metadata": {},
   "source": [
    "### Training"
   ]
  },
  {
   "cell_type": "code",
   "execution_count": 100,
   "metadata": {},
   "outputs": [
    {
     "data": {
      "text/html": [
       "<style>#sk-container-id-9 {color: black;background-color: white;}#sk-container-id-9 pre{padding: 0;}#sk-container-id-9 div.sk-toggleable {background-color: white;}#sk-container-id-9 label.sk-toggleable__label {cursor: pointer;display: block;width: 100%;margin-bottom: 0;padding: 0.3em;box-sizing: border-box;text-align: center;}#sk-container-id-9 label.sk-toggleable__label-arrow:before {content: \"▸\";float: left;margin-right: 0.25em;color: #696969;}#sk-container-id-9 label.sk-toggleable__label-arrow:hover:before {color: black;}#sk-container-id-9 div.sk-estimator:hover label.sk-toggleable__label-arrow:before {color: black;}#sk-container-id-9 div.sk-toggleable__content {max-height: 0;max-width: 0;overflow: hidden;text-align: left;background-color: #f0f8ff;}#sk-container-id-9 div.sk-toggleable__content pre {margin: 0.2em;color: black;border-radius: 0.25em;background-color: #f0f8ff;}#sk-container-id-9 input.sk-toggleable__control:checked~div.sk-toggleable__content {max-height: 200px;max-width: 100%;overflow: auto;}#sk-container-id-9 input.sk-toggleable__control:checked~label.sk-toggleable__label-arrow:before {content: \"▾\";}#sk-container-id-9 div.sk-estimator input.sk-toggleable__control:checked~label.sk-toggleable__label {background-color: #d4ebff;}#sk-container-id-9 div.sk-label input.sk-toggleable__control:checked~label.sk-toggleable__label {background-color: #d4ebff;}#sk-container-id-9 input.sk-hidden--visually {border: 0;clip: rect(1px 1px 1px 1px);clip: rect(1px, 1px, 1px, 1px);height: 1px;margin: -1px;overflow: hidden;padding: 0;position: absolute;width: 1px;}#sk-container-id-9 div.sk-estimator {font-family: monospace;background-color: #f0f8ff;border: 1px dotted black;border-radius: 0.25em;box-sizing: border-box;margin-bottom: 0.5em;}#sk-container-id-9 div.sk-estimator:hover {background-color: #d4ebff;}#sk-container-id-9 div.sk-parallel-item::after {content: \"\";width: 100%;border-bottom: 1px solid gray;flex-grow: 1;}#sk-container-id-9 div.sk-label:hover label.sk-toggleable__label {background-color: #d4ebff;}#sk-container-id-9 div.sk-serial::before {content: \"\";position: absolute;border-left: 1px solid gray;box-sizing: border-box;top: 0;bottom: 0;left: 50%;z-index: 0;}#sk-container-id-9 div.sk-serial {display: flex;flex-direction: column;align-items: center;background-color: white;padding-right: 0.2em;padding-left: 0.2em;position: relative;}#sk-container-id-9 div.sk-item {position: relative;z-index: 1;}#sk-container-id-9 div.sk-parallel {display: flex;align-items: stretch;justify-content: center;background-color: white;position: relative;}#sk-container-id-9 div.sk-item::before, #sk-container-id-9 div.sk-parallel-item::before {content: \"\";position: absolute;border-left: 1px solid gray;box-sizing: border-box;top: 0;bottom: 0;left: 50%;z-index: -1;}#sk-container-id-9 div.sk-parallel-item {display: flex;flex-direction: column;z-index: 1;position: relative;background-color: white;}#sk-container-id-9 div.sk-parallel-item:first-child::after {align-self: flex-end;width: 50%;}#sk-container-id-9 div.sk-parallel-item:last-child::after {align-self: flex-start;width: 50%;}#sk-container-id-9 div.sk-parallel-item:only-child::after {width: 0;}#sk-container-id-9 div.sk-dashed-wrapped {border: 1px dashed gray;margin: 0 0.4em 0.5em 0.4em;box-sizing: border-box;padding-bottom: 0.4em;background-color: white;}#sk-container-id-9 div.sk-label label {font-family: monospace;font-weight: bold;display: inline-block;line-height: 1.2em;}#sk-container-id-9 div.sk-label-container {text-align: center;}#sk-container-id-9 div.sk-container {/* jupyter's `normalize.less` sets `[hidden] { display: none; }` but bootstrap.min.css set `[hidden] { display: none !important; }` so we also need the `!important` here to be able to override the default hidden behavior on the sphinx rendered scikit-learn.org. See: https://github.com/scikit-learn/scikit-learn/issues/21755 */display: inline-block !important;position: relative;}#sk-container-id-9 div.sk-text-repr-fallback {display: none;}</style><div id=\"sk-container-id-9\" class=\"sk-top-container\"><div class=\"sk-text-repr-fallback\"><pre>Pipeline(steps=[(&#x27;clf&#x27;, SVC(class_weight=&#x27;balanced&#x27;))])</pre><b>In a Jupyter environment, please rerun this cell to show the HTML representation or trust the notebook. <br />On GitHub, the HTML representation is unable to render, please try loading this page with nbviewer.org.</b></div><div class=\"sk-container\" hidden><div class=\"sk-item sk-dashed-wrapped\"><div class=\"sk-label-container\"><div class=\"sk-label sk-toggleable\"><input class=\"sk-toggleable__control sk-hidden--visually\" id=\"sk-estimator-id-26\" type=\"checkbox\" ><label for=\"sk-estimator-id-26\" class=\"sk-toggleable__label sk-toggleable__label-arrow\">Pipeline</label><div class=\"sk-toggleable__content\"><pre>Pipeline(steps=[(&#x27;clf&#x27;, SVC(class_weight=&#x27;balanced&#x27;))])</pre></div></div></div><div class=\"sk-serial\"><div class=\"sk-item\"><div class=\"sk-estimator sk-toggleable\"><input class=\"sk-toggleable__control sk-hidden--visually\" id=\"sk-estimator-id-27\" type=\"checkbox\" ><label for=\"sk-estimator-id-27\" class=\"sk-toggleable__label sk-toggleable__label-arrow\">SVC</label><div class=\"sk-toggleable__content\"><pre>SVC(class_weight=&#x27;balanced&#x27;)</pre></div></div></div></div></div></div></div>"
      ],
      "text/plain": [
       "Pipeline(steps=[('clf', SVC(class_weight='balanced'))])"
      ]
     },
     "execution_count": 100,
     "metadata": {},
     "output_type": "execute_result"
    }
   ],
   "source": [
    "speaker_accent_pipe_svc.fit(train_X, train_speaker_accents)"
   ]
  },
  {
   "cell_type": "code",
   "execution_count": 176,
   "metadata": {},
   "outputs": [
    {
     "data": {
      "text/html": [
       "<style>#sk-container-id-25 {color: black;background-color: white;}#sk-container-id-25 pre{padding: 0;}#sk-container-id-25 div.sk-toggleable {background-color: white;}#sk-container-id-25 label.sk-toggleable__label {cursor: pointer;display: block;width: 100%;margin-bottom: 0;padding: 0.3em;box-sizing: border-box;text-align: center;}#sk-container-id-25 label.sk-toggleable__label-arrow:before {content: \"▸\";float: left;margin-right: 0.25em;color: #696969;}#sk-container-id-25 label.sk-toggleable__label-arrow:hover:before {color: black;}#sk-container-id-25 div.sk-estimator:hover label.sk-toggleable__label-arrow:before {color: black;}#sk-container-id-25 div.sk-toggleable__content {max-height: 0;max-width: 0;overflow: hidden;text-align: left;background-color: #f0f8ff;}#sk-container-id-25 div.sk-toggleable__content pre {margin: 0.2em;color: black;border-radius: 0.25em;background-color: #f0f8ff;}#sk-container-id-25 input.sk-toggleable__control:checked~div.sk-toggleable__content {max-height: 200px;max-width: 100%;overflow: auto;}#sk-container-id-25 input.sk-toggleable__control:checked~label.sk-toggleable__label-arrow:before {content: \"▾\";}#sk-container-id-25 div.sk-estimator input.sk-toggleable__control:checked~label.sk-toggleable__label {background-color: #d4ebff;}#sk-container-id-25 div.sk-label input.sk-toggleable__control:checked~label.sk-toggleable__label {background-color: #d4ebff;}#sk-container-id-25 input.sk-hidden--visually {border: 0;clip: rect(1px 1px 1px 1px);clip: rect(1px, 1px, 1px, 1px);height: 1px;margin: -1px;overflow: hidden;padding: 0;position: absolute;width: 1px;}#sk-container-id-25 div.sk-estimator {font-family: monospace;background-color: #f0f8ff;border: 1px dotted black;border-radius: 0.25em;box-sizing: border-box;margin-bottom: 0.5em;}#sk-container-id-25 div.sk-estimator:hover {background-color: #d4ebff;}#sk-container-id-25 div.sk-parallel-item::after {content: \"\";width: 100%;border-bottom: 1px solid gray;flex-grow: 1;}#sk-container-id-25 div.sk-label:hover label.sk-toggleable__label {background-color: #d4ebff;}#sk-container-id-25 div.sk-serial::before {content: \"\";position: absolute;border-left: 1px solid gray;box-sizing: border-box;top: 0;bottom: 0;left: 50%;z-index: 0;}#sk-container-id-25 div.sk-serial {display: flex;flex-direction: column;align-items: center;background-color: white;padding-right: 0.2em;padding-left: 0.2em;position: relative;}#sk-container-id-25 div.sk-item {position: relative;z-index: 1;}#sk-container-id-25 div.sk-parallel {display: flex;align-items: stretch;justify-content: center;background-color: white;position: relative;}#sk-container-id-25 div.sk-item::before, #sk-container-id-25 div.sk-parallel-item::before {content: \"\";position: absolute;border-left: 1px solid gray;box-sizing: border-box;top: 0;bottom: 0;left: 50%;z-index: -1;}#sk-container-id-25 div.sk-parallel-item {display: flex;flex-direction: column;z-index: 1;position: relative;background-color: white;}#sk-container-id-25 div.sk-parallel-item:first-child::after {align-self: flex-end;width: 50%;}#sk-container-id-25 div.sk-parallel-item:last-child::after {align-self: flex-start;width: 50%;}#sk-container-id-25 div.sk-parallel-item:only-child::after {width: 0;}#sk-container-id-25 div.sk-dashed-wrapped {border: 1px dashed gray;margin: 0 0.4em 0.5em 0.4em;box-sizing: border-box;padding-bottom: 0.4em;background-color: white;}#sk-container-id-25 div.sk-label label {font-family: monospace;font-weight: bold;display: inline-block;line-height: 1.2em;}#sk-container-id-25 div.sk-label-container {text-align: center;}#sk-container-id-25 div.sk-container {/* jupyter's `normalize.less` sets `[hidden] { display: none; }` but bootstrap.min.css set `[hidden] { display: none !important; }` so we also need the `!important` here to be able to override the default hidden behavior on the sphinx rendered scikit-learn.org. See: https://github.com/scikit-learn/scikit-learn/issues/21755 */display: inline-block !important;position: relative;}#sk-container-id-25 div.sk-text-repr-fallback {display: none;}</style><div id=\"sk-container-id-25\" class=\"sk-top-container\"><div class=\"sk-text-repr-fallback\"><pre>Pipeline(steps=[(&#x27;clf&#x27;, DecisionTreeClassifier(class_weight=&#x27;balanced&#x27;))])</pre><b>In a Jupyter environment, please rerun this cell to show the HTML representation or trust the notebook. <br />On GitHub, the HTML representation is unable to render, please try loading this page with nbviewer.org.</b></div><div class=\"sk-container\" hidden><div class=\"sk-item sk-dashed-wrapped\"><div class=\"sk-label-container\"><div class=\"sk-label sk-toggleable\"><input class=\"sk-toggleable__control sk-hidden--visually\" id=\"sk-estimator-id-65\" type=\"checkbox\" ><label for=\"sk-estimator-id-65\" class=\"sk-toggleable__label sk-toggleable__label-arrow\">Pipeline</label><div class=\"sk-toggleable__content\"><pre>Pipeline(steps=[(&#x27;clf&#x27;, DecisionTreeClassifier(class_weight=&#x27;balanced&#x27;))])</pre></div></div></div><div class=\"sk-serial\"><div class=\"sk-item\"><div class=\"sk-estimator sk-toggleable\"><input class=\"sk-toggleable__control sk-hidden--visually\" id=\"sk-estimator-id-66\" type=\"checkbox\" ><label for=\"sk-estimator-id-66\" class=\"sk-toggleable__label sk-toggleable__label-arrow\">DecisionTreeClassifier</label><div class=\"sk-toggleable__content\"><pre>DecisionTreeClassifier(class_weight=&#x27;balanced&#x27;)</pre></div></div></div></div></div></div></div>"
      ],
      "text/plain": [
       "Pipeline(steps=[('clf', DecisionTreeClassifier(class_weight='balanced'))])"
      ]
     },
     "execution_count": 176,
     "metadata": {},
     "output_type": "execute_result"
    }
   ],
   "source": [
    "speaker_accent_pipe_dtc.fit(train_X, train_speaker_accents)"
   ]
  },
  {
   "cell_type": "code",
   "execution_count": 177,
   "metadata": {},
   "outputs": [
    {
     "data": {
      "text/html": [
       "<style>#sk-container-id-26 {color: black;background-color: white;}#sk-container-id-26 pre{padding: 0;}#sk-container-id-26 div.sk-toggleable {background-color: white;}#sk-container-id-26 label.sk-toggleable__label {cursor: pointer;display: block;width: 100%;margin-bottom: 0;padding: 0.3em;box-sizing: border-box;text-align: center;}#sk-container-id-26 label.sk-toggleable__label-arrow:before {content: \"▸\";float: left;margin-right: 0.25em;color: #696969;}#sk-container-id-26 label.sk-toggleable__label-arrow:hover:before {color: black;}#sk-container-id-26 div.sk-estimator:hover label.sk-toggleable__label-arrow:before {color: black;}#sk-container-id-26 div.sk-toggleable__content {max-height: 0;max-width: 0;overflow: hidden;text-align: left;background-color: #f0f8ff;}#sk-container-id-26 div.sk-toggleable__content pre {margin: 0.2em;color: black;border-radius: 0.25em;background-color: #f0f8ff;}#sk-container-id-26 input.sk-toggleable__control:checked~div.sk-toggleable__content {max-height: 200px;max-width: 100%;overflow: auto;}#sk-container-id-26 input.sk-toggleable__control:checked~label.sk-toggleable__label-arrow:before {content: \"▾\";}#sk-container-id-26 div.sk-estimator input.sk-toggleable__control:checked~label.sk-toggleable__label {background-color: #d4ebff;}#sk-container-id-26 div.sk-label input.sk-toggleable__control:checked~label.sk-toggleable__label {background-color: #d4ebff;}#sk-container-id-26 input.sk-hidden--visually {border: 0;clip: rect(1px 1px 1px 1px);clip: rect(1px, 1px, 1px, 1px);height: 1px;margin: -1px;overflow: hidden;padding: 0;position: absolute;width: 1px;}#sk-container-id-26 div.sk-estimator {font-family: monospace;background-color: #f0f8ff;border: 1px dotted black;border-radius: 0.25em;box-sizing: border-box;margin-bottom: 0.5em;}#sk-container-id-26 div.sk-estimator:hover {background-color: #d4ebff;}#sk-container-id-26 div.sk-parallel-item::after {content: \"\";width: 100%;border-bottom: 1px solid gray;flex-grow: 1;}#sk-container-id-26 div.sk-label:hover label.sk-toggleable__label {background-color: #d4ebff;}#sk-container-id-26 div.sk-serial::before {content: \"\";position: absolute;border-left: 1px solid gray;box-sizing: border-box;top: 0;bottom: 0;left: 50%;z-index: 0;}#sk-container-id-26 div.sk-serial {display: flex;flex-direction: column;align-items: center;background-color: white;padding-right: 0.2em;padding-left: 0.2em;position: relative;}#sk-container-id-26 div.sk-item {position: relative;z-index: 1;}#sk-container-id-26 div.sk-parallel {display: flex;align-items: stretch;justify-content: center;background-color: white;position: relative;}#sk-container-id-26 div.sk-item::before, #sk-container-id-26 div.sk-parallel-item::before {content: \"\";position: absolute;border-left: 1px solid gray;box-sizing: border-box;top: 0;bottom: 0;left: 50%;z-index: -1;}#sk-container-id-26 div.sk-parallel-item {display: flex;flex-direction: column;z-index: 1;position: relative;background-color: white;}#sk-container-id-26 div.sk-parallel-item:first-child::after {align-self: flex-end;width: 50%;}#sk-container-id-26 div.sk-parallel-item:last-child::after {align-self: flex-start;width: 50%;}#sk-container-id-26 div.sk-parallel-item:only-child::after {width: 0;}#sk-container-id-26 div.sk-dashed-wrapped {border: 1px dashed gray;margin: 0 0.4em 0.5em 0.4em;box-sizing: border-box;padding-bottom: 0.4em;background-color: white;}#sk-container-id-26 div.sk-label label {font-family: monospace;font-weight: bold;display: inline-block;line-height: 1.2em;}#sk-container-id-26 div.sk-label-container {text-align: center;}#sk-container-id-26 div.sk-container {/* jupyter's `normalize.less` sets `[hidden] { display: none; }` but bootstrap.min.css set `[hidden] { display: none !important; }` so we also need the `!important` here to be able to override the default hidden behavior on the sphinx rendered scikit-learn.org. See: https://github.com/scikit-learn/scikit-learn/issues/21755 */display: inline-block !important;position: relative;}#sk-container-id-26 div.sk-text-repr-fallback {display: none;}</style><div id=\"sk-container-id-26\" class=\"sk-top-container\"><div class=\"sk-text-repr-fallback\"><pre>Pipeline(steps=[(&#x27;clf&#x27;,\n",
       "                 DecisionTreeClassifier(class_weight={0: 2.1331338818249814,\n",
       "                                                      1: 4.235224235224235,\n",
       "                                                      2: 1.4058956916099774,\n",
       "                                                      3: 4.25290784372204,\n",
       "                                                      4: 4.343588181541273,\n",
       "                                                      5: 4.261805140466229,\n",
       "                                                      6: 0.10217388189100497,\n",
       "                                                      7: 2.1717940907706366,\n",
       "                                                      8: 4.380952380952381,\n",
       "                                                      9: 4.315980629539951,\n",
       "                                                      10: 4.244047619047619,\n",
       "                                                      11: 4.244047619047619,\n",
       "                                                      12: 2.135369871218928,\n",
       "                                                      13: 4.226437462951986}))])</pre><b>In a Jupyter environment, please rerun this cell to show the HTML representation or trust the notebook. <br />On GitHub, the HTML representation is unable to render, please try loading this page with nbviewer.org.</b></div><div class=\"sk-container\" hidden><div class=\"sk-item sk-dashed-wrapped\"><div class=\"sk-label-container\"><div class=\"sk-label sk-toggleable\"><input class=\"sk-toggleable__control sk-hidden--visually\" id=\"sk-estimator-id-67\" type=\"checkbox\" ><label for=\"sk-estimator-id-67\" class=\"sk-toggleable__label sk-toggleable__label-arrow\">Pipeline</label><div class=\"sk-toggleable__content\"><pre>Pipeline(steps=[(&#x27;clf&#x27;,\n",
       "                 DecisionTreeClassifier(class_weight={0: 2.1331338818249814,\n",
       "                                                      1: 4.235224235224235,\n",
       "                                                      2: 1.4058956916099774,\n",
       "                                                      3: 4.25290784372204,\n",
       "                                                      4: 4.343588181541273,\n",
       "                                                      5: 4.261805140466229,\n",
       "                                                      6: 0.10217388189100497,\n",
       "                                                      7: 2.1717940907706366,\n",
       "                                                      8: 4.380952380952381,\n",
       "                                                      9: 4.315980629539951,\n",
       "                                                      10: 4.244047619047619,\n",
       "                                                      11: 4.244047619047619,\n",
       "                                                      12: 2.135369871218928,\n",
       "                                                      13: 4.226437462951986}))])</pre></div></div></div><div class=\"sk-serial\"><div class=\"sk-item\"><div class=\"sk-estimator sk-toggleable\"><input class=\"sk-toggleable__control sk-hidden--visually\" id=\"sk-estimator-id-68\" type=\"checkbox\" ><label for=\"sk-estimator-id-68\" class=\"sk-toggleable__label sk-toggleable__label-arrow\">DecisionTreeClassifier</label><div class=\"sk-toggleable__content\"><pre>DecisionTreeClassifier(class_weight={0: 2.1331338818249814,\n",
       "                                     1: 4.235224235224235,\n",
       "                                     2: 1.4058956916099774, 3: 4.25290784372204,\n",
       "                                     4: 4.343588181541273, 5: 4.261805140466229,\n",
       "                                     6: 0.10217388189100497,\n",
       "                                     7: 2.1717940907706366,\n",
       "                                     8: 4.380952380952381, 9: 4.315980629539951,\n",
       "                                     10: 4.244047619047619,\n",
       "                                     11: 4.244047619047619,\n",
       "                                     12: 2.135369871218928,\n",
       "                                     13: 4.226437462951986})</pre></div></div></div></div></div></div></div>"
      ],
      "text/plain": [
       "Pipeline(steps=[('clf',\n",
       "                 DecisionTreeClassifier(class_weight={0: 2.1331338818249814,\n",
       "                                                      1: 4.235224235224235,\n",
       "                                                      2: 1.4058956916099774,\n",
       "                                                      3: 4.25290784372204,\n",
       "                                                      4: 4.343588181541273,\n",
       "                                                      5: 4.261805140466229,\n",
       "                                                      6: 0.10217388189100497,\n",
       "                                                      7: 2.1717940907706366,\n",
       "                                                      8: 4.380952380952381,\n",
       "                                                      9: 4.315980629539951,\n",
       "                                                      10: 4.244047619047619,\n",
       "                                                      11: 4.244047619047619,\n",
       "                                                      12: 2.135369871218928,\n",
       "                                                      13: 4.226437462951986}))])"
      ]
     },
     "execution_count": 177,
     "metadata": {},
     "output_type": "execute_result"
    }
   ],
   "source": [
    "speaker_accent_pipe_dtc2.fit(train_X, train_speaker_accents)"
   ]
  },
  {
   "cell_type": "code",
   "execution_count": 178,
   "metadata": {},
   "outputs": [
    {
     "data": {
      "text/html": [
       "<style>#sk-container-id-27 {color: black;background-color: white;}#sk-container-id-27 pre{padding: 0;}#sk-container-id-27 div.sk-toggleable {background-color: white;}#sk-container-id-27 label.sk-toggleable__label {cursor: pointer;display: block;width: 100%;margin-bottom: 0;padding: 0.3em;box-sizing: border-box;text-align: center;}#sk-container-id-27 label.sk-toggleable__label-arrow:before {content: \"▸\";float: left;margin-right: 0.25em;color: #696969;}#sk-container-id-27 label.sk-toggleable__label-arrow:hover:before {color: black;}#sk-container-id-27 div.sk-estimator:hover label.sk-toggleable__label-arrow:before {color: black;}#sk-container-id-27 div.sk-toggleable__content {max-height: 0;max-width: 0;overflow: hidden;text-align: left;background-color: #f0f8ff;}#sk-container-id-27 div.sk-toggleable__content pre {margin: 0.2em;color: black;border-radius: 0.25em;background-color: #f0f8ff;}#sk-container-id-27 input.sk-toggleable__control:checked~div.sk-toggleable__content {max-height: 200px;max-width: 100%;overflow: auto;}#sk-container-id-27 input.sk-toggleable__control:checked~label.sk-toggleable__label-arrow:before {content: \"▾\";}#sk-container-id-27 div.sk-estimator input.sk-toggleable__control:checked~label.sk-toggleable__label {background-color: #d4ebff;}#sk-container-id-27 div.sk-label input.sk-toggleable__control:checked~label.sk-toggleable__label {background-color: #d4ebff;}#sk-container-id-27 input.sk-hidden--visually {border: 0;clip: rect(1px 1px 1px 1px);clip: rect(1px, 1px, 1px, 1px);height: 1px;margin: -1px;overflow: hidden;padding: 0;position: absolute;width: 1px;}#sk-container-id-27 div.sk-estimator {font-family: monospace;background-color: #f0f8ff;border: 1px dotted black;border-radius: 0.25em;box-sizing: border-box;margin-bottom: 0.5em;}#sk-container-id-27 div.sk-estimator:hover {background-color: #d4ebff;}#sk-container-id-27 div.sk-parallel-item::after {content: \"\";width: 100%;border-bottom: 1px solid gray;flex-grow: 1;}#sk-container-id-27 div.sk-label:hover label.sk-toggleable__label {background-color: #d4ebff;}#sk-container-id-27 div.sk-serial::before {content: \"\";position: absolute;border-left: 1px solid gray;box-sizing: border-box;top: 0;bottom: 0;left: 50%;z-index: 0;}#sk-container-id-27 div.sk-serial {display: flex;flex-direction: column;align-items: center;background-color: white;padding-right: 0.2em;padding-left: 0.2em;position: relative;}#sk-container-id-27 div.sk-item {position: relative;z-index: 1;}#sk-container-id-27 div.sk-parallel {display: flex;align-items: stretch;justify-content: center;background-color: white;position: relative;}#sk-container-id-27 div.sk-item::before, #sk-container-id-27 div.sk-parallel-item::before {content: \"\";position: absolute;border-left: 1px solid gray;box-sizing: border-box;top: 0;bottom: 0;left: 50%;z-index: -1;}#sk-container-id-27 div.sk-parallel-item {display: flex;flex-direction: column;z-index: 1;position: relative;background-color: white;}#sk-container-id-27 div.sk-parallel-item:first-child::after {align-self: flex-end;width: 50%;}#sk-container-id-27 div.sk-parallel-item:last-child::after {align-self: flex-start;width: 50%;}#sk-container-id-27 div.sk-parallel-item:only-child::after {width: 0;}#sk-container-id-27 div.sk-dashed-wrapped {border: 1px dashed gray;margin: 0 0.4em 0.5em 0.4em;box-sizing: border-box;padding-bottom: 0.4em;background-color: white;}#sk-container-id-27 div.sk-label label {font-family: monospace;font-weight: bold;display: inline-block;line-height: 1.2em;}#sk-container-id-27 div.sk-label-container {text-align: center;}#sk-container-id-27 div.sk-container {/* jupyter's `normalize.less` sets `[hidden] { display: none; }` but bootstrap.min.css set `[hidden] { display: none !important; }` so we also need the `!important` here to be able to override the default hidden behavior on the sphinx rendered scikit-learn.org. See: https://github.com/scikit-learn/scikit-learn/issues/21755 */display: inline-block !important;position: relative;}#sk-container-id-27 div.sk-text-repr-fallback {display: none;}</style><div id=\"sk-container-id-27\" class=\"sk-top-container\"><div class=\"sk-text-repr-fallback\"><pre>Pipeline(steps=[(&#x27;clf&#x27;, RandomForestClassifier(class_weight=&#x27;balanced&#x27;))])</pre><b>In a Jupyter environment, please rerun this cell to show the HTML representation or trust the notebook. <br />On GitHub, the HTML representation is unable to render, please try loading this page with nbviewer.org.</b></div><div class=\"sk-container\" hidden><div class=\"sk-item sk-dashed-wrapped\"><div class=\"sk-label-container\"><div class=\"sk-label sk-toggleable\"><input class=\"sk-toggleable__control sk-hidden--visually\" id=\"sk-estimator-id-69\" type=\"checkbox\" ><label for=\"sk-estimator-id-69\" class=\"sk-toggleable__label sk-toggleable__label-arrow\">Pipeline</label><div class=\"sk-toggleable__content\"><pre>Pipeline(steps=[(&#x27;clf&#x27;, RandomForestClassifier(class_weight=&#x27;balanced&#x27;))])</pre></div></div></div><div class=\"sk-serial\"><div class=\"sk-item\"><div class=\"sk-estimator sk-toggleable\"><input class=\"sk-toggleable__control sk-hidden--visually\" id=\"sk-estimator-id-70\" type=\"checkbox\" ><label for=\"sk-estimator-id-70\" class=\"sk-toggleable__label sk-toggleable__label-arrow\">RandomForestClassifier</label><div class=\"sk-toggleable__content\"><pre>RandomForestClassifier(class_weight=&#x27;balanced&#x27;)</pre></div></div></div></div></div></div></div>"
      ],
      "text/plain": [
       "Pipeline(steps=[('clf', RandomForestClassifier(class_weight='balanced'))])"
      ]
     },
     "execution_count": 178,
     "metadata": {},
     "output_type": "execute_result"
    }
   ],
   "source": [
    "speaker_accent_pipe_rfc.fit(train_X, train_speaker_accents)"
   ]
  },
  {
   "cell_type": "code",
   "execution_count": 179,
   "metadata": {},
   "outputs": [
    {
     "name": "stdout",
     "output_type": "stream",
     "text": [
      "With SVC classifier:\n",
      "              precision    recall  f1-score   support\n",
      "\n",
      "           0       0.74      0.95      0.83        21\n",
      "           1       1.00      1.00      1.00        11\n",
      "           2       0.54      0.96      0.69        27\n",
      "           3       0.80      1.00      0.89         8\n",
      "           4       0.60      1.00      0.75        15\n",
      "           5       0.79      1.00      0.88        11\n",
      "           6       0.99      0.87      0.93       532\n",
      "           7       0.76      0.97      0.85        32\n",
      "           8       0.95      0.95      0.95        19\n",
      "           9       0.94      1.00      0.97        17\n",
      "          10       0.77      1.00      0.87        10\n",
      "          11       0.83      0.91      0.87        11\n",
      "          12       0.76      0.96      0.85        26\n",
      "          13       0.91      1.00      0.95        10\n",
      "\n",
      "    accuracy                           0.90       750\n",
      "   macro avg       0.81      0.97      0.88       750\n",
      "weighted avg       0.93      0.90      0.91       750\n",
      "\n",
      "With Decision Tree classifier (class_weight='balanced'):\n",
      "              precision    recall  f1-score   support\n",
      "\n",
      "           0       0.41      0.43      0.42        21\n",
      "           1       0.43      0.55      0.48        11\n",
      "           2       0.40      0.52      0.45        27\n",
      "           3       0.75      0.75      0.75         8\n",
      "           4       0.31      0.33      0.32        15\n",
      "           5       0.80      0.36      0.50        11\n",
      "           6       0.80      0.82      0.81       532\n",
      "           7       0.29      0.19      0.23        32\n",
      "           8       0.64      0.47      0.55        19\n",
      "           9       0.60      0.53      0.56        17\n",
      "          10       0.67      0.60      0.63        10\n",
      "          11       0.57      0.73      0.64        11\n",
      "          12       0.33      0.31      0.32        26\n",
      "          13       0.36      0.40      0.38        10\n",
      "\n",
      "    accuracy                           0.71       750\n",
      "   macro avg       0.53      0.50      0.50       750\n",
      "weighted avg       0.70      0.71      0.70       750\n",
      "\n",
      "With Decision Tree classifier (class_weights manuelly calculated):\n",
      "              precision    recall  f1-score   support\n",
      "\n",
      "           0       0.35      0.38      0.36        21\n",
      "           1       0.36      0.36      0.36        11\n",
      "           2       0.32      0.44      0.38        27\n",
      "           3       0.67      0.75      0.71         8\n",
      "           4       0.31      0.33      0.32        15\n",
      "           5       0.60      0.55      0.57        11\n",
      "           6       0.81      0.81      0.81       532\n",
      "           7       0.26      0.22      0.24        32\n",
      "           8       0.57      0.42      0.48        19\n",
      "           9       0.41      0.41      0.41        17\n",
      "          10       0.57      0.40      0.47        10\n",
      "          11       0.53      0.73      0.62        11\n",
      "          12       0.32      0.27      0.29        26\n",
      "          13       0.36      0.40      0.38        10\n",
      "\n",
      "    accuracy                           0.69       750\n",
      "   macro avg       0.46      0.46      0.46       750\n",
      "weighted avg       0.69      0.69      0.69       750\n",
      "\n",
      "With Random Forest classifier (class_weight='balanced'):\n",
      "              precision    recall  f1-score   support\n",
      "\n",
      "           0       1.00      0.10      0.17        21\n",
      "           1       1.00      0.09      0.17        11\n",
      "           2       1.00      0.11      0.20        27\n",
      "           3       1.00      0.38      0.55         8\n",
      "           4       0.00      0.00      0.00        15\n",
      "           5       1.00      0.27      0.43        11\n",
      "           6       0.74      1.00      0.85       532\n",
      "           7       1.00      0.06      0.12        32\n",
      "           8       1.00      0.11      0.19        19\n",
      "           9       1.00      0.35      0.52        17\n",
      "          10       0.00      0.00      0.00        10\n",
      "          11       1.00      0.64      0.78        11\n",
      "          12       1.00      0.04      0.07        26\n",
      "          13       1.00      0.20      0.33        10\n",
      "\n",
      "    accuracy                           0.75       750\n",
      "   macro avg       0.84      0.24      0.31       750\n",
      "weighted avg       0.78      0.75      0.67       750\n",
      "\n"
     ]
    },
    {
     "name": "stderr",
     "output_type": "stream",
     "text": [
      "C:\\Users\\Owner\\AppData\\Roaming\\Python\\Python39\\site-packages\\sklearn\\metrics\\_classification.py:1344: UndefinedMetricWarning: Precision and F-score are ill-defined and being set to 0.0 in labels with no predicted samples. Use `zero_division` parameter to control this behavior.\n",
      "  _warn_prf(average, modifier, msg_start, len(result))\n",
      "C:\\Users\\Owner\\AppData\\Roaming\\Python\\Python39\\site-packages\\sklearn\\metrics\\_classification.py:1344: UndefinedMetricWarning: Precision and F-score are ill-defined and being set to 0.0 in labels with no predicted samples. Use `zero_division` parameter to control this behavior.\n",
      "  _warn_prf(average, modifier, msg_start, len(result))\n",
      "C:\\Users\\Owner\\AppData\\Roaming\\Python\\Python39\\site-packages\\sklearn\\metrics\\_classification.py:1344: UndefinedMetricWarning: Precision and F-score are ill-defined and being set to 0.0 in labels with no predicted samples. Use `zero_division` parameter to control this behavior.\n",
      "  _warn_prf(average, modifier, msg_start, len(result))\n"
     ]
    }
   ],
   "source": [
    "# now let's check the results =>Let's consider weighted avg metric when making desicions because it is a good metric when class imbalance is present \n",
    "print(\"With SVC classifier:\") \n",
    "print(classification_report(valid_speaker_accents, speaker_accent_pipe_svc.predict(valid_X)))\n",
    "print(\"With Decision Tree classifier (class_weight='balanced'):\") \n",
    "print(classification_report(valid_speaker_accents, speaker_accent_pipe_dtc.predict(valid_X)))\n",
    "print(\"With Decision Tree classifier (class_weights manuelly calculated):\") \n",
    "print(classification_report(valid_speaker_accents, speaker_accent_pipe_dtc2.predict(valid_X)))\n",
    "print(\"With Random Forest classifier (class_weight='balanced'):\") \n",
    "print(classification_report(valid_speaker_accents, speaker_accent_pipe_rfc.predict(valid_X)))\n"
   ]
  },
  {
   "cell_type": "code",
   "execution_count": 101,
   "metadata": {},
   "outputs": [],
   "source": [
    "# Based on above results SVC with class_weight='balanced' performs well.\n",
    "# Let's now try some feature engineering techniques to check whether it improves weighted avg metric\n",
    "\n",
    "# Pipleline for speaker accent prediction with PCA for feature reduction\n",
    "speaker_accent_pipe_scaler_pca_svc = Pipeline([\n",
    "    # ('scaler', StandardScaler()),\n",
    "    ('pca', PCA(n_components=0.95)),\n",
    "    ('clf', SVC(class_weight='balanced'))\n",
    "    ])\n",
    "\n",
    "# Pipleline for speaker accent prediction with Model-based feature reduction\n",
    "speaker_accent_pipe_scaler_sfmlr_svc = Pipeline([\n",
    "    # ('scaler', StandardScaler()),\n",
    "    ('SFM_LR', SelectFromModel(LogisticRegression(C=0.01, penalty='l1', solver='liblinear', class_weight='balanced'))),\n",
    "    ('clf', SVC(class_weight='balanced'))  \n",
    "])\n"
   ]
  },
  {
   "cell_type": "code",
   "execution_count": 102,
   "metadata": {},
   "outputs": [
    {
     "data": {
      "text/html": [
       "<style>#sk-container-id-10 {color: black;background-color: white;}#sk-container-id-10 pre{padding: 0;}#sk-container-id-10 div.sk-toggleable {background-color: white;}#sk-container-id-10 label.sk-toggleable__label {cursor: pointer;display: block;width: 100%;margin-bottom: 0;padding: 0.3em;box-sizing: border-box;text-align: center;}#sk-container-id-10 label.sk-toggleable__label-arrow:before {content: \"▸\";float: left;margin-right: 0.25em;color: #696969;}#sk-container-id-10 label.sk-toggleable__label-arrow:hover:before {color: black;}#sk-container-id-10 div.sk-estimator:hover label.sk-toggleable__label-arrow:before {color: black;}#sk-container-id-10 div.sk-toggleable__content {max-height: 0;max-width: 0;overflow: hidden;text-align: left;background-color: #f0f8ff;}#sk-container-id-10 div.sk-toggleable__content pre {margin: 0.2em;color: black;border-radius: 0.25em;background-color: #f0f8ff;}#sk-container-id-10 input.sk-toggleable__control:checked~div.sk-toggleable__content {max-height: 200px;max-width: 100%;overflow: auto;}#sk-container-id-10 input.sk-toggleable__control:checked~label.sk-toggleable__label-arrow:before {content: \"▾\";}#sk-container-id-10 div.sk-estimator input.sk-toggleable__control:checked~label.sk-toggleable__label {background-color: #d4ebff;}#sk-container-id-10 div.sk-label input.sk-toggleable__control:checked~label.sk-toggleable__label {background-color: #d4ebff;}#sk-container-id-10 input.sk-hidden--visually {border: 0;clip: rect(1px 1px 1px 1px);clip: rect(1px, 1px, 1px, 1px);height: 1px;margin: -1px;overflow: hidden;padding: 0;position: absolute;width: 1px;}#sk-container-id-10 div.sk-estimator {font-family: monospace;background-color: #f0f8ff;border: 1px dotted black;border-radius: 0.25em;box-sizing: border-box;margin-bottom: 0.5em;}#sk-container-id-10 div.sk-estimator:hover {background-color: #d4ebff;}#sk-container-id-10 div.sk-parallel-item::after {content: \"\";width: 100%;border-bottom: 1px solid gray;flex-grow: 1;}#sk-container-id-10 div.sk-label:hover label.sk-toggleable__label {background-color: #d4ebff;}#sk-container-id-10 div.sk-serial::before {content: \"\";position: absolute;border-left: 1px solid gray;box-sizing: border-box;top: 0;bottom: 0;left: 50%;z-index: 0;}#sk-container-id-10 div.sk-serial {display: flex;flex-direction: column;align-items: center;background-color: white;padding-right: 0.2em;padding-left: 0.2em;position: relative;}#sk-container-id-10 div.sk-item {position: relative;z-index: 1;}#sk-container-id-10 div.sk-parallel {display: flex;align-items: stretch;justify-content: center;background-color: white;position: relative;}#sk-container-id-10 div.sk-item::before, #sk-container-id-10 div.sk-parallel-item::before {content: \"\";position: absolute;border-left: 1px solid gray;box-sizing: border-box;top: 0;bottom: 0;left: 50%;z-index: -1;}#sk-container-id-10 div.sk-parallel-item {display: flex;flex-direction: column;z-index: 1;position: relative;background-color: white;}#sk-container-id-10 div.sk-parallel-item:first-child::after {align-self: flex-end;width: 50%;}#sk-container-id-10 div.sk-parallel-item:last-child::after {align-self: flex-start;width: 50%;}#sk-container-id-10 div.sk-parallel-item:only-child::after {width: 0;}#sk-container-id-10 div.sk-dashed-wrapped {border: 1px dashed gray;margin: 0 0.4em 0.5em 0.4em;box-sizing: border-box;padding-bottom: 0.4em;background-color: white;}#sk-container-id-10 div.sk-label label {font-family: monospace;font-weight: bold;display: inline-block;line-height: 1.2em;}#sk-container-id-10 div.sk-label-container {text-align: center;}#sk-container-id-10 div.sk-container {/* jupyter's `normalize.less` sets `[hidden] { display: none; }` but bootstrap.min.css set `[hidden] { display: none !important; }` so we also need the `!important` here to be able to override the default hidden behavior on the sphinx rendered scikit-learn.org. See: https://github.com/scikit-learn/scikit-learn/issues/21755 */display: inline-block !important;position: relative;}#sk-container-id-10 div.sk-text-repr-fallback {display: none;}</style><div id=\"sk-container-id-10\" class=\"sk-top-container\"><div class=\"sk-text-repr-fallback\"><pre>Pipeline(steps=[(&#x27;pca&#x27;, PCA(n_components=0.95)),\n",
       "                (&#x27;clf&#x27;, SVC(class_weight=&#x27;balanced&#x27;))])</pre><b>In a Jupyter environment, please rerun this cell to show the HTML representation or trust the notebook. <br />On GitHub, the HTML representation is unable to render, please try loading this page with nbviewer.org.</b></div><div class=\"sk-container\" hidden><div class=\"sk-item sk-dashed-wrapped\"><div class=\"sk-label-container\"><div class=\"sk-label sk-toggleable\"><input class=\"sk-toggleable__control sk-hidden--visually\" id=\"sk-estimator-id-28\" type=\"checkbox\" ><label for=\"sk-estimator-id-28\" class=\"sk-toggleable__label sk-toggleable__label-arrow\">Pipeline</label><div class=\"sk-toggleable__content\"><pre>Pipeline(steps=[(&#x27;pca&#x27;, PCA(n_components=0.95)),\n",
       "                (&#x27;clf&#x27;, SVC(class_weight=&#x27;balanced&#x27;))])</pre></div></div></div><div class=\"sk-serial\"><div class=\"sk-item\"><div class=\"sk-estimator sk-toggleable\"><input class=\"sk-toggleable__control sk-hidden--visually\" id=\"sk-estimator-id-29\" type=\"checkbox\" ><label for=\"sk-estimator-id-29\" class=\"sk-toggleable__label sk-toggleable__label-arrow\">PCA</label><div class=\"sk-toggleable__content\"><pre>PCA(n_components=0.95)</pre></div></div></div><div class=\"sk-item\"><div class=\"sk-estimator sk-toggleable\"><input class=\"sk-toggleable__control sk-hidden--visually\" id=\"sk-estimator-id-30\" type=\"checkbox\" ><label for=\"sk-estimator-id-30\" class=\"sk-toggleable__label sk-toggleable__label-arrow\">SVC</label><div class=\"sk-toggleable__content\"><pre>SVC(class_weight=&#x27;balanced&#x27;)</pre></div></div></div></div></div></div></div>"
      ],
      "text/plain": [
       "Pipeline(steps=[('pca', PCA(n_components=0.95)),\n",
       "                ('clf', SVC(class_weight='balanced'))])"
      ]
     },
     "execution_count": 102,
     "metadata": {},
     "output_type": "execute_result"
    }
   ],
   "source": [
    "speaker_accent_pipe_scaler_pca_svc.fit(train_X, train_speaker_accents)"
   ]
  },
  {
   "cell_type": "code",
   "execution_count": 103,
   "metadata": {},
   "outputs": [
    {
     "data": {
      "text/html": [
       "<style>#sk-container-id-11 {color: black;background-color: white;}#sk-container-id-11 pre{padding: 0;}#sk-container-id-11 div.sk-toggleable {background-color: white;}#sk-container-id-11 label.sk-toggleable__label {cursor: pointer;display: block;width: 100%;margin-bottom: 0;padding: 0.3em;box-sizing: border-box;text-align: center;}#sk-container-id-11 label.sk-toggleable__label-arrow:before {content: \"▸\";float: left;margin-right: 0.25em;color: #696969;}#sk-container-id-11 label.sk-toggleable__label-arrow:hover:before {color: black;}#sk-container-id-11 div.sk-estimator:hover label.sk-toggleable__label-arrow:before {color: black;}#sk-container-id-11 div.sk-toggleable__content {max-height: 0;max-width: 0;overflow: hidden;text-align: left;background-color: #f0f8ff;}#sk-container-id-11 div.sk-toggleable__content pre {margin: 0.2em;color: black;border-radius: 0.25em;background-color: #f0f8ff;}#sk-container-id-11 input.sk-toggleable__control:checked~div.sk-toggleable__content {max-height: 200px;max-width: 100%;overflow: auto;}#sk-container-id-11 input.sk-toggleable__control:checked~label.sk-toggleable__label-arrow:before {content: \"▾\";}#sk-container-id-11 div.sk-estimator input.sk-toggleable__control:checked~label.sk-toggleable__label {background-color: #d4ebff;}#sk-container-id-11 div.sk-label input.sk-toggleable__control:checked~label.sk-toggleable__label {background-color: #d4ebff;}#sk-container-id-11 input.sk-hidden--visually {border: 0;clip: rect(1px 1px 1px 1px);clip: rect(1px, 1px, 1px, 1px);height: 1px;margin: -1px;overflow: hidden;padding: 0;position: absolute;width: 1px;}#sk-container-id-11 div.sk-estimator {font-family: monospace;background-color: #f0f8ff;border: 1px dotted black;border-radius: 0.25em;box-sizing: border-box;margin-bottom: 0.5em;}#sk-container-id-11 div.sk-estimator:hover {background-color: #d4ebff;}#sk-container-id-11 div.sk-parallel-item::after {content: \"\";width: 100%;border-bottom: 1px solid gray;flex-grow: 1;}#sk-container-id-11 div.sk-label:hover label.sk-toggleable__label {background-color: #d4ebff;}#sk-container-id-11 div.sk-serial::before {content: \"\";position: absolute;border-left: 1px solid gray;box-sizing: border-box;top: 0;bottom: 0;left: 50%;z-index: 0;}#sk-container-id-11 div.sk-serial {display: flex;flex-direction: column;align-items: center;background-color: white;padding-right: 0.2em;padding-left: 0.2em;position: relative;}#sk-container-id-11 div.sk-item {position: relative;z-index: 1;}#sk-container-id-11 div.sk-parallel {display: flex;align-items: stretch;justify-content: center;background-color: white;position: relative;}#sk-container-id-11 div.sk-item::before, #sk-container-id-11 div.sk-parallel-item::before {content: \"\";position: absolute;border-left: 1px solid gray;box-sizing: border-box;top: 0;bottom: 0;left: 50%;z-index: -1;}#sk-container-id-11 div.sk-parallel-item {display: flex;flex-direction: column;z-index: 1;position: relative;background-color: white;}#sk-container-id-11 div.sk-parallel-item:first-child::after {align-self: flex-end;width: 50%;}#sk-container-id-11 div.sk-parallel-item:last-child::after {align-self: flex-start;width: 50%;}#sk-container-id-11 div.sk-parallel-item:only-child::after {width: 0;}#sk-container-id-11 div.sk-dashed-wrapped {border: 1px dashed gray;margin: 0 0.4em 0.5em 0.4em;box-sizing: border-box;padding-bottom: 0.4em;background-color: white;}#sk-container-id-11 div.sk-label label {font-family: monospace;font-weight: bold;display: inline-block;line-height: 1.2em;}#sk-container-id-11 div.sk-label-container {text-align: center;}#sk-container-id-11 div.sk-container {/* jupyter's `normalize.less` sets `[hidden] { display: none; }` but bootstrap.min.css set `[hidden] { display: none !important; }` so we also need the `!important` here to be able to override the default hidden behavior on the sphinx rendered scikit-learn.org. See: https://github.com/scikit-learn/scikit-learn/issues/21755 */display: inline-block !important;position: relative;}#sk-container-id-11 div.sk-text-repr-fallback {display: none;}</style><div id=\"sk-container-id-11\" class=\"sk-top-container\"><div class=\"sk-text-repr-fallback\"><pre>Pipeline(steps=[(&#x27;SFM_LR&#x27;,\n",
       "                 SelectFromModel(estimator=LogisticRegression(C=0.01,\n",
       "                                                              class_weight=&#x27;balanced&#x27;,\n",
       "                                                              penalty=&#x27;l1&#x27;,\n",
       "                                                              solver=&#x27;liblinear&#x27;))),\n",
       "                (&#x27;clf&#x27;, SVC(class_weight=&#x27;balanced&#x27;))])</pre><b>In a Jupyter environment, please rerun this cell to show the HTML representation or trust the notebook. <br />On GitHub, the HTML representation is unable to render, please try loading this page with nbviewer.org.</b></div><div class=\"sk-container\" hidden><div class=\"sk-item sk-dashed-wrapped\"><div class=\"sk-label-container\"><div class=\"sk-label sk-toggleable\"><input class=\"sk-toggleable__control sk-hidden--visually\" id=\"sk-estimator-id-31\" type=\"checkbox\" ><label for=\"sk-estimator-id-31\" class=\"sk-toggleable__label sk-toggleable__label-arrow\">Pipeline</label><div class=\"sk-toggleable__content\"><pre>Pipeline(steps=[(&#x27;SFM_LR&#x27;,\n",
       "                 SelectFromModel(estimator=LogisticRegression(C=0.01,\n",
       "                                                              class_weight=&#x27;balanced&#x27;,\n",
       "                                                              penalty=&#x27;l1&#x27;,\n",
       "                                                              solver=&#x27;liblinear&#x27;))),\n",
       "                (&#x27;clf&#x27;, SVC(class_weight=&#x27;balanced&#x27;))])</pre></div></div></div><div class=\"sk-serial\"><div class=\"sk-item sk-dashed-wrapped\"><div class=\"sk-label-container\"><div class=\"sk-label sk-toggleable\"><input class=\"sk-toggleable__control sk-hidden--visually\" id=\"sk-estimator-id-32\" type=\"checkbox\" ><label for=\"sk-estimator-id-32\" class=\"sk-toggleable__label sk-toggleable__label-arrow\">SFM_LR: SelectFromModel</label><div class=\"sk-toggleable__content\"><pre>SelectFromModel(estimator=LogisticRegression(C=0.01, class_weight=&#x27;balanced&#x27;,\n",
       "                                             penalty=&#x27;l1&#x27;, solver=&#x27;liblinear&#x27;))</pre></div></div></div><div class=\"sk-parallel\"><div class=\"sk-parallel-item\"><div class=\"sk-item\"><div class=\"sk-label-container\"><div class=\"sk-label sk-toggleable\"><input class=\"sk-toggleable__control sk-hidden--visually\" id=\"sk-estimator-id-33\" type=\"checkbox\" ><label for=\"sk-estimator-id-33\" class=\"sk-toggleable__label sk-toggleable__label-arrow\">estimator: LogisticRegression</label><div class=\"sk-toggleable__content\"><pre>LogisticRegression(C=0.01, class_weight=&#x27;balanced&#x27;, penalty=&#x27;l1&#x27;,\n",
       "                   solver=&#x27;liblinear&#x27;)</pre></div></div></div><div class=\"sk-serial\"><div class=\"sk-item\"><div class=\"sk-estimator sk-toggleable\"><input class=\"sk-toggleable__control sk-hidden--visually\" id=\"sk-estimator-id-34\" type=\"checkbox\" ><label for=\"sk-estimator-id-34\" class=\"sk-toggleable__label sk-toggleable__label-arrow\">LogisticRegression</label><div class=\"sk-toggleable__content\"><pre>LogisticRegression(C=0.01, class_weight=&#x27;balanced&#x27;, penalty=&#x27;l1&#x27;,\n",
       "                   solver=&#x27;liblinear&#x27;)</pre></div></div></div></div></div></div></div></div><div class=\"sk-item\"><div class=\"sk-estimator sk-toggleable\"><input class=\"sk-toggleable__control sk-hidden--visually\" id=\"sk-estimator-id-35\" type=\"checkbox\" ><label for=\"sk-estimator-id-35\" class=\"sk-toggleable__label sk-toggleable__label-arrow\">SVC</label><div class=\"sk-toggleable__content\"><pre>SVC(class_weight=&#x27;balanced&#x27;)</pre></div></div></div></div></div></div></div>"
      ],
      "text/plain": [
       "Pipeline(steps=[('SFM_LR',\n",
       "                 SelectFromModel(estimator=LogisticRegression(C=0.01,\n",
       "                                                              class_weight='balanced',\n",
       "                                                              penalty='l1',\n",
       "                                                              solver='liblinear'))),\n",
       "                ('clf', SVC(class_weight='balanced'))])"
      ]
     },
     "execution_count": 103,
     "metadata": {},
     "output_type": "execute_result"
    }
   ],
   "source": [
    "speaker_accent_pipe_scaler_sfmlr_svc.fit(train_X, train_speaker_accents)"
   ]
  },
  {
   "cell_type": "code",
   "execution_count": 104,
   "metadata": {},
   "outputs": [
    {
     "name": "stdout",
     "output_type": "stream",
     "text": [
      "Withouth feature engineering: \n",
      "0.9\n",
      "With PCA for feature reduction: \n",
      "0.948\n",
      "With Model-based feature reduction: \n",
      "0.6733333333333333\n"
     ]
    }
   ],
   "source": [
    "# Let's now check the accuracies.\n",
    "print(\"Withouth feature engineering: \")\n",
    "print(speaker_accent_pipe_svc.score(valid_X, valid_speaker_accents))\n",
    "print(\"With PCA for feature reduction: \")\n",
    "print(speaker_accent_pipe_scaler_pca_svc.score(valid_X, valid_speaker_accents))\n",
    "print(\"With Model-based feature reduction: \")\n",
    "print(speaker_accent_pipe_scaler_sfmlr_svc.score(valid_X, valid_speaker_accents))"
   ]
  },
  {
   "cell_type": "code",
   "execution_count": 106,
   "metadata": {},
   "outputs": [
    {
     "name": "stdout",
     "output_type": "stream",
     "text": [
      "Number of features before reduction:  768\n",
      "Number of features after PCA:  239\n",
      "Number of features after model-based feature reduction:  55\n"
     ]
    }
   ],
   "source": [
    "num_features_before_reduction = speaker_accent_pipe_svc.named_steps['clf'].n_features_in_\n",
    "num_features_after_pca = speaker_accent_pipe_scaler_pca_svc.named_steps['pca'].n_components_\n",
    "num_features_after_sfmlr = sum(speaker_accent_pipe_scaler_sfmlr_svc.named_steps['SFM_LR'].get_support())\n",
    "\n",
    "print(\"Number of features before reduction: \", num_features_before_reduction)\n",
    "print(\"Number of features after PCA: \", num_features_after_pca)\n",
    "print(\"Number of features after model-based feature reduction: \", num_features_after_sfmlr)"
   ]
  },
  {
   "cell_type": "code",
   "execution_count": 110,
   "metadata": {},
   "outputs": [
    {
     "name": "stdout",
     "output_type": "stream",
     "text": [
      "PCA for feature reduction (Hyperparameters tuned):  0.9906666666666667\n"
     ]
    }
   ],
   "source": [
    "best_pca__n_components = 0.97\n",
    "best_clf__C = 10.0\n",
    "best_clf__kernel = 'rbf'\n",
    "\n",
    "# Pipleline with best params\n",
    "best_accent_pipe_scaler_pca_svc = Pipeline([\n",
    "    # ('scaler', StandardScaler()),\n",
    "    ('pca', PCA(n_components=best_pca__n_components)),\n",
    "    ('clf', SVC(C=best_clf__C, kernel=best_clf__kernel))\n",
    "    ])\n",
    "\n",
    "best_accent_pipe_scaler_pca_svc.fit(train_X, train_speaker_accents)\n",
    "print(\"PCA for feature reduction (Hyperparameters tuned): \", best_accent_pipe_scaler_pca_svc.score(valid_X, valid_speaker_accents))"
   ]
  },
  {
   "cell_type": "code",
   "execution_count": 111,
   "metadata": {},
   "outputs": [
    {
     "data": {
      "text/plain": [
       "'              precision    recall  f1-score   support\\n\\n           0       1.00      0.95      0.98        21\\n           1       1.00      0.91      0.95        11\\n           2       1.00      1.00      1.00        27\\n           3       1.00      1.00      1.00         8\\n           4       1.00      0.93      0.97        15\\n           5       1.00      0.91      0.95        11\\n           6       0.99      1.00      0.99       532\\n           7       1.00      0.97      0.98        32\\n           8       1.00      0.95      0.97        19\\n           9       1.00      1.00      1.00        17\\n          10       1.00      1.00      1.00        10\\n          11       1.00      0.91      0.95        11\\n          12       1.00      1.00      1.00        26\\n          13       1.00      1.00      1.00        10\\n\\n    accuracy                           0.99       750\\n   macro avg       1.00      0.97      0.98       750\\nweighted avg       0.99      0.99      0.99       750\\n'"
      ]
     },
     "execution_count": 111,
     "metadata": {},
     "output_type": "execute_result"
    }
   ],
   "source": [
    "classification_report(valid_speaker_accents, best_accent_pipe_scaler_pca_svc.predict(valid_X))"
   ]
  },
  {
   "cell_type": "markdown",
   "metadata": {},
   "source": [
    "### Hyperparameter tuning"
   ]
  },
  {
   "cell_type": "code",
   "execution_count": null,
   "metadata": {},
   "outputs": [],
   "source": [
    "# Let's now try to improve the accuracy of the model with PCA for feature reduction by tuning the hyperparameters of the model.\n",
    "\n",
    "# NOTE: When 'cv' parameter is used in the GridSearchCV ==> it does Stratified Croos Validation which is good when class imbalance is there \n",
    "\n",
    "# The \"balanced accuracy\" in binary and multiclass classification problems to deal with imbalanced datasets. It is defined as the average of recall obtained on each class.\n",
    "param_grid = dict(pca__n_components=[0.95, 0.96, 0.97],\n",
    "                  clf__C=np.logspace(-2, 1, 4),\n",
    "                  clf__kernel=['rbf'])\n",
    "\n",
    "grid = GridSearchCV(speaker_accent_pipe_scaler_pca_svc, param_grid=param_grid, cv=3, n_jobs=1, verbose=2, scoring= 'balanced_accuracy')"
   ]
  },
  {
   "cell_type": "markdown",
   "metadata": {},
   "source": [
    "### Prediction test data"
   ]
  },
  {
   "cell_type": "code",
   "execution_count": 113,
   "metadata": {},
   "outputs": [
    {
     "data": {
      "text/html": [
       "<div>\n",
       "<style scoped>\n",
       "    .dataframe tbody tr th:only-of-type {\n",
       "        vertical-align: middle;\n",
       "    }\n",
       "\n",
       "    .dataframe tbody tr th {\n",
       "        vertical-align: top;\n",
       "    }\n",
       "\n",
       "    .dataframe thead th {\n",
       "        text-align: right;\n",
       "    }\n",
       "</style>\n",
       "<table border=\"1\" class=\"dataframe\">\n",
       "  <thead>\n",
       "    <tr style=\"text-align: right;\">\n",
       "      <th></th>\n",
       "      <th>feature_1</th>\n",
       "      <th>feature_2</th>\n",
       "      <th>feature_3</th>\n",
       "      <th>feature_4</th>\n",
       "      <th>feature_5</th>\n",
       "      <th>feature_6</th>\n",
       "      <th>feature_7</th>\n",
       "      <th>feature_8</th>\n",
       "      <th>feature_9</th>\n",
       "      <th>feature_10</th>\n",
       "      <th>...</th>\n",
       "      <th>feature_759</th>\n",
       "      <th>feature_760</th>\n",
       "      <th>feature_761</th>\n",
       "      <th>feature_762</th>\n",
       "      <th>feature_763</th>\n",
       "      <th>feature_764</th>\n",
       "      <th>feature_765</th>\n",
       "      <th>feature_766</th>\n",
       "      <th>feature_767</th>\n",
       "      <th>feature_768</th>\n",
       "    </tr>\n",
       "  </thead>\n",
       "  <tbody>\n",
       "    <tr>\n",
       "      <th>0</th>\n",
       "      <td>0.187868</td>\n",
       "      <td>-0.009268</td>\n",
       "      <td>0.039846</td>\n",
       "      <td>-0.102515</td>\n",
       "      <td>-0.109121</td>\n",
       "      <td>-0.079769</td>\n",
       "      <td>0.061295</td>\n",
       "      <td>-0.042890</td>\n",
       "      <td>0.099860</td>\n",
       "      <td>-0.066319</td>\n",
       "      <td>...</td>\n",
       "      <td>0.043647</td>\n",
       "      <td>0.061174</td>\n",
       "      <td>0.026771</td>\n",
       "      <td>-0.092734</td>\n",
       "      <td>-0.052383</td>\n",
       "      <td>-0.055526</td>\n",
       "      <td>0.029101</td>\n",
       "      <td>0.041857</td>\n",
       "      <td>-0.027872</td>\n",
       "      <td>0.099500</td>\n",
       "    </tr>\n",
       "    <tr>\n",
       "      <th>1</th>\n",
       "      <td>0.122119</td>\n",
       "      <td>0.019015</td>\n",
       "      <td>0.134483</td>\n",
       "      <td>0.007949</td>\n",
       "      <td>-0.157884</td>\n",
       "      <td>-0.033332</td>\n",
       "      <td>0.044334</td>\n",
       "      <td>-0.016869</td>\n",
       "      <td>-0.014088</td>\n",
       "      <td>-0.060542</td>\n",
       "      <td>...</td>\n",
       "      <td>-0.179798</td>\n",
       "      <td>-0.027611</td>\n",
       "      <td>0.240023</td>\n",
       "      <td>-0.005648</td>\n",
       "      <td>-0.057537</td>\n",
       "      <td>0.023922</td>\n",
       "      <td>-0.038126</td>\n",
       "      <td>-0.015171</td>\n",
       "      <td>-0.006270</td>\n",
       "      <td>-0.003790</td>\n",
       "    </tr>\n",
       "    <tr>\n",
       "      <th>2</th>\n",
       "      <td>0.079187</td>\n",
       "      <td>0.146195</td>\n",
       "      <td>-0.001316</td>\n",
       "      <td>-0.085596</td>\n",
       "      <td>-0.261093</td>\n",
       "      <td>-0.021620</td>\n",
       "      <td>0.268898</td>\n",
       "      <td>-0.103950</td>\n",
       "      <td>0.068976</td>\n",
       "      <td>-0.062388</td>\n",
       "      <td>...</td>\n",
       "      <td>-0.075460</td>\n",
       "      <td>0.037346</td>\n",
       "      <td>0.124254</td>\n",
       "      <td>-0.369695</td>\n",
       "      <td>-0.056773</td>\n",
       "      <td>-0.028471</td>\n",
       "      <td>0.019971</td>\n",
       "      <td>-0.065683</td>\n",
       "      <td>-0.047366</td>\n",
       "      <td>-0.121744</td>\n",
       "    </tr>\n",
       "    <tr>\n",
       "      <th>3</th>\n",
       "      <td>0.231196</td>\n",
       "      <td>0.021558</td>\n",
       "      <td>0.215534</td>\n",
       "      <td>-0.210258</td>\n",
       "      <td>-0.158189</td>\n",
       "      <td>0.041621</td>\n",
       "      <td>0.240254</td>\n",
       "      <td>-0.068112</td>\n",
       "      <td>-0.017550</td>\n",
       "      <td>-0.233767</td>\n",
       "      <td>...</td>\n",
       "      <td>0.083334</td>\n",
       "      <td>0.141642</td>\n",
       "      <td>-0.007219</td>\n",
       "      <td>0.031547</td>\n",
       "      <td>-0.010762</td>\n",
       "      <td>-0.169036</td>\n",
       "      <td>-0.030963</td>\n",
       "      <td>0.086698</td>\n",
       "      <td>0.114194</td>\n",
       "      <td>-0.036775</td>\n",
       "    </tr>\n",
       "    <tr>\n",
       "      <th>4</th>\n",
       "      <td>0.020412</td>\n",
       "      <td>0.063732</td>\n",
       "      <td>-0.065506</td>\n",
       "      <td>-0.089598</td>\n",
       "      <td>-0.130788</td>\n",
       "      <td>-0.018809</td>\n",
       "      <td>0.119304</td>\n",
       "      <td>-0.057494</td>\n",
       "      <td>0.094714</td>\n",
       "      <td>-0.047923</td>\n",
       "      <td>...</td>\n",
       "      <td>-0.001969</td>\n",
       "      <td>-0.003025</td>\n",
       "      <td>-0.021156</td>\n",
       "      <td>-0.136993</td>\n",
       "      <td>-0.003615</td>\n",
       "      <td>0.036371</td>\n",
       "      <td>0.048715</td>\n",
       "      <td>-0.002688</td>\n",
       "      <td>-0.016957</td>\n",
       "      <td>-0.004331</td>\n",
       "    </tr>\n",
       "  </tbody>\n",
       "</table>\n",
       "<p>5 rows × 768 columns</p>\n",
       "</div>"
      ],
      "text/plain": [
       "   feature_1  feature_2  feature_3  feature_4  feature_5  feature_6  \\\n",
       "0   0.187868  -0.009268   0.039846  -0.102515  -0.109121  -0.079769   \n",
       "1   0.122119   0.019015   0.134483   0.007949  -0.157884  -0.033332   \n",
       "2   0.079187   0.146195  -0.001316  -0.085596  -0.261093  -0.021620   \n",
       "3   0.231196   0.021558   0.215534  -0.210258  -0.158189   0.041621   \n",
       "4   0.020412   0.063732  -0.065506  -0.089598  -0.130788  -0.018809   \n",
       "\n",
       "   feature_7  feature_8  feature_9  feature_10  ...  feature_759  feature_760  \\\n",
       "0   0.061295  -0.042890   0.099860   -0.066319  ...     0.043647     0.061174   \n",
       "1   0.044334  -0.016869  -0.014088   -0.060542  ...    -0.179798    -0.027611   \n",
       "2   0.268898  -0.103950   0.068976   -0.062388  ...    -0.075460     0.037346   \n",
       "3   0.240254  -0.068112  -0.017550   -0.233767  ...     0.083334     0.141642   \n",
       "4   0.119304  -0.057494   0.094714   -0.047923  ...    -0.001969    -0.003025   \n",
       "\n",
       "   feature_761  feature_762  feature_763  feature_764  feature_765  \\\n",
       "0     0.026771    -0.092734    -0.052383    -0.055526     0.029101   \n",
       "1     0.240023    -0.005648    -0.057537     0.023922    -0.038126   \n",
       "2     0.124254    -0.369695    -0.056773    -0.028471     0.019971   \n",
       "3    -0.007219     0.031547    -0.010762    -0.169036    -0.030963   \n",
       "4    -0.021156    -0.136993    -0.003615     0.036371     0.048715   \n",
       "\n",
       "   feature_766  feature_767  feature_768  \n",
       "0     0.041857    -0.027872     0.099500  \n",
       "1    -0.015171    -0.006270    -0.003790  \n",
       "2    -0.065683    -0.047366    -0.121744  \n",
       "3     0.086698     0.114194    -0.036775  \n",
       "4    -0.002688    -0.016957    -0.004331  \n",
       "\n",
       "[5 rows x 768 columns]"
      ]
     },
     "execution_count": 113,
     "metadata": {},
     "output_type": "execute_result"
    }
   ],
   "source": [
    "test_X.head()"
   ]
  },
  {
   "cell_type": "code",
   "execution_count": 114,
   "metadata": {},
   "outputs": [
    {
     "name": "stdout",
     "output_type": "stream",
     "text": [
      "(744,)\n"
     ]
    }
   ],
   "source": [
    "pred_speaker_accents_test = best_accent_pipe_scaler_pca_svc.predict(test_X)\n",
    "print(pred_speaker_accents_test.shape)"
   ]
  },
  {
   "cell_type": "code",
   "execution_count": 115,
   "metadata": {},
   "outputs": [
    {
     "data": {
      "text/html": [
       "<div>\n",
       "<style scoped>\n",
       "    .dataframe tbody tr th:only-of-type {\n",
       "        vertical-align: middle;\n",
       "    }\n",
       "\n",
       "    .dataframe tbody tr th {\n",
       "        vertical-align: top;\n",
       "    }\n",
       "\n",
       "    .dataframe thead th {\n",
       "        text-align: right;\n",
       "    }\n",
       "</style>\n",
       "<table border=\"1\" class=\"dataframe\">\n",
       "  <thead>\n",
       "    <tr style=\"text-align: right;\">\n",
       "      <th></th>\n",
       "      <th>label_4</th>\n",
       "    </tr>\n",
       "  </thead>\n",
       "  <tbody>\n",
       "    <tr>\n",
       "      <th>0</th>\n",
       "      <td>2</td>\n",
       "    </tr>\n",
       "    <tr>\n",
       "      <th>1</th>\n",
       "      <td>8</td>\n",
       "    </tr>\n",
       "    <tr>\n",
       "      <th>2</th>\n",
       "      <td>6</td>\n",
       "    </tr>\n",
       "    <tr>\n",
       "      <th>3</th>\n",
       "      <td>6</td>\n",
       "    </tr>\n",
       "    <tr>\n",
       "      <th>4</th>\n",
       "      <td>6</td>\n",
       "    </tr>\n",
       "  </tbody>\n",
       "</table>\n",
       "</div>"
      ],
      "text/plain": [
       "   label_4\n",
       "0        2\n",
       "1        8\n",
       "2        6\n",
       "3        6\n",
       "4        6"
      ]
     },
     "execution_count": 115,
     "metadata": {},
     "output_type": "execute_result"
    }
   ],
   "source": [
    "pred_speaker_accents_test = pd.DataFrame(pred_speaker_accents_test, columns=['label_4'])\n",
    "pred_speaker_accents_test.head()"
   ]
  },
  {
   "cell_type": "code",
   "execution_count": 116,
   "metadata": {},
   "outputs": [
    {
     "data": {
      "text/html": [
       "<div>\n",
       "<style scoped>\n",
       "    .dataframe tbody tr th:only-of-type {\n",
       "        vertical-align: middle;\n",
       "    }\n",
       "\n",
       "    .dataframe tbody tr th {\n",
       "        vertical-align: top;\n",
       "    }\n",
       "\n",
       "    .dataframe thead th {\n",
       "        text-align: right;\n",
       "    }\n",
       "</style>\n",
       "<table border=\"1\" class=\"dataframe\">\n",
       "  <thead>\n",
       "    <tr style=\"text-align: right;\">\n",
       "      <th></th>\n",
       "      <th>ID</th>\n",
       "      <th>label_1</th>\n",
       "      <th>label_2</th>\n",
       "      <th>label_3</th>\n",
       "    </tr>\n",
       "  </thead>\n",
       "  <tbody>\n",
       "    <tr>\n",
       "      <th>0</th>\n",
       "      <td>1</td>\n",
       "      <td>26</td>\n",
       "      <td>22.0</td>\n",
       "      <td>0</td>\n",
       "    </tr>\n",
       "    <tr>\n",
       "      <th>1</th>\n",
       "      <td>2</td>\n",
       "      <td>18</td>\n",
       "      <td>25.0</td>\n",
       "      <td>1</td>\n",
       "    </tr>\n",
       "    <tr>\n",
       "      <th>2</th>\n",
       "      <td>3</td>\n",
       "      <td>16</td>\n",
       "      <td>30.0</td>\n",
       "      <td>1</td>\n",
       "    </tr>\n",
       "    <tr>\n",
       "      <th>3</th>\n",
       "      <td>4</td>\n",
       "      <td>7</td>\n",
       "      <td>27.0</td>\n",
       "      <td>1</td>\n",
       "    </tr>\n",
       "    <tr>\n",
       "      <th>4</th>\n",
       "      <td>5</td>\n",
       "      <td>58</td>\n",
       "      <td>29.0</td>\n",
       "      <td>0</td>\n",
       "    </tr>\n",
       "  </tbody>\n",
       "</table>\n",
       "</div>"
      ],
      "text/plain": [
       "   ID  label_1  label_2  label_3\n",
       "0   1       26     22.0        0\n",
       "1   2       18     25.0        1\n",
       "2   3       16     30.0        1\n",
       "3   4        7     27.0        1\n",
       "4   5       58     29.0        0"
      ]
     },
     "execution_count": 116,
     "metadata": {},
     "output_type": "execute_result"
    }
   ],
   "source": [
    "pred_test.head() # pred_test was already created (when doing prediction of speaker_ID)\n"
   ]
  },
  {
   "cell_type": "code",
   "execution_count": 117,
   "metadata": {},
   "outputs": [],
   "source": [
    "if \"label_4\" not in pred_test.columns:\n",
    "    pred_test.insert(4, \"label_4\", pred_speaker_accents_test['label_4'])\n",
    "else:\n",
    "    print(f\"Column : label_4 already exists\")"
   ]
  },
  {
   "cell_type": "code",
   "execution_count": 119,
   "metadata": {},
   "outputs": [
    {
     "data": {
      "text/html": [
       "<div>\n",
       "<style scoped>\n",
       "    .dataframe tbody tr th:only-of-type {\n",
       "        vertical-align: middle;\n",
       "    }\n",
       "\n",
       "    .dataframe tbody tr th {\n",
       "        vertical-align: top;\n",
       "    }\n",
       "\n",
       "    .dataframe thead th {\n",
       "        text-align: right;\n",
       "    }\n",
       "</style>\n",
       "<table border=\"1\" class=\"dataframe\">\n",
       "  <thead>\n",
       "    <tr style=\"text-align: right;\">\n",
       "      <th></th>\n",
       "      <th>ID</th>\n",
       "      <th>label_1</th>\n",
       "      <th>label_2</th>\n",
       "      <th>label_3</th>\n",
       "      <th>label_4</th>\n",
       "    </tr>\n",
       "  </thead>\n",
       "  <tbody>\n",
       "    <tr>\n",
       "      <th>0</th>\n",
       "      <td>1</td>\n",
       "      <td>26</td>\n",
       "      <td>22.0</td>\n",
       "      <td>0</td>\n",
       "      <td>2</td>\n",
       "    </tr>\n",
       "    <tr>\n",
       "      <th>1</th>\n",
       "      <td>2</td>\n",
       "      <td>18</td>\n",
       "      <td>25.0</td>\n",
       "      <td>1</td>\n",
       "      <td>8</td>\n",
       "    </tr>\n",
       "    <tr>\n",
       "      <th>2</th>\n",
       "      <td>3</td>\n",
       "      <td>16</td>\n",
       "      <td>30.0</td>\n",
       "      <td>1</td>\n",
       "      <td>6</td>\n",
       "    </tr>\n",
       "    <tr>\n",
       "      <th>3</th>\n",
       "      <td>4</td>\n",
       "      <td>7</td>\n",
       "      <td>27.0</td>\n",
       "      <td>1</td>\n",
       "      <td>6</td>\n",
       "    </tr>\n",
       "    <tr>\n",
       "      <th>4</th>\n",
       "      <td>5</td>\n",
       "      <td>58</td>\n",
       "      <td>29.0</td>\n",
       "      <td>0</td>\n",
       "      <td>6</td>\n",
       "    </tr>\n",
       "  </tbody>\n",
       "</table>\n",
       "</div>"
      ],
      "text/plain": [
       "   ID  label_1  label_2  label_3  label_4\n",
       "0   1       26     22.0        0        2\n",
       "1   2       18     25.0        1        8\n",
       "2   3       16     30.0        1        6\n",
       "3   4        7     27.0        1        6\n",
       "4   5       58     29.0        0        6"
      ]
     },
     "execution_count": 119,
     "metadata": {},
     "output_type": "execute_result"
    }
   ],
   "source": [
    "pred_test_layer7 = pred_test\n",
    "pred_test_layer7.head() "
   ]
  },
  {
   "cell_type": "code",
   "execution_count": 200,
   "metadata": {},
   "outputs": [],
   "source": [
    "pred_test_layer7.to_csv('190290U_pred_test_layer7.csv', index=False)"
   ]
  },
  {
   "cell_type": "code",
   "execution_count": null,
   "metadata": {},
   "outputs": [],
   "source": [
    "# #################### RUN BELOW FOR THE BEST MODEL ####################\n",
    "\n",
    "# # After grid search is complete, save the best estimator\n",
    "# best_svm = grid_search.best_estimator_\n",
    "\n",
    "# # You can also save the best hyperparameters\n",
    "# best_params = grid_search.best_params_\n",
    "\n",
    "# # Now, you can use the best estimator for making predictions or further operations\n",
    "# y_pred = best_svm.predict(X_validation)  # Example: Using it for predictions on validation data\n",
    "\n",
    "# # If you want to create a new instance of the model with the best hyperparameters\n",
    "# svm_with_best_params = SVC(**best_params)\n",
    "# svm_with_best_params.fit(X_train, y_train)  # Train the new model\n"
   ]
  },
  {
   "cell_type": "code",
   "execution_count": 52,
   "metadata": {},
   "outputs": [],
   "source": [
    "# all other labels (age, gender, accent) have class imbalance problem. So account for that -> I think cv parameter in grid search cv can be used for that\n",
    "# read about it ==> https://scikit-learn.org/stable/modules/cross_validation.html (Cross validation)\n",
    "# This is vital because, we cannot track the model performance using a single metric\n",
    "# if cv is given an integer value, it will use stratified k fold cross validation\n",
    "\n",
    "\n"
   ]
  },
  {
   "cell_type": "code",
   "execution_count": null,
   "metadata": {},
   "outputs": [],
   "source": [
    "# TSNE : feature rection technique\n",
    "\n",
    "# from sklearn.model_selection import RandomizedSearchCV\n",
    "# from scipy.stats import uniform\n",
    "\n",
    "# # Define a range of hyperparameters and their distributions for random search\n",
    "# param_dist = {\n",
    "#     'clf__C': uniform(loc=0.1, scale=10),  # Regularization parameter (uniform distribution)\n",
    "#     'clf__kernel': ['linear', 'rbf', 'poly'],  # Kernel type\n",
    "# }\n",
    "\n",
    "# # Create a random search object\n",
    "# random_search = RandomizedSearchCV(estimator=speaker_ID_pipe_scaler_svc, param_distributions=param_dist, n_iter=10, cv=5, scoring='accuracy', random_state=42)\n",
    "\n",
    "# # Fit the random search to the data\n",
    "# random_search.fit(X_train, y_train)\n",
    "\n",
    "# # Get the best hyperparameters\n",
    "# best_params_random = random_search.best_params_\n",
    "# best_accuracy_random = random_search.best_score_\n",
    "\n",
    "# print(\"Best Hyperparameters (Random Search):\", best_params_random)\n",
    "# print(\"Best Accuracy (Random Search):\", best_accuracy_random)\n"
   ]
  },
  {
   "cell_type": "code",
   "execution_count": null,
   "metadata": {},
   "outputs": [],
   "source": [
    "# code to compare different pipelines\n",
    "\n",
    "# from sklearn.datasets import load_iris\n",
    "# from sklearn.model_selection import train_test_split\n",
    "# from sklearn.preprocessing import StandardScaler\n",
    "# from sklearn.decomposition import PCA\n",
    "# from sklearn.manifold import TSNE\n",
    "# from sklearn.svm import SVC\n",
    "# from sklearn.pipeline import Pipeline\n",
    "# from sklearn.metrics import accuracy_score\n",
    "\n",
    "# # Load a sample dataset (Iris dataset in this example)\n",
    "# data = load_iris()\n",
    "# X, y = data.data, data.target\n",
    "\n",
    "# # Split the data into training and testing sets\n",
    "# X_train, X_test, y_train, y_test = train_test_split(X, y, test_size=0.2, random_state=42)\n",
    "\n",
    "# # Create a common feature scaling pipeline\n",
    "# common_preprocessing = Pipeline([\n",
    "#     ('scaler', StandardScaler())\n",
    "# ])\n",
    "\n",
    "# # Define pipelines with different feature reduction techniques on top of common preprocessing\n",
    "# # You can add more as needed\n",
    "# pca_pipeline = Pipeline([\n",
    "#     ('preprocessing', common_preprocessing),\n",
    "#     ('pca', PCA(n_components=2)),  # Adjust the number of components as needed\n",
    "#     ('clf', SVC()),\n",
    "# ])\n",
    "\n",
    "# tsne_pipeline = Pipeline([\n",
    "#     ('preprocessing', common_preprocessing),\n",
    "#     ('tsne', TSNE(n_components=2)),  # Adjust the number of components as needed\n",
    "#     ('clf', SVC()),\n",
    "# ])\n",
    "\n",
    "# selectkbest_pipe = Pipeline([\n",
    "#     ('preprocessing', common_preprocessing),\n",
    "#     ('SelectKBest', SelectKBest(chi2, k=10)),\n",
    "#     ('clf', SVC())\n",
    "# ])\n",
    "\n",
    "# # Create a list of feature reduction pipelines for easy iteration\n",
    "# feature_reduction_pipelines = [\n",
    "#     (\"PCA\", pca_pipeline),\n",
    "#     (\"t-SNE\", tsne_pipeline),\n",
    "# ]\n",
    "\n",
    "# # Fit and compare the performance of different feature reduction pipelines\n",
    "# for name, pipeline in feature_reduction_pipelines:\n",
    "#     # Fit the pipeline on the training data\n",
    "#     pipeline.fit(X_train, y_train)\n",
    "    \n",
    "#     # Make predictions on the testing data\n",
    "#     y_pred = pipeline.predict(X_test)\n",
    "    \n",
    "#     # Calculate and print the accuracy\n",
    "#     accuracy = accuracy_score(y_test, y_pred)\n",
    "#     print(f\"Accuracy with {name}: {accuracy:.2f}\")\n",
    "\n",
    "########################################################################################\n",
    "###########So we effectively fit the scaler pipeline 2 times right? is it the case?################################\n",
    "########################################################################################\n",
    "########################################################################################\n",
    "\n",
    "# from sklearn.datasets import load_iris\n",
    "# from sklearn.model_selection import train_test_split\n",
    "# from sklearn.preprocessing import StandardScaler\n",
    "# from sklearn.decomposition import PCA\n",
    "# from sklearn.manifold import TSNE\n",
    "# from sklearn.svm import SVC\n",
    "# from sklearn.pipeline import Pipeline\n",
    "# from sklearn.metrics import accuracy_score\n",
    "\n",
    "# # Load a sample dataset (Iris dataset in this example)\n",
    "# data = load_iris()\n",
    "# X, y = data.data, data.target\n",
    "\n",
    "# # Split the data into training and testing sets\n",
    "# X_train, X_test, y_train, y_test = train_test_split(X, y, test_size=0.2, random_state=42)\n",
    "\n",
    "# # Create a common feature scaling pipeline and fit it once\n",
    "# common_preprocessing = Pipeline([\n",
    "#     ('scaler', StandardScaler())\n",
    "# ])\n",
    "\n",
    "# # Fit the common preprocessing pipeline on the training data\n",
    "# common_preprocessing.fit(X_train)\n",
    "\n",
    "# # Define pipelines with different feature reduction techniques using the fitted common preprocessing\n",
    "# # You can add more as needed\n",
    "# pca_pipeline = Pipeline([\n",
    "#     ('preprocessing', common_preprocessing),\n",
    "#     ('pca', PCA(n_components=2)),  # Adjust the number of components as needed\n",
    "#     ('clf', SVC()),\n",
    "# ])\n",
    "\n",
    "# tsne_pipeline = Pipeline([\n",
    "#     ('preprocessing', common_preprocessing),\n",
    "#     ('tsne', TSNE(n_components=2)),  # Adjust the number of components as needed\n",
    "#     ('clf', SVC()),\n",
    "# ])\n",
    "\n",
    "# # Create a list of feature reduction pipelines for easy iteration\n",
    "# feature_reduction_pipelines = [\n",
    "#     (\"PCA\", pca_pipeline),\n",
    "#     (\"t-SNE\", tsne_pipeline),\n",
    "# ]\n",
    "\n",
    "# # Fit and compare the performance of different feature reduction pipelines\n",
    "# for name, pipeline in feature_reduction_pipelines:\n",
    "#     # Make predictions on the testing data using the fitted common preprocessing\n",
    "#     X_test_preprocessed = pipeline.named_steps['preprocessing'].transform(X_test)\n",
    "#     y_pred = pipeline.named_steps['clf'].predict(X_test_preprocessed)\n",
    "    \n",
    "#     # Calculate and print the accuracy\n",
    "#     accuracy = accuracy_score(y_test, y_pred)\n",
    "#     print(f\"Accuracy with {name}: {accuracy:.2f}\")\n",
    "\n"
   ]
  }
 ],
 "metadata": {
  "kernelspec": {
   "display_name": "test1",
   "language": "python",
   "name": "python3"
  },
  "language_info": {
   "codemirror_mode": {
    "name": "ipython",
    "version": 3
   },
   "file_extension": ".py",
   "mimetype": "text/x-python",
   "name": "python",
   "nbconvert_exporter": "python",
   "pygments_lexer": "ipython3",
   "version": "3.9.13"
  },
  "orig_nbformat": 4
 },
 "nbformat": 4,
 "nbformat_minor": 2
}
