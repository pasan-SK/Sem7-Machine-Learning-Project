{
 "cells": [
  {
   "cell_type": "code",
   "execution_count": 1,
   "metadata": {},
   "outputs": [],
   "source": [
    "import pandas as pd\n",
    "\n",
    "\n",
    "layer_7_train_csv_file_path = \"D:\\\\ACA semester 7\\\\CS4622 - Machine Learning\\\\ML-Project\\Data\\\\train.csv\"\n",
    "layer_7_valid_csv_file_path = \"D:\\\\ACA semester 7\\\\CS4622 - Machine Learning\\\\ML-Project\\Data\\\\valid.csv\"\n",
    "layer_7_test_csv_file_path = \"D:\\\\ACA semester 7\\\\CS4622 - Machine Learning\\\\ML-Project\\Data\\\\test.csv\"\n",
    "\n",
    "layer_12_train_csv_file_path = \"D:\\\\ACA semester 7\\\\CS4622 - Machine Learning\\\\ML-Project\\Data\\\\layer12\\\\train.csv\"\n",
    "layer_12_valid_csv_file_path = \"D:\\\\ACA semester 7\\\\CS4622 - Machine Learning\\\\ML-Project\\Data\\\\layer12\\\\valid.csv\"\n",
    "layer_12_test_csv_file_path = \"D:\\\\ACA semester 7\\\\CS4622 - Machine Learning\\\\ML-Project\\Data\\\\layer12\\\\test.csv\""
   ]
  },
  {
   "cell_type": "code",
   "execution_count": 2,
   "metadata": {},
   "outputs": [],
   "source": [
    "def check_target_variables(file1, file2, target_column):\n",
    "    df1 = pd.read_csv(file1)\n",
    "    df2 = pd.read_csv(file2)\n",
    "    \n",
    "    # replce null values with the mean if the column = label_2\n",
    "    if target_column == \"label_2\":\n",
    "        df1[target_column].fillna(df1[target_column].mean(), inplace=True)\n",
    "        df2[target_column].fillna(df2[target_column].mean(), inplace=True)\n",
    "         \n",
    "    are_target_variables_same = (df1[target_column] == df2[target_column]).all()\n",
    "\n",
    "    if are_target_variables_same:\n",
    "        return \"SAME\"\n",
    "    else:\n",
    "        return \"NOT SAME\""
   ]
  },
  {
   "cell_type": "code",
   "execution_count": 3,
   "metadata": {},
   "outputs": [
    {
     "name": "stdout",
     "output_type": "stream",
     "text": [
      "SAME\n",
      "SAME\n"
     ]
    }
   ],
   "source": [
    "print(check_target_variables(layer_7_train_csv_file_path, layer_12_train_csv_file_path, \"label_1\"))\n",
    "print(check_target_variables(layer_7_valid_csv_file_path, layer_12_valid_csv_file_path, \"label_1\"))"
   ]
  },
  {
   "cell_type": "code",
   "execution_count": 4,
   "metadata": {},
   "outputs": [
    {
     "name": "stdout",
     "output_type": "stream",
     "text": [
      "SAME\n",
      "SAME\n"
     ]
    }
   ],
   "source": [
    "print(check_target_variables(layer_7_train_csv_file_path, layer_12_train_csv_file_path, \"label_2\"))\n",
    "print(check_target_variables(layer_7_valid_csv_file_path, layer_12_valid_csv_file_path, \"label_2\"))"
   ]
  },
  {
   "cell_type": "code",
   "execution_count": 5,
   "metadata": {},
   "outputs": [
    {
     "name": "stdout",
     "output_type": "stream",
     "text": [
      "SAME\n",
      "SAME\n"
     ]
    }
   ],
   "source": [
    "print(check_target_variables(layer_7_train_csv_file_path, layer_12_train_csv_file_path, \"label_3\"))\n",
    "print(check_target_variables(layer_7_valid_csv_file_path, layer_12_valid_csv_file_path, \"label_3\"))"
   ]
  },
  {
   "cell_type": "code",
   "execution_count": 6,
   "metadata": {},
   "outputs": [
    {
     "name": "stdout",
     "output_type": "stream",
     "text": [
      "SAME\n",
      "SAME\n"
     ]
    }
   ],
   "source": [
    "print(check_target_variables(layer_7_train_csv_file_path, layer_12_train_csv_file_path, \"label_4\"))\n",
    "print(check_target_variables(layer_7_valid_csv_file_path, layer_12_valid_csv_file_path, \"label_4\"))"
   ]
  },
  {
   "cell_type": "code",
   "execution_count": 7,
   "metadata": {},
   "outputs": [
    {
     "name": "stdout",
     "output_type": "stream",
     "text": [
      "[[ 1  2  3]\n",
      " [ 4  5  6]\n",
      " [ 7  8  9]\n",
      " [10 11 12]]\n"
     ]
    }
   ],
   "source": [
    "import numpy as np\n",
    "\n",
    "a = np.array([[1, 2, 3], [4, 5, 6]])\n",
    "b = np.array([[7, 8, 9], [10, 11, 12]])\n",
    "\n",
    "c = np.vstack((a, b))\n",
    "\n",
    "print(c)"
   ]
  },
  {
   "cell_type": "code",
   "execution_count": 9,
   "metadata": {},
   "outputs": [
    {
     "name": "stdout",
     "output_type": "stream",
     "text": [
      "2\n"
     ]
    }
   ],
   "source": [
    "import numpy as np\n",
    "\n",
    "# Sample array\n",
    "arr = np.array([10, 5, 200, 15, 30])\n",
    "\n",
    "# Using np.argmax to find the index of the maximum value\n",
    "index_of_max = np.argmax(arr)\n",
    "\n",
    "# Output will be the index of the maximum value, which is 4 in this case\n",
    "print(index_of_max)\n"
   ]
  },
  {
   "cell_type": "code",
   "execution_count": 23,
   "metadata": {},
   "outputs": [
    {
     "name": "stdout",
     "output_type": "stream",
     "text": [
      "45\n",
      "5\n"
     ]
    }
   ],
   "source": [
    "from statistics import mode\n",
    "\n",
    "# List of predictions from different models for one data point\n",
    "predictions = [45, 45, 45, 45, 45, 3]\n",
    "\n",
    "# Get the majority (mode) prediction\n",
    "majority_prediction = mode(predictions)\n",
    "print(majority_prediction)\n",
    "print(predictions.count(majority_prediction))"
   ]
  },
  {
   "cell_type": "code",
   "execution_count": 19,
   "metadata": {},
   "outputs": [
    {
     "name": "stdout",
     "output_type": "stream",
     "text": [
      "42.92079207920792\n"
     ]
    }
   ],
   "source": [
    "# List of predictions from different models for one data point\n",
    "predictions = [45, 45, 45, 45, 45, 3]\n",
    "\n",
    "# List of confidence values (accuracies) for each model\n",
    "confidences = [0.99, 0.93, 0.96, 0.97, 0.95, 0.25]\n",
    "\n",
    "# Calculate the weighted mean prediction\n",
    "weighted_mean = sum(prediction * confidence for prediction, confidence in zip(predictions, confidences)) / sum(confidences)\n",
    "\n",
    "print(weighted_mean)\n"
   ]
  },
  {
   "cell_type": "code",
   "execution_count": 20,
   "metadata": {},
   "outputs": [
    {
     "name": "stdout",
     "output_type": "stream",
     "text": [
      "[0.19603960396039605, 0.18415841584158418, 0.1900990099009901, 0.19207920792079208, 0.18811881188118812, 0.04950495049504951]\n"
     ]
    }
   ],
   "source": [
    "values = [0.99, 0.93, 0.96, 0.97, 0.95, 0.25]\n",
    "\n",
    "# Calculate the sum of all values\n",
    "total = sum(values)\n",
    "\n",
    "# Divide each value by the total to normalize them\n",
    "normalized_values = [value / total for value in values]\n",
    "\n",
    "print(normalized_values)\n"
   ]
  },
  {
   "cell_type": "code",
   "execution_count": 24,
   "metadata": {},
   "outputs": [
    {
     "data": {
      "text/plain": [
       "[0.1, 1, 10, 100]"
      ]
     },
     "execution_count": 24,
     "metadata": {},
     "output_type": "execute_result"
    }
   ],
   "source": [
    "[0.1, 1, 10, 100]"
   ]
  },
  {
   "cell_type": "code",
   "execution_count": null,
   "metadata": {},
   "outputs": [],
   "source": []
  }
 ],
 "metadata": {
  "kernelspec": {
   "display_name": "Python 3",
   "language": "python",
   "name": "python3"
  },
  "language_info": {
   "codemirror_mode": {
    "name": "ipython",
    "version": 3
   },
   "file_extension": ".py",
   "mimetype": "text/x-python",
   "name": "python",
   "nbconvert_exporter": "python",
   "pygments_lexer": "ipython3",
   "version": "3.9.13"
  }
 },
 "nbformat": 4,
 "nbformat_minor": 2
}
